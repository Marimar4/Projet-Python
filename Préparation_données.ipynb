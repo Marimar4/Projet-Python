{
 "cells": [
  {
   "cell_type": "markdown",
   "metadata": {},
   "source": [
    " <div style=\"text-align:center;\">\n",
    "  # <span style=\"color:green; font-size:larger; font-weight:bold;\">Vérification de la loi d'Okun dans plusieurs pays du monde</span><br><br>\n",
    "  <span style=\"font-weight:bold;\">Présenté par:</span><br>\n",
    "  <span>NOUBOUSSI GNINTEDEM LUCIE MARIMAR</span><br>\n",
    "  <span>YOUSRA</span> <br>\n",
    "  <span>AMINA MANSEUR</span>\n",
    "</div>\n",
    "\n"
   ]
  },
  {
   "cell_type": "markdown",
   "metadata": {},
   "source": [
    "<span style=\"color:green; font-size:larger; font-weight:bold;\">INTRODUCTION</span>"
   ]
  },
  {
   "cell_type": "markdown",
   "metadata": {},
   "source": [
    "FAIRE UNE INTRODCUTION"
   ]
  },
  {
   "cell_type": "markdown",
   "metadata": {},
   "source": [
    "# <span style=\"color:green\">I- Importation et installation des packages</span>"
   ]
  },
  {
   "cell_type": "code",
   "execution_count": 2,
   "metadata": {},
   "outputs": [],
   "source": [
    "import importlib\n",
    "import monmodule.declarations as d"
   ]
  },
  {
   "cell_type": "code",
   "execution_count": null,
   "metadata": {},
   "outputs": [],
   "source": [
    "d."
   ]
  },
  {
   "cell_type": "markdown",
   "metadata": {},
   "source": [
    "# <span style=\"color:green; \">II- Construction de la base de données</span>"
   ]
  },
  {
   "cell_type": "markdown",
   "metadata": {},
   "source": [
    "il faut faire une explication de toutes lés étapes que nous allons faire pour constituer notre base "
   ]
  },
  {
   "cell_type": "markdown",
   "metadata": {},
   "source": [
    "## <span style=\"color:green; text-align:center;\">II-1 Importation de la base GemDataEXTR.Zip via son url de téléchargement</span>"
   ]
  },
  {
   "cell_type": "code",
   "execution_count": 143,
   "metadata": {},
   "outputs": [
    {
     "name": "stdout",
     "output_type": "stream",
     "text": [
      "Téléchargement réussi.\n"
     ]
    }
   ],
   "source": [
    "url = \"https://datacatalogfiles.worldbank.org/ddh-published/0037798/DR0092042/GemDataEXTR.zip?\"\n",
    "f_load(url,\"GemDataEXTR.zip\")"
   ]
  },
  {
   "cell_type": "code",
   "execution_count": 174,
   "metadata": {},
   "outputs": [],
   "source": [
    "# Choix des fichiers à extraire\n",
    "\n",
    "nom_fichiers=[ ('Unemployment Rate, seas. adj..xlsx', 'monthly'),\n",
    "              ('GDP Deflator at Market Prices, LCU.xlsx', 'quarterly')\n",
    "]\n",
    "\n",
    "# Extraction des bases dans la mémoire: chomage et PIB déflaté\n",
    "df_Unemployement, df_GDP= [f_extraire_fichier_zip('GemDataEXTR.zip', nom_fichier, nom_feuille)\n",
    "                           for nom_fichier, nom_feuille in nom_fichiers]"
   ]
  },
  {
   "cell_type": "markdown",
   "metadata": {},
   "source": [
    "L'extraction des données sur le taux de chômage et le PIB déflaté par pays est désormais complète. <br>\n",
    "Dans la prochaine étape, nous procéderons à une exploration rapide de ces données et les fusionnerons pour une analyse plus approfondie.\n"
   ]
  },
  {
   "cell_type": "markdown",
   "metadata": {},
   "source": [
    "### <span style=\"color:green; text-align:center;\">II-1-1 Préparation des bases avant fusion</span>"
   ]
  },
  {
   "cell_type": "markdown",
   "metadata": {},
   "source": [
    "#### <span style=\"color:green; text-align:center;\">II-1-1-1 Base taux de chômage</span>"
   ]
  },
  {
   "cell_type": "code",
   "execution_count": 112,
   "metadata": {},
   "outputs": [
    {
     "data": {
      "text/html": [
       "<div>\n",
       "<style scoped>\n",
       "    .dataframe tbody tr th:only-of-type {\n",
       "        vertical-align: middle;\n",
       "    }\n",
       "\n",
       "    .dataframe tbody tr th {\n",
       "        vertical-align: top;\n",
       "    }\n",
       "\n",
       "    .dataframe thead th {\n",
       "        text-align: right;\n",
       "    }\n",
       "</style>\n",
       "<table border=\"1\" class=\"dataframe\">\n",
       "  <thead>\n",
       "    <tr style=\"text-align: right;\">\n",
       "      <th></th>\n",
       "      <th>Year</th>\n",
       "      <th>Advanced Economies</th>\n",
       "      <th>Argentina</th>\n",
       "      <th>Australia</th>\n",
       "      <th>Austria</th>\n",
       "      <th>Belgium</th>\n",
       "      <th>Bulgaria</th>\n",
       "      <th>Bahrain</th>\n",
       "      <th>Belarus</th>\n",
       "      <th>Brazil</th>\n",
       "      <th>...</th>\n",
       "      <th>Thailand</th>\n",
       "      <th>Tunisia</th>\n",
       "      <th>Turkey</th>\n",
       "      <th>Taiwan, China</th>\n",
       "      <th>Uruguay</th>\n",
       "      <th>United States</th>\n",
       "      <th>Venezuela, RB</th>\n",
       "      <th>Viet Nam</th>\n",
       "      <th>World (WBG members)</th>\n",
       "      <th>South Africa</th>\n",
       "    </tr>\n",
       "  </thead>\n",
       "  <tbody>\n",
       "    <tr>\n",
       "      <th>0</th>\n",
       "      <td>nan</td>\n",
       "      <td>NaN</td>\n",
       "      <td>NaN</td>\n",
       "      <td>NaN</td>\n",
       "      <td>NaN</td>\n",
       "      <td>NaN</td>\n",
       "      <td>NaN</td>\n",
       "      <td>NaN</td>\n",
       "      <td>NaN</td>\n",
       "      <td>NaN</td>\n",
       "      <td>...</td>\n",
       "      <td>NaN</td>\n",
       "      <td>NaN</td>\n",
       "      <td>NaN</td>\n",
       "      <td>NaN</td>\n",
       "      <td>NaN</td>\n",
       "      <td>NaN</td>\n",
       "      <td>NaN</td>\n",
       "      <td>NaN</td>\n",
       "      <td>NaN</td>\n",
       "      <td>NaN</td>\n",
       "    </tr>\n",
       "    <tr>\n",
       "      <th>1</th>\n",
       "      <td>1993M12</td>\n",
       "      <td>8.305220</td>\n",
       "      <td>NaN</td>\n",
       "      <td>10.66106</td>\n",
       "      <td>6.869156</td>\n",
       "      <td>9.450078</td>\n",
       "      <td>16.08</td>\n",
       "      <td>NaN</td>\n",
       "      <td>NaN</td>\n",
       "      <td>NaN</td>\n",
       "      <td>...</td>\n",
       "      <td>NaN</td>\n",
       "      <td>NaN</td>\n",
       "      <td>NaN</td>\n",
       "      <td>1.3</td>\n",
       "      <td>NaN</td>\n",
       "      <td>6.5</td>\n",
       "      <td>NaN</td>\n",
       "      <td>NaN</td>\n",
       "      <td>NaN</td>\n",
       "      <td>NaN</td>\n",
       "    </tr>\n",
       "    <tr>\n",
       "      <th>2</th>\n",
       "      <td>1994M01</td>\n",
       "      <td>8.328236</td>\n",
       "      <td>NaN</td>\n",
       "      <td>10.58005</td>\n",
       "      <td>6.672157</td>\n",
       "      <td>9.518617</td>\n",
       "      <td>15.86</td>\n",
       "      <td>NaN</td>\n",
       "      <td>NaN</td>\n",
       "      <td>NaN</td>\n",
       "      <td>...</td>\n",
       "      <td>NaN</td>\n",
       "      <td>NaN</td>\n",
       "      <td>NaN</td>\n",
       "      <td>1.4</td>\n",
       "      <td>NaN</td>\n",
       "      <td>6.6</td>\n",
       "      <td>NaN</td>\n",
       "      <td>NaN</td>\n",
       "      <td>NaN</td>\n",
       "      <td>NaN</td>\n",
       "    </tr>\n",
       "    <tr>\n",
       "      <th>3</th>\n",
       "      <td>1994M02</td>\n",
       "      <td>8.328561</td>\n",
       "      <td>NaN</td>\n",
       "      <td>10.36909</td>\n",
       "      <td>6.637267</td>\n",
       "      <td>9.631846</td>\n",
       "      <td>15.67</td>\n",
       "      <td>NaN</td>\n",
       "      <td>NaN</td>\n",
       "      <td>NaN</td>\n",
       "      <td>...</td>\n",
       "      <td>NaN</td>\n",
       "      <td>NaN</td>\n",
       "      <td>NaN</td>\n",
       "      <td>1.7</td>\n",
       "      <td>NaN</td>\n",
       "      <td>6.6</td>\n",
       "      <td>NaN</td>\n",
       "      <td>NaN</td>\n",
       "      <td>NaN</td>\n",
       "      <td>NaN</td>\n",
       "    </tr>\n",
       "    <tr>\n",
       "      <th>4</th>\n",
       "      <td>1994M03</td>\n",
       "      <td>8.265035</td>\n",
       "      <td>NaN</td>\n",
       "      <td>10.33146</td>\n",
       "      <td>6.425844</td>\n",
       "      <td>9.716527</td>\n",
       "      <td>15.49</td>\n",
       "      <td>NaN</td>\n",
       "      <td>NaN</td>\n",
       "      <td>NaN</td>\n",
       "      <td>...</td>\n",
       "      <td>NaN</td>\n",
       "      <td>NaN</td>\n",
       "      <td>NaN</td>\n",
       "      <td>1.6</td>\n",
       "      <td>NaN</td>\n",
       "      <td>6.5</td>\n",
       "      <td>NaN</td>\n",
       "      <td>NaN</td>\n",
       "      <td>NaN</td>\n",
       "      <td>NaN</td>\n",
       "    </tr>\n",
       "  </tbody>\n",
       "</table>\n",
       "<p>5 rows × 80 columns</p>\n",
       "</div>"
      ],
      "text/plain": [
       "      Year  Advanced Economies  Argentina  Australia   Austria   Belgium  \\\n",
       "0      nan                 NaN        NaN        NaN       NaN       NaN   \n",
       "1  1993M12            8.305220        NaN   10.66106  6.869156  9.450078   \n",
       "2  1994M01            8.328236        NaN   10.58005  6.672157  9.518617   \n",
       "3  1994M02            8.328561        NaN   10.36909  6.637267  9.631846   \n",
       "4  1994M03            8.265035        NaN   10.33146  6.425844  9.716527   \n",
       "\n",
       "   Bulgaria  Bahrain  Belarus  Brazil  ...  Thailand  Tunisia  Turkey  \\\n",
       "0       NaN      NaN      NaN     NaN  ...       NaN      NaN     NaN   \n",
       "1     16.08      NaN      NaN     NaN  ...       NaN      NaN     NaN   \n",
       "2     15.86      NaN      NaN     NaN  ...       NaN      NaN     NaN   \n",
       "3     15.67      NaN      NaN     NaN  ...       NaN      NaN     NaN   \n",
       "4     15.49      NaN      NaN     NaN  ...       NaN      NaN     NaN   \n",
       "\n",
       "   Taiwan, China  Uruguay  United States  Venezuela, RB  Viet Nam  \\\n",
       "0            NaN      NaN            NaN            NaN       NaN   \n",
       "1            1.3      NaN            6.5            NaN       NaN   \n",
       "2            1.4      NaN            6.6            NaN       NaN   \n",
       "3            1.7      NaN            6.6            NaN       NaN   \n",
       "4            1.6      NaN            6.5            NaN       NaN   \n",
       "\n",
       "   World (WBG members)  South Africa  \n",
       "0                  NaN           NaN  \n",
       "1                  NaN           NaN  \n",
       "2                  NaN           NaN  \n",
       "3                  NaN           NaN  \n",
       "4                  NaN           NaN  \n",
       "\n",
       "[5 rows x 80 columns]"
      ]
     },
     "execution_count": 112,
     "metadata": {},
     "output_type": "execute_result"
    }
   ],
   "source": [
    "df_Unemployement.head()"
   ]
  },
  {
   "cell_type": "code",
   "execution_count": 118,
   "metadata": {},
   "outputs": [
    {
     "name": "stdout",
     "output_type": "stream",
     "text": [
      "<class 'pandas.core.frame.DataFrame'>\n",
      "RangeIndex: 360 entries, 0 to 359\n",
      "Data columns (total 80 columns):\n",
      " #   Column                                            Non-Null Count  Dtype  \n",
      "---  ------                                            --------------  -----  \n",
      " 0   Year                                              360 non-null    object \n",
      " 1   Advanced Economies                                312 non-null    float64\n",
      " 2   Argentina                                         258 non-null    float64\n",
      " 3   Australia                                         359 non-null    float64\n",
      " 4   Austria                                           359 non-null    float64\n",
      " 5   Belgium                                           358 non-null    float64\n",
      " 6   Bulgaria                                          359 non-null    float64\n",
      " 7   Bahrain                                           180 non-null    float64\n",
      " 8   Belarus                                           81 non-null     float64\n",
      " 9   Brazil                                            139 non-null    float64\n",
      " 10  Canada                                            359 non-null    float64\n",
      " 11  Switzerland                                       359 non-null    float64\n",
      " 12  Chile                                             175 non-null    float64\n",
      " 13  Colombia                                          273 non-null    float64\n",
      " 14  Cyprus                                            285 non-null    float64\n",
      " 15  Czech Republic                                    358 non-null    float64\n",
      " 16  Germany                                           358 non-null    float64\n",
      " 17  Denmark                                           213 non-null    float64\n",
      " 18  Dominican Republic                                108 non-null    float64\n",
      " 19  Algeria                                           301 non-null    float64\n",
      " 20  EMDE East Asia & Pacific                          257 non-null    float64\n",
      " 21  EMDE Europe & Central Asia                        358 non-null    float64\n",
      " 22  Ecuador                                           192 non-null    float64\n",
      " 23  Egypt, Arab Rep.                                  249 non-null    float64\n",
      " 24  Emerging Market and Developing Economies (EMDEs)  248 non-null    float64\n",
      " 25  Spain                                             358 non-null    float64\n",
      " 26  Estonia                                           358 non-null    float64\n",
      " 27  Finland                                           359 non-null    float64\n",
      " 28  France                                            358 non-null    float64\n",
      " 29  United Kingdom                                    355 non-null    float64\n",
      " 30  Greece                                            237 non-null    float64\n",
      " 31  High Income Countries                             336 non-null    float64\n",
      " 32  Hong Kong SAR, China                              359 non-null    float64\n",
      " 33  Croatia                                           300 non-null    float64\n",
      " 34  Hungary                                           297 non-null    float64\n",
      " 35  Ireland                                           359 non-null    float64\n",
      " 36  Iceland                                           250 non-null    float64\n",
      " 37  Israel                                            206 non-null    float64\n",
      " 38  Italy                                             237 non-null    float64\n",
      " 39  Japan                                             358 non-null    float64\n",
      " 40  Korea, Rep.                                       293 non-null    float64\n",
      " 41  EMDE Latin America & Caribbean                    138 non-null    float64\n",
      " 42  Low-Income Countries (LIC)                        0 non-null      float64\n",
      " 43  Sri Lanka                                         349 non-null    float64\n",
      " 44  Lithuania                                         359 non-null    float64\n",
      " 45  Luxembourg                                        346 non-null    float64\n",
      " 46  Latvia                                            262 non-null    float64\n",
      " 47  Morocco                                           213 non-null    float64\n",
      " 48  Mexico                                            225 non-null    float64\n",
      " 49  Middle-Income Countries (MIC)                     224 non-null    float64\n",
      " 50  North Macedonia                                   234 non-null    float64\n",
      " 51  Malta                                             273 non-null    float64\n",
      " 52  EMDE Middle East & N. Africa                      248 non-null    float64\n",
      " 53  Netherlands                                       250 non-null    float64\n",
      " 54  Norway                                            357 non-null    float64\n",
      " 55  New Zealand                                       358 non-null    float64\n",
      " 56  Pakistan                                          301 non-null    float64\n",
      " 57  Peru                                              272 non-null    float64\n",
      " 58  Philippines                                       358 non-null    float64\n",
      " 59  Poland                                            359 non-null    float64\n",
      " 60  Portugal                                          348 non-null    float64\n",
      " 61  Romania                                           358 non-null    float64\n",
      " 62  Russian Federation                                358 non-null    float64\n",
      " 63  EMDE South Asia                                   301 non-null    float64\n",
      " 64  Saudi Arabia                                      288 non-null    float64\n",
      " 65  Singapore                                         358 non-null    float64\n",
      " 66  EMDE Sub-Saharan Africa                           278 non-null    float64\n",
      " 67  Slovakia                                          358 non-null    float64\n",
      " 68  Slovenia                                          358 non-null    float64\n",
      " 69  Sweden                                            359 non-null    float64\n",
      " 70  Thailand                                          258 non-null    float64\n",
      " 71  Tunisia                                           144 non-null    float64\n",
      " 72  Turkey                                            225 non-null    float64\n",
      " 73  Taiwan, China                                     359 non-null    float64\n",
      " 74  Uruguay                                           332 non-null    float64\n",
      " 75  United States                                     359 non-null    float64\n",
      " 76  Venezuela, RB                                     240 non-null    float64\n",
      " 77  Viet Nam                                          180 non-null    float64\n",
      " 78  World (WBG members)                               291 non-null    float64\n",
      " 79  South Africa                                      279 non-null    float64\n",
      "dtypes: float64(79), object(1)\n",
      "memory usage: 225.1+ KB\n"
     ]
    }
   ],
   "source": [
    "#type des données\n",
    "df_Unemployement.info()"
   ]
  },
  {
   "cell_type": "markdown",
   "metadata": {},
   "source": [
    "\n",
    "Le type de chaque variable est approprié et correspond aux types attendus."
   ]
  },
  {
   "cell_type": "markdown",
   "metadata": {},
   "source": [
    "##### Detections des doublons"
   ]
  },
  {
   "cell_type": "code",
   "execution_count": 74,
   "metadata": {},
   "outputs": [
    {
     "name": "stdout",
     "output_type": "stream",
     "text": [
      "Nombre total de doublons dans df_Unemployement : 0\n"
     ]
    }
   ],
   "source": [
    "#vérification des doublons\n",
    "print(\"Nombre total de doublons dans df_Unemployement :\", \n",
    "      df_Unemployement[df_Unemployement.duplicated()].shape[0])"
   ]
  },
  {
   "cell_type": "markdown",
   "metadata": {},
   "source": [
    "##### Corrections des noms des pays"
   ]
  },
  {
   "cell_type": "code",
   "execution_count": 145,
   "metadata": {},
   "outputs": [],
   "source": [
    "# Appliquer la correction sur chaque colonne du DataFrame\n",
    "df_Unemployement.columns=f_correct_country_name(df_Unemployement.columns)"
   ]
  },
  {
   "cell_type": "code",
   "execution_count": 146,
   "metadata": {},
   "outputs": [
    {
     "name": "stdout",
     "output_type": "stream",
     "text": [
      "La liste des pays présents dans la base est la suivante: \n",
      "  ['Argentina', 'Australia', 'Austria', 'Belgium', 'Bulgaria', 'Bahrain', 'Belarus', 'Brazil', 'Canada', 'Switzerland', 'Chile', 'Colombia', 'Cyprus', 'Czechia', 'Germany', 'Denmark', 'Dominican Republic', 'Algeria', 'Ecuador', 'Spain', 'Estonia', 'Finland', 'France', 'United Kingdom', 'Greece', 'Croatia', 'Hungary', 'Ireland', 'Iceland', 'Israel', 'Italy', 'Japan', 'Sri Lanka', 'Lithuania', 'Luxembourg', 'Latvia', 'Morocco', 'Mexico', 'North Macedonia', 'Malta', 'Netherlands', 'Norway', 'New Zealand', 'Pakistan', 'Peru', 'Philippines', 'Poland', 'Portugal', 'Romania', 'Russian Federation', 'Saudi Arabia', 'Singapore', 'Slovakia', 'Slovenia', 'Sweden', 'Thailand', 'Tunisia', 'Uruguay', 'United States', 'Viet Nam', 'South Africa']\n"
     ]
    }
   ],
   "source": [
    "pays=detect_countries(df_Unemployement.columns)\n",
    "print(\"La liste des pays présents dans la base est la suivante: \\n \", pays)"
   ]
  },
  {
   "cell_type": "code",
   "execution_count": 147,
   "metadata": {},
   "outputs": [
    {
     "name": "stdout",
     "output_type": "stream",
     "text": [
      "Liste des colonnes qui sont dans la base et qui ne representent pas les pays\n"
     ]
    },
    {
     "data": {
      "text/plain": [
       "['World (WBG members)',\n",
       " 'Emerging Market and Developing Economies (EMDEs)',\n",
       " 'High Income Countries',\n",
       " 'Egypt, Arab Rep.',\n",
       " 'Hong Kong SAR, China',\n",
       " 'EMDE South Asia',\n",
       " 'EMDE Sub-Saharan Africa',\n",
       " 'Taiwan, China',\n",
       " 'Korea, Rep.',\n",
       " 'EMDE Middle East & N. Africa',\n",
       " 'EMDE East Asia & Pacific',\n",
       " 'Middle-Income Countries (MIC)',\n",
       " 'EMDE Europe & Central Asia',\n",
       " 'EMDE Latin America & Caribbean',\n",
       " 'Year',\n",
       " 'Turkey',\n",
       " 'Advanced Economies',\n",
       " 'Venezuela, RB',\n",
       " 'Low-Income Countries (LIC)']"
      ]
     },
     "execution_count": 147,
     "metadata": {},
     "output_type": "execute_result"
    }
   ],
   "source": [
    "print(\"Liste des colonnes qui sont dans la base et qui ne representent pas les pays\")\n",
    "list(set(df_Unemployement.columns) - set(pays))"
   ]
  },
  {
   "cell_type": "markdown",
   "metadata": {},
   "source": [
    "commentaire: La méthode n'a pas pu extraire tous les pays du fait de  leur nomenclature.<br> \n",
    "Ainsi, nous allons ajouter ceux de façon manuelle à la listes des pays déjà selectionnés."
   ]
  },
  {
   "cell_type": "code",
   "execution_count": 148,
   "metadata": {},
   "outputs": [],
   "source": [
    "#listes des pays nonpris ne compte du fait de leur nomenclature\n",
    "#pays1=['Year','Venezuela, RB', 'Turkey', 'Korea, Rep.','Egypt, Arab Rep.',\n",
    "      'Taiwan, China','Hong Kong SAR, China']\n",
    "\n",
    "# conservation uniquement des pays dans la base \n",
    "#df_Unemployement=df_Unemployement[pays1+pays]"
   ]
  },
  {
   "cell_type": "markdown",
   "metadata": {},
   "source": [
    "##### Detections des valeurs manquantes"
   ]
  },
  {
   "cell_type": "code",
   "execution_count": null,
   "metadata": {},
   "outputs": [],
   "source": [
    "f_missing_plot(df_Unemployement)"
   ]
  },
  {
   "cell_type": "markdown",
   "metadata": {},
   "source": [
    "Les données sont des séries temporelles.<br>\n",
    "Grâce à la visualisation 2, on constate que pour la plupart des pays,<br>\n",
    "les valeurs manquantes sont en début de periode d'obervation d'observation.<br>\n",
    "Ainsi, nous allons garder les pays avec au moins 60% des observations non manquantes."
   ]
  },
  {
   "cell_type": "code",
   "execution_count": 176,
   "metadata": {},
   "outputs": [
    {
     "ename": "NameError",
     "evalue": "name 'f_missing' is not defined",
     "output_type": "error",
     "traceback": [
      "\u001b[1;31m---------------------------------------------------------------------------\u001b[0m",
      "\u001b[1;31mNameError\u001b[0m                                 Traceback (most recent call last)",
      "\u001b[1;32mc:\\Users\\user\\Downloads\\FRANCE\\python\\Projet-Python\\Préparation_données.ipynb Cell 27\u001b[0m line \u001b[0;36m1\n\u001b[1;32m----> <a href='vscode-notebook-cell:/c%3A/Users/user/Downloads/FRANCE/python/Projet-Python/Pr%C3%A9paration_donn%C3%A9es.ipynb#Y313sZmlsZQ%3D%3D?line=0'>1</a>\u001b[0m f_missing(df_Unemployement)\n",
      "\u001b[1;31mNameError\u001b[0m: name 'f_missing' is not defined"
     ]
    }
   ],
   "source": [
    "# Suppression de certaines valeurs manquantes\n",
    "f_missing(df_Unemployement)"
   ]
  },
  {
   "cell_type": "code",
   "execution_count": 151,
   "metadata": {},
   "outputs": [
    {
     "data": {
      "text/plain": [
       "Mexico                  37.500000\n",
       "Turkey                  37.500000\n",
       "North Macedonia         35.000000\n",
       "Italy                   34.166667\n",
       "Greece                  34.166667\n",
       "Venezuela, RB           33.333333\n",
       "Egypt, Arab Rep.        30.833333\n",
       "Iceland                 30.555556\n",
       "Netherlands             30.555556\n",
       "Argentina               28.333333\n",
       "Thailand                28.333333\n",
       "Latvia                  27.222222\n",
       "Peru                    24.444444\n",
       "Malta                   24.166667\n",
       "Colombia                24.166667\n",
       "South Africa            22.500000\n",
       "Cyprus                  20.833333\n",
       "Saudi Arabia            20.000000\n",
       "Korea, Rep.             18.611111\n",
       "Hungary                 17.500000\n",
       "Croatia                 16.666667\n",
       "Pakistan                16.388889\n",
       "Algeria                 16.388889\n",
       "Uruguay                  7.777778\n",
       "Luxembourg               3.888889\n",
       "Portugal                 3.333333\n",
       "Sri Lanka                3.055556\n",
       "United Kingdom           1.388889\n",
       "Norway                   0.833333\n",
       "Philippines              0.555556\n",
       "Belgium                  0.555556\n",
       "New Zealand              0.555556\n",
       "Singapore                0.555556\n",
       "Germany                  0.555556\n",
       "Slovenia                 0.555556\n",
       "Slovakia                 0.555556\n",
       "Russian Federation       0.555556\n",
       "Japan                    0.555556\n",
       "Czechia                  0.555556\n",
       "France                   0.555556\n",
       "Estonia                  0.555556\n",
       "Spain                    0.555556\n",
       "Romania                  0.555556\n",
       "Sweden                   0.277778\n",
       "Austria                  0.277778\n",
       "United States            0.277778\n",
       "Canada                   0.277778\n",
       "Poland                   0.277778\n",
       "Bulgaria                 0.277778\n",
       "Switzerland              0.277778\n",
       "Australia                0.277778\n",
       "Taiwan, China            0.277778\n",
       "Ireland                  0.277778\n",
       "Hong Kong SAR, China     0.277778\n",
       "Finland                  0.277778\n",
       "Lithuania                0.277778\n",
       "dtype: float64"
      ]
     },
     "execution_count": 151,
     "metadata": {},
     "output_type": "execute_result"
    }
   ],
   "source": [
    "\n",
    "\n",
    "df_Unemployement.dropna(axis=1, thresh=len(df_Unemployement) * 0.6, inplace=True)\n",
    "\n",
    "(df_Unemployement.isna().sum() / len(df_Unemployement) * 100)[df_Unemployement.isna().any()].sort_values(ascending=False)"
   ]
  },
  {
   "cell_type": "code",
   "execution_count": 152,
   "metadata": {},
   "outputs": [
    {
     "data": {
      "image/png": "[encoded data removed]",
      "text/plain": [
       "<Figure size 2500x1600 with 3 Axes>"
      ]
     },
     "metadata": {},
     "output_type": "display_data"
    },
    {
     "data": {
      "image/png": "[encoded data removed]",
      "text/plain": [
       "<Figure size 640x480 with 1 Axes>"
      ]
     },
     "metadata": {},
     "output_type": "display_data"
    }
   ],
   "source": [
    "f_missing(df_Unemployement)"
   ]
  },
  {
   "cell_type": "markdown",
   "metadata": {},
   "source": [
    "#### Imputation des valeurs manquantes"
   ]
  },
  {
   "cell_type": "code",
   "execution_count": 155,
   "metadata": {},
   "outputs": [
    {
     "data": {
      "text/html": [
       "<div>\n",
       "<style scoped>\n",
       "    .dataframe tbody tr th:only-of-type {\n",
       "        vertical-align: middle;\n",
       "    }\n",
       "\n",
       "    .dataframe tbody tr th {\n",
       "        vertical-align: top;\n",
       "    }\n",
       "\n",
       "    .dataframe thead th {\n",
       "        text-align: right;\n",
       "    }\n",
       "</style>\n",
       "<table border=\"1\" class=\"dataframe\">\n",
       "  <thead>\n",
       "    <tr style=\"text-align: right;\">\n",
       "      <th></th>\n",
       "      <th>Year</th>\n",
       "      <th>Venezuela, RB</th>\n",
       "      <th>Turkey</th>\n",
       "      <th>Korea, Rep.</th>\n",
       "      <th>Egypt, Arab Rep.</th>\n",
       "      <th>Taiwan, China</th>\n",
       "      <th>Hong Kong SAR, China</th>\n",
       "      <th>Argentina</th>\n",
       "      <th>Australia</th>\n",
       "      <th>Austria</th>\n",
       "      <th>...</th>\n",
       "      <th>Russian Federation</th>\n",
       "      <th>Saudi Arabia</th>\n",
       "      <th>Singapore</th>\n",
       "      <th>Slovakia</th>\n",
       "      <th>Slovenia</th>\n",
       "      <th>Sweden</th>\n",
       "      <th>Thailand</th>\n",
       "      <th>Uruguay</th>\n",
       "      <th>United States</th>\n",
       "      <th>South Africa</th>\n",
       "    </tr>\n",
       "  </thead>\n",
       "  <tbody>\n",
       "    <tr>\n",
       "      <th>2</th>\n",
       "      <td>1994M01</td>\n",
       "      <td>NaN</td>\n",
       "      <td>NaN</td>\n",
       "      <td>NaN</td>\n",
       "      <td>NaN</td>\n",
       "      <td>1.4</td>\n",
       "      <td>1.976987</td>\n",
       "      <td>NaN</td>\n",
       "      <td>10.580050</td>\n",
       "      <td>6.672157</td>\n",
       "      <td>...</td>\n",
       "      <td>6.024640</td>\n",
       "      <td>NaN</td>\n",
       "      <td>1.7</td>\n",
       "      <td>14.49</td>\n",
       "      <td>15.1</td>\n",
       "      <td>11.26787</td>\n",
       "      <td>NaN</td>\n",
       "      <td>NaN</td>\n",
       "      <td>6.6</td>\n",
       "      <td>NaN</td>\n",
       "    </tr>\n",
       "    <tr>\n",
       "      <th>3</th>\n",
       "      <td>1994M02</td>\n",
       "      <td>NaN</td>\n",
       "      <td>NaN</td>\n",
       "      <td>NaN</td>\n",
       "      <td>NaN</td>\n",
       "      <td>1.7</td>\n",
       "      <td>1.799313</td>\n",
       "      <td>NaN</td>\n",
       "      <td>10.369090</td>\n",
       "      <td>6.637267</td>\n",
       "      <td>...</td>\n",
       "      <td>6.327454</td>\n",
       "      <td>NaN</td>\n",
       "      <td>1.7</td>\n",
       "      <td>14.31</td>\n",
       "      <td>15.1</td>\n",
       "      <td>11.13366</td>\n",
       "      <td>NaN</td>\n",
       "      <td>NaN</td>\n",
       "      <td>6.6</td>\n",
       "      <td>NaN</td>\n",
       "    </tr>\n",
       "    <tr>\n",
       "      <th>4</th>\n",
       "      <td>1994M03</td>\n",
       "      <td>NaN</td>\n",
       "      <td>NaN</td>\n",
       "      <td>NaN</td>\n",
       "      <td>NaN</td>\n",
       "      <td>1.6</td>\n",
       "      <td>1.847609</td>\n",
       "      <td>NaN</td>\n",
       "      <td>10.331460</td>\n",
       "      <td>6.425844</td>\n",
       "      <td>...</td>\n",
       "      <td>6.554162</td>\n",
       "      <td>NaN</td>\n",
       "      <td>1.7</td>\n",
       "      <td>14.45</td>\n",
       "      <td>15.0</td>\n",
       "      <td>10.84779</td>\n",
       "      <td>NaN</td>\n",
       "      <td>NaN</td>\n",
       "      <td>6.5</td>\n",
       "      <td>NaN</td>\n",
       "    </tr>\n",
       "    <tr>\n",
       "      <th>5</th>\n",
       "      <td>1994M04</td>\n",
       "      <td>NaN</td>\n",
       "      <td>NaN</td>\n",
       "      <td>NaN</td>\n",
       "      <td>NaN</td>\n",
       "      <td>1.6</td>\n",
       "      <td>1.782868</td>\n",
       "      <td>NaN</td>\n",
       "      <td>10.106920</td>\n",
       "      <td>6.683679</td>\n",
       "      <td>...</td>\n",
       "      <td>6.841641</td>\n",
       "      <td>NaN</td>\n",
       "      <td>1.6</td>\n",
       "      <td>14.52</td>\n",
       "      <td>14.8</td>\n",
       "      <td>10.61952</td>\n",
       "      <td>NaN</td>\n",
       "      <td>NaN</td>\n",
       "      <td>6.4</td>\n",
       "      <td>NaN</td>\n",
       "    </tr>\n",
       "    <tr>\n",
       "      <th>6</th>\n",
       "      <td>1994M05</td>\n",
       "      <td>NaN</td>\n",
       "      <td>NaN</td>\n",
       "      <td>NaN</td>\n",
       "      <td>NaN</td>\n",
       "      <td>1.5</td>\n",
       "      <td>1.816187</td>\n",
       "      <td>NaN</td>\n",
       "      <td>9.833122</td>\n",
       "      <td>6.609101</td>\n",
       "      <td>...</td>\n",
       "      <td>6.895477</td>\n",
       "      <td>NaN</td>\n",
       "      <td>1.6</td>\n",
       "      <td>14.62</td>\n",
       "      <td>14.7</td>\n",
       "      <td>10.62802</td>\n",
       "      <td>NaN</td>\n",
       "      <td>NaN</td>\n",
       "      <td>6.1</td>\n",
       "      <td>NaN</td>\n",
       "    </tr>\n",
       "  </tbody>\n",
       "</table>\n",
       "<p>5 rows × 57 columns</p>\n",
       "</div>"
      ],
      "text/plain": [
       "      Year  Venezuela, RB  Turkey  Korea, Rep.  Egypt, Arab Rep.  \\\n",
       "2  1994M01            NaN     NaN          NaN               NaN   \n",
       "3  1994M02            NaN     NaN          NaN               NaN   \n",
       "4  1994M03            NaN     NaN          NaN               NaN   \n",
       "5  1994M04            NaN     NaN          NaN               NaN   \n",
       "6  1994M05            NaN     NaN          NaN               NaN   \n",
       "\n",
       "   Taiwan, China  Hong Kong SAR, China  Argentina  Australia   Austria  ...  \\\n",
       "2            1.4              1.976987        NaN  10.580050  6.672157  ...   \n",
       "3            1.7              1.799313        NaN  10.369090  6.637267  ...   \n",
       "4            1.6              1.847609        NaN  10.331460  6.425844  ...   \n",
       "5            1.6              1.782868        NaN  10.106920  6.683679  ...   \n",
       "6            1.5              1.816187        NaN   9.833122  6.609101  ...   \n",
       "\n",
       "   Russian Federation  Saudi Arabia  Singapore  Slovakia  Slovenia    Sweden  \\\n",
       "2            6.024640           NaN        1.7     14.49      15.1  11.26787   \n",
       "3            6.327454           NaN        1.7     14.31      15.1  11.13366   \n",
       "4            6.554162           NaN        1.7     14.45      15.0  10.84779   \n",
       "5            6.841641           NaN        1.6     14.52      14.8  10.61952   \n",
       "6            6.895477           NaN        1.6     14.62      14.7  10.62802   \n",
       "\n",
       "   Thailand  Uruguay  United States  South Africa  \n",
       "2       NaN      NaN            6.6           NaN  \n",
       "3       NaN      NaN            6.6           NaN  \n",
       "4       NaN      NaN            6.5           NaN  \n",
       "5       NaN      NaN            6.4           NaN  \n",
       "6       NaN      NaN            6.1           NaN  \n",
       "\n",
       "[5 rows x 57 columns]"
      ]
     },
     "execution_count": 155,
     "metadata": {},
     "output_type": "execute_result"
    }
   ],
   "source": [
    "df_Unemployement.head()"
   ]
  },
  {
   "cell_type": "code",
   "execution_count": 163,
   "metadata": {},
   "outputs": [
    {
     "data": {
      "text/html": [
       "<div>\n",
       "<style scoped>\n",
       "    .dataframe tbody tr th:only-of-type {\n",
       "        vertical-align: middle;\n",
       "    }\n",
       "\n",
       "    .dataframe tbody tr th {\n",
       "        vertical-align: top;\n",
       "    }\n",
       "\n",
       "    .dataframe thead th {\n",
       "        text-align: right;\n",
       "    }\n",
       "</style>\n",
       "<table border=\"1\" class=\"dataframe\">\n",
       "  <thead>\n",
       "    <tr style=\"text-align: right;\">\n",
       "      <th></th>\n",
       "      <th>Year</th>\n",
       "      <th>Italy</th>\n",
       "    </tr>\n",
       "  </thead>\n",
       "  <tbody>\n",
       "    <tr>\n",
       "      <th>2</th>\n",
       "      <td>1994M01</td>\n",
       "      <td>NaN</td>\n",
       "    </tr>\n",
       "    <tr>\n",
       "      <th>3</th>\n",
       "      <td>1994M02</td>\n",
       "      <td>NaN</td>\n",
       "    </tr>\n",
       "    <tr>\n",
       "      <th>4</th>\n",
       "      <td>1994M03</td>\n",
       "      <td>NaN</td>\n",
       "    </tr>\n",
       "    <tr>\n",
       "      <th>5</th>\n",
       "      <td>1994M04</td>\n",
       "      <td>NaN</td>\n",
       "    </tr>\n",
       "    <tr>\n",
       "      <th>6</th>\n",
       "      <td>1994M05</td>\n",
       "      <td>NaN</td>\n",
       "    </tr>\n",
       "    <tr>\n",
       "      <th>...</th>\n",
       "      <td>...</td>\n",
       "      <td>...</td>\n",
       "    </tr>\n",
       "    <tr>\n",
       "      <th>355</th>\n",
       "      <td>2023M06</td>\n",
       "      <td>7.353260</td>\n",
       "    </tr>\n",
       "    <tr>\n",
       "      <th>356</th>\n",
       "      <td>2023M07</td>\n",
       "      <td>7.657745</td>\n",
       "    </tr>\n",
       "    <tr>\n",
       "      <th>357</th>\n",
       "      <td>2023M08</td>\n",
       "      <td>7.180361</td>\n",
       "    </tr>\n",
       "    <tr>\n",
       "      <th>358</th>\n",
       "      <td>2023M09</td>\n",
       "      <td>7.337384</td>\n",
       "    </tr>\n",
       "    <tr>\n",
       "      <th>359</th>\n",
       "      <td>2023M1</td>\n",
       "      <td>NaN</td>\n",
       "    </tr>\n",
       "  </tbody>\n",
       "</table>\n",
       "<p>358 rows × 2 columns</p>\n",
       "</div>"
      ],
      "text/plain": [
       "        Year     Italy\n",
       "2    1994M01       NaN\n",
       "3    1994M02       NaN\n",
       "4    1994M03       NaN\n",
       "5    1994M04       NaN\n",
       "6    1994M05       NaN\n",
       "..       ...       ...\n",
       "355  2023M06  7.353260\n",
       "356  2023M07  7.657745\n",
       "357  2023M08  7.180361\n",
       "358  2023M09  7.337384\n",
       "359   2023M1       NaN\n",
       "\n",
       "[358 rows x 2 columns]"
      ]
     },
     "execution_count": 163,
     "metadata": {},
     "output_type": "execute_result"
    }
   ],
   "source": [
    "df_Unemployement[['Year','Italy']]"
   ]
  },
  {
   "cell_type": "code",
   "execution_count": 173,
   "metadata": {},
   "outputs": [
    {
     "name": "stdout",
     "output_type": "stream",
     "text": [
      "        Year     Italy\n",
      "0 1994-01-01       NaN\n",
      "1 1994-02-01       NaN\n",
      "2 1994-03-01       NaN\n",
      "3 1994-04-01       NaN\n",
      "4 1994-05-01       NaN\n",
      "5 2023-06-01  7.353260\n",
      "6 2023-07-01  7.657745\n",
      "7 2023-08-01  7.180361\n",
      "8 2023-09-01  7.337384\n",
      "9 2023-10-01  7.382188\n"
     ]
    }
   ],
   "source": [
    "import pandas as pd\n",
    "import numpy as np\n",
    "\n",
    "# Votre DataFrame\n",
    "df = pd.DataFrame({\n",
    "    'Year': ['1994M01', '1994M02', '1994M03', '1994M04', '1994M05', '2023M06', '2023M07', '2023M08', '2023M09', '2023M10'],\n",
    "    'Italy': [None, None, None, None, None, 7.353260, 7.657745, 7.180361, 7.337384, None]\n",
    "})\n",
    "\n",
    "# Convertir la colonne 'Year' en format de date\n",
    "df['Year'] = pd.to_datetime(df['Year'], format='%YM%m')\n",
    "\n",
    "# Définir 'Year' comme index pour faciliter la manipulation des périodes\n",
    "df.set_index('Year', inplace=True)\n",
    "\n",
    "# Remplir les NaN avec la moyenne des 10 années suivantes\n",
    "df['Italy'] = df['Italy'].fillna(df['Italy'].shift(1).rolling(window=10, min_periods=1).apply(lambda x: np.nanmean(x), raw=True))\n",
    "\n",
    "# Réinitialiser l'index si nécessaire\n",
    "df.reset_index(inplace=True)\n",
    "\n",
    "# Afficher le DataFrame mis à jour\n",
    "print(df)\n"
   ]
  },
  {
   "cell_type": "code",
   "execution_count": 154,
   "metadata": {},
   "outputs": [],
   "source": [
    "\n",
    "## supression des deux premières lignes car nous allons commencer en 1994\n",
    "\n",
    "df_Unemployement=df_Unemployement.drop([df_Unemployement.index[0], df_Unemployement.index[1]])\n"
   ]
  },
  {
   "cell_type": "code",
   "execution_count": 142,
   "metadata": {},
   "outputs": [
    {
     "name": "stdout",
     "output_type": "stream",
     "text": [
      "Liste des colonnes qui sont dans la base et qui ne representent pas les pays\n"
     ]
    },
    {
     "data": {
      "text/plain": [
       "['Hong Kong SAR, China',\n",
       " 'Year',\n",
       " 'Venezuela, RB',\n",
       " 'Taiwan, China',\n",
       " 'Korea, Rep.',\n",
       " 'Turkey',\n",
       " 'Egypt, Arab Rep.']"
      ]
     },
     "execution_count": 142,
     "metadata": {},
     "output_type": "execute_result"
    }
   ],
   "source": []
  },
  {
   "cell_type": "code",
   "execution_count": 156,
   "metadata": {},
   "outputs": [
    {
     "data": {
      "image/png": "[encoded data removed]",
      "text/plain": [
       "<Figure size 640x480 with 1 Axes>"
      ]
     },
     "metadata": {},
     "output_type": "display_data"
    },
    {
     "ename": "AttributeError",
     "evalue": "module 'statsmodels.tsa.api' has no attribute 'ARMA'",
     "output_type": "error",
     "traceback": [
      "\u001b[1;31m---------------------------------------------------------------------------\u001b[0m",
      "\u001b[1;31mAttributeError\u001b[0m                            Traceback (most recent call last)",
      "\u001b[1;32mc:\\Users\\user\\Downloads\\FRANCE\\python\\Projet-Python\\Préparation_données.ipynb Cell 38\u001b[0m line \u001b[0;36m2\n\u001b[0;32m     <a href='vscode-notebook-cell:/c%3A/Users/user/Downloads/FRANCE/python/Projet-Python/Pr%C3%A9paration_donn%C3%A9es.ipynb#Y323sZmlsZQ%3D%3D?line=19'>20</a>\u001b[0m \u001b[39m# Ajuster un modèle ARMA(p, q)\u001b[39;00m\n\u001b[0;32m     <a href='vscode-notebook-cell:/c%3A/Users/user/Downloads/FRANCE/python/Projet-Python/Pr%C3%A9paration_donn%C3%A9es.ipynb#Y323sZmlsZQ%3D%3D?line=20'>21</a>\u001b[0m p, q \u001b[39m=\u001b[39m \u001b[39m1\u001b[39m, \u001b[39m1\u001b[39m\n\u001b[1;32m---> <a href='vscode-notebook-cell:/c%3A/Users/user/Downloads/FRANCE/python/Projet-Python/Pr%C3%A9paration_donn%C3%A9es.ipynb#Y323sZmlsZQ%3D%3D?line=21'>22</a>\u001b[0m model \u001b[39m=\u001b[39m sm\u001b[39m.\u001b[39mtsa\u001b[39m.\u001b[39mARMA(y, order\u001b[39m=\u001b[39m(p, q))\n\u001b[0;32m     <a href='vscode-notebook-cell:/c%3A/Users/user/Downloads/FRANCE/python/Projet-Python/Pr%C3%A9paration_donn%C3%A9es.ipynb#Y323sZmlsZQ%3D%3D?line=22'>23</a>\u001b[0m results \u001b[39m=\u001b[39m model\u001b[39m.\u001b[39mfit()\n\u001b[0;32m     <a href='vscode-notebook-cell:/c%3A/Users/user/Downloads/FRANCE/python/Projet-Python/Pr%C3%A9paration_donn%C3%A9es.ipynb#Y323sZmlsZQ%3D%3D?line=24'>25</a>\u001b[0m \u001b[39m# Afficher les résultats du modèle\u001b[39;00m\n",
      "\u001b[1;31mAttributeError\u001b[0m: module 'statsmodels.tsa.api' has no attribute 'ARMA'"
     ]
    }
   ],
   "source": [
    "import pandas as pd\n",
    "import numpy as np\n",
    "import matplotlib.pyplot as plt\n",
    "import statsmodels.api as sm\n",
    "\n",
    "# Générer une série temporelle avec du bruit\n",
    "np.random.seed(42)\n",
    "n_obs = 100\n",
    "epsilon = np.random.normal(size=n_obs)\n",
    "y = np.zeros(n_obs)\n",
    "\n",
    "for t in range(1, n_obs):\n",
    "    y[t] = 0.7 * y[t-1] + epsilon[t]\n",
    "\n",
    "# Afficher la série temporelle\n",
    "plt.plot(y)\n",
    "plt.title('Série temporelle avec du bruit')\n",
    "plt.show()\n",
    "\n",
    "# Ajuster un modèle ARMA(p, q)\n",
    "p, q = 1, 1\n",
    "model = sm.tsa.ARMA(y, order=(p, q))\n",
    "results = model.fit()\n",
    "\n",
    "# Afficher les résultats du modèle\n",
    "print(results.summary())\n",
    "\n",
    "# Prévoir les prochaines valeurs\n",
    "forecast_steps = 10\n",
    "forecast, stderr, conf_int = results.forecast(steps=forecast_steps)\n",
    "\n",
    "# Afficher les prévisions\n",
    "plt.plot(np.arange(n_obs), y, label='Observations')\n",
    "plt.plot(np.arange(n_obs, n_obs + forecast_steps), forecast, label='Prévisions')\n",
    "plt.fill_between(np.arange(n_obs, n_obs + forecast_steps), conf_int[:, 0], conf_int[:, 1], color='gray', alpha=0.2, label='Intervalle de confiance')\n",
    "plt.title('Prévisions avec un modèle ARMA')\n",
    "plt.legend()\n",
    "plt.show()\n"
   ]
  },
  {
   "cell_type": "markdown",
   "metadata": {},
   "source": [
    "# taux de chômage"
   ]
  },
  {
   "cell_type": "markdown",
   "metadata": {},
   "source": [
    "# Importation de la BD"
   ]
  },
  {
   "cell_type": "code",
   "execution_count": null,
   "metadata": {},
   "outputs": [],
   "source": [
    "rate=pd.read_excel(\"C:/Users/yousr/Downloads/Projet_py/Unemployment Rate.xlsx\", sheet_name='monthly' , index_col=0 )\n",
    "rate.head(5)\n",
    "rate.index = pd.to_datetime(rate.index,format='%YM%m')\n",
    "rate.index =rate.index.strftime('%Y-%m')"
   ]
  },
  {
   "cell_type": "code",
   "execution_count": null,
   "metadata": {},
   "outputs": [],
   "source": [
    "# Noms des colonnes\n",
    "col_names=rate.columns\n",
    "print(col_names)"
   ]
  },
  {
   "cell_type": "markdown",
   "metadata": {},
   "source": [
    "# Type de données"
   ]
  },
  {
   "cell_type": "code",
   "execution_count": null,
   "metadata": {},
   "outputs": [],
   "source": [
    "# Type de données de chaque colonne \n",
    "datas_type= rate.dtypes\n",
    "print(datas_type)"
   ]
  },
  {
   "cell_type": "markdown",
   "metadata": {},
   "source": [
    "# Doublons"
   ]
  },
  {
   "cell_type": "code",
   "execution_count": null,
   "metadata": {},
   "outputs": [],
   "source": [
    "duplicates = rate[rate.duplicated()]\n",
    "duplicates.head(5) # 0 doublons dans notre DF"
   ]
  },
  {
   "cell_type": "markdown",
   "metadata": {},
   "source": [
    "# Erreurs de frappes pour la colonne index"
   ]
  },
  {
   "cell_type": "code",
   "execution_count": null,
   "metadata": {},
   "outputs": [],
   "source": [
    "rate.index = pd.to_datetime(rate.index, errors='coerce')\n",
    "errors = rate[rate.index.isnull()]\n",
    "errors.head(10) # Pas d'erreurs #########################################################################################"
   ]
  },
  {
   "cell_type": "markdown",
   "metadata": {},
   "source": [
    "# Construction de DF"
   ]
  },
  {
   "cell_type": "code",
   "execution_count": null,
   "metadata": {},
   "outputs": [],
   "source": [
    "# Garder uniquement les pays dans la DF : Méthode search_fuzzy de pycountry ###############################################################\n",
    "\n",
    "def detect_countries(col_names):\n",
    "    countries_detected = []\n",
    "    \n",
    "    for name in col_names:\n",
    "        try:\n",
    "            # Essayer de trouver le pays par son nom\n",
    "            pays= pycountry.countries.search_fuzzy(name)[0]\n",
    "            countries_detected.append(pays.name)\n",
    "        except LookupError:\n",
    "            # Ignorer les noms qui ne correspondent à aucun pays\n",
    "            pass\n",
    "    \n",
    "    return countries_detected\n",
    "\n",
    "# Liste des pays detectés\n",
    "\n",
    "countries_detected = detect_countries(col_names)\n",
    "print(\"Noms de pays détectés :\", countries_detected)\n",
    "\n",
    "# Longeur des listes : countries_detected et col_names\n",
    "print(len(countries_detected))\n",
    "print(len(col_names))\n",
    "\n",
    "# Différence entre les deux listes pour obtenir les noms des colonnes ignorées par la fonction detect_countries\n",
    "#L'objectif est de vérifier si des pays ont été omis par la fonction detect_countries\n",
    "\n",
    "# Pays dans col_names et pas dans countries_detected\n",
    "diff= list(set(col_names) - set(countries_detected))\n",
    "print(diff) \n",
    "\n",
    "# Pays dans countries_detected et pas dans col_names\n",
    "diff2= list(set(countries_detected)- set(col_names))\n",
    "print(diff2)\n",
    "\n",
    "countries_omitted =['Korea, Rep.', 'Taiwan, China', 'Hong Kong SAR, China', 'Czech Republic', 'Egypt, Arab Rep.', 'Venezuela, RB'] ####################\"\"\n",
    "concat = countries_detected + countries_omitted \n",
    "\n",
    "# Enfin, la liste finale des pays à retenir dans la DF\n",
    "countries_detected =list(set(concat)- set(diff2))\n",
    "print(countries_detected)\n",
    "\n",
    "# La DF taux de chomage à retenir\n",
    "rate_filter= rate[countries_detected]\n",
    "rate_filter.columns"
   ]
  },
  {
   "cell_type": "code",
   "execution_count": null,
   "metadata": {},
   "outputs": [],
   "source": [
    "# Pour faciliter la lecture de la DF, on remplace les noms des pays par leurs codes ISO  correspondant\n",
    "\n",
    "# Dictionnaire de correspondance entre noms complets des pays et leurs codes\n",
    "corresp = {country.name: country.alpha_3 for country in pycountry.countries}\n",
    "\n",
    "# Liste initiale des noms complets des colonnes\n",
    "country = countries_detected\n",
    "# Transformation des noms complets des colonnes en abréviations\n",
    "country_codes = [corresp.get(pays, pays) for pays in country]\n",
    "\n",
    "# Remplacement des noms des pays par leurs codes dans la merged\n",
    "rate_filter.columns=country_codes\n",
    "rate_filter.columns\n",
    "rate_filter.head(5)\n",
    "\n",
    "#Ordre alphabétique des colonnes \n",
    "rate_filter_sort= rate_filter.sort_index(axis=1)\n",
    "rate_filter_sort.head(5)"
   ]
  },
  {
   "cell_type": "markdown",
   "metadata": {},
   "source": [
    "# Visualisation des NA"
   ]
  },
  {
   "cell_type": "code",
   "execution_count": null,
   "metadata": {},
   "outputs": [],
   "source": [
    "# Visualisation des valeurs manquantes NA\n",
    "import missingno as msno\n",
    "# Diagramme à barres des valeurs manquantes\n",
    "msno.bar(rate_filter_sort)\n",
    "plt.show()"
   ]
  },
  {
   "cell_type": "markdown",
   "metadata": {},
   "source": [
    "# % des NA"
   ]
  },
  {
   "cell_type": "code",
   "execution_count": null,
   "metadata": {},
   "outputs": [],
   "source": [
    "# Calculer le taux de valeurs manquantes dans chaque colonne\n",
    "size = rate_filter_sort.shape\n",
    "nan_sum = rate_filter_sort.isna().sum() # Total du nombre de NA par colonne\n",
    "nan_percent = nan_sum.sort_values(ascending=True) * 100 / size[0]\n",
    "print(nan_percent)"
   ]
  },
  {
   "cell_type": "markdown",
   "metadata": {},
   "source": [
    "# Seuil des NA"
   ]
  },
  {
   "cell_type": "code",
   "execution_count": null,
   "metadata": {},
   "outputs": [],
   "source": [
    "# Récupérer les colonnes avec un pourcentage de valeurs manquantes supérieur à 40%\n",
    "cols_to_drop = nan_percent[nan_percent > 40].index\n",
    "print(cols_to_drop)\n",
    "\n",
    "# Supprimer les colonnes de la DataFrame\n",
    "rate_filter_sort.drop(cols_to_drop, axis=1, inplace=True)"
   ]
  },
  {
   "cell_type": "code",
   "execution_count": null,
   "metadata": {},
   "outputs": [],
   "source": [
    "# Type de données de chaque colonne \n",
    "data_type = rate_filter_sort.dtypes\n",
    "print(data_type)"
   ]
  },
  {
   "cell_type": "markdown",
   "metadata": {},
   "source": [
    "# Imputation"
   ]
  },
  {
   "cell_type": "code",
   "execution_count": null,
   "metadata": {},
   "outputs": [],
   "source": [
    "# Imputation des NA\n",
    "\n",
    "#rate_filter_sort_inter=rate_filter_sort.interpolate(method='linear', axis=0, limit=None, inplace=False, limit_direction=None, limit_area=None)\n",
    "\n",
    "#rate_filter_sort.fillna(value=None, method='ffill', axis=None, inplace=False, limit=None)\n",
    "\n",
    "rate_no_na = rate_filter_sort.fillna(rate_filter_sort.mean())\n",
    "\n",
    "#rate_filter_sort_fill= rate_filter_sort.iloc[-5:].ffill()\n",
    "\n",
    "indice_premiere_na = rate_filter_sort.isna().any(axis=1).idxmax()\n",
    "print(indice_premiere_na)\n",
    "\n",
    "#numero_ligne = rate_filter_sort.index.get_loc(indice_premiere_na) + 1\n",
    "\"\"\"\n",
    "from datetime import datetime\n",
    "date_today = datetime.now()\n",
    "\n",
    "# Extrait l'année de la date actuelle\n",
    "current_year = date_today.year\n",
    "str(current_year)\n",
    "rate_filter_sort.index = pd.to_datetime(rate_filter_sort.index, format='mixed')\n",
    "\n",
    "\n",
    "rate_filter_sort.index = rate_filter_sort.index.astype(str)\n",
    "rate_current_year = rate_filter_sort[rate_filter_sort.index.str.contains(current_year)]\n",
    "\n",
    "\n",
    "#rate_filter_sort.index = pd.to_datetime(rate_filter_sort.index)\n",
    "\n",
    "#year2023 =rate_filter_sort.loc[rate_filter_sort.index.year == 2023]\n",
    "\n",
    "#.fillna(rate_filter_sort.mean())\n",
    "print(rate_filter_sort.index.dtype) \"\"\""
   ]
  },
  {
   "cell_type": "markdown",
   "metadata": {},
   "source": [
    "# Valeurs abérrantes"
   ]
  },
  {
   "cell_type": "code",
   "execution_count": null,
   "metadata": {},
   "outputs": [],
   "source": [
    "# Les valeurs abérrantes \n",
    "plt.figure(figsize=(10, 6))\n",
    "sns.boxplot(data=rate_no_na)\n",
    "plt.title('Boîtes à moustaches des séries temporelles')\n",
    "plt.show()"
   ]
  },
  {
   "cell_type": "markdown",
   "metadata": {},
   "source": [
    "# Ajustement"
   ]
  },
  {
   "cell_type": "code",
   "execution_count": null,
   "metadata": {},
   "outputs": [],
   "source": [
    "rate_no_na.index = pd.to_datetime(rate_no_na.index, format='%Y-%m-%d')\n",
    "\n",
    "# Grouper par année et vérifier si tous les mois sont présents\n",
    "rate_12= rate_no_na.groupby(rate_no_na.index.year).filter(lambda x: len(x) == 12)\n",
    "rate_12= pd.DataFrame(rate_12)\n",
    "rate_12.head(5)"
   ]
  },
  {
   "cell_type": "markdown",
   "metadata": {},
   "source": [
    "# Regroupement"
   ]
  },
  {
   "cell_type": "code",
   "execution_count": null,
   "metadata": {},
   "outputs": [],
   "source": [
    "rate_quart = rate_12.resample('Q-JAN').mean()\n",
    "#print(rate_quart)"
   ]
  },
  {
   "cell_type": "markdown",
   "metadata": {},
   "source": [
    "# Jointure"
   ]
  },
  {
   "cell_type": "code",
   "execution_count": null,
   "metadata": {},
   "outputs": [],
   "source": [
    "# Ignorer les jours dans l'index\n",
    "rate_quart.index =rate_quart.index.strftime('%Y-%m')"
   ]
  },
  {
   "cell_type": "markdown",
   "metadata": {},
   "source": [
    "# DF classification"
   ]
  },
  {
   "cell_type": "markdown",
   "metadata": {},
   "source": [
    "# Pivotage"
   ]
  },
  {
   "cell_type": "code",
   "execution_count": null,
   "metadata": {},
   "outputs": [],
   "source": [
    "#result_table = merged.melt(id_vars='merged.index', var_name='Country', value_name='Value')\n",
    "# result_table = merged.pivot(index='gdp_no_na.index', columns='rate_quart', values='gdp_no_na')\n"
   ]
  },
  {
   "cell_type": "markdown",
   "metadata": {},
   "source": [
    "# II. PIB"
   ]
  },
  {
   "cell_type": "code",
   "execution_count": null,
   "metadata": {},
   "outputs": [],
   "source": [
    "#%pip install missingno\n",
    "import pycodestyle as pep8\n",
    "import openpyxl as xl\n",
    "import numpy as np\n",
    "import pandas as pd\n",
    "import matplotlib.pyplot as plt\n",
    "import pycountry\n",
    "import missingno as msno\n",
    "import seaborn as sns\n",
    "np.random.seed(123)"
   ]
  },
  {
   "cell_type": "markdown",
   "metadata": {},
   "source": [
    "# Importation "
   ]
  },
  {
   "cell_type": "code",
   "execution_count": null,
   "metadata": {},
   "outputs": [],
   "source": [
    "# Importation du fichier .xlsx\n",
    "gdp=pd.read_excel(\"C:/Users/yousr/Downloads/Projet_py/GDP Deflator at Market Prices, LCU.xlsx\",  sheet_name='quarterly', index_col=0)\n",
    "gdp.head(5)\n",
    "gdp.index = pd.to_datetime(gdp.index)\n",
    "gdp.index =gdp.index.strftime('%Y-%m')"
   ]
  },
  {
   "cell_type": "code",
   "execution_count": null,
   "metadata": {},
   "outputs": [],
   "source": [
    "# Noms des colonnes\n",
    "col_names=gdp.columns\n",
    "print(col_names)"
   ]
  },
  {
   "cell_type": "markdown",
   "metadata": {},
   "source": [
    "# Type de données"
   ]
  },
  {
   "cell_type": "code",
   "execution_count": null,
   "metadata": {},
   "outputs": [],
   "source": [
    "# Type de données de chaque colonne \n",
    "datas_type= gdp.dtypes\n",
    "print(datas_type)"
   ]
  },
  {
   "cell_type": "markdown",
   "metadata": {},
   "source": [
    "# Doublons"
   ]
  },
  {
   "cell_type": "code",
   "execution_count": null,
   "metadata": {},
   "outputs": [],
   "source": [
    "duplicates = gdp[gdp.duplicated()]\n",
    "duplicates.head(5) # 0 doublons dans notre gdp_no_na"
   ]
  },
  {
   "cell_type": "markdown",
   "metadata": {},
   "source": [
    "# Erreurs de frappes pour la colonne index"
   ]
  },
  {
   "cell_type": "code",
   "execution_count": null,
   "metadata": {},
   "outputs": [],
   "source": [
    "gdp.index = pd.to_datetime(gdp.index, errors='coerce')\n",
    "errors = gdp[gdp.index.isnull()]\n",
    "print(errors) # Pas d'erreurs"
   ]
  },
  {
   "cell_type": "markdown",
   "metadata": {},
   "source": [
    "# Type de données"
   ]
  },
  {
   "cell_type": "markdown",
   "metadata": {},
   "source": [
    "# Type de données de chaque colonne \n",
    "datas_type= gdp.dtypes\n",
    "print(datas_type)"
   ]
  },
  {
   "cell_type": "markdown",
   "metadata": {},
   "source": [
    "# Construction de la DF"
   ]
  },
  {
   "cell_type": "code",
   "execution_count": null,
   "metadata": {},
   "outputs": [],
   "source": [
    "# Garder uniquement les pays dans la gdp_filter_sort : Méthode search_fuzzy de pycountry ###############################################################\n",
    "\n",
    "def detect_countries(col_names):\n",
    "    countries_detected = []\n",
    "    \n",
    "    for name in col_names:\n",
    "        try:\n",
    "            # Essayer de trouver le pays par son nom\n",
    "            pays= pycountry.countries.search_fuzzy(name)[0]\n",
    "            countries_detected.append(pays.name)\n",
    "        except LookupError:\n",
    "            # Ignorer les noms qui ne correspondent à aucun pays\n",
    "            pass\n",
    "    \n",
    "    return countries_detected\n",
    "\n",
    "# Liste des pays detectés\n",
    "\n",
    "countries_detected = detect_countries(col_names)\n",
    "print(\"Noms de pays détectés :\", countries_detected)\n",
    "\n",
    "# Longeur des listes : countries_detected et col_names\n",
    "print(len(countries_detected))\n",
    "print(len(col_names))\n",
    "\n",
    "# Différence entre les deux listes pour obtenir les noms des colonnes ignorées par la fonction detect_countries\n",
    "#L'objectif est de vérifier si des pays ont été omis par la fonction detect_countries\n",
    "\n",
    "# Pays dans col_names et pas dans countries_detected\n",
    "diff= list(set(col_names) - set(countries_detected))\n",
    "print(diff) \n",
    "\n",
    "# Pays dans countries_detected et pas dans col_names\n",
    "diff2= list(set(countries_detected)- set(col_names))\n",
    "print(diff2)\n",
    "\n",
    "countries_omitted =['Korea, Rep.', 'Czech Republic', 'Taiwan, China', 'Bolivia', 'Hong Kong SAR, China', 'Egypt, Arab Rep.'] ####################\"\"\n",
    "concat = countries_detected + countries_omitted \n",
    "\n",
    "# Enfin, la liste finale des pays à retenir dans la gdp_filter_sort\n",
    "countries_detected =list(set(concat)- set(diff2))\n",
    "print(countries_detected)\n",
    "\n",
    "# La gdp_filter_sort taux de chomage à retenir\n",
    "gdp_filter= gdp[countries_detected]\n",
    "gdp_filter.columns\n"
   ]
  },
  {
   "cell_type": "code",
   "execution_count": null,
   "metadata": {},
   "outputs": [],
   "source": [
    "# Pour faciliter la lecture de la gdp_filter_sort, on remplace les noms des pays par leurs codes ISO  correspondant\n",
    "\n",
    "# Dictionnaire de correspondance entre noms complets des pays et leurs codes\n",
    "corresp = {country.name: country.alpha_3 for country in pycountry.countries}\n",
    "\n",
    "# Liste initiale des noms complets des colonnes\n",
    "country = countries_detected\n",
    "# Transformation des noms complets des colonnes en abréviations\n",
    "country_codes = [corresp.get(pays, pays) for pays in country]\n",
    "\n",
    "# Remplacement des noms des pays par leurs codes dans la gdp_filter_sort\n",
    "gdp_filter.columns=country_codes\n",
    "gdp_filter.columns\n",
    "gdp_filter.head(5)\n",
    "\n",
    "#Ordre alphabétique des colonnes \n",
    "gdp_filter_sort= gdp_filter.sort_index(axis=1)\n",
    "gdp_filter_sort.head(5)"
   ]
  },
  {
   "cell_type": "code",
   "execution_count": null,
   "metadata": {},
   "outputs": [],
   "source": [
    "# Nombre de lignes d'une gdp_filter_sort\n",
    "count_rows= len(gdp_filter_sort)\n",
    "print(count_rows)"
   ]
  },
  {
   "cell_type": "markdown",
   "metadata": {},
   "source": [
    "# Visualisation"
   ]
  },
  {
   "cell_type": "code",
   "execution_count": null,
   "metadata": {},
   "outputs": [],
   "source": [
    "# Diagramme à barres des valeurs manquantes\n",
    "msno.bar(gdp_filter_sort)\n",
    "plt.show()"
   ]
  },
  {
   "cell_type": "markdown",
   "metadata": {},
   "source": [
    "# % des NA"
   ]
  },
  {
   "cell_type": "code",
   "execution_count": null,
   "metadata": {},
   "outputs": [],
   "source": [
    "# Calculer le taux de valeurs manquantes\n",
    "size = gdp_filter_sort.shape\n",
    "nan_values = gdp_filter_sort.isna().sum()\n",
    "nan_percent = nan_values.sort_values(ascending=True) * 100 / size[0]\n",
    "print(nan_percent)\n"
   ]
  },
  {
   "cell_type": "markdown",
   "metadata": {},
   "source": [
    "# Seuil des NA "
   ]
  },
  {
   "cell_type": "code",
   "execution_count": null,
   "metadata": {},
   "outputs": [],
   "source": [
    "# Récupérer les colonnes avec un pourcentage de valeurs manquantes supérieur à 40%\n",
    "cols_to_drop = nan_percent[nan_percent > 40].index\n",
    "print(cols_to_drop)\n",
    "\n",
    "# Supprimer les colonnes de la DataFrame\n",
    "gdp_filter_sort.drop(cols_to_drop, axis=1, inplace=True)\n"
   ]
  },
  {
   "cell_type": "code",
   "execution_count": null,
   "metadata": {},
   "outputs": [],
   "source": [
    "# Convertir l'index en type date { Les données sont trimestriels}\n",
    "gdp_filter_sort.index = pd.to_datetime(gdp_filter_sort.index)\n",
    "\n",
    "# Afficher le DataFrame\n",
    "print(gdp_filter_sort)"
   ]
  },
  {
   "cell_type": "code",
   "execution_count": null,
   "metadata": {},
   "outputs": [],
   "source": [
    "plt.figure(figsize=(15, 8))\n",
    "\n",
    "for col in gdp_filter_sort.columns:\n",
    "    plt.plot(gdp_filter_sort.index, gdp_filter_sort[col], label=col, alpha=0.7)\n",
    "\n",
    "# Ajouter des titres et une légende\n",
    "plt.title('Séries temporelles pour chaque colonne de la DataFrame')\n",
    "plt.xlabel('Date')\n",
    "plt.ylabel('Valeur')\n",
    "plt.legend(loc='upper left', bbox_to_anchor=(1, 1))\n",
    "\n",
    "# Faire pivoter les étiquettes de l'axe des x\n",
    "plt.xticks(rotation=45, ha='right')\n",
    "\n",
    "# Afficher le graphique\n",
    "plt.tight_layout()\n",
    "plt.show()\n"
   ]
  },
  {
   "cell_type": "markdown",
   "metadata": {},
   "source": [
    "# Imputation "
   ]
  },
  {
   "cell_type": "code",
   "execution_count": null,
   "metadata": {},
   "outputs": [],
   "source": [
    "# Imputation des valeurs manquantes NA par interpolation\n",
    "\n",
    "# Interpolation linéaire :\n",
    "\n",
    "# gdp_filter_sort.interpolate(method='linear', limit=None)\n",
    "\n",
    "# Interpolation polynômiale d'ordre 3 :\n",
    "\n",
    "# gdp_filter_sort.interpolate(method='polynomial', order=3, limit=None)\n",
    "              \n",
    "gdp_no_na = gdp_filter_sort.fillna(gdp_filter_sort.mean())"
   ]
  },
  {
   "cell_type": "markdown",
   "metadata": {},
   "source": [
    "# Valeurs abérrantes "
   ]
  },
  {
   "cell_type": "code",
   "execution_count": null,
   "metadata": {},
   "outputs": [],
   "source": [
    "# Les valeurs abérrantes \n",
    "\"\"\"plt.figure(figsize=(10, 6))\n",
    "sns.boxplot(data=gdp_no_na)\n",
    "plt.title('Boîtes à moustaches des séries temporelles')\n",
    "plt.show()\"\"\""
   ]
  },
  {
   "cell_type": "code",
   "execution_count": null,
   "metadata": {},
   "outputs": [],
   "source": [
    "gdp_no_na.index = pd.to_datetime(gdp_no_na.index, format='%Y-%m')\n",
    "\n",
    "# Grouper par année et vérifier si tous les trimestres sont présents\n",
    "gdp_no_na = gdp_no_na.groupby(gdp_no_na.index.year).filter(lambda x: len(x) == 4)\n",
    "gdp_no_na = pd.DataFrame(gdp_no_na)\n",
    "gdp_no_na.head(5)"
   ]
  },
  {
   "cell_type": "code",
   "execution_count": null,
   "metadata": {},
   "outputs": [],
   "source": [
    "%pip install tensorflow==2.7.0 \n",
    "%pip install scikit-learn"
   ]
  },
  {
   "cell_type": "code",
   "execution_count": null,
   "metadata": {},
   "outputs": [],
   "source": [
    "# Fusionner les DataFrames sur l'index en utilisant une jointure interne (how='inner')\n",
    "common_columns = rate_quart.columns.intersection(gdp_no_na.columns) # Pour garder uniquement les colonnes présentes dans les deux DF\n",
    "merged= pd.merge(rate_quart[common_columns], gdp_no_na[common_columns], left_index=True, right_index=True, how='inner' )\n",
    "merged.head(5)"
   ]
  },
  {
   "cell_type": "code",
   "execution_count": null,
   "metadata": {},
   "outputs": [],
   "source": [
    "print(rate_quart.index)\n",
    "print(gdp_no_na.index)\n",
    "print(rate_quart.index.equals(gdp_no_na.index))"
   ]
  },
  {
   "cell_type": "code",
   "execution_count": null,
   "metadata": {},
   "outputs": [],
   "source": [
    "mean_rate = pd.DataFrame(rate_quart.mean(), columns=['Taux de chomage'])\n",
    "mean_gdp = pd.DataFrame(gdp_no_na.mean(), columns=['PIB'])\n",
    "merged_mean= pd.merge(mean_rate, mean_gdp, left_index=True, right_index=True, how='inner')"
   ]
  },
  {
   "cell_type": "markdown",
   "metadata": {},
   "source": [
    "# III. Education"
   ]
  },
  {
   "cell_type": "markdown",
   "metadata": {},
   "source": [
    "# Importation "
   ]
  },
  {
   "cell_type": "code",
   "execution_count": null,
   "metadata": {},
   "outputs": [],
   "source": [
    "educ=pd.read_excel(\"C:/Users/yousr/Downloads/Projet_py/BIg_data.xlsx\", sheet_name='HNP_StatsData', header=1, index_col=0)\n",
    "educ.head(5)\n",
    "col_names=educ.columns\n",
    "print(col_names)"
   ]
  },
  {
   "cell_type": "markdown",
   "metadata": {},
   "source": [
    "# Life Expectancy"
   ]
  },
  {
   "cell_type": "code",
   "execution_count": null,
   "metadata": {},
   "outputs": [],
   "source": [
    "masque = educ['Indicator Name'].str.contains('expectancy', case=False) & educ['Indicator Name'].str.contains('total', case=False)\n",
    "# Appliquez le masque pour obtenir un nouveau DataFrame avec les lignes filtrées\n",
    "educ_LE = educ[masque]"
   ]
  },
  {
   "cell_type": "code",
   "execution_count": null,
   "metadata": {},
   "outputs": [],
   "source": [
    "# Filtrer les colonnes qui contiennent des années ou les noms des pays\n",
    "cols_to_keep = educ_LE.columns[educ_LE.columns.str.contains(r'\\d{4}|Indicator Name')]\n",
    "\n",
    "# Créer un nouveau DataFrame avec les colonnes filtrées\n",
    "educ_LE_col = educ_LE[cols_to_keep]\n",
    "print(educ_LE_col)"
   ]
  },
  {
   "cell_type": "code",
   "execution_count": null,
   "metadata": {},
   "outputs": [],
   "source": [
    "educ_LE_col = educ_LE_col.drop(columns=\"Indicator Name\")\n",
    "mean_LE = educ_LE_col.mean(axis=1)"
   ]
  },
  {
   "cell_type": "code",
   "execution_count": null,
   "metadata": {},
   "outputs": [],
   "source": [
    "mean_LE =mean_LE.to_frame(name='Life Expectancy')"
   ]
  },
  {
   "cell_type": "markdown",
   "metadata": {},
   "source": [
    "# Population growth rate"
   ]
  },
  {
   "cell_type": "code",
   "execution_count": null,
   "metadata": {},
   "outputs": [],
   "source": [
    "masque1 = educ['Indicator Name'].str.contains('Population growth ', case=False)\n",
    "educ_PGR = educ[masque1]"
   ]
  },
  {
   "cell_type": "code",
   "execution_count": null,
   "metadata": {},
   "outputs": [],
   "source": [
    "# Filtrer les colonnes qui contiennent des années ou les noms des pays\n",
    "cols_to_keep1 = educ_PGR.columns[educ_PGR.columns.str.contains(r'\\d{4}|Indicator Name')]\n",
    "\n",
    "# Créer un nouveau DataFrame avec les colonnes filtrées\n",
    "educ_PGR_filter1 = educ_PGR[cols_to_keep1]\n",
    "print(educ_PGR_filter1)"
   ]
  },
  {
   "cell_type": "code",
   "execution_count": null,
   "metadata": {},
   "outputs": [],
   "source": [
    "unique = educ_PGR_filter1['Indicator Name'].unique()\n",
    "print(unique)\n",
    "\n",
    "# On souhaite garder que le taux de croissance de la population totale\n",
    "\n",
    "# Par élimination successive\n",
    "# On garde les lignes où il y a le taux de croissance du milieu hors que urbain\n",
    "masque2 = educ_PGR_filter1['Indicator Name'].str.contains('urban', case=False)\n",
    "masque2_inverse= ~masque2 # Récupérer les lignes qui ne vérifient pas le masque\n",
    "educ_PGR_filter2 = educ_PGR_filter1[masque2_inverse]\n",
    "\n",
    "# On garde les lignes où il y a le taux de croissance du milieu hors que rural\n",
    "masque3 = educ_PGR_filter2['Indicator Name'].str.contains('rural', case=False)\n",
    "masque3_inverse = ~masque3\n",
    "educ_PGR_filter3 = educ_PGR_filter2[masque3_inverse]"
   ]
  },
  {
   "cell_type": "code",
   "execution_count": null,
   "metadata": {},
   "outputs": [],
   "source": [
    "educ_PGR_filter3  = educ_PGR_filter3.drop(columns=\"Indicator Name\")\n",
    "mean_PGR = educ_PGR_filter3.mean(axis=1)"
   ]
  },
  {
   "cell_type": "code",
   "execution_count": null,
   "metadata": {},
   "outputs": [],
   "source": [
    "mean_PGR=mean_PGR .to_frame(name='Life Expectancy')"
   ]
  },
  {
   "cell_type": "markdown",
   "metadata": {},
   "source": [
    "# IV. GMD Inégalités"
   ]
  },
  {
   "cell_type": "markdown",
   "metadata": {},
   "source": [
    "# Importation des packages"
   ]
  },
  {
   "cell_type": "code",
   "execution_count": null,
   "metadata": {},
   "outputs": [],
   "source": [
    "import pycodestyle as pep8\n",
    "import openpyxl as xl\n",
    "import numpy as np\n",
    "import pandas as pd\n",
    "import matplotlib.pyplot as plt\n",
    "import pycountry\n",
    "np.random.seed(123)"
   ]
  },
  {
   "cell_type": "markdown",
   "metadata": {},
   "source": [
    "# Importation de la BD"
   ]
  },
  {
   "cell_type": "code",
   "execution_count": null,
   "metadata": {},
   "outputs": [],
   "source": [
    "# Gini Mean Difference\n",
    "gmd=pd.read_excel(\"C:/Users/yousr/Downloads/Projet_py/inequality GMD World Bank.xlsx\",  sheet_name='data', index_col=0)\n",
    "gmd.head(5)\n",
    "col_names=gmd.columns\n",
    "print(col_names)"
   ]
  },
  {
   "cell_type": "markdown",
   "metadata": {},
   "source": [
    "# Extraction des colonnes nécessaires"
   ]
  },
  {
   "cell_type": "code",
   "execution_count": null,
   "metadata": {},
   "outputs": [],
   "source": [
    "# Base de données de l'indice Theil\n",
    "theil = gmd.pivot(index='year', columns='countryname', values='index')\n",
    "theil.head(5)"
   ]
  },
  {
   "cell_type": "code",
   "execution_count": null,
   "metadata": {},
   "outputs": [],
   "source": [
    "# La moyenne de l'indice de theil sur toutes les périodes\n",
    "mean_theil = theil.mean(axis=0) "
   ]
  },
  {
   "cell_type": "code",
   "execution_count": null,
   "metadata": {},
   "outputs": [],
   "source": [
    "# Base de données du taux d'urbanisation\n",
    "urban = gmd.pivot(index='year', columns='countryname', values='sp_urb_totl_in_zs')\n",
    "urban.head(5)"
   ]
  },
  {
   "cell_type": "code",
   "execution_count": null,
   "metadata": {},
   "outputs": [],
   "source": [
    "# La moyenne du taux d'urbanisation sur toutes les périodes\n",
    "mean_urban = urban.mean(axis=0)"
   ]
  },
  {
   "cell_type": "code",
   "execution_count": null,
   "metadata": {},
   "outputs": [],
   "source": [
    "# Base de données du ratio de pauvreté\n",
    "poverty = gmd.pivot(index='year', columns='countryname', values='si_pov_lmic')\n",
    "poverty.head(5)"
   ]
  },
  {
   "cell_type": "code",
   "execution_count": null,
   "metadata": {},
   "outputs": [],
   "source": [
    "# La moyenne du ratio de pauvreté sur toutes les périodes\n",
    "mean_poverty = poverty.mean(axis=0)"
   ]
  },
  {
   "cell_type": "code",
   "execution_count": null,
   "metadata": {},
   "outputs": [],
   "source": [
    "# Dans pandas, une Df à une colonne correspond à une série. On donne un nom à chaque série pour une éventuelle jointure\n",
    "mean_poverty.name = 'Ratio de pauvreté'\n",
    "mean_urban.name = \"Taux urbanisation\"\n",
    "mean_theil.name = 'Theil'"
   ]
  },
  {
   "cell_type": "markdown",
   "metadata": {},
   "source": [
    "# Jointure "
   ]
  },
  {
   "cell_type": "code",
   "execution_count": null,
   "metadata": {},
   "outputs": [],
   "source": [
    "# Jointure entre df1 et df2 sur la colonne \"countryname\"\n",
    "merged1 = pd.merge(mean_poverty, mean_urban, on='countryname', how='inner')\n",
    "# Jointure entre le résultat précédent (merged_df) et df3 sur la colonne \"countryname\"\n",
    "final_merged1 = pd.merge(merged1, mean_theil, on='countryname', how='inner')"
   ]
  },
  {
   "cell_type": "code",
   "execution_count": null,
   "metadata": {},
   "outputs": [],
   "source": [
    "# Dans pandas, une Df à une colonne correspond à une série. On donne un nom à chaque série pour une éventuelle jointure\n",
    "mean_LE.name = 'Espérance de vie'\n",
    "mean_PGR.name = \"Croissance démo\""
   ]
  },
  {
   "cell_type": "code",
   "execution_count": null,
   "metadata": {},
   "outputs": [],
   "source": [
    "final_merged1.index.name = 'Country Name'  ####################################################################################\n",
    "mean_LE.index.name = 'Country Name'\n",
    "mean_PGR.index.name = 'Country Name'\n",
    "merged_mean.index.name = 'Country Name'"
   ]
  },
  {
   "cell_type": "code",
   "execution_count": null,
   "metadata": {},
   "outputs": [],
   "source": [
    "# Jointure entre df1 et df2 sur la colonne \"countryname\"\n",
    "merged2 = pd.merge(final_merged1, mean_PGR, on='Country Name', how='inner')\n",
    "# Jointure entre le résultat précédent (merged_df) et df3 sur la colonne \"countryname\"\n",
    "merged3 = pd.merge(merged2, mean_LE, on='Country Name', how='inner')"
   ]
  },
  {
   "cell_type": "markdown",
   "metadata": {},
   "source": [
    "# Transposé de merged3"
   ]
  },
  {
   "cell_type": "code",
   "execution_count": null,
   "metadata": {},
   "outputs": [],
   "source": [
    "merged3_transpose = merged3.transpose()\n",
    "col_names = merged3_transpose.columns\n",
    "merged3_transpose.head(5)"
   ]
  },
  {
   "cell_type": "markdown",
   "metadata": {},
   "source": [
    "# Code ISO des pays"
   ]
  },
  {
   "cell_type": "code",
   "execution_count": null,
   "metadata": {},
   "outputs": [],
   "source": [
    "# Pour faciliter la lecture de la DF, on remplace les noms des pays par leurs codes ISO  correspondant\n",
    "\n",
    "# Dictionnaire de correspondance entre noms complets des pays et leurs codes\n",
    "corresp = {country.name: country.alpha_3 for country in pycountry.countries}\n",
    "\n",
    "# Liste initiale des noms complets des colonnes\n",
    "country = col_names\n",
    "# Transformation des noms complets des colonnes en abréviations\n",
    "country_codes = [corresp.get(pays, pays) for pays in country]\n",
    "\n",
    "# Remplacement des noms des pays par leurs codes dans la merged\n",
    "merged3_transpose.columns=country_codes\n",
    "merged3_transpose.columns\n",
    "merged3_transpose.head(5)\n",
    "\n",
    "#Ordre alphabétique des colonnes \n",
    "merged3_transpose_sort= merged3_transpose.sort_index(axis=1)\n",
    "merged3_transpose_sort.head(5)"
   ]
  },
  {
   "cell_type": "code",
   "execution_count": null,
   "metadata": {},
   "outputs": [],
   "source": [
    "merged4=merged3_transpose.transpose()\n",
    "merged4.index.name= 'Country Name'\n",
    "merged4.head(5)"
   ]
  },
  {
   "cell_type": "code",
   "execution_count": null,
   "metadata": {},
   "outputs": [],
   "source": [
    "final_merged= pd.merge(merged4, merged_mean, on='Country Name', how='inner')"
   ]
  }
 ],
 "metadata": {
  "kernelspec": {
   "display_name": "Python 3",
   "language": "python",
   "name": "python3"
  },
  "language_info": {
   "codemirror_mode": {
    "name": "ipython",
    "version": 3
   },
   "file_extension": ".py",
   "mimetype": "text/x-python",
   "name": "python",
   "nbconvert_exporter": "python",
   "pygments_lexer": "ipython3",
   "version": "3.11.4"
  }
 },
 "nbformat": 4,
 "nbformat_minor": 2
}

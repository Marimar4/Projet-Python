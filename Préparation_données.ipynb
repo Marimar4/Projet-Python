{
 "cells": [
  {
   "cell_type": "markdown",
   "metadata": {},
   "source": [
    " <div style=\"text-align:center;\">\n",
    "  # <span style=\"color:green; font-size:larger; font-weight:bold;\">Vérification de la loi d'Okun dans plusieurs pays du monde</span><br><br>\n",
    "  <span style=\"font-weight:bold;\">Présenté par:</span><br>\n",
    "  <span>NOUBOUSSI GNINTEDEM LUCIE MARIMAR</span><br>\n",
    "  <span>YOUSRA JEDDOUB</span> <br>\n",
    "  <span>AMINA MANSEUR</span>\n",
    "</div>\n"
   ]
  }
,
  {
   "cell_type": "markdown",
   "metadata": {},
   "source": [
    "<span style=\"color:green; font-size:larger; font-weight:bold;\">INTRODUCTION</span>"
   ]
  },
  {
   "cell_type": "markdown",
   "metadata": {},
   "source": [
    "FAIRE UNE INTRODCUTION"
   ]
  },
  {
   "cell_type": "markdown",
   "metadata": {},
   "source": [
    "# <span style=\"color:green\">I- Importation et installation des packages</span>"
   ]
  },
  {
   "cell_type": "code",
   "execution_count": 2,
   "metadata": {},
   "outputs": [],
   "source": [
    "import importlib\n",
    "import monmodule.declarations as d"
   ]
  },
  {
   "cell_type": "code",
   "execution_count": null,
   "metadata": {},
   "outputs": [],
   "source": [

    "d."
   ]
  },
  
  {
   "cell_type": "markdown",
   "metadata": {},
   "source": [
    "# <span style=\"color:green; \">II- Construction de la base de données</span>"
   ]
  },
  {
   "cell_type": "markdown",
   "metadata": {},
   "source": [
    "il faut faire une explication de toutes lés étapes que nous allons faire pour constituer notre base "
   ]
  },
  {
   "cell_type": "markdown",
   "metadata": {},
   "source": [
    "## <span style=\"color:green; text-align:center;\">II-1 Importation de la base GemDataEXTR.Zip via son url de téléchargement</span>"
   ]
  },
  {
   "cell_type": "code",
   "execution_count": null,
   "metadata": {},
   "outputs": [],
   "source": [
    "url = \"https://datacatalogfiles.worldbank.org/ddh-published/0037798/DR0092042/GemDataEXTR.zip?\"\n",
    "f_load(url,\"GemDataEXTR.zip\")"
   ]
  },
  {
   "cell_type": "code",
   "execution_count": 174,
   "metadata": {},
   "outputs": [],
   "source": [
    "# Choix des fichiers à extraire\n",
    "\n",
    "nom_fichiers=[ ('Unemployment Rate, seas. adj..xlsx', 'monthly'),\n",
    "              ('GDP Deflator at Market Prices, LCU.xlsx', 'quarterly')\n",
    "]\n",
    "\n",
    "# Extraction des bases dans la mémoire: chomage et PIB déflaté\n",
    "df_Unemployement, df_GDP= [f_extraire_fichier_zip('GemDataEXTR.zip', nom_fichier, nom_feuille)\n",
    "                           for nom_fichier, nom_feuille in nom_fichiers]"
   ]
  },
  {
   "cell_type": "markdown",
   "metadata": {},
   "source": [
    "L'extraction des données sur le taux de chômage et le PIB déflaté par pays est désormais complète. <br>\n",
    "Dans la prochaine étape, nous procéderons à une exploration rapide de ces données et les fusionnerons pour une analyse plus approfondie.\n"
   ]
  },
  {
   "cell_type": "markdown",
   "metadata": {},
   "source": [
    "### <span style=\"color:green; text-align:center;\">II-1-1 Préparation des bases avant fusion</span>"
   ]
  },
  {
   "cell_type": "markdown",
   "metadata": {},
   "source": [
    "#### <span style=\"color:green; text-align:center;\">II-1-1-1 Base taux de chômage</span>"
   ]
  },
  {
   "cell_type": "code",
   "execution_count": null,
   "metadata": {},
   "outputs": [],
   "source": [
    "df_Unemployement.head()"
   ]
  },
  {
   "cell_type": "code",
   "execution_count": null,
   "metadata": {},
   "outputs": [],
   "source": [
    "#type des données\n",
    "df_Unemployement.info()"
   ]
  },
  {
   "cell_type": "markdown",
   "metadata": {},
   "source": [
    "\n",
    "Le type de chaque variable est approprié et correspond aux types attendus."
   ]
  },
  {
   "cell_type": "markdown",
   "metadata": {},
   "source": [
    "##### Detections des doublons"
   ]
  },
  {
   "cell_type": "code",
   "execution_count": null,
   "metadata": {},
   "outputs": [],
   "source": [
    "#vérification des doublons\n",
    "print(\"Nombre total de doublons dans df_Unemployement :\", \n",
    "      df_Unemployement[df_Unemployement.duplicated()].shape[0])"
   ]
  },
  {
   "cell_type": "markdown",
   "metadata": {},
   "source": [
    "##### Corrections des noms des pays"
   ]
  },
  {
   "cell_type": "code",
   "execution_count": null,
   "metadata": {},
   "outputs": [],
   "source": [
    "# Appliquer la correction sur chaque colonne du DataFrame\n",
    "df_Unemployement.columns=f_correct_country_name(df_Unemployement.columns)"
   ]
  },
  {
   "cell_type": "code",
   "execution_count": null,
   "metadata": {},
   "outputs": [],
   "source": [
    "pays=detect_countries(df_Unemployement.columns)\n",
    "print(\"La liste des pays présents dans la base est la suivante: \\n \", pays)"
   ]
  },
  {
   "cell_type": "code",
   "execution_count": null,
   "metadata": {},
   "outputs": [],
   "source": [
    "print(\"Liste des colonnes qui sont dans la base et qui ne representent pas les pays\")\n",
    "list(set(df_Unemployement.columns) - set(pays))"
   ]
  },
  {
   "cell_type": "markdown",
   "metadata": {},
   "source": [
    "commentaire: La méthode n'a pas pu extraire tous les pays du fait de  leur nomenclature.<br> \n",
    "Ainsi, nous allons ajouter ceux de façon manuelle à la listes des pays déjà selectionnés."
   ]
  },
  {
   "cell_type": "code",
   "execution_count": null,
   "metadata": {},
   "outputs": [],
   "source": [
    "#listes des pays nonpris ne compte du fait de leur nomenclature\n",
    "#pays1=['Year','Venezuela, RB', 'Turkey', 'Korea, Rep.','Egypt, Arab Rep.',\n",
    "      'Taiwan, China','Hong Kong SAR, China']\n",
    "\n",
    "# conservation uniquement des pays dans la base \n",
    "#df_Unemployement=df_Unemployement[pays1+pays]"
   ]
  },
  {
   "cell_type": "markdown",
   "metadata": {},
   "source": [
    "##### Detections des valeurs manquantes"
   ]
  },
  {
   "cell_type": "code",
   "execution_count": null,
   "metadata": {},
   "outputs": [],
   "source": [
    "f_missing_plot(df_Unemployement)"

   ]
  },
  {
   "cell_type": "code",
   "execution_count": null,
   "metadata": {},
   "outputs": [],
   "source": [
    "# Visualisation des valeurs manquantes NA\n",
    "\n",
    "# Diagramme à barres des valeurs manquantes\n",
    "msno.bar(df_Unemployement)\n",
    "plt.show()\n",
    "# visualisation 2\n",
    "sns.heatmap(df_Unemployement.isna(), cbar=False)\n",
    "plt.show()"

   ]
  },
  {
   "cell_type": "markdown",
   "metadata": {},
   "source": [
    "Les données sont des séries temporelles.<br>\n",
    "Grâce à la visualisation 2, on constate que pour la plupart des pays,<br>\n",
    "les valeurs manquantes sont en début de periode d'obervation d'observation.<br>\n",
    "Ainsi, nous allons garder les pays avec au moins 60% des observations non manquantes."
   ]
  },
  {
   "execution_count": null,
   "metadata": {},
   "outputs": [],
   "source": [
    "# Suppression de certaines valeurs manquantes\n",
    "f_missing(df_Unemployement)"
   ]
  },
  {
   "cell_type": "code",
   "execution_count": null,
   "metadata": {},
   "outputs": [],
   "source": [
    "\n",
    "\n",
    "df_Unemployement.dropna(axis=1, thresh=len(df_Unemployement) * 0.6, inplace=True)\n",
    "\n",
    "(df_Unemployement.isna().sum() / len(df_Unemployement) * 100)[df_Unemployement.isna().any()].sort_values(ascending=False)"
   ]
  },
  {
   "cell_type": "code",
   "execution_count": null,
   "metadata": {},
   "outputs": [],
   "source": [
    "f_missing(df_Unemployement)"
   ]
  },
  {
   "cell_type": "markdown",
   "metadata": {},
   "source": [
    "#### Imputation des valeurs manquantes"
   ]
  },
  {
   "cell_type": "code",
   "execution_count": null,
   "metadata": {},
   "outputs": [],
   "source": [
    "df_Unemployement.head()"
   ]
  },
  {
   "cell_type": "code",
   "execution_count": 163,
   "metadata": {},
   "outputs": [
    {
     "data": {
      "text/html": [
       "<div>\n",
       "<style scoped>\n",
       "    .dataframe tbody tr th:only-of-type {\n",
       "        vertical-align: middle;\n",
       "    }\n",
       "\n",
       "    .dataframe tbody tr th {\n",
       "        vertical-align: top;\n",
       "    }\n",
       "\n",
       "    .dataframe thead th {\n",
       "        text-align: right;\n",
       "    }\n",
       "</style>\n",
       "<table border=\"1\" class=\"dataframe\">\n",
       "  <thead>\n",
       "    <tr style=\"text-align: right;\">\n",
       "      <th></th>\n",
       "      <th>Year</th>\n",
       "      <th>Italy</th>\n",
       "    </tr>\n",
       "  </thead>\n",
       "  <tbody>\n",
       "    <tr>\n",
       "      <th>2</th>\n",
       "      <td>1994M01</td>\n",
       "      <td>NaN</td>\n",
       "    </tr>\n",
       "    <tr>\n",
       "      <th>3</th>\n",
       "      <td>1994M02</td>\n",
       "      <td>NaN</td>\n",
       "    </tr>\n",
       "    <tr>\n",
       "      <th>4</th>\n",
       "      <td>1994M03</td>\n",
       "      <td>NaN</td>\n",
       "    </tr>\n",
       "    <tr>\n",
       "      <th>5</th>\n",
       "      <td>1994M04</td>\n",
       "      <td>NaN</td>\n",
       "    </tr>\n",
       "    <tr>\n",
       "      <th>6</th>\n",
       "      <td>1994M05</td>\n",
       "      <td>NaN</td>\n",
       "    </tr>\n",
       "    <tr>\n",
       "      <th>...</th>\n",
       "      <td>...</td>\n",
       "      <td>...</td>\n",
       "    </tr>\n",
       "    <tr>\n",
       "      <th>355</th>\n",
       "      <td>2023M06</td>\n",
       "      <td>7.353260</td>\n",
       "    </tr>\n",
       "    <tr>\n",
       "      <th>356</th>\n",
       "      <td>2023M07</td>\n",
       "      <td>7.657745</td>\n",
       "    </tr>\n",
       "    <tr>\n",
       "      <th>357</th>\n",
       "      <td>2023M08</td>\n",
       "      <td>7.180361</td>\n",
       "    </tr>\n",
       "    <tr>\n",
       "      <th>358</th>\n",
       "      <td>2023M09</td>\n",
       "      <td>7.337384</td>\n",
       "    </tr>\n",
       "    <tr>\n",
       "      <th>359</th>\n",
       "      <td>2023M1</td>\n",
       "      <td>NaN</td>\n",
       "    </tr>\n",
       "  </tbody>\n",
       "</table>\n",
       "<p>358 rows × 2 columns</p>\n",
       "</div>"
      ],
      "text/plain": [
       "        Year     Italy\n",
       "2    1994M01       NaN\n",
       "3    1994M02       NaN\n",
       "4    1994M03       NaN\n",
       "5    1994M04       NaN\n",
       "6    1994M05       NaN\n",
       "..       ...       ...\n",
       "355  2023M06  7.353260\n",
       "356  2023M07  7.657745\n",
       "357  2023M08  7.180361\n",
       "358  2023M09  7.337384\n",
       "359   2023M1       NaN\n",
       "\n",
       "[358 rows x 2 columns]"
      ]
     },
     "execution_count": 163,
     "metadata": {},
     "output_type": "execute_result"
    }
   ],
   "source": [
    "df_Unemployement[['Year','Italy']]"
   ]
  },
  {
   "cell_type": "code",
   "execution_count": 173,
   "metadata": {},
   "outputs": [
    {
     "name": "stdout",
     "output_type": "stream",
     "text": [
      "        Year     Italy\n",
      "0 1994-01-01       NaN\n",
      "1 1994-02-01       NaN\n",
      "2 1994-03-01       NaN\n",
      "3 1994-04-01       NaN\n",
      "4 1994-05-01       NaN\n",
      "5 2023-06-01  7.353260\n",
      "6 2023-07-01  7.657745\n",
      "7 2023-08-01  7.180361\n",
      "8 2023-09-01  7.337384\n",
      "9 2023-10-01  7.382188\n"
     ]
    }
   ],
   "source": [
    "import pandas as pd\n",
    "import numpy as np\n",
    "\n",
    "# Votre DataFrame\n",
    "df = pd.DataFrame({\n",
    "    'Year': ['1994M01', '1994M02', '1994M03', '1994M04', '1994M05', '2023M06', '2023M07', '2023M08', '2023M09', '2023M10'],\n",
    "    'Italy': [None, None, None, None, None, 7.353260, 7.657745, 7.180361, 7.337384, None]\n",
    "})\n",
    "\n",
    "# Convertir la colonne 'Year' en format de date\n",
    "df['Year'] = pd.to_datetime(df['Year'], format='%YM%m')\n",
    "\n",
    "# Définir 'Year' comme index pour faciliter la manipulation des périodes\n",
    "df.set_index('Year', inplace=True)\n",
    "\n",
    "# Remplir les NaN avec la moyenne des 10 années suivantes\n",
    "df['Italy'] = df['Italy'].fillna(df['Italy'].shift(1).rolling(window=10, min_periods=1).apply(lambda x: np.nanmean(x), raw=True))\n",
    "\n",
    "# Réinitialiser l'index si nécessaire\n",
    "df.reset_index(inplace=True)\n",
    "\n",
    "# Afficher le DataFrame mis à jour\n",
    "print(df)\n"
   ]
  },
  {
   "cell_type": "code",
   "execution_count": null,
   "metadata": {},
   "outputs": [],
   "source": [
    "\n",
    "## supression des deux premières lignes car nous allons commencer en 1994\n",
    "\n",
    "df_Unemployement=df_Unemployement.drop([df_Unemployement.index[0], df_Unemployement.index[1]])\n"
   ]
  },
  {
   "cell_type": "code",
   "execution_count": null,
   "metadata": {},
   "outputs": [],
   "source": [
    "import pandas as pd\n",
    "import numpy as np\n",
    "import matplotlib.pyplot as plt\n",
    "import statsmodels.api as sm\n",
    "\n",
    "# Générer une série temporelle avec du bruit\n",
    "np.random.seed(42)\n",
    "n_obs = 100\n",
    "epsilon = np.random.normal(size=n_obs)\n",
    "y = np.zeros(n_obs)\n",
    "\n",
    "for t in range(1, n_obs):\n",
    "    y[t] = 0.7 * y[t-1] + epsilon[t]\n",
    "\n",
    "# Afficher la série temporelle\n",
    "plt.plot(y)\n",
    "plt.title('Série temporelle avec du bruit')\n",
    "plt.show()\n",
    "\n",
    "# Ajuster un modèle ARMA(p, q)\n",
    "p, q = 1, 1\n",
    "model = sm.tsa.ARMA(y, order=(p, q))\n",
    "results = model.fit()\n",
    "\n",
    "# Afficher les résultats du modèle\n",
    "print(results.summary())\n",
    "\n",
    "# Prévoir les prochaines valeurs\n",
    "forecast_steps = 10\n",
    "forecast, stderr, conf_int = results.forecast(steps=forecast_steps)\n",
    "\n",
    "# Afficher les prévisions\n",
    "plt.plot(np.arange(n_obs), y, label='Observations')\n",
    "plt.plot(np.arange(n_obs, n_obs + forecast_steps), forecast, label='Prévisions')\n",
    "plt.fill_between(np.arange(n_obs, n_obs + forecast_steps), conf_int[:, 0], conf_int[:, 1], color='gray', alpha=0.2, label='Intervalle de confiance')\n",
    "plt.title('Prévisions avec un modèle ARMA')\n",
    "plt.legend()\n",
    "plt.show()\n"
   ]
  },
  {
   "cell_type": "markdown",
   "metadata": {},
   "source": [
    "# I- Base de données \"taux de chômage\""
   ]
  },
  {
   "cell_type": "markdown",
   "metadata": {},
   "source": [
    "## 1. Importation de la BD"
   ]
  },
  {
   "cell_type": "code",
   "execution_count": null,
   "metadata": {},
   "outputs": [],
   "source": [
    "rate=pd.read_excel(\"C:/Users/yousr/Downloads/Projet_py/Unemployment Rate.xlsx\", sheet_name='monthly' , index_col=0 )\n",
    "rate.head(5)\n",
    "rate.index = pd.to_datetime(rate.index,format='%YM%m')\n",
    "rate.index =rate.index.strftime('%Y-%m')"
   ]
  },
  {
   "cell_type": "code",
   "execution_count": null,
   "metadata": {},
   "outputs": [],
   "source": [
    "# Noms des colonnes\n",
    "col_names=rate.columns\n",
    "print(col_names)"
   ]
  },
  {
   "cell_type": "markdown",
   "metadata": {},
   "source": [
    "### a. Type de données"
   ]
  },
  {
   "cell_type": "code",
   "execution_count": null,
   "metadata": {},
   "outputs": [],
   "source": [
    "# Type de données de chaque colonne \n",
    "datas_type= rate.dtypes\n",
    "print(datas_type)  # Il s'agit de données de type float"
   ]
  },
  {
   "cell_type": "markdown",
   "metadata": {},
   "source": [
    "### b. Doublons"
   ]
  },
  {
   "cell_type": "code",
   "execution_count": null,
   "metadata": {},
   "outputs": [],
   "source": [
    "duplicates = rate[rate.duplicated()]\n",
    "duplicates.head(5) # 0 doublons dans notre DF"
   ]
  },
  {
   "cell_type": "markdown",
   "metadata": {},
   "source": [
    "### c. Erreurs de frappes pour la colonne index"
   ]
  },
  {
   "cell_type": "code",
   "execution_count": null,
   "metadata": {},
   "outputs": [],
   "source": [
    "rate.index = pd.to_datetime(rate.index, errors='coerce')\n",
    "errors = rate[rate.index.isnull()]\n",
    "errors.head(10) # Pas d'erreurs #########################################################################################"
   ]
  },
  {
   "cell_type": "markdown",
   "metadata": {},
   "source": [
    "## 2. Construction de DF"
   ]
  },
  {
   "cell_type": "code",
   "execution_count": null,
   "metadata": {},
   "outputs": [],
   "source": [
    "# Garder uniquement les pays dans la DF : Méthode search_fuzzy de pycountry ###############################################################\n",
    "\n",
    "def detect_countries(col_names):\n",
    "    countries_detected = []\n",
    "    \n",
    "    for name in col_names:\n",
    "        try:\n",
    "            # Essayer de trouver le pays par son nom\n",
    "            pays= pycountry.countries.search_fuzzy(name)[0]\n",
    "            countries_detected.append(pays.name)\n",
    "        except LookupError:\n",
    "            # Ignorer les noms qui ne correspondent à aucun pays\n",
    "            pass\n",
    "    \n",
    "    return countries_detected\n",
    "\n",
    "# Liste des pays detectés\n",
    "\n",
    "countries_detected = detect_countries(col_names)\n",
    "print(\"Noms de pays détectés :\", countries_detected)\n",
    "\n",
    "# Longeur des listes : countries_detected et col_names\n",
    "print(len(countries_detected))\n",
    "print(len(col_names))\n",
    "\n",
    "# Différence entre les deux listes pour obtenir les noms des colonnes ignorées par la fonction detect_countries\n",
    "#L'objectif est de vérifier si des pays ont été omis par la fonction detect_countries\n",
    "\n",
    "# Pays dans col_names et pas dans countries_detected\n",
    "diff= list(set(col_names) - set(countries_detected))\n",
    "print(diff) \n",
    "\n",
    "# Pays dans countries_detected et pas dans col_names\n",
    "diff2= list(set(countries_detected)- set(col_names))\n",
    "print(diff2)\n",
    "\n",
    "countries_omitted =['Korea, Rep.', 'Taiwan, China', 'Hong Kong SAR, China', 'Czech Republic', 'Egypt, Arab Rep.', 'Venezuela, RB'] ####################\"\"\n",
    "concat = countries_detected + countries_omitted \n",
    "\n",
    "# Enfin, la liste finale des pays à retenir dans la DF\n",
    "countries_detected =list(set(concat)- set(diff2))\n",
    "print(countries_detected)\n",
    "\n",
    "# La DF taux de chomage à retenir après avoir filtré les pays\n",
    "rate_filter= rate[countries_detected]\n",
    "rate_filter.columns"
   ]
  },
  {
   "cell_type": "code",
   "execution_count": null,
   "metadata": {},
   "outputs": [],
   "source": [
    "# Pour faciliter la lecture de la DF, on remplace les noms des pays par leurs codes ISO correspondant\n",
    "\n",
    "# Dictionnaire de correspondance entre noms complets des pays et leurs codes\n",
    "corresp = {country.name: country.alpha_3 for country in pycountry.countries}\n",
    "\n",
    "# Liste initiale des noms complets des colonnes\n",
    "country = countries_detected\n",
    "# Transformation des noms complets des colonnes en abréviations\n",
    "country_codes = [corresp.get(pays, pays) for pays in country]\n",
    "\n",
    "# Remplacement des noms des pays par leurs codes dans la merged\n",
    "rate_filter.columns=country_codes\n",
    "rate_filter.columns\n",
    "rate_filter.head(5)\n",
    "\n",
    "#Ordre alphabétique des colonnes \n",
    "rate_filter_sort= rate_filter.sort_index(axis=1)\n",
    "rate_filter_sort.head(5)"
   ]
  },
  {
   "cell_type": "markdown",
   "metadata": {},
   "source": [
    "### 2.1. Valeurs manquantes"
   ]
  },
  {
   "cell_type": "markdown",
   "metadata": {},
   "source": [
    "#### a. Visualisation des NA"
   ]
  },
  {
   "cell_type": "code",
   "execution_count": null,
   "metadata": {},
   "outputs": [],
   "source": [
    "# Visualisation des valeurs manquantes NA\n",
    "import missingno as msno\n",
    "# Diagramme à barres des valeurs manquantes\n",
    "msno.bar(rate_filter_sort)\n",
    "plt.show()"
   ]
  },
  {
   "cell_type": "markdown",
   "metadata": {},
   "source": [
    "#### b. Pourcentage des NA"
   ]
  },
  {
   "cell_type": "code",
   "execution_count": null,
   "metadata": {},
   "outputs": [],
   "source": [
    "# Calculer le pourcentage de valeurs manquantes dans chaque colonne\n",
    "size = rate_filter_sort.shape\n",
    "nan_sum = rate_filter_sort.isna().sum() # Total du nombre de NA par colonne\n",
    "nan_percent = nan_sum.sort_values(ascending=True) * 100 / size[0]\n",
    "print(nan_percent)"
   ]
  },
  {
   "cell_type": "markdown",
   "metadata": {},
   "source": [
    "#### c. Seuil des NA"
   ]
  },
  {
   "cell_type": "code",
   "execution_count": null,
   "metadata": {},
   "outputs": [],
   "source": [
    "# Récupérer les colonnes avec un pourcentage de valeurs manquantes supérieur à 40%\n",
    "cols_to_drop = nan_percent[nan_percent > 40].index\n",
    "print(cols_to_drop)\n",
    "\n",
    "# Supprimer les colonnes de la DataFrame\n",
    "rate_filter_sort.drop(cols_to_drop, axis=1, inplace=True)"
   ]
  },
  {
   "cell_type": "code",
   "execution_count": null,
   "metadata": {},
   "outputs": [],
   "source": [
    "# Type de données de chaque colonne \n",
    "data_type = rate_filter_sort.dtypes\n",
    "print(data_type) # Toutes les colonnes sont de type float64"
   ]
  },
  {
   "cell_type": "markdown",
   "metadata": {},
   "source": [
    "#### d. Imputation des valeurs manquantes"
   ]
  },
  {
   "cell_type": "code",
   "execution_count": null,
   "metadata": {},
   "outputs": [],
   "source": [
    "# Imputation des NA par une moyenne arithmétique simple\n",
    "rate_no_na = rate_filter_sort.fillna(rate_filter_sort.mean())"
   ]
  },
  {
   "cell_type": "markdown",
   "metadata": {},
   "source": [
    "### 2.2. Valeurs abérrantes"
   ]
  },
  {
   "cell_type": "code",
   "execution_count": null,
   "metadata": {},
   "outputs": [],
   "source": [
    "# Les valeurs abérrantes \n",
    "plt.figure(figsize=(10, 6))\n",
    "sns.boxplot(data=rate_no_na)\n",
    "plt.title('Boîtes à moustaches des séries temporelles')\n",
    "plt.show()"
   ]
  },
  {
   "cell_type": "markdown",
   "metadata": {},
   "source": [
    "### 2.3. Regroupement"
   ]
  },
  {
   "cell_type": "code",
   "execution_count": null,
   "metadata": {},
   "outputs": [],
   "source": [
    "rate_no_na.index = pd.to_datetime(rate_no_na.index, format='%Y-%m-%d')\n",
    "\n",
    "# Grouper par année et vérifier si tous les mois sont présents\n",
    "rate_12= rate_no_na.groupby(rate_no_na.index.year).filter(lambda x: len(x) == 12)\n",
    "rate_12= pd.DataFrame(rate_12)\n",
    "rate_12.head(5)"
   ]
  },
  {
   "cell_type": "code",
   "execution_count": null,
   "metadata": {},
   "outputs": [],
   "source": [
    "# Transformer les données mensuelles en données trimestrielles\n",
    "rate_quart = rate_12.resample('Q-JAN').mean()\n",
    "#print(rate_quart)"
   ]
  },
  {
   "cell_type": "code",
   "execution_count": null,
   "metadata": {},
   "outputs": [],
   "source": [
    "# Ignorer les jours dans l'index\n",
    "rate_quart.index =rate_quart.index.strftime('%Y-%m')"
   ]
  },
  {
   "cell_type": "markdown",
   "metadata": {},
   "source": [
    "## Output : Taux de chômage par trimestre pour chaque pays"
   ]
  },
  {
   "cell_type": "code",
   "execution_count": null,
   "metadata": {},
   "outputs": [],
   "source": [
    "rate_quart.head(5) #56 pays "
   ]
  },
  {
   "cell_type": "markdown",
   "metadata": {},
   "source": [
    "# II- Base de données \"PIB\""
   ]
  },
  {
   "cell_type": "markdown",
   "metadata": {},
   "source": [
    "## 1. Importation "
   ]
  },
  {
   "cell_type": "code",
   "execution_count": null,
   "metadata": {},
   "outputs": [],
   "source": [
    "# Importation du fichier .xlsx\n",
    "gdp=pd.read_excel(\"C:/Users/yousr/Downloads/Projet_py/GDP Deflator at Market Prices, LCU.xlsx\",  sheet_name='quarterly', index_col=0)\n",
    "gdp.head(5)\n",
    "gdp.index = pd.to_datetime(gdp.index)\n",
    "gdp.index =gdp.index.strftime('%Y-%m')"
   ]
  },
  {
   "cell_type": "code",
   "execution_count": null,
   "metadata": {},
   "outputs": [],
   "source": [
    "# Noms des colonnes\n",
    "col_names=gdp.columns\n",
    "print(col_names)"
   ]
  },
  {
   "cell_type": "markdown",
   "metadata": {},
   "source": [
    "### a. Type de données"
   ]
  },
  {
   "cell_type": "code",
   "execution_count": null,
   "metadata": {},
   "outputs": [],
   "source": [
    "# Type de données de chaque colonne \n",
    "datas_type= gdp.dtypes\n",
    "print(datas_type)  # Données de type float"
   ]
  },
  {
   "cell_type": "markdown",
   "metadata": {},
   "source": [
    "### b. Doublons"
   ]
  },
  {
   "cell_type": "code",
   "execution_count": null,
   "metadata": {},
   "outputs": [],
   "source": [
    "duplicates = gdp[gdp.duplicated()]\n",
    "duplicates.head(5) # 0 doublons dans notre gdp_no_na"
   ]
  },
  {
   "cell_type": "markdown",
   "metadata": {},
   "source": [
    "### c. Erreurs de frappes pour la colonne index"
   ]
  },
  {
   "cell_type": "code",
   "execution_count": null,
   "metadata": {},
   "outputs": [],
   "source": [
    "gdp.index = pd.to_datetime(gdp.index, errors='coerce')\n",
    "errors = gdp[gdp.index.isnull()]\n",
    "print(errors) # Pas d'erreurs"
   ]
  },
  {
   "cell_type": "markdown",
   "metadata": {},
   "source": [
    "## 2. Construction de la DF"
   ]
  },
  {
   "cell_type": "code",
   "execution_count": null,
   "metadata": {},
   "outputs": [],
   "source": [
    "# Garder uniquement les pays dans la gdp_filter_sort : Méthode search_fuzzy de pycountry ###############################################################\n",
    "\n",
    "def detect_countries(col_names):\n",
    "    countries_detected = []\n",
    "    \n",
    "    for name in col_names:\n",
    "        try:\n",
    "            # Essayer de trouver le pays par son nom\n",
    "            pays= pycountry.countries.search_fuzzy(name)[0]\n",
    "            countries_detected.append(pays.name)\n",
    "        except LookupError:\n",
    "            # Ignorer les noms qui ne correspondent à aucun pays\n",
    "            pass\n",
    "    \n",
    "    return countries_detected\n",
    "\n",
    "# Liste des pays detectés\n",
    "\n",
    "countries_detected = detect_countries(col_names)\n",
    "print(\"Noms de pays détectés :\", countries_detected)\n",
    "\n",
    "# Longeur des listes : countries_detected et col_names\n",
    "print(len(countries_detected))\n",
    "print(len(col_names))\n",
    "\n",
    "# Différence entre les deux listes pour obtenir les noms des colonnes ignorées par la fonction detect_countries\n",
    "#L'objectif est de vérifier si des pays ont été omis par la fonction detect_countries\n",
    "\n",
    "# Pays dans col_names et pas dans countries_detected\n",
    "diff= list(set(col_names) - set(countries_detected))\n",
    "print(diff) \n",
    "\n",
    "# Pays dans countries_detected et pas dans col_names\n",
    "diff2= list(set(countries_detected)- set(col_names))\n",
    "print(diff2)\n",
    "\n",
    "countries_omitted =['Korea, Rep.', 'Czech Republic', 'Taiwan, China', 'Bolivia', 'Hong Kong SAR, China', 'Egypt, Arab Rep.'] ####################\"\"\n",
    "concat = countries_detected + countries_omitted \n",
    "\n",
    "# Enfin, la liste finale des pays à retenir dans la gdp_filter_sort\n",
    "countries_detected =list(set(concat)- set(diff2))\n",
    "print(countries_detected)\n",
    "\n",
    "# La gdp_filter_sort taux de chomage à retenir\n",
    "gdp_filter= gdp[countries_detected]\n",
    "gdp_filter.columns\n"
   ]
  },
  {
   "cell_type": "code",
   "execution_count": null,
   "metadata": {},
   "outputs": [],
   "source": [
    "# Pour faciliter la lecture de la gdp_filter_sort, on remplace les noms des pays par leurs codes ISO  correspondant\n",
    "\n",
    "# Dictionnaire de correspondance entre noms complets des pays et leurs codes\n",
    "corresp = {country.name: country.alpha_3 for country in pycountry.countries}\n",
    "\n",
    "# Liste initiale des noms complets des colonnes\n",
    "country = countries_detected\n",
    "# Transformation des noms complets des colonnes en abréviations\n",
    "country_codes = [corresp.get(pays, pays) for pays in country]\n",
    "\n",
    "# Remplacement des noms des pays par leurs codes dans la gdp_filter_sort\n",
    "gdp_filter.columns=country_codes\n",
    "gdp_filter.columns\n",
    "gdp_filter.head(5)\n",
    "\n",
    "#Ordre alphabétique des colonnes \n",
    "gdp_filter_sort= gdp_filter.sort_index(axis=1)"
   ]
  },
  {
   "cell_type": "code",
   "execution_count": null,
   "metadata": {},
   "outputs": [],
   "source": [
    "gdp_filter_sort.head(5)"
   ]
  },
  {
   "cell_type": "code",
   "execution_count": null,
   "metadata": {},
   "outputs": [],
   "source": [
    "# Nombre de lignes d'une gdp_filter_sort\n",
    "count_rows= len(gdp_filter_sort)\n",
    "print(count_rows) #120 lignes soit 120 trimestres"
   ]
  },
  {
   "cell_type": "markdown",
   "metadata": {},
   "source": [
    "### 2.1. Valeurs manquantes"
   ]
  },
  {
   "cell_type": "markdown",
   "metadata": {},
   "source": [
    "#### a. Visualisation"
   ]
  },
  {
   "cell_type": "code",
   "execution_count": null,
   "metadata": {},
   "outputs": [],
   "source": [
    "# Diagramme à barres des valeurs manquantes\n",
    "msno.bar(gdp_filter_sort)\n",
    "plt.show()"
   ]
  },
  {
   "cell_type": "markdown",
   "metadata": {},
   "source": [
    "#### b. Pourcentage des NA"
   ]
  },
  {
   "cell_type": "code",
   "execution_count": null,
   "metadata": {},
   "outputs": [],
   "source": [
    "# Calculer le taux de valeurs manquantes\n",
    "size = gdp_filter_sort.shape\n",
    "nan_values = gdp_filter_sort.isna().sum()\n",
    "nan_percent = nan_values.sort_values(ascending=True) * 100 / size[0]\n",
    "print(nan_percent)"
   ]
  },
  {
   "cell_type": "markdown",
   "metadata": {},
   "source": [
    "#### c. Seuil des NA "
   ]
  },
  {
   "cell_type": "code",
   "execution_count": null,
   "metadata": {},
   "outputs": [],
   "source": [
    "# Récupérer les colonnes avec un pourcentage de valeurs manquantes supérieur à 40%\n",
    "cols_to_drop = nan_percent[nan_percent > 40].index\n",
    "print(cols_to_drop)\n",
    "\n",
    "# Supprimer les colonnes de la DataFrame\n",
    "gdp_filter_sort.drop(cols_to_drop, axis=1, inplace=True)"
   ]
  },
  {
   "cell_type": "code",
   "execution_count": null,
   "metadata": {},
   "outputs": [],
   "source": [
    "# Convertir l'index en type date { Les données sont trimestrielles pour le PIB }\n",
    "gdp_filter_sort.index = pd.to_datetime(gdp_filter_sort.index)\n",
    "\n",
    "# Afficher le DataFrame\n",
    "gdp_filter_sort.head(5)"
   ]
  },
  {
   "cell_type": "markdown",
   "metadata": {},
   "source": [
    "### 2.2. Plot"
   ]
  },
  {
   "cell_type": "code",
   "execution_count": null,
   "metadata": {},
   "outputs": [],
   "source": [
    "# Graphique de l'évolution du taux de croissance (PIB) par pays sur toute la période\n",
    "\n",
    "plt.figure(figsize=(15, 8))\n",
    "\n",
    "for col in gdp_filter_sort.columns:\n",
    "    plt.plot(gdp_filter_sort.index, gdp_filter_sort[col], label=col, alpha=0.7)\n",
    "\n",
    "# Ajouter des titres et une légende\n",
    "plt.title('Séries temporelles pour chaque colonne de la DataFrame')\n",
    "plt.xlabel('Date')\n",
    "plt.ylabel('Valeur')\n",
    "plt.legend(loc='upper left', bbox_to_anchor=(1, 1))\n",
    "\n",
    "# Faire pivoter les étiquettes de l'axe des x\n",
    "plt.xticks(rotation=45, ha='right')\n",
    "\n",
    "# Afficher le graphique\n",
    "plt.tight_layout()\n",
    "plt.show()\n"
   ]
  },
  {
   "cell_type": "markdown",
   "metadata": {},
   "source": [
    "### 2.3. Imputation "
   ]
  },
  {
   "cell_type": "code",
   "execution_count": null,
   "metadata": {},
   "outputs": [],
   "source": [
    "# Imputation des valeurs manquantes NA par interpolation\n",
    "\n",
    "# Interpolation linéaire :\n",
    "\n",
    "# gdp_filter_sort.interpolate(method='linear', limit=None)\n",
    "\n",
    "# Interpolation polynômiale d'ordre 3 :\n",
    "\n",
    "# gdp_filter_sort.interpolate(method='polynomial', order=3, limit=None)\n",
    "              \n",
    "gdp_no_na = gdp_filter_sort.fillna(gdp_filter_sort.mean())"
   ]
  },
  {
   "cell_type": "code",
   "execution_count": null,
   "metadata": {},
   "outputs": [],
   "source": [
    "# Ignorer les jours dans l'index\n",
    "gdp_no_na.index =gdp_no_na.index.strftime('%Y-%m')"
   ]
  },
  {
   "cell_type": "markdown",
   "metadata": {},
   "source": [
    "## Output : BD des taux de croissance par trimestre pour chaque pays"
   ]
  },
  {
   "cell_type": "code",
   "execution_count": null,
   "metadata": {},
   "outputs": [],
   "source": [
    "gdp_no_na.head(5) #72 pays"
   ]
  },
  {
   "cell_type": "markdown",
   "metadata": {},
   "source": [
    "### 2.4. Valeurs abérrantes "
   ]
  },
  {
   "cell_type": "code",
   "execution_count": null,
   "metadata": {},
   "outputs": [],
   "source": [
    "# Les valeurs abérrantes \n",
    "# plt.figure(figsize=(10, 6))\n",
    "\"\"\"sns.boxplot(data=gdp_no_na)\n",
    "plt.title('Boîtes à moustaches des séries temporelles')\n",
    "plt.show()\"\"\""
   ]
  },
  {
   "cell_type": "code",
   "execution_count": null,
   "metadata": {},
   "outputs": [],
   "source": [
    "# Définir l'index en tant que date\n",
    "gdp_no_na.index = pd.to_datetime(gdp_no_na.index, format='%Y-%m')\n",
    "\n",
    "# Grouper par année et vérifier si tous les trimestres sont présents\n",
    "gdp_no_na = gdp_no_na.groupby(gdp_no_na.index.year).filter(lambda x: len(x) == 4)\n",
    "gdp_no_na = pd.DataFrame(gdp_no_na)\n",
    "gdp_no_na.head(5)"
   ]
  },
  {
   "cell_type": "markdown",
   "metadata": {},
   "source": [
    "## 3. Jointure "
   ]
  },
  {
   "cell_type": "markdown",
   "metadata": {},
   "source": [
    "On réalise une jointure entre la Df contenant les taux de chomage et celle contenant les PIB par trimestre des différents pays"
   ]
  },
  {
   "cell_type": "code",
   "execution_count": null,
   "metadata": {},
   "outputs": [],
   "source": [
    "# S'assurer que l'index des deux tables est identique, ce dernier constitue notre clé de jointure\n",
    "print(rate_quart.index)\n",
    "print(gdp_no_na.index)\n",
    "print(rate_quart.index.equals(gdp_no_na.index))"
   ]
  },
  {
   "cell_type": "code",
   "execution_count": null,
   "metadata": {},
   "outputs": [],
   "source": [
    "# Fusionner les DataFrames sur l'index en utilisant une jointure interne (how='inner')\n",
    "common_columns = rate_quart.columns.intersection(gdp_no_na.columns)\n",
    "print(common_columns)\n",
    "display(rate_quart.head(1))\n",
    "display(gdp_no_na.head(1))"
   ]
  },
  {
   "cell_type": "code",
   "execution_count": null,
   "metadata": {},
   "outputs": [],
   "source": [
    "# Pour garder uniquement les colonnes présentes dans les deux DF\n",
    "merged= pd.merge(rate_quart[common_columns], gdp_no_na[common_columns], left_index=True, right_index=True, how='inner' )"
   ]
  },
  {
   "cell_type": "markdown",
   "metadata": {},
   "source": [
    "### 3.1. Output : Jointure taux de chomage/PIB"
   ]
  },
  {
   "cell_type": "code",
   "execution_count": null,
   "metadata": {},
   "outputs": [],
   "source": [
    "merged.head(5)"
   ]
  },
  {
   "cell_type": "markdown",
   "metadata": {},
   "source": [
    "### 3.3. Exportation de la jointure taux de chomage/PIB"
   ]
  },
  {
   "cell_type": "code",
   "execution_count": null,
   "metadata": {},
   "outputs": [],
   "source": [
    "# Exportation de la DF construite sous un fichier .xlsx\n",
    "merged.to_excel(\"Jointure_chomage_pib.xlsx\", index=True)"
   ]
  },
  {
   "cell_type": "code",
   "execution_count": null,
   "metadata": {},
   "outputs": [],
   "source": [
    "# Le fichier .xlxs ainsi créee peut se lire normalement\n",
    "data = pd.read_excel(\"Jointure_chomage_pib.xlsx\")\n",
    "data.head()"
   ]
  },
  {
   "cell_type": "code",
   "execution_count": null,
   "metadata": {},
   "outputs": [],
   "source": [
    "#Exemple\n",
    "merged2 = merged[['ARG_x', 'ARG_y']]\n",
    "merged2.head()"
   ]
  },
  {
   "cell_type": "markdown",
   "metadata": {},
   "source": [
    "### 3.3. Jointure entre taux de chomage et PIB moyen sur toute la période"
   ]
  },
  {
   "cell_type": "code",
   "execution_count": null,
   "metadata": {},
   "outputs": [],
   "source": [
    "mean_rate = pd.DataFrame(rate_quart.mean(), columns=['Taux de chomage'])\n",
    "mean_gdp = pd.DataFrame(gdp_no_na.mean(), columns=['PIB'])\n",
    "merged_mean= pd.merge(mean_rate, mean_gdp, left_index=True, right_index=True, how='inner')"
   ]
  },
  {
   "cell_type": "markdown",
   "metadata": {},
   "source": [
    "## Output "
   ]
  },
  {
   "cell_type": "code",
   "execution_count": null,
   "metadata": {},
   "outputs": [],
   "source": [
    "merged_mean.head(5)"
   ]
  },
  {
   "cell_type": "markdown",
   "metadata": {},
   "source": [
    "# III- Education"
   ]
  },
  {
   "cell_type": "markdown",
   "metadata": {},
   "source": [
    "## 1. Importation "
   ]
  },
  {
   "cell_type": "code",
   "execution_count": null,
   "metadata": {},
   "outputs": [],
   "source": [
    "educ=pd.read_excel(\"C:/Users/yousr/Downloads/Projet_py/BIg_data.xlsx\", sheet_name='HNP_StatsData', header=1, index_col=0)\n",
    "educ.head(5)\n",
    "col_names=educ.columns\n",
    "print(col_names)"
   ]
  },
  {
   "cell_type": "markdown",
   "metadata": {},
   "source": [
    "# Life Expectancy"
   ]
  },
  {
   "cell_type": "code",
   "execution_count": null,
   "metadata": {},
   "outputs": [],
   "source": [
    "masque = educ['Indicator Name'].str.contains('expectancy', case=False) & educ['Indicator Name'].str.contains('total', case=False)\n",
    "# Appliquez le masque pour obtenir un nouveau DataFrame avec les lignes filtrées\n",
    "educ_LE = educ[masque]"
   ]
  },
  {
   "cell_type": "code",
   "execution_count": null,
   "metadata": {},
   "outputs": [],
   "source": [
    "# Filtrer les colonnes qui contiennent des années ou les noms des pays\n",
    "cols_to_keep = educ_LE.columns[educ_LE.columns.str.contains(r'\\d{4}|Indicator Name')]\n",
    "\n",
    "# Créer un nouveau DataFrame avec les colonnes filtrées\n",
    "educ_LE_col = educ_LE[cols_to_keep]\n",
    "print(educ_LE_col)"
   ]
  },
  {
   "cell_type": "code",
   "execution_count": null,
   "metadata": {},
   "outputs": [],
   "source": [
    "educ_LE_col = educ_LE_col.drop(columns=\"Indicator Name\")\n",
    "mean_LE = educ_LE_col.mean(axis=1)"
   ]
  },
  {
   "cell_type": "code",
   "execution_count": null,
   "metadata": {},
   "outputs": [],
   "source": [
    "mean_LE =mean_LE.to_frame(name='Life Expectancy')"
   ]
  },
  {
   "cell_type": "markdown",
   "metadata": {},
   "source": [
    "# Population growth rate"
   ]
  },
  {
   "cell_type": "code",
   "execution_count": null,
   "metadata": {},
   "outputs": [],
   "source": [
    "masque1 = educ['Indicator Name'].str.contains('Population growth ', case=False)\n",
    "educ_PGR = educ[masque1]"
   ]
  },
  {
   "cell_type": "code",
   "execution_count": null,
   "metadata": {},
   "outputs": [],
   "source": [
    "# Filtrer les colonnes qui contiennent des années ou les noms des pays\n",
    "cols_to_keep1 = educ_PGR.columns[educ_PGR.columns.str.contains(r'\\d{4}|Indicator Name')]\n",
    "\n",
    "# Créer un nouveau DataFrame avec les colonnes filtrées\n",
    "educ_PGR_filter1 = educ_PGR[cols_to_keep1]\n",
    "print(educ_PGR_filter1)"
   ]
  },
  {
   "cell_type": "code",
   "execution_count": null,
   "metadata": {},
   "outputs": [],
   "source": [
    "unique = educ_PGR_filter1['Indicator Name'].unique()\n",
    "print(unique)\n",
    "\n",
    "# On souhaite garder que le taux de croissance de la population totale\n",
    "\n",
    "# Par élimination successive\n",
    "# On garde les lignes où il y a le taux de croissance du milieu hors que urbain\n",
    "masque2 = educ_PGR_filter1['Indicator Name'].str.contains('urban', case=False)\n",
    "masque2_inverse= ~masque2 # Récupérer les lignes qui ne vérifient pas le masque\n",
    "educ_PGR_filter2 = educ_PGR_filter1[masque2_inverse]\n",
    "\n",
    "# On garde les lignes où il y a le taux de croissance du milieu hors que rural\n",
    "masque3 = educ_PGR_filter2['Indicator Name'].str.contains('rural', case=False)\n",
    "masque3_inverse = ~masque3\n",
    "educ_PGR_filter3 = educ_PGR_filter2[masque3_inverse]"
   ]
  },
  {
   "cell_type": "code",
   "execution_count": null,
   "metadata": {},
   "outputs": [],
   "source": [
    "educ_PGR_filter3  = educ_PGR_filter3.drop(columns=\"Indicator Name\")\n",
    "mean_PGR = educ_PGR_filter3.mean(axis=1)"
   ]
  },
  {
   "cell_type": "code",
   "execution_count": null,
   "metadata": {},
   "outputs": [],
   "source": [
    "mean_PGR=mean_PGR .to_frame(name='Life Expectancy')"
   ]
  },
  {
   "cell_type": "markdown",
   "metadata": {},
   "source": [
    "# IV- GMD Inégalités"
   ]
  },
  {
   "cell_type": "markdown",
   "metadata": {},
   "source": [
    "## 1.  Importation"
   ]
  },
  {
   "cell_type": "code",
   "execution_count": null,
   "metadata": {},
   "outputs": [],
   "source": [
    "# Gini Mean Difference\n",
    "gmd=pd.read_excel(\"C:/Users/yousr/Downloads/Projet_py/inequality GMD World Bank.xlsx\",  sheet_name='data', index_col=0)\n",
    "gmd.head(5)\n",
    "col_names=gmd.columns\n",
    "print(col_names)"
   ]
  },
  {
   "cell_type": "markdown",
   "metadata": {},
   "source": [
    "## 2. Construction de la DF"
   ]
  },
  {
   "cell_type": "markdown",
   "metadata": {},
   "source": [
    "### 2.1. Extraction des colonnes nécessaires"
   ]
  },
  {
   "cell_type": "code",
   "execution_count": null,
   "metadata": {},
   "outputs": [],
   "source": [
    "# Base de données de l'indice Theil\n",
    "theil = gmd.pivot(index='year', columns='countryname', values='index')\n",
    "theil.head(5)"
   ]
  },
  {
   "cell_type": "code",
   "execution_count": null,
   "metadata": {},
   "outputs": [],
   "source": [
    "# La moyenne de l'indice de theil sur toutes les périodes\n",
    "mean_theil = theil.mean(axis=0) "
   ]
  },
  {
   "cell_type": "code",
   "execution_count": null,
   "metadata": {},
   "outputs": [],
   "source": [
    "# Base de données du taux d'urbanisation\n",
    "urban = gmd.pivot(index='year', columns='countryname', values='sp_urb_totl_in_zs')\n",
    "urban.head(5)"
   ]
  },
  {
   "cell_type": "code",
   "execution_count": null,
   "metadata": {},
   "outputs": [],
   "source": [
    "# La moyenne du taux d'urbanisation sur toutes les périodes\n",
    "mean_urban = urban.mean(axis=0)"
   ]
  },
  {
   "cell_type": "code",
   "execution_count": null,
   "metadata": {},
   "outputs": [],
   "source": [
    "# Base de données du ratio de pauvreté\n",
    "poverty = gmd.pivot(index='year', columns='countryname', values='si_pov_lmic')\n",
    "poverty.head(5)"
   ]
  },
  {
   "cell_type": "code",
   "execution_count": null,
   "metadata": {},
   "outputs": [],
   "source": [
    "# La moyenne du ratio de pauvreté sur toutes les périodes\n",
    "mean_poverty = poverty.mean(axis=0)"
   ]
  },
  {
   "cell_type": "code",
   "execution_count": null,
   "metadata": {},
   "outputs": [],
   "source": [
    "# Dans pandas, une Df à une colonne correspond à une série. On donne un nom à chaque série pour une éventuelle jointure\n",
    "mean_poverty.name = 'Ratio de pauvreté'\n",
    "mean_urban.name = \"Taux urbanisation\"\n",
    "mean_theil.name = 'Theil'"
   ]
  },
  {
   "cell_type": "markdown",
   "metadata": {},
   "source": [
    "## 2.2. Jointure "
   ]
  },
  {
   "cell_type": "code",
   "execution_count": null,
   "metadata": {},
   "outputs": [],
   "source": [
    "# Jointure entre df1 et df2 sur la colonne \"countryname\"\n",
    "merged1 = pd.merge(mean_poverty, mean_urban, on='countryname', how='inner')\n",
    "# Jointure entre le résultat précédent (merged_df) et df3 sur la colonne \"countryname\"\n",
    "final_merged1 = pd.merge(merged1, mean_theil, on='countryname', how='inner')"
   ]
  },
  {
   "cell_type": "code",
   "execution_count": null,
   "metadata": {},
   "outputs": [],
   "source": [
    "# Dans pandas, une Df à une colonne correspond à une série. On donne un nom à chaque série pour une éventuelle jointure\n",
    "mean_LE.name = 'Espérance de vie'\n",
    "mean_PGR.name = \"Croissance démo\""
   ]
  },
  {
   "cell_type": "code",
   "execution_count": null,
   "metadata": {},
   "outputs": [],
   "source": [
    "final_merged1.index.name = 'Country Name'  ####################################################################################\n",
    "mean_LE.index.name = 'Country Name'\n",
    "mean_PGR.index.name = 'Country Name'\n",
    "merged_mean.index.name = 'Country Name'"
   ]
  },
  {
   "cell_type": "code",
   "execution_count": null,
   "metadata": {},
   "outputs": [],
   "source": [
    "# Jointure entre df1 et df2 sur la colonne \"countryname\"\n",
    "merged2 = pd.merge(final_merged1, mean_PGR, on='Country Name', how='inner')\n",
    "# Jointure entre le résultat précédent (merged_df) et df3 sur la colonne \"countryname\"\n",
    "merged3 = pd.merge(merged2, mean_LE, on='Country Name', how='inner')"
   ]
  },
  {
   "cell_type": "markdown",
   "metadata": {},
   "source": [
    "# Transposé de merged3"
   ]
  },
  {
   "cell_type": "code",
   "execution_count": null,
   "metadata": {},
   "outputs": [],
   "source": [
    "merged3_transpose = merged3.transpose()\n",
    "col_names = merged3_transpose.columns\n",
    "merged3_transpose.head(5)"
   ]
  },
  {
   "cell_type": "markdown",
   "metadata": {},
   "source": [
    "# Code ISO des pays"
   ]
  },
  {
   "cell_type": "code",
   "execution_count": null,
   "metadata": {},
   "outputs": [],
   "source": [
    "# Pour faciliter la lecture de la DF, on remplace les noms des pays par leurs codes ISO  correspondant\n",
    "\n",
    "# Dictionnaire de correspondance entre noms complets des pays et leurs codes\n",
    "corresp = {country.name: country.alpha_3 for country in pycountry.countries}\n",
    "\n",
    "# Liste initiale des noms complets des colonnes\n",
    "country = col_names\n",
    "# Transformation des noms complets des colonnes en abréviations\n",
    "country_codes = [corresp.get(pays, pays) for pays in country]\n",
    "\n",
    "# Remplacement des noms des pays par leurs codes dans la merged\n",
    "merged3_transpose.columns=country_codes\n",
    "merged3_transpose.columns\n",
    "merged3_transpose.head(5)\n",
    "\n",
    "#Ordre alphabétique des colonnes \n",
    "merged3_transpose_sort= merged3_transpose.sort_index(axis=1)\n",
    "merged3_transpose_sort.head(5)"
   ]
  },
  {
   "cell_type": "code",
   "execution_count": null,
   "metadata": {},
   "outputs": [],
   "source": [
    "merged4=merged3_transpose.transpose()\n",
    "merged4.index.name= 'Country Name'\n",
    "merged4.head(5)"
   ]
  },
  {
   "cell_type": "code",
   "execution_count": null,
   "metadata": {},
   "outputs": [],
   "source": [
    "final_merged= pd.merge(merged4, merged_mean, on='Country Name', how='inner')"
   ]
  }
 ],
 "metadata": {
  "kernelspec": {
   "display_name": "Python 3",
   "language": "python",
   "name": "python3"
  },
  "language_info": {
   "codemirror_mode": {
    "name": "ipython",
    "version": 3
   },
   "file_extension": ".py",
   "mimetype": "text/x-python",
   "name": "python",
   "nbconvert_exporter": "python",
   "pygments_lexer": "ipython3",
   "version": "3.11.7"
  }
 },
 "nbformat": 4,
 "nbformat_minor": 2
}

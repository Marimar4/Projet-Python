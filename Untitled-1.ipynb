{
 "cells": [
  {
   "cell_type": "code",
   "execution_count": null,
   "metadata": {},
   "outputs": [],
   "source": [
    "import io \n",
    "from io import BytesIO \n",
    "import pycodestyle as pep8\n",
    "import zipfile\n",
    "import requests\n",
    "import openpyxl as xl\n",
    "import numpy as np\n",
    "import pandas as pd\n",
    "import matplotlib.pyplot as plt\n",
    "import pycountry\n",
    "import seaborn as sns\n",
    "import missingno as msno\n",
    "from statistics import *"
   ]
  },
  {
   "cell_type": "markdown",
   "metadata": {},
   "source": [
    " # I- Base de données \"taux de chômage\""
   ]
  },
  {
   "cell_type": "code",
   "execution_count": null,
   "metadata": {},
   "outputs": [],
   "source": [
    "## 1. Importation de la BD\n",
    "rate=pd.read_excel(\"C:/Users/yousr/Downloads/Projet_py/Unemployment Rate.xlsx\", sheet_name='monthly' , index_col=0 )\n",
    "rate.head(5)"
   ]
  },
  {
   "cell_type": "code",
   "execution_count": null,
   "metadata": {},
   "outputs": [],
   "source": [
    "rate.index = pd.to_datetime(rate.index,format='%YM%m')\n",
    "rate.index =rate.index.strftime('%Y-%m')\n",
    "# Noms des colonnes\n",
    "col_names=rate.columns\n",
    "print(col_names)"
   ]
  },
  {
   "cell_type": "code",
   "execution_count": null,
   "metadata": {},
   "outputs": [],
   "source": [
    "### a. Type de données\n",
    "# Type de données de chaque colonne \n",
    "datas_type= rate.dtypes\n",
    "print(datas_type)  # Il s'agit de données de type float\n",
    "### b. Doublons\n",
    "duplicates = rate[rate.duplicated()]\n",
    "duplicates.head(5) # 0 doublons dans notre DF\n",
    "### c. Erreurs de frappes pour la colonne index\n",
    "rate.index = pd.to_datetime(rate.index, errors='coerce')\n",
    "errors = rate[rate.index.isnull()]\n",
    "errors.head(10)"
   ]
  },
  {
   "cell_type": "code",
   "execution_count": null,
   "metadata": {},
   "outputs": [],
   "source": [
    "## 2. Construction de DF\n",
    "# Garder uniquement les pays dans la DF : Méthode search_fuzzy de pycountry ###############################################################\n",
    "\n",
    "def detect_countries(col_names):\n",
    "    countries_detected = []\n",
    "    \n",
    "    for name in col_names:\n",
    "        try:\n",
    "            # Essayer de trouver le pays par son nom\n",
    "            pays= pycountry.countries.search_fuzzy(name)[0]\n",
    "            countries_detected.append(pays.name)\n",
    "        except LookupError:\n",
    "            # Ignorer les noms qui ne correspondent à aucun pays\n",
    "            pass\n",
    "    \n",
    "    return countries_detected\n"
   ]
  }
 ],
 "metadata": {
  "kernelspec": {
   "display_name": "Python 3",
   "language": "python",
   "name": "python3"
  },
  "language_info": {
   "codemirror_mode": {
    "name": "ipython",
    "version": 3
   },
   "file_extension": ".py",
   "mimetype": "text/x-python",
   "name": "python",
   "nbconvert_exporter": "python",
   "pygments_lexer": "ipython3",
   "version": "3.11.7"
  }
 },
 "nbformat": 4,
 "nbformat_minor": 2
}

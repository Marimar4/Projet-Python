{
 "cells": [
  {
   "cell_type": "markdown",
   "metadata": {},
   "source": [
    " <div style=\"text-align:center;\">\n",
    "  <span style=\"color:green; font-size:2em; font-weight:bold;\">Modélisation</span><br><br>"
   ]
  },
  {
   "cell_type": "markdown",
   "metadata": {},
   "source": [
    "# <span style=\"color:green\">Introduction</span><br><br> "
   ]
  },
  {
   "cell_type": "markdown",
   "metadata": {},
   "source": [
    "### <span style=\"color:green\">Références et équations de base de la relation d'Okun</span><br><br> "
   ]
  },
  {
   "cell_type": "markdown",
   "metadata": {},
   "source": [
    "Dans cette partie, nous allons proposer une modélisation permettant de vérifier empiriquement la loi d'Okun, à partir des bases de données établies dans la partie \"Préparation_données.ipynb\".\n",
    "\n",
    "La loi d'Okun, indique que : \"chaque fois que le PIB chute d'un certain pourcentage, par rapport au produit potentiel, le taux de chômage augmente d'environ un point de pourcentage. Ainsi, lorsque le PIB réel diminue, le taux de chômage augmente.\" (Mankiw, 2003)\n",
    "\n",
    "Pour cette modélisation, on s'inspire des travaux suivants : \n",
    "\n",
    "- [1]. Traoré, D. L., Diakite, S., & Mariko, O. (2021). Croissance et chômage au Mali : Vérification empirique de la loi d'Okun. Revue Malienne de Science et de Technologie, Série C : Sciences Humaines et Sociales, 02(25), Page. ISSN 1987-1031. CNRST, Bamako, Mali.\n",
    "\n",
    "- [2]. Aassif, Z. L'extraction de la tendance cycle. Haut-Commissariat au Plan, Direction de la comptabilité nationale. \n",
    "\n",
    "- [3]. Belaidi, N. (2022, 28 mars). Validation croisée en Machine Learning. Consulté le  12 décembre 2023. URL : https://blent.ai/blog/a/validation-croisee-machine-learning.\n",
    "\n",
    "\n",
    "Le travail [1] nous présente deux équations de base de la relation d'Okun, la version en \"différences premières\" et la \"version gap\".\n",
    "\n",
    "- Version en \"différences premières\" : \n",
    "$$\\Delta u = C + \\beta\\Delta \\text{pib} + \\epsilon$$\n",
    "\n",
    "- \"Version gap\" : \n",
    "$$u - u^* = c + \\beta^*(\\text{pib} - \\text{pib}^*) + \\epsilon$$\n",
    "\n",
    "avec $u$ le taux de chômage, $u^*$ le taux de chômage naturel, $\\text{pib}^*$ le PIB potentiel et c, $\\beta$ et $\\epsilon$  des constantes à déterminer grâce à la modélisation. "
   ]
  },
  {
   "cell_type": "markdown",
   "metadata": {},
   "source": [
    "### <span style=\"color:green\">Equation et outils utilisés dans notre modélisation</span><br><br> "
   ]
  },
  {
   "cell_type": "markdown",
   "metadata": {},
   "source": [
    "Pour la modélisation, nous allons utiliser la version \"gap\", qui relie le taux de chômage et le PIB de la manière suivante : \n",
    "\n",
    "$$u - u^* = c + \\beta^*(\\text{pib} - \\text{pib}^*) + \\epsilon$$\n",
    "\n",
    "Pour extraire la tendance à long terme du taux de chômage et du PIB (c'est-à-dire, le taux de chômage naturel et le PIB potentiel), à partir de la base de données, nous allons utiliser le filtre de Hodrick-Prescott. Ce filtre est introduit dans [2], et permet de décomposer une série selon sa tendance à long terme et son cycle (fluctuations autour de la tendance) à plus court terme.\n",
    "\n",
    "Par ailleurs, pour prendre en compte la dynamique temporelle de nos données, nous allons utiliser le modèle ARDL (Auto Regressive Distributed Lag), introduit dans [2]."
   ]
  },
  {
   "cell_type": "markdown",
   "metadata": {},
   "source": [
    "### <span style=\"color:green\">Les différentes étapes de notre modélisation</span><br><br> \n"
   ]
  },
  {
   "cell_type": "markdown",
   "metadata": {},
   "source": [
    "Pour effectuer notre modélisation sur les données obtenues suite au traitement, nous allons tout d'abord regrouper les pays présents selon différents critères, grâce à la technique du clustering. \n",
    "Nous sélectionnerons un pays de manière aléatoire au sein de chaque groupe afin de vérifier la loi d'Okun (ou alors nous vérifierons la loi d'Okun pour chaque groupe après agrégation).\n",
    "\n",
    "(Par ailleurs, nous allons utiliser une méthode de validation croisée afin de valider notre modèle. Nous allons tout d'abord établir les paramètres du modèle grâce au jeu d'entrainement reprenant les données de 1994 à 2016 ; puis nous vérifierons la précision du modèle grâce au jeu de test reprenant les données de 2017 à 2023.\n"
   ]
  },
  {
   "cell_type": "markdown",
   "metadata": {},
   "source": [
    "# <span style=\"color:green\"> I- Extraction de la tendance à long terme du taux de chômage et du PIB</span><br><br> "
   ]
  },
  {
   "cell_type": "markdown",
   "metadata": {},
   "source": [
    "## <span style=\"color:green\"> Importation des bases de données</span><br><br> "
   ]
  },
  {
   "cell_type": "code",
   "execution_count": 12,
   "metadata": {},
   "outputs": [],
   "source": [
    "# Importation des packages\n",
    "import declarations as d "
   ]
  },
  {
   "cell_type": "code",
   "execution_count": 13,
   "metadata": {},
   "outputs": [],
   "source": [
    "# Base de données obtenue suite au nettoyage\n",
    "data = d.pd.read_csv('bases/final_data.csv', encoding='latin-1')"
   ]
  },
  {
   "cell_type": "code",
   "execution_count": 14,
   "metadata": {},
   "outputs": [
    {
     "data": {
      "text/html": [
       "<div>\n",
       "<style scoped>\n",
       "    .dataframe tbody tr th:only-of-type {\n",
       "        vertical-align: middle;\n",
       "    }\n",
       "\n",
       "    .dataframe tbody tr th {\n",
       "        vertical-align: top;\n",
       "    }\n",
       "\n",
       "    .dataframe thead th {\n",
       "        text-align: right;\n",
       "    }\n",
       "</style>\n",
       "<table border=\"1\" class=\"dataframe\">\n",
       "  <thead>\n",
       "    <tr style=\"text-align: right;\">\n",
       "      <th></th>\n",
       "      <th>YEAR</th>\n",
       "      <th>COUNTRY</th>\n",
       "      <th>Unemployment_rate</th>\n",
       "      <th>GDP_rate</th>\n",
       "      <th>life_expentancy</th>\n",
       "      <th>pop_growth_rate</th>\n",
       "    </tr>\n",
       "  </thead>\n",
       "  <tbody>\n",
       "    <tr>\n",
       "      <th>0</th>\n",
       "      <td>1994-01</td>\n",
       "      <td>AUS</td>\n",
       "      <td>9.814137</td>\n",
       "      <td>0.501645</td>\n",
       "      <td>77.878049</td>\n",
       "      <td>0.963092</td>\n",
       "    </tr>\n",
       "    <tr>\n",
       "      <th>1</th>\n",
       "      <td>1994-01</td>\n",
       "      <td>SVN</td>\n",
       "      <td>14.650000</td>\n",
       "      <td>0.748256</td>\n",
       "      <td>73.404878</td>\n",
       "      <td>-0.115694</td>\n",
       "    </tr>\n",
       "  </tbody>\n",
       "</table>\n",
       "</div>"
      ],
      "text/plain": [
       "      YEAR COUNTRY  Unemployment_rate  GDP_rate  life_expentancy  \\\n",
       "0  1994-01     AUS           9.814137  0.501645        77.878049   \n",
       "1  1994-01     SVN          14.650000  0.748256        73.404878   \n",
       "\n",
       "   pop_growth_rate  \n",
       "0         0.963092  \n",
       "1        -0.115694  "
      ]
     },
     "execution_count": 14,
     "metadata": {},
     "output_type": "execute_result"
    }
   ],
   "source": [
    "# Visualisation\n",
    "data.head(2)"
   ]
  },
  {
   "cell_type": "markdown",
   "metadata": {},
   "source": [
    "### <span style=\"color:green\"> Base de données pour la modélisation des séries temporelles </span><br><br> \n",
    "\n",
    "Pour la modélisation des séries temporelles modélisant la relation entre le PIB et le taux de chômage, nous avons besoin de ces variables pour chaque pays en colonnes et de la date en indice. "
   ]
  },
  {
   "cell_type": "code",
   "execution_count": 15,
   "metadata": {},
   "outputs": [
    {
     "data": {
      "text/html": [
       "<div>\n",
       "<style scoped>\n",
       "    .dataframe tbody tr th:only-of-type {\n",
       "        vertical-align: middle;\n",
       "    }\n",
       "\n",
       "    .dataframe tbody tr th {\n",
       "        vertical-align: top;\n",
       "    }\n",
       "\n",
       "    .dataframe thead th {\n",
       "        text-align: right;\n",
       "    }\n",
       "</style>\n",
       "<table border=\"1\" class=\"dataframe\">\n",
       "  <thead>\n",
       "    <tr style=\"text-align: right;\">\n",
       "      <th></th>\n",
       "      <th>YEAR</th>\n",
       "      <th>AUS_unemployment_rate</th>\n",
       "      <th>AUT_unemployment_rate</th>\n",
       "      <th>BEL_unemployment_rate</th>\n",
       "      <th>BGR_unemployment_rate</th>\n",
       "      <th>CAN_unemployment_rate</th>\n",
       "      <th>CHE_unemployment_rate</th>\n",
       "      <th>CZE_unemployment_rate</th>\n",
       "      <th>DEU_unemployment_rate</th>\n",
       "      <th>ESP_unemployment_rate</th>\n",
       "      <th>...</th>\n",
       "      <th>POL_gdp_rate</th>\n",
       "      <th>PRT_gdp_rate</th>\n",
       "      <th>ROU_gdp_rate</th>\n",
       "      <th>RUS_gdp_rate</th>\n",
       "      <th>SGP_gdp_rate</th>\n",
       "      <th>SVK_gdp_rate</th>\n",
       "      <th>SVN_gdp_rate</th>\n",
       "      <th>SWE_gdp_rate</th>\n",
       "      <th>URY_gdp_rate</th>\n",
       "      <th>USA_gdp_rate</th>\n",
       "    </tr>\n",
       "  </thead>\n",
       "  <tbody>\n",
       "    <tr>\n",
       "      <th>0</th>\n",
       "      <td>1994-01</td>\n",
       "      <td>9.814137</td>\n",
       "      <td>6.609708</td>\n",
       "      <td>9.641018</td>\n",
       "      <td>14.300000</td>\n",
       "      <td>10.700000</td>\n",
       "      <td>4.704339</td>\n",
       "      <td>4.3</td>\n",
       "      <td>7.261003</td>\n",
       "      <td>22.000000</td>\n",
       "      <td>...</td>\n",
       "      <td>0.744291</td>\n",
       "      <td>0.753611</td>\n",
       "      <td>1.405948</td>\n",
       "      <td>0.131693</td>\n",
       "      <td>0.806523</td>\n",
       "      <td>0.781847</td>\n",
       "      <td>0.748256</td>\n",
       "      <td>0.585296</td>\n",
       "      <td>NaN</td>\n",
       "      <td>0.650468</td>\n",
       "    </tr>\n",
       "    <tr>\n",
       "      <th>1</th>\n",
       "      <td>1994-02</td>\n",
       "      <td>10.269157</td>\n",
       "      <td>6.582263</td>\n",
       "      <td>9.728535</td>\n",
       "      <td>15.393333</td>\n",
       "      <td>10.866667</td>\n",
       "      <td>4.839299</td>\n",
       "      <td>4.2</td>\n",
       "      <td>7.521107</td>\n",
       "      <td>22.233333</td>\n",
       "      <td>...</td>\n",
       "      <td>0.745930</td>\n",
       "      <td>0.757949</td>\n",
       "      <td>1.443999</td>\n",
       "      <td>0.134277</td>\n",
       "      <td>0.812181</td>\n",
       "      <td>0.773778</td>\n",
       "      <td>0.754609</td>\n",
       "      <td>0.587775</td>\n",
       "      <td>NaN</td>\n",
       "      <td>0.653595</td>\n",
       "    </tr>\n",
       "  </tbody>\n",
       "</table>\n",
       "<p>2 rows × 63 columns</p>\n",
       "</div>"
      ],
      "text/plain": [
       "      YEAR  AUS_unemployment_rate  AUT_unemployment_rate  \\\n",
       "0  1994-01               9.814137               6.609708   \n",
       "1  1994-02              10.269157               6.582263   \n",
       "\n",
       "   BEL_unemployment_rate  BGR_unemployment_rate  CAN_unemployment_rate  \\\n",
       "0               9.641018              14.300000              10.700000   \n",
       "1               9.728535              15.393333              10.866667   \n",
       "\n",
       "   CHE_unemployment_rate  CZE_unemployment_rate  DEU_unemployment_rate  \\\n",
       "0               4.704339                    4.3               7.261003   \n",
       "1               4.839299                    4.2               7.521107   \n",
       "\n",
       "   ESP_unemployment_rate  ...  POL_gdp_rate  PRT_gdp_rate  ROU_gdp_rate  \\\n",
       "0              22.000000  ...      0.744291      0.753611      1.405948   \n",
       "1              22.233333  ...      0.745930      0.757949      1.443999   \n",
       "\n",
       "   RUS_gdp_rate  SGP_gdp_rate  SVK_gdp_rate  SVN_gdp_rate  SWE_gdp_rate  \\\n",
       "0      0.131693      0.806523      0.781847      0.748256      0.585296   \n",
       "1      0.134277      0.812181      0.773778      0.754609      0.587775   \n",
       "\n",
       "   URY_gdp_rate  USA_gdp_rate  \n",
       "0           NaN      0.650468  \n",
       "1           NaN      0.653595  \n",
       "\n",
       "[2 rows x 63 columns]"
      ]
     },
     "execution_count": 15,
     "metadata": {},
     "output_type": "execute_result"
    }
   ],
   "source": [
    "# Utilisation de la fonction pivot pour remodeler le dataframe\n",
    "df_pivot = data.pivot(index=['YEAR'], columns='COUNTRY',\n",
    "                    values=['Unemployment_rate', 'GDP_rate'])\n",
    "\n",
    "# Ajuster les noms de colonnes\n",
    "df_pivot.columns = [f'{col[1]}_{col[0].lower()}' for col in df_pivot.columns]\n",
    "\n",
    "# Réinitialiser l'index pour avoir les colonnes YEAR et MONTH comme des colonnes régulières\n",
    "df_pivot.reset_index(inplace=True)\n",
    "\n",
    "# Afficher le nouveau dataframe\n",
    "df_pivot.head(2)\n"
   ]
  },
  {
   "cell_type": "code",
   "execution_count": 16,
   "metadata": {},
   "outputs": [
    {
     "data": {
      "text/html": [
       "<div>\n",
       "<style scoped>\n",
       "    .dataframe tbody tr th:only-of-type {\n",
       "        vertical-align: middle;\n",
       "    }\n",
       "\n",
       "    .dataframe tbody tr th {\n",
       "        vertical-align: top;\n",
       "    }\n",
       "\n",
       "    .dataframe thead th {\n",
       "        text-align: right;\n",
       "    }\n",
       "</style>\n",
       "<table border=\"1\" class=\"dataframe\">\n",
       "  <thead>\n",
       "    <tr style=\"text-align: right;\">\n",
       "      <th></th>\n",
       "      <th>YEAR</th>\n",
       "      <th>AUS_unemployment</th>\n",
       "      <th>AUT_unemployment</th>\n",
       "      <th>BEL_unemployment</th>\n",
       "      <th>BGR_unemployment</th>\n",
       "      <th>CAN_unemployment</th>\n",
       "      <th>CHE_unemployment</th>\n",
       "      <th>CZE_unemployment</th>\n",
       "      <th>DEU_unemployment</th>\n",
       "      <th>ESP_unemployment</th>\n",
       "      <th>...</th>\n",
       "      <th>POL_gdp</th>\n",
       "      <th>PRT_gdp</th>\n",
       "      <th>ROU_gdp</th>\n",
       "      <th>RUS_gdp</th>\n",
       "      <th>SGP_gdp</th>\n",
       "      <th>SVK_gdp</th>\n",
       "      <th>SVN_gdp</th>\n",
       "      <th>SWE_gdp</th>\n",
       "      <th>URY_gdp</th>\n",
       "      <th>USA_gdp</th>\n",
       "    </tr>\n",
       "  </thead>\n",
       "  <tbody>\n",
       "    <tr>\n",
       "      <th>0</th>\n",
       "      <td>1994-01</td>\n",
       "      <td>9.814137</td>\n",
       "      <td>6.609708</td>\n",
       "      <td>9.641018</td>\n",
       "      <td>14.300000</td>\n",
       "      <td>10.700000</td>\n",
       "      <td>4.704339</td>\n",
       "      <td>4.3</td>\n",
       "      <td>7.261003</td>\n",
       "      <td>22.000000</td>\n",
       "      <td>...</td>\n",
       "      <td>0.744291</td>\n",
       "      <td>0.753611</td>\n",
       "      <td>1.405948</td>\n",
       "      <td>0.131693</td>\n",
       "      <td>0.806523</td>\n",
       "      <td>0.781847</td>\n",
       "      <td>0.748256</td>\n",
       "      <td>0.585296</td>\n",
       "      <td>NaN</td>\n",
       "      <td>0.650468</td>\n",
       "    </tr>\n",
       "    <tr>\n",
       "      <th>1</th>\n",
       "      <td>1994-02</td>\n",
       "      <td>10.269157</td>\n",
       "      <td>6.582263</td>\n",
       "      <td>9.728535</td>\n",
       "      <td>15.393333</td>\n",
       "      <td>10.866667</td>\n",
       "      <td>4.839299</td>\n",
       "      <td>4.2</td>\n",
       "      <td>7.521107</td>\n",
       "      <td>22.233333</td>\n",
       "      <td>...</td>\n",
       "      <td>0.745930</td>\n",
       "      <td>0.757949</td>\n",
       "      <td>1.443999</td>\n",
       "      <td>0.134277</td>\n",
       "      <td>0.812181</td>\n",
       "      <td>0.773778</td>\n",
       "      <td>0.754609</td>\n",
       "      <td>0.587775</td>\n",
       "      <td>NaN</td>\n",
       "      <td>0.653595</td>\n",
       "    </tr>\n",
       "  </tbody>\n",
       "</table>\n",
       "<p>2 rows × 63 columns</p>\n",
       "</div>"
      ],
      "text/plain": [
       "      YEAR  AUS_unemployment  AUT_unemployment  BEL_unemployment  \\\n",
       "0  1994-01          9.814137          6.609708          9.641018   \n",
       "1  1994-02         10.269157          6.582263          9.728535   \n",
       "\n",
       "   BGR_unemployment  CAN_unemployment  CHE_unemployment  CZE_unemployment  \\\n",
       "0         14.300000         10.700000          4.704339               4.3   \n",
       "1         15.393333         10.866667          4.839299               4.2   \n",
       "\n",
       "   DEU_unemployment  ESP_unemployment  ...   POL_gdp   PRT_gdp   ROU_gdp  \\\n",
       "0          7.261003         22.000000  ...  0.744291  0.753611  1.405948   \n",
       "1          7.521107         22.233333  ...  0.745930  0.757949  1.443999   \n",
       "\n",
       "    RUS_gdp   SGP_gdp   SVK_gdp   SVN_gdp   SWE_gdp  URY_gdp   USA_gdp  \n",
       "0  0.131693  0.806523  0.781847  0.748256  0.585296      NaN  0.650468  \n",
       "1  0.134277  0.812181  0.773778  0.754609  0.587775      NaN  0.653595  \n",
       "\n",
       "[2 rows x 63 columns]"
      ]
     },
     "execution_count": 16,
     "metadata": {},
     "output_type": "execute_result"
    }
   ],
   "source": [
    "df_pivot = df_pivot.rename(columns=lambda x: x.replace('_rate', ''))\n",
    "df_pivot.head(2)"
   ]
  },
  {
   "cell_type": "markdown",
   "metadata": {},
   "source": [
    "### <span style=\"color:green\"> Base de données pour le clustering </span><br><br> \n",
    "\n",
    "Pour le clustering, nous avons besoin d'une base de données avec en indice le nom des pays et en colonnes, les différents critères considérés, moyennés sur la période considérée."
   ]
  },
  {
   "cell_type": "code",
   "execution_count": 17,
   "metadata": {},
   "outputs": [
    {
     "data": {
      "text/html": [
       "<div>\n",
       "<style scoped>\n",
       "    .dataframe tbody tr th:only-of-type {\n",
       "        vertical-align: middle;\n",
       "    }\n",
       "\n",
       "    .dataframe tbody tr th {\n",
       "        vertical-align: top;\n",
       "    }\n",
       "\n",
       "    .dataframe thead th {\n",
       "        text-align: right;\n",
       "    }\n",
       "</style>\n",
       "<table border=\"1\" class=\"dataframe\">\n",
       "  <thead>\n",
       "    <tr style=\"text-align: right;\">\n",
       "      <th></th>\n",
       "      <th>GDP_rate</th>\n",
       "      <th>Unemployment_rate</th>\n",
       "      <th>life_expentancy</th>\n",
       "      <th>pop_growth_rate</th>\n",
       "    </tr>\n",
       "    <tr>\n",
       "      <th>COUNTRY</th>\n",
       "      <th></th>\n",
       "      <th></th>\n",
       "      <th></th>\n",
       "      <th></th>\n",
       "    </tr>\n",
       "  </thead>\n",
       "  <tbody>\n",
       "    <tr>\n",
       "      <th>AUS</th>\n",
       "      <td>0.761392</td>\n",
       "      <td>6.027355</td>\n",
       "      <td>80.916318</td>\n",
       "      <td>1.342107</td>\n",
       "    </tr>\n",
       "    <tr>\n",
       "      <th>AUT</th>\n",
       "      <td>0.899732</td>\n",
       "      <td>7.236287</td>\n",
       "      <td>79.720527</td>\n",
       "      <td>0.449969</td>\n",
       "    </tr>\n",
       "  </tbody>\n",
       "</table>\n",
       "</div>"
      ],
      "text/plain": [
       "         GDP_rate  Unemployment_rate  life_expentancy  pop_growth_rate\n",
       "COUNTRY                                                               \n",
       "AUS      0.761392           6.027355        80.916318         1.342107\n",
       "AUT      0.899732           7.236287        79.720527         0.449969"
      ]
     },
     "execution_count": 17,
     "metadata": {},
     "output_type": "execute_result"
    }
   ],
   "source": [
    "# Utilisation de la fonction pivot pour remodeler le dataframe\n",
    "df_cluster = data.pivot_table(index='COUNTRY', values=['Unemployment_rate', 'GDP_rate','life_expentancy',\n",
    "       'pop_growth_rate'], aggfunc='mean')\n",
    "\n",
    "df_cluster.head(2)"
   ]
  },
  {
   "cell_type": "markdown",
   "metadata": {},
   "source": [
    "## <span style=\"color:green\">Extraction de la tendance à long terme pour le taux de chômage (unemployement)</span><br><br> "
   ]
  },
  {
   "cell_type": "code",
   "execution_count": 18,
   "metadata": {},
   "outputs": [
    {
     "data": {
      "text/html": [
       "<div>\n",
       "<style scoped>\n",
       "    .dataframe tbody tr th:only-of-type {\n",
       "        vertical-align: middle;\n",
       "    }\n",
       "\n",
       "    .dataframe tbody tr th {\n",
       "        vertical-align: top;\n",
       "    }\n",
       "\n",
       "    .dataframe thead th {\n",
       "        text-align: right;\n",
       "    }\n",
       "</style>\n",
       "<table border=\"1\" class=\"dataframe\">\n",
       "  <thead>\n",
       "    <tr style=\"text-align: right;\">\n",
       "      <th></th>\n",
       "      <th>AUS_unemployment</th>\n",
       "      <th>AUT_unemployment</th>\n",
       "      <th>BEL_unemployment</th>\n",
       "      <th>BGR_unemployment</th>\n",
       "      <th>CAN_unemployment</th>\n",
       "      <th>CHE_unemployment</th>\n",
       "      <th>CZE_unemployment</th>\n",
       "      <th>DEU_unemployment</th>\n",
       "      <th>ESP_unemployment</th>\n",
       "      <th>EST_unemployment</th>\n",
       "      <th>...</th>\n",
       "      <th>POL_unemployment</th>\n",
       "      <th>PRT_unemployment</th>\n",
       "      <th>ROU_unemployment</th>\n",
       "      <th>RUS_unemployment</th>\n",
       "      <th>SGP_unemployment</th>\n",
       "      <th>SVK_unemployment</th>\n",
       "      <th>SVN_unemployment</th>\n",
       "      <th>SWE_unemployment</th>\n",
       "      <th>URY_unemployment</th>\n",
       "      <th>USA_unemployment</th>\n",
       "    </tr>\n",
       "    <tr>\n",
       "      <th>YEAR</th>\n",
       "      <th></th>\n",
       "      <th></th>\n",
       "      <th></th>\n",
       "      <th></th>\n",
       "      <th></th>\n",
       "      <th></th>\n",
       "      <th></th>\n",
       "      <th></th>\n",
       "      <th></th>\n",
       "      <th></th>\n",
       "      <th></th>\n",
       "      <th></th>\n",
       "      <th></th>\n",
       "      <th></th>\n",
       "      <th></th>\n",
       "      <th></th>\n",
       "      <th></th>\n",
       "      <th></th>\n",
       "      <th></th>\n",
       "      <th></th>\n",
       "      <th></th>\n",
       "    </tr>\n",
       "  </thead>\n",
       "  <tbody>\n",
       "    <tr>\n",
       "      <th>1994-01</th>\n",
       "      <td>9.814137</td>\n",
       "      <td>6.609708</td>\n",
       "      <td>9.641018</td>\n",
       "      <td>14.300000</td>\n",
       "      <td>10.700000</td>\n",
       "      <td>4.704339</td>\n",
       "      <td>4.3</td>\n",
       "      <td>7.261003</td>\n",
       "      <td>22.000000</td>\n",
       "      <td>7.600000</td>\n",
       "      <td>...</td>\n",
       "      <td>16.450000</td>\n",
       "      <td>7.756329</td>\n",
       "      <td>10.9</td>\n",
       "      <td>6.759498</td>\n",
       "      <td>1.750000</td>\n",
       "      <td>14.620000</td>\n",
       "      <td>14.650000</td>\n",
       "      <td>10.839335</td>\n",
       "      <td>12.100000</td>\n",
       "      <td>6.2</td>\n",
       "    </tr>\n",
       "    <tr>\n",
       "      <th>1994-02</th>\n",
       "      <td>10.269157</td>\n",
       "      <td>6.582263</td>\n",
       "      <td>9.728535</td>\n",
       "      <td>15.393333</td>\n",
       "      <td>10.866667</td>\n",
       "      <td>4.839299</td>\n",
       "      <td>4.2</td>\n",
       "      <td>7.521107</td>\n",
       "      <td>22.233333</td>\n",
       "      <td>7.466667</td>\n",
       "      <td>...</td>\n",
       "      <td>16.533333</td>\n",
       "      <td>7.916827</td>\n",
       "      <td>10.9</td>\n",
       "      <td>6.574419</td>\n",
       "      <td>1.666667</td>\n",
       "      <td>14.426667</td>\n",
       "      <td>14.966667</td>\n",
       "      <td>10.866990</td>\n",
       "      <td>12.083333</td>\n",
       "      <td>6.5</td>\n",
       "    </tr>\n",
       "  </tbody>\n",
       "</table>\n",
       "<p>2 rows × 31 columns</p>\n",
       "</div>"
      ],
      "text/plain": [
       "         AUS_unemployment  AUT_unemployment  BEL_unemployment  \\\n",
       "YEAR                                                            \n",
       "1994-01          9.814137          6.609708          9.641018   \n",
       "1994-02         10.269157          6.582263          9.728535   \n",
       "\n",
       "         BGR_unemployment  CAN_unemployment  CHE_unemployment  \\\n",
       "YEAR                                                            \n",
       "1994-01         14.300000         10.700000          4.704339   \n",
       "1994-02         15.393333         10.866667          4.839299   \n",
       "\n",
       "         CZE_unemployment  DEU_unemployment  ESP_unemployment  \\\n",
       "YEAR                                                            \n",
       "1994-01               4.3          7.261003         22.000000   \n",
       "1994-02               4.2          7.521107         22.233333   \n",
       "\n",
       "         EST_unemployment  ...  POL_unemployment  PRT_unemployment  \\\n",
       "YEAR                       ...                                       \n",
       "1994-01          7.600000  ...         16.450000          7.756329   \n",
       "1994-02          7.466667  ...         16.533333          7.916827   \n",
       "\n",
       "         ROU_unemployment  RUS_unemployment  SGP_unemployment  \\\n",
       "YEAR                                                            \n",
       "1994-01              10.9          6.759498          1.750000   \n",
       "1994-02              10.9          6.574419          1.666667   \n",
       "\n",
       "         SVK_unemployment  SVN_unemployment  SWE_unemployment  \\\n",
       "YEAR                                                            \n",
       "1994-01         14.620000         14.650000         10.839335   \n",
       "1994-02         14.426667         14.966667         10.866990   \n",
       "\n",
       "         URY_unemployment  USA_unemployment  \n",
       "YEAR                                         \n",
       "1994-01         12.100000               6.2  \n",
       "1994-02         12.083333               6.5  \n",
       "\n",
       "[2 rows x 31 columns]"
      ]
     },
     "execution_count": 18,
     "metadata": {},
     "output_type": "execute_result"
    }
   ],
   "source": [
    "# Extraire toutes les colonnes avec le suffixe \"_rate\" ainsi que la colonne des dates\n",
    "columns_unemployment = ['YEAR'] + [col for col in df_pivot.columns if col.endswith('_unemployment')] \n",
    "df_unemployment = df_pivot[columns_unemployment]\n",
    "df_unemployment.set_index('YEAR', inplace = True)\n",
    "\n",
    "df_unemployment.head(2)"
   ]
  },
  {
   "cell_type": "markdown",
   "metadata": {},
   "source": [
    "## <span style=\"color:green\">Extraction de la tendance à long terme pour le PIB (gdp)</span><br><br> "
   ]
  },
  {
   "cell_type": "code",
   "execution_count": 19,
   "metadata": {},
   "outputs": [
    {
     "data": {
      "text/html": [
       "<div>\n",
       "<style scoped>\n",
       "    .dataframe tbody tr th:only-of-type {\n",
       "        vertical-align: middle;\n",
       "    }\n",
       "\n",
       "    .dataframe tbody tr th {\n",
       "        vertical-align: top;\n",
       "    }\n",
       "\n",
       "    .dataframe thead th {\n",
       "        text-align: right;\n",
       "    }\n",
       "</style>\n",
       "<table border=\"1\" class=\"dataframe\">\n",
       "  <thead>\n",
       "    <tr style=\"text-align: right;\">\n",
       "      <th></th>\n",
       "      <th>AUS_gdp</th>\n",
       "      <th>AUT_gdp</th>\n",
       "      <th>BEL_gdp</th>\n",
       "      <th>BGR_gdp</th>\n",
       "      <th>CAN_gdp</th>\n",
       "      <th>CHE_gdp</th>\n",
       "      <th>CZE_gdp</th>\n",
       "      <th>DEU_gdp</th>\n",
       "      <th>ESP_gdp</th>\n",
       "      <th>EST_gdp</th>\n",
       "      <th>...</th>\n",
       "      <th>POL_gdp</th>\n",
       "      <th>PRT_gdp</th>\n",
       "      <th>ROU_gdp</th>\n",
       "      <th>RUS_gdp</th>\n",
       "      <th>SGP_gdp</th>\n",
       "      <th>SVK_gdp</th>\n",
       "      <th>SVN_gdp</th>\n",
       "      <th>SWE_gdp</th>\n",
       "      <th>URY_gdp</th>\n",
       "      <th>USA_gdp</th>\n",
       "    </tr>\n",
       "    <tr>\n",
       "      <th>YEAR</th>\n",
       "      <th></th>\n",
       "      <th></th>\n",
       "      <th></th>\n",
       "      <th></th>\n",
       "      <th></th>\n",
       "      <th></th>\n",
       "      <th></th>\n",
       "      <th></th>\n",
       "      <th></th>\n",
       "      <th></th>\n",
       "      <th></th>\n",
       "      <th></th>\n",
       "      <th></th>\n",
       "      <th></th>\n",
       "      <th></th>\n",
       "      <th></th>\n",
       "      <th></th>\n",
       "      <th></th>\n",
       "      <th></th>\n",
       "      <th></th>\n",
       "      <th></th>\n",
       "    </tr>\n",
       "  </thead>\n",
       "  <tbody>\n",
       "    <tr>\n",
       "      <th>1994-01</th>\n",
       "      <td>0.501645</td>\n",
       "      <td>0.779464</td>\n",
       "      <td>0.796550</td>\n",
       "      <td>0.559233</td>\n",
       "      <td>0.680429</td>\n",
       "      <td>0.907331</td>\n",
       "      <td>0.814153</td>\n",
       "      <td>0.794548</td>\n",
       "      <td>0.774291</td>\n",
       "      <td>0.525902</td>\n",
       "      <td>...</td>\n",
       "      <td>0.744291</td>\n",
       "      <td>0.753611</td>\n",
       "      <td>1.405948</td>\n",
       "      <td>0.131693</td>\n",
       "      <td>0.806523</td>\n",
       "      <td>0.781847</td>\n",
       "      <td>0.748256</td>\n",
       "      <td>0.585296</td>\n",
       "      <td>NaN</td>\n",
       "      <td>0.650468</td>\n",
       "    </tr>\n",
       "    <tr>\n",
       "      <th>1994-02</th>\n",
       "      <td>0.502208</td>\n",
       "      <td>0.783616</td>\n",
       "      <td>0.798246</td>\n",
       "      <td>0.559740</td>\n",
       "      <td>0.680180</td>\n",
       "      <td>0.909250</td>\n",
       "      <td>0.818056</td>\n",
       "      <td>0.796374</td>\n",
       "      <td>0.778426</td>\n",
       "      <td>0.534253</td>\n",
       "      <td>...</td>\n",
       "      <td>0.745930</td>\n",
       "      <td>0.757949</td>\n",
       "      <td>1.443999</td>\n",
       "      <td>0.134277</td>\n",
       "      <td>0.812181</td>\n",
       "      <td>0.773778</td>\n",
       "      <td>0.754609</td>\n",
       "      <td>0.587775</td>\n",
       "      <td>NaN</td>\n",
       "      <td>0.653595</td>\n",
       "    </tr>\n",
       "  </tbody>\n",
       "</table>\n",
       "<p>2 rows × 31 columns</p>\n",
       "</div>"
      ],
      "text/plain": [
       "          AUS_gdp   AUT_gdp   BEL_gdp   BGR_gdp   CAN_gdp   CHE_gdp   CZE_gdp  \\\n",
       "YEAR                                                                            \n",
       "1994-01  0.501645  0.779464  0.796550  0.559233  0.680429  0.907331  0.814153   \n",
       "1994-02  0.502208  0.783616  0.798246  0.559740  0.680180  0.909250  0.818056   \n",
       "\n",
       "          DEU_gdp   ESP_gdp   EST_gdp  ...   POL_gdp   PRT_gdp   ROU_gdp  \\\n",
       "YEAR                                   ...                                 \n",
       "1994-01  0.794548  0.774291  0.525902  ...  0.744291  0.753611  1.405948   \n",
       "1994-02  0.796374  0.778426  0.534253  ...  0.745930  0.757949  1.443999   \n",
       "\n",
       "          RUS_gdp   SGP_gdp   SVK_gdp   SVN_gdp   SWE_gdp  URY_gdp   USA_gdp  \n",
       "YEAR                                                                          \n",
       "1994-01  0.131693  0.806523  0.781847  0.748256  0.585296      NaN  0.650468  \n",
       "1994-02  0.134277  0.812181  0.773778  0.754609  0.587775      NaN  0.653595  \n",
       "\n",
       "[2 rows x 31 columns]"
      ]
     },
     "execution_count": 19,
     "metadata": {},
     "output_type": "execute_result"
    }
   ],
   "source": [
    "# Extraire toutes les colonnes avec le suffixe \"_gdp\" ainsi que la colonne des dates\n",
    "columns_gdp = ['YEAR'] + [col for col in df_pivot.columns if col.endswith('_gdp')] \n",
    "df_gdp = df_pivot[columns_gdp]\n",
    "df_gdp.set_index('YEAR', inplace = True)\n",
    "\n",
    "df_gdp.head(2)"
   ]
  },
  {
   "cell_type": "markdown",
   "metadata": {},
   "source": [
    "# <span style=\"color:green\"> II- Clustering : regroupement des pays selon des critères de développement</span><br><br> \n",
    "\n",
    "Dans cette partie, on va utiliser la méthode du clustering pour regrouper les pays de la base de données selon 4 critères : \n",
    "<div style=\"margin-left: 20px;\">\n",
    "    <span style=\"font-weight:bold;\">1.</span> Le PIB,<br>\n",
    "    <span style=\"font-weight:bold;\">2.</span> Le taux de chômage,<br>\n",
    "    <span style=\"font-weight:bold;\">3.</span> L'espérance de vie,<br>\n",
    "    <span style=\"font-weight:bold;\">4.</span> et le taux de croissance démographique.\n",
    "    </div><br>\n",
    "    Chaque variable moyennée sur la période considérée. \n"
   ]
  },
  {
   "cell_type": "code",
   "execution_count": 20,
   "metadata": {},
   "outputs": [
    {
     "data": {
      "text/html": [
       "<div>\n",
       "<style scoped>\n",
       "    .dataframe tbody tr th:only-of-type {\n",
       "        vertical-align: middle;\n",
       "    }\n",
       "\n",
       "    .dataframe tbody tr th {\n",
       "        vertical-align: top;\n",
       "    }\n",
       "\n",
       "    .dataframe thead th {\n",
       "        text-align: right;\n",
       "    }\n",
       "</style>\n",
       "<table border=\"1\" class=\"dataframe\">\n",
       "  <thead>\n",
       "    <tr style=\"text-align: right;\">\n",
       "      <th></th>\n",
       "      <th>GDP_rate</th>\n",
       "      <th>Unemployment_rate</th>\n",
       "      <th>life_expentancy</th>\n",
       "      <th>pop_growth_rate</th>\n",
       "    </tr>\n",
       "    <tr>\n",
       "      <th>COUNTRY</th>\n",
       "      <th></th>\n",
       "      <th></th>\n",
       "      <th></th>\n",
       "      <th></th>\n",
       "    </tr>\n",
       "  </thead>\n",
       "  <tbody>\n",
       "    <tr>\n",
       "      <th>AUS</th>\n",
       "      <td>0.761392</td>\n",
       "      <td>6.027355</td>\n",
       "      <td>80.916318</td>\n",
       "      <td>1.342107</td>\n",
       "    </tr>\n",
       "    <tr>\n",
       "      <th>AUT</th>\n",
       "      <td>0.899732</td>\n",
       "      <td>7.236287</td>\n",
       "      <td>79.720527</td>\n",
       "      <td>0.449969</td>\n",
       "    </tr>\n",
       "    <tr>\n",
       "      <th>BEL</th>\n",
       "      <td>0.913237</td>\n",
       "      <td>7.774560</td>\n",
       "      <td>79.483950</td>\n",
       "      <td>0.498965</td>\n",
       "    </tr>\n",
       "    <tr>\n",
       "      <th>BGR</th>\n",
       "      <td>0.799515</td>\n",
       "      <td>10.575434</td>\n",
       "      <td>72.878191</td>\n",
       "      <td>-0.792854</td>\n",
       "    </tr>\n",
       "    <tr>\n",
       "      <th>CAN</th>\n",
       "      <td>0.922738</td>\n",
       "      <td>7.485185</td>\n",
       "      <td>80.470733</td>\n",
       "      <td>1.032642</td>\n",
       "    </tr>\n",
       "  </tbody>\n",
       "</table>\n",
       "</div>"
      ],
      "text/plain": [
       "         GDP_rate  Unemployment_rate  life_expentancy  pop_growth_rate\n",
       "COUNTRY                                                               \n",
       "AUS      0.761392           6.027355        80.916318         1.342107\n",
       "AUT      0.899732           7.236287        79.720527         0.449969\n",
       "BEL      0.913237           7.774560        79.483950         0.498965\n",
       "BGR      0.799515          10.575434        72.878191        -0.792854\n",
       "CAN      0.922738           7.485185        80.470733         1.032642"
      ]
     },
     "execution_count": 20,
     "metadata": {},
     "output_type": "execute_result"
    }
   ],
   "source": [
    "# Supprimer les lignes ayant des valeurs manquantes\n",
    "df_cluster.dropna(inplace=True)\n",
    "df_cluster.head()"
   ]
  },
  {
   "cell_type": "code",
   "execution_count": 21,
   "metadata": {},
   "outputs": [
    {
     "name": "stdout",
     "output_type": "stream",
     "text": [
      "Requirement already satisfied: statsmodels in c:\\users\\yousr\\appdata\\local\\packages\\pythonsoftwarefoundation.python.3.11_qbz5n2kfra8p0\\localcache\\local-packages\\python311\\site-packages (0.14.1)\n",
      "Requirement already satisfied: numpy<2,>=1.18 in c:\\users\\yousr\\appdata\\local\\packages\\pythonsoftwarefoundation.python.3.11_qbz5n2kfra8p0\\localcache\\local-packages\\python311\\site-packages (from statsmodels) (1.26.2)\n",
      "Requirement already satisfied: scipy!=1.9.2,>=1.4 in c:\\users\\yousr\\appdata\\local\\packages\\pythonsoftwarefoundation.python.3.11_qbz5n2kfra8p0\\localcache\\local-packages\\python311\\site-packages (from statsmodels) (1.11.4)\n",
      "Requirement already satisfied: pandas!=2.1.0,>=1.0 in c:\\users\\yousr\\appdata\\local\\packages\\pythonsoftwarefoundation.python.3.11_qbz5n2kfra8p0\\localcache\\local-packages\\python311\\site-packages (from statsmodels) (2.1.3)\n",
      "Requirement already satisfied: patsy>=0.5.4 in c:\\users\\yousr\\appdata\\local\\packages\\pythonsoftwarefoundation.python.3.11_qbz5n2kfra8p0\\localcache\\local-packages\\python311\\site-packages (from statsmodels) (0.5.5)\n",
      "Requirement already satisfied: packaging>=21.3 in c:\\users\\yousr\\appdata\\local\\packages\\pythonsoftwarefoundation.python.3.11_qbz5n2kfra8p0\\localcache\\local-packages\\python311\\site-packages (from statsmodels) (23.2)\n",
      "Requirement already satisfied: python-dateutil>=2.8.2 in c:\\users\\yousr\\appdata\\local\\packages\\pythonsoftwarefoundation.python.3.11_qbz5n2kfra8p0\\localcache\\local-packages\\python311\\site-packages (from pandas!=2.1.0,>=1.0->statsmodels) (2.8.2)\n",
      "Requirement already satisfied: pytz>=2020.1 in c:\\users\\yousr\\appdata\\local\\packages\\pythonsoftwarefoundation.python.3.11_qbz5n2kfra8p0\\localcache\\local-packages\\python311\\site-packages (from pandas!=2.1.0,>=1.0->statsmodels) (2023.3.post1)\n",
      "Requirement already satisfied: tzdata>=2022.1 in c:\\users\\yousr\\appdata\\local\\packages\\pythonsoftwarefoundation.python.3.11_qbz5n2kfra8p0\\localcache\\local-packages\\python311\\site-packages (from pandas!=2.1.0,>=1.0->statsmodels) (2023.3)\n",
      "Requirement already satisfied: six in c:\\users\\yousr\\appdata\\local\\packages\\pythonsoftwarefoundation.python.3.11_qbz5n2kfra8p0\\localcache\\local-packages\\python311\\site-packages (from patsy>=0.5.4->statsmodels) (1.16.0)\n"
     ]
    },
    {
     "name": "stderr",
     "output_type": "stream",
     "text": [
      "\n",
      "[notice] A new release of pip is available: 23.2.1 -> 23.3.2\n",
      "[notice] To update, run: C:\\Users\\yousr\\AppData\\Local\\Microsoft\\WindowsApps\\PythonSoftwareFoundation.Python.3.11_qbz5n2kfra8p0\\python.exe -m pip install --upgrade pip\n"
     ]
    }
   ],
   "source": [
    "from sklearn.cluster import KMeans\n",
    "from sklearn.preprocessing import StandardScaler\n",
    "from mpl_toolkits.mplot3d import Axes3D"
   ]
  },
  {
   "cell_type": "code",
   "execution_count": 22,
   "metadata": {},
   "outputs": [
    {
     "name": "stderr",
     "output_type": "stream",
     "text": [
      "C:\\Users\\yousr\\AppData\\Local\\Packages\\PythonSoftwareFoundation.Python.3.11_qbz5n2kfra8p0\\LocalCache\\local-packages\\Python311\\site-packages\\sklearn\\cluster\\_kmeans.py:1416: FutureWarning: The default value of `n_init` will change from 10 to 'auto' in 1.4. Set the value of `n_init` explicitly to suppress the warning\n",
      "  super()._check_params_vs_input(X, default_n_init=10)\n"
     ]
    },
    {
     "data": {
      "image/png": "[encoded data removed]",
      "text/plain": [
       "<Figure size 640x480 with 1 Axes>"
      ]
     },
     "metadata": {},
     "output_type": "display_data"
    }
   ],
   "source": [
    "# Standardiser les données (important pour K-means)\n",
    "scaler = StandardScaler()\n",
    "df_scaled = scaler.fit_transform(df_cluster)\n",
    "\n",
    "# Appliquer l'algorithme K-means\n",
    "num_clusters = 4  # Choisissez le nombre de clusters\n",
    "kmeans = KMeans(n_clusters=num_clusters, random_state=42)\n",
    "df_cluster['Cluster'] = kmeans.fit_predict(df_scaled)\n",
    "\n",
    "# Visualisation en 3D (utilisant les variables GDP_rate, Life_expectance, Pop_growth_rate)\n",
    "fig = d.plt.figure()\n",
    "ax = fig.add_subplot(111, projection='3d')\n",
    "ax.scatter(df_scaled[:, 1], df_scaled[:, 2], df_scaled[:, 3], c=df_cluster['Cluster'], cmap='viridis', s=50)\n",
    "ax.set_xlabel('GDP_rate')\n",
    "ax.set_ylabel('Life_expectancy')\n",
    "ax.set_zlabel('Pop_growth_rate')\n",
    "d.plt.show()"
   ]
  },
  {
   "cell_type": "code",
   "execution_count": 23,
   "metadata": {},
   "outputs": [
    {
     "name": "stdout",
     "output_type": "stream",
     "text": [
      "Cluster 1: ['AUS', 'AUT', 'BEL', 'CAN', 'CHE', 'CZE', 'DEU', 'FRA', 'GBR', 'IRL', 'JPN', 'LUX', 'NOR', 'NZL', 'SGP', 'SWE', 'USA']\n",
      "Cluster 2: ['ESP', 'FIN', 'PHL', 'POL', 'PRT', 'SVK', 'SVN']\n",
      "Cluster 3: ['ROU']\n",
      "Cluster 4: ['BGR', 'EST', 'LTU', 'RUS']\n"
     ]
    }
   ],
   "source": [
    "# Afficher les groupes et les pays\n",
    "for cluster_num in range(num_clusters):\n",
    "    countries_in_cluster = df_cluster[df_cluster['Cluster'] == cluster_num].index\n",
    "    print(f'Cluster {cluster_num + 1}: {list(countries_in_cluster)}')"
   ]
  },
  {
   "cell_type": "markdown",
   "metadata": {},
   "source": [
    "# <span style=\"color:green\"> III- Vérification de la loi pour un pays tiré aléatoirement dans chaque groupe</span><br><br> "
   ]
  },
  {
   "cell_type": "markdown",
   "metadata": {},
   "source": [
    "## Modélisation de la relation entre PIB et taux de chômage, pour un pays donné, grâce au modèle ARDL "
   ]
  },
  {
   "cell_type": "markdown",
   "metadata": {},
   "source": [
    "### Extraction de la tendance à long terme du PIB et du taux de chômage d'un pays.\n",
    "\n",
    "Dans cette partie, on définit une classe qui permet de tracer la tendance à long terme et les cycles à court terme des deux variables considérées. \n",
    "\n",
    "La méthode df_gap() de cette classe permet d'obtenir une série avec les valeurs de la différence entre la valeur réelle et la tendance à long terme des deux variables considérées, pour un pays considéré. "
   ]
  },
  {
   "cell_type": "code",
   "execution_count": 24,
   "metadata": {},
   "outputs": [],
   "source": [
    "class CountryData:\n",
    "    def __init__(self, country_code, unemployment_data, gdp_data):\n",
    "        \"\"\"\n",
    "        Initialize a CountryData instance.\n",
    "\n",
    "        Parameters:\n",
    "        - country_code (str): The country code.\n",
    "        - unemployment_data (pd.Series): Time series data for unemployment rate.\n",
    "        - gdp_data (pd.Series): Time series data for GDP rate.\n",
    "        \"\"\"\n",
    "        \n",
    "        self.country_code = country_code\n",
    "        self.unemployment_rate = unemployment_data[f'{country_code}_unemployment']\n",
    "        self.gdp_rate = gdp_data[f'{country_code}_gdp']\n",
    "\n",
    "    def plot_trend_cycle(self):\n",
    "        \"\"\"\n",
    "        Plot the trend and cycle components for unemployment rate and GDP rate after applying the Hodrick-Prescott filter to the time series.\n",
    "        \"\"\"\n",
    "        # Extraction of the long-term trend of unemployment rate\n",
    "        x = self.unemployment_rate\n",
    "\n",
    "        # Applying the Hodrick-Prescott filter\n",
    "        trend_x, cycle_x = d.smf.hpfilter(x, lamb=1600)\n",
    "\n",
    "        # Plot the trend and cycle of unemployment rate\n",
    "        d.plt.plot(x, label='Original series')\n",
    "        d.plt.plot(trend_x, label='Trend')\n",
    "        d.plt.plot(cycle_x, label='Cycle')\n",
    "        d.plt.legend()\n",
    "        d.plt.show()\n",
    "\n",
    "        # Extraction of the long-term trend of GDP\n",
    "        y = self.gdp_rate\n",
    "\n",
    "        # Applying the Hodrick-Prescott filter\n",
    "        trend_y, cycle_y = d.smf.hpfilter(y, lamb=1600)\n",
    "\n",
    "        # Plot the trend and cycle of the trend\n",
    "        d.plt.plot(y, label='Originale series')\n",
    "        d.plt.plot(trend_y, label='Trend')\n",
    "        d.plt.plot(cycle_y, label='Cycle')\n",
    "        d.plt.legend()\n",
    "        d.plt.show()\n",
    "        \n",
    "    def df_gap(self):\n",
    "        \"\"\"\n",
    "        Calculate the gap series for unemployment rate and GDP rate.\n",
    "\n",
    "        Returns:\n",
    "        - df_gap (pd.DataFrame): DataFrame containing the gap values.\n",
    "        \"\"\"\n",
    "        # Extraction of the long-term trend of unemployment rate\n",
    "        x = self.unemployment_rate\n",
    "\n",
    "        # Applying the Hodrick-Prescott filter\n",
    "        trend_x, cycle_x = d.smf.hpfilter(x, lamb=1600)\n",
    "    \n",
    "        # Extraction of the long-term trend of GDP\n",
    "        y = self.gdp_rate\n",
    "\n",
    "        # Applying the Hodrick-Prescott filter\n",
    "        trend_y, cycle_y = d.smf.hpfilter(y, lamb=1600)\n",
    "    \n",
    "        # Calculate the new series by removing the trend\n",
    "        gap_unemployment = x - trend_x\n",
    "        gap_gdp = y - trend_y\n",
    "\n",
    "        # Create a DataFrame with the new series\n",
    "        df_x = d.pd.DataFrame({'YEAR': x.index, 'gap_unemployment': gap_unemployment.values})\n",
    "        df_y = d.pd.DataFrame({'YEAR': y.index, 'gap_gdp': gap_gdp.values})\n",
    "\n",
    "        # Merge the DataFrames on the 'YEAR' column\n",
    "        df_gap = d.pd.merge(df_x, df_y, on='YEAR', how='inner')\n",
    "\n",
    "        return df_gap\n"
   ]
  },
  {
   "cell_type": "markdown",
   "metadata": {},
   "source": [
    "### Modèle ARDL"
   ]
  },
  {
   "cell_type": "code",
   "execution_count": 25,
   "metadata": {},
   "outputs": [],
   "source": [
    "from statsmodels.tsa.stattools import adfuller"
   ]
  },
  {
   "cell_type": "code",
   "execution_count": 26,
   "metadata": {},
   "outputs": [],
   "source": [
    "belgium = CountryData('BEL', df_unemployment, df_gdp)"
   ]
  },
  {
   "cell_type": "code",
   "execution_count": 27,
   "metadata": {},
   "outputs": [
    {
     "data": {
      "text/html": [
       "<div>\n",
       "<style scoped>\n",
       "    .dataframe tbody tr th:only-of-type {\n",
       "        vertical-align: middle;\n",
       "    }\n",
       "\n",
       "    .dataframe tbody tr th {\n",
       "        vertical-align: top;\n",
       "    }\n",
       "\n",
       "    .dataframe thead th {\n",
       "        text-align: right;\n",
       "    }\n",
       "</style>\n",
       "<table border=\"1\" class=\"dataframe\">\n",
       "  <thead>\n",
       "    <tr style=\"text-align: right;\">\n",
       "      <th></th>\n",
       "      <th>YEAR</th>\n",
       "      <th>gap_unemployment</th>\n",
       "      <th>gap_gdp</th>\n",
       "    </tr>\n",
       "  </thead>\n",
       "  <tbody>\n",
       "    <tr>\n",
       "      <th>0</th>\n",
       "      <td>1994-01</td>\n",
       "      <td>10.017243</td>\n",
       "      <td>0.771871</td>\n",
       "    </tr>\n",
       "    <tr>\n",
       "      <th>1</th>\n",
       "      <td>1994-02</td>\n",
       "      <td>9.962364</td>\n",
       "      <td>0.769040</td>\n",
       "    </tr>\n",
       "    <tr>\n",
       "      <th>2</th>\n",
       "      <td>1994-03</td>\n",
       "      <td>9.907249</td>\n",
       "      <td>0.766225</td>\n",
       "    </tr>\n",
       "    <tr>\n",
       "      <th>3</th>\n",
       "      <td>1994-04</td>\n",
       "      <td>9.851518</td>\n",
       "      <td>0.763459</td>\n",
       "    </tr>\n",
       "    <tr>\n",
       "      <th>4</th>\n",
       "      <td>1995-01</td>\n",
       "      <td>9.794773</td>\n",
       "      <td>0.760797</td>\n",
       "    </tr>\n",
       "    <tr>\n",
       "      <th>...</th>\n",
       "      <td>...</td>\n",
       "      <td>...</td>\n",
       "      <td>...</td>\n",
       "    </tr>\n",
       "    <tr>\n",
       "      <th>112</th>\n",
       "      <td>2022-01</td>\n",
       "      <td>5.609398</td>\n",
       "      <td>1.161251</td>\n",
       "    </tr>\n",
       "    <tr>\n",
       "      <th>113</th>\n",
       "      <td>2022-02</td>\n",
       "      <td>5.578970</td>\n",
       "      <td>1.170971</td>\n",
       "    </tr>\n",
       "    <tr>\n",
       "      <th>114</th>\n",
       "      <td>2022-03</td>\n",
       "      <td>5.548911</td>\n",
       "      <td>1.180789</td>\n",
       "    </tr>\n",
       "    <tr>\n",
       "      <th>115</th>\n",
       "      <td>2022-04</td>\n",
       "      <td>5.519036</td>\n",
       "      <td>1.190660</td>\n",
       "    </tr>\n",
       "    <tr>\n",
       "      <th>116</th>\n",
       "      <td>2023-01</td>\n",
       "      <td>5.489294</td>\n",
       "      <td>1.200552</td>\n",
       "    </tr>\n",
       "  </tbody>\n",
       "</table>\n",
       "<p>117 rows × 3 columns</p>\n",
       "</div>"
      ],
      "text/plain": [
       "        YEAR  gap_unemployment   gap_gdp\n",
       "0    1994-01         10.017243  0.771871\n",
       "1    1994-02          9.962364  0.769040\n",
       "2    1994-03          9.907249  0.766225\n",
       "3    1994-04          9.851518  0.763459\n",
       "4    1995-01          9.794773  0.760797\n",
       "..       ...               ...       ...\n",
       "112  2022-01          5.609398  1.161251\n",
       "113  2022-02          5.578970  1.170971\n",
       "114  2022-03          5.548911  1.180789\n",
       "115  2022-04          5.519036  1.190660\n",
       "116  2023-01          5.489294  1.200552\n",
       "\n",
       "[117 rows x 3 columns]"
      ]
     },
     "execution_count": 27,
     "metadata": {},
     "output_type": "execute_result"
    }
   ],
   "source": [
    "belgium.df_gap()"
   ]
  },
  {
   "cell_type": "code",
   "execution_count": 28,
   "metadata": {},
   "outputs": [],
   "source": [
    "unemployment_series = belgium.df_gap()['gap_unemployment']\n",
    "gdp_series = belgium.df_gap()['gap_gdp']"
   ]
  },
  {
   "cell_type": "markdown",
   "metadata": {},
   "source": [
    "Vérifions tout d'abord la stationnarité de la série"
   ]
  },
  {
   "cell_type": "code",
   "execution_count": 29,
   "metadata": {},
   "outputs": [
    {
     "name": "stdout",
     "output_type": "stream",
     "text": [
      "Test ADF pour la série Unemployment_rate:\n",
      "ADF Statistic: -0.5396196618647554\n",
      "p-value: 0.8840503707945941\n",
      "Nombre de lags utilisés: 5\n",
      "Nombre d'observations utilisées: 111\n",
      "Valeurs critiques:\n",
      "   1%: -3.490683082754047\n",
      "   5%: -2.8879516565798817\n",
      "   10%: -2.5808574442009578\n",
      "Test ADF pour la série Real_GDP:\n",
      "ADF Statistic: 3.2087182411369555\n",
      "p-value: 1.0\n",
      "Nombre de lags utilisés: 6\n",
      "Nombre d'observations utilisées: 110\n",
      "Valeurs critiques:\n",
      "   1%: -3.4912451337340342\n",
      "   5%: -2.8881954545454547\n",
      "   10%: -2.5809876033057852\n"
     ]
    }
   ],
   "source": [
    "# Fonction pour effectuer le test ADF et imprimer les résultats\n",
    "def perform_adf_test(series, name):\n",
    "    result = adfuller(series, autolag='AIC')\n",
    "    print(f'Test ADF pour la série {name}:')\n",
    "    print(f'ADF Statistic: {result[0]}')\n",
    "    print(f'p-value: {result[1]}')\n",
    "    print(f'Nombre de lags utilisés: {result[2]}')\n",
    "    print(f'Nombre d\\'observations utilisées: {result[3]}')\n",
    "    print(f'Valeurs critiques:')\n",
    "    for key, value in result[4].items():\n",
    "        print(f'   {key}: {value}')\n",
    "\n",
    "# Appliquer le test ADF pour le taux de chômage et le PIB réel\n",
    "perform_adf_test(unemployment_series, 'Unemployment_rate')\n",
    "perform_adf_test(gdp_series, 'Real_GDP')"
   ]
  },
  {
   "cell_type": "markdown",
   "metadata": {},
   "source": [
    "Des p-values de 0.8840503707945941 et de 1.0 indiquent que nous ne pouvons pas rejeter l'hypothèse nulle selon laquelle les séries ne sont pas stationnaires. En d'autres termes, cela suggère que les séries ne sont pas stationnaires.\n",
    "\n",
    "Pour rendre nos séries stationnaires, nous pouvons envisager de les différencier. La différenciation consiste à soustraire chaque observation de l'observation précédente. nous pouvons utiliser la fonction diff() de pandas pour effectuer cette opération. Voici comment nous pouvons le faire :"
   ]
  },
  {
   "cell_type": "code",
   "execution_count": 30,
   "metadata": {},
   "outputs": [
    {
     "name": "stdout",
     "output_type": "stream",
     "text": [
      "Test ADF pour la série Diff_Unemployment_rate:\n",
      "ADF Statistic: -2.3339550976499437\n",
      "p-value: 0.16125046714001406\n",
      "Nombre de lags utilisés: 4\n",
      "Nombre d'observations utilisées: 111\n",
      "Valeurs critiques:\n",
      "   1%: -3.490683082754047\n",
      "   5%: -2.8879516565798817\n",
      "   10%: -2.5808574442009578\n",
      "Test ADF pour la série Diff_Real_GDP:\n",
      "ADF Statistic: -0.34016888377020005\n",
      "p-value: 0.9196193991811563\n",
      "Nombre de lags utilisés: 3\n",
      "Nombre d'observations utilisées: 112\n",
      "Valeurs critiques:\n",
      "   1%: -3.4901313156261384\n",
      "   5%: -2.8877122815688776\n",
      "   10%: -2.5807296460459184\n"
     ]
    }
   ],
   "source": [
    "# Différenciation des séries temporelles\n",
    "diff_unemployment_series = unemployment_series.diff().dropna()\n",
    "diff_gdp_series = gdp_series.diff().dropna()\n",
    "\n",
    "# Réappliquer le test ADF aux séries différenciées\n",
    "perform_adf_test(diff_unemployment_series, 'Diff_Unemployment_rate')\n",
    "perform_adf_test(diff_gdp_series, 'Diff_Real_GDP')\n"
   ]
  },
  {
   "cell_type": "markdown",
   "metadata": {},
   "source": [
    "Les valeurs des p-values sont toujours trop élevées pour les deux séries et ne permettent pas de rejeter l'hypothèse nulle. \n",
    "\n",
    "Cela suggère que même après la première différenciation, les séries nen sont pas encore stationnaire.\n",
    "Nous pouvons envisager d'effectuer une différenciation supplémentaire pour voir si cela améliore la stationnarité des séries."
   ]
  },
  {
   "cell_type": "code",
   "execution_count": 31,
   "metadata": {},
   "outputs": [
    {
     "name": "stdout",
     "output_type": "stream",
     "text": [
      "Test ADF pour la série Diff2_Unemployment_Series:\n",
      "ADF Statistic: -3.478648646023418\n",
      "p-value: 0.008552675518290713\n",
      "Nombre de lags utilisés: 2\n",
      "Nombre d'observations utilisées: 112\n",
      "Valeurs critiques:\n",
      "   1%: -3.4901313156261384\n",
      "   5%: -2.8877122815688776\n",
      "   10%: -2.5807296460459184\n",
      "Test ADF pour la série Diff2_Real_GDP:\n",
      "ADF Statistic: -2.819753522190142\n",
      "p-value: 0.05550704772181252\n",
      "Nombre de lags utilisés: 2\n",
      "Nombre d'observations utilisées: 112\n",
      "Valeurs critiques:\n",
      "   1%: -3.4901313156261384\n",
      "   5%: -2.8877122815688776\n",
      "   10%: -2.5807296460459184\n"
     ]
    }
   ],
   "source": [
    "# Deuxième différenciation pour Diff_Unemployment_series\n",
    "diff2_unemployment_series = diff_unemployment_series.diff().dropna()\n",
    "\n",
    "# Deuxième différenciation pour Diff_Real_GDP\n",
    "diff2_gdp_series = diff_gdp_series.diff().dropna()\n",
    "\n",
    "# Test ADF pour la deuxième différenciation\n",
    "perform_adf_test(diff2_unemployment_series, 'Diff2_Unemployment_Series')\n",
    "# Test ADF pour la deuxième différenciation\n",
    "perform_adf_test(diff2_gdp_series, 'Diff2_Real_GDP')"
   ]
  },
  {
   "cell_type": "markdown",
   "metadata": {},
   "source": [
    "Les valeurs des p-values pour la deuxième différenciation des deux séries sont faibles. Cela suggère que, après la deuxième différenciation, nous pouvons rejeter l'hypothèse nulle selon laquelle chaque série n'est pas stationnaire. Par conséquent, les deux sérries obtenues après deux différentiations semblent être stationnaires.\n",
    "\n",
    "Cela est une bonne nouvelle car la stationnarité est une condition importante pour l'application de modèles ARDL. À ce stade, nous pouvons utiliser les séries temporelles différenciées (2 fois) dans notre modèle ARDL pour étudier la relation entre le taux de chômage et le PIB. "
   ]
  },
  {
   "cell_type": "markdown",
   "metadata": {},
   "source": [
    "Par ailleurs, il faut également prendre en compte le nombre approprié de retards (lags) pour chaque variable afin de spécifier correctement notre modèle.\n",
    "Pour déterminer le nombre optimal de retards (lags) dans un modèle ARDL, nous pouvons utiliser des graphiques de la fonction d'autocorrélation (ACF) et de la fonction d'autocorrélation partielle (PACF). Ces graphiques peuvent nous aider à identifier les retards significatifs qui affectent la série temporelle.\n",
    "Ces graphiques aident à visualiser les corrélations entre les observations à différents retards. Nous devons rechercher des retards significatifs où les corrélations sont en dehors de l'intervalle de confiance."
   ]
  },
  {
   "cell_type": "code",
   "execution_count": 32,
   "metadata": {},
   "outputs": [
    {
     "data": {
      "image/png": "[encoded data removed]",
      "text/plain": [
       "<Figure size 1200x600 with 1 Axes>"
      ]
     },
     "metadata": {},
     "output_type": "display_data"
    },
    {
     "data": {
      "image/png": "[encoded data removed]",
      "text/plain": [
       "<Figure size 1200x600 with 1 Axes>"
      ]
     },
     "metadata": {},
     "output_type": "display_data"
    }
   ],
   "source": [
    "import statsmodels.api as sm\n",
    "from statsmodels.graphics.tsaplots import plot_acf, plot_pacf\n",
    "\n",
    "# Supposons que df_diff soit votre DataFrame avec les séries temporelles différenciées\n",
    "# Vous pouvez remplacer 'Diff_Unemployment_rate' et 'Diff_Real_GDP' par les noms réels de vos colonnes.\n",
    "df_diff = d.pd.DataFrame({\n",
    "    'Diff2_Unemployment_rate': diff2_unemployment_series,\n",
    "    'Diff2_Real_GDP': diff2_gdp_series\n",
    "})\n",
    "\n",
    "# Tracez les fonctions d'autocorrélation (ACF) et d'autocorrélation partielle (PACF)\n",
    "fig, ax = d.plt.subplots(figsize=(12, 6))\n",
    "\n",
    "# ACF\n",
    "plot_acf(df_diff['Diff2_Unemployment_rate'], ax=ax, lags=40, title='ACF - Diff2_Unemployment_rate')\n",
    "d.plt.show()\n",
    "\n",
    "# PACF\n",
    "fig, ax = d.plt.subplots(figsize=(12, 6))\n",
    "plot_pacf(df_diff['Diff2_Unemployment_rate'], ax=ax, lags=40, title='PACF - Diff2_Unemployment_rate')\n",
    "d.plt.show()\n"
   ]
  },
  {
   "cell_type": "markdown",
   "metadata": {},
   "source": [
    "Si le premier pic dans la fonction d'autocorrélation (ACF) est très élevé et significatif, et qu'il est en dehors de l'intervalle de confiance, cela suggère qu'un seul retard (lag = 1) pourrait être suffisant pour capturer l'autocorrélation significative dans nos données.\n",
    "\n",
    "Choisir un seul retard peut également simplifier notre modèle ARDL et le rendre plus interprétable. "
   ]
  },
  {
   "cell_type": "code",
   "execution_count": 33,
   "metadata": {},
   "outputs": [
    {
     "data": {
      "image/png": "[encoded data removed]",
      "text/plain": [
       "<Figure size 1200x600 with 1 Axes>"
      ]
     },
     "metadata": {},
     "output_type": "display_data"
    },
    {
     "data": {
      "image/png": "[encoded data removed]",
      "text/plain": [
       "<Figure size 1200x600 with 1 Axes>"
      ]
     },
     "metadata": {},
     "output_type": "display_data"
    }
   ],
   "source": [
    "# Tracez les fonctions d'autocorrélation (ACF) et d'autocorrélation partielle (PACF) pour GDP\n",
    "fig, ax = d.plt.subplots(figsize=(12, 6))\n",
    "\n",
    "# ACF\n",
    "plot_acf(df_diff['Diff2_Real_GDP'], ax=ax, lags=40, title='ACF - Diff2_Real_GDP')\n",
    "d.plt.show()\n",
    "\n",
    "# PACF\n",
    "fig, ax = d.plt.subplots(figsize=(12, 6))\n",
    "plot_pacf(df_diff['Diff2_Real_GDP'], ax=ax, lags=40, title='PACF - Diff2_Real_GDP')\n",
    "d.plt.show()\n"
   ]
  },
  {
   "cell_type": "markdown",
   "metadata": {},
   "source": [
    "Le modèle présenté ci-dessous est une spécification simple d'un modèle ARDL (AutoRegressive Distributed Lag). Cependant, la dynamique temporelle est partiellement prise en compte dans la mesure où le modèle inclut un lag du taux de chômage (Diff_Unemployment_rate) pour capturer l'effet retardé sur la variable dépendante (Diff2_Real_GDP).\n"
   ]
  },
  {
   "cell_type": "code",
   "execution_count": 34,
   "metadata": {},
   "outputs": [
    {
     "name": "stdout",
     "output_type": "stream",
     "text": [
      "                            OLS Regression Results                            \n",
      "==============================================================================\n",
      "Dep. Variable:         Diff2_Real_GDP   R-squared:                       1.000\n",
      "Model:                            OLS   Adj. R-squared:                  1.000\n",
      "Method:                 Least Squares   F-statistic:                 2.618e+04\n",
      "Date:                Wed, 27 Dec 2023   Prob (F-statistic):          2.63e-154\n",
      "Time:                        19:24:09   Log-Likelihood:                 1251.0\n",
      "No. Observations:                 106   AIC:                            -2464.\n",
      "Df Residuals:                      87   BIC:                            -2413.\n",
      "Df Model:                          18                                         \n",
      "Covariance Type:            nonrobust                                         \n",
      "=============================================================================================\n",
      "                                coef    std err          t      P>|t|      [0.025      0.975]\n",
      "---------------------------------------------------------------------------------------------\n",
      "const                      3.136e-07   2.74e-07      1.146      0.255    -2.3e-07    8.57e-07\n",
      "Diff2_Unemployment_rate      -0.0016      0.001     -1.416      0.160      -0.004       0.001\n",
      "Diff2_Real_GDP                2.6918      0.106     25.322      0.000       2.480       2.903\n",
      "Diff2_Unemployment_rate_1     0.0034      0.003      1.104      0.273      -0.003       0.009\n",
      "Diff2_Real_GDP_1             -2.5532      0.303     -8.419      0.000      -3.156      -1.950\n",
      "Diff2_Unemployment_rate_2    -0.0026      0.004     -0.681      0.498      -0.010       0.005\n",
      "Diff2_Real_GDP_2              1.1147      0.406      2.748      0.007       0.309       1.921\n",
      "Diff2_Unemployment_rate_3     0.0028      0.004      0.745      0.458      -0.005       0.010\n",
      "Diff2_Real_GDP_3             -0.4993      0.423     -1.181      0.241      -1.340       0.341\n",
      "Diff2_Unemployment_rate_4    -0.0034      0.004     -0.908      0.367      -0.011       0.004\n",
      "Diff2_Real_GDP_4              0.2993      0.414      0.723      0.472      -0.524       1.122\n",
      "Diff2_Unemployment_rate_5     0.0020      0.004      0.534      0.594      -0.006       0.010\n",
      "Diff2_Real_GDP_5             -0.1331      0.337     -0.395      0.694      -0.803       0.537\n",
      "Diff2_Unemployment_rate_6    -0.0033      0.004     -0.857      0.394      -0.011       0.004\n",
      "Diff2_Real_GDP_6              0.2056      0.220      0.934      0.353      -0.232       0.643\n",
      "Diff2_Unemployment_rate_7     0.0047      0.003      1.488      0.140      -0.002       0.011\n",
      "Diff2_Real_GDP_7             -0.1776      0.152     -1.165      0.247      -0.480       0.125\n",
      "Diff2_Unemployment_rate_8    -0.0021      0.001     -1.778      0.079      -0.005       0.000\n",
      "Diff2_Real_GDP_8              0.0470      0.056      0.837      0.405      -0.065       0.159\n",
      "==============================================================================\n",
      "Omnibus:                        4.916   Durbin-Watson:                   1.979\n",
      "Prob(Omnibus):                  0.086   Jarque-Bera (JB):                6.079\n",
      "Skew:                           0.176   Prob(JB):                       0.0479\n",
      "Kurtosis:                       4.119   Cond. No.                     3.69e+06\n",
      "==============================================================================\n",
      "\n",
      "Notes:\n",
      "[1] Standard Errors assume that the covariance matrix of the errors is correctly specified.\n",
      "[2] The smallest eigenvalue is 7.78e-12. This might indicate that there are\n",
      "strong multicollinearity problems or that the design matrix is singular.\n"
     ]
    }
   ],
   "source": [
    "import statsmodels.api as sm\n",
    "\n",
    "# Définir les lags appropriés\n",
    "lags_ur = 6  # Lags pour Diff2_Unemployment_rate\n",
    "lags_gdp = 8  # Lags pour Diff2_Real_GDP\n",
    "\n",
    "# Créer les matrices de variables explicatives\n",
    "x = sm.add_constant(df_diff[['Diff2_Unemployment_rate', 'Diff2_Real_GDP']])\n",
    "for lag in range(1, max(lags_ur, lags_gdp) + 1):\n",
    "    x[f'Diff2_Unemployment_rate_{lag}'] = df_diff['Diff2_Unemployment_rate'].shift(lag)\n",
    "    x[f'Diff2_Real_GDP_{lag}'] = df_diff['Diff2_Real_GDP'].shift(lag)\n",
    "\n",
    "# Supprimer les lignes avec des valeurs manquantes\n",
    "x = x.dropna()\n",
    "\n",
    "# Définir la variable dépendante\n",
    "y = df_diff['Diff2_Real_GDP'].shift(-1).dropna()\n",
    "\n",
    "# Vérifier que les deux dataframes ont bien les mêmes données\n",
    "Y = y[y.index.isin(x.index)]\n",
    "X = x[x.index.isin(Y.index)]\n",
    "\n",
    "# Ajuster le modèle ARDL\n",
    "model = sm.OLS(Y, X)\n",
    "results = model.fit()\n",
    "\n",
    "# Afficher les résultats\n",
    "print(results.summary())"
   ]
  },
  {
   "cell_type": "markdown",
   "metadata": {},
   "source": [
    "Les résultats de la régression indiquent ce qui suit pour le modèle ARDL que nous avons ajusté :\n",
    "\n",
    "- R-squared : Le coefficient de détermination () est proche de zéro (0.000), ce qui suggère que le modèle n'explique qu'une très faible proportion de la variabilité de la variable dépendante (Diff2_Real_GDP).\n",
    "\n",
    "- Coefficients :\n",
    "    - Intercept : Le coefficient associé à l'intercept est proche de zéro (0.0001) et non significatif (p-value de 0.878).\n",
    "    - Diff_Unemployment_rate : Le coefficient associé à la variable explicative (Diff_Unemployment_rate) est également proche de zéro (-0.0006) et non significatif (p-value de 0.823).\n",
    "\n",
    "- Statistiques de test :\n",
    "    - F-statistic : La statistique F (0.05047) est très faible, indiquant une faible significativité globale du modèle.\n",
    "    - Prob (F-statistic) : La p-value associée à la statistique F est élevée (0.823), ce qui suggère que le modèle dans son ensemble n'est pas statistiquement significatif.\n",
    "\n",
    "- Autres informations :\n",
    "    - Log-Likelihood : La valeur de la log-vraisemblance (-725.1) est utilisée pour comparer différents modèles. Des valeurs plus basses sont préférées, mais cela dépend également du contexte.\n",
    "\n",
    "En conclusion, les résultats suggèrent que le modèle actuel n'est pas statistiquement significatif et n'explique qu'une très faible proportion de la variabilité de Diff2_Real_GDP. Il peut être nécessaire de reconsidérer la spécification du modèle, d'explorer d'autres variables explicatives potentielles ou de prendre en compte des lags supplémentaires. De plus, la violation de l'hypothèse de normalité des résidus peut indiquer des problèmes potentiels avec le modèle."
   ]
  },
  {
   "cell_type": "markdown",
   "metadata": {},
   "source": [
    "## Tirage d'un pays de manière aléatoire dans chaque cluster et application du modèle"
   ]
  },
  {
   "cell_type": "code",
   "execution_count": 35,
   "metadata": {},
   "outputs": [
    {
     "name": "stdout",
     "output_type": "stream",
     "text": [
      "Cluster 1: NZL\n",
      "Cluster 2: SVN\n",
      "Cluster 3: ROU\n",
      "Cluster 4: LTU\n"
     ]
    }
   ],
   "source": [
    "# Afficher le pays sélectionné de manière aléatoire dans chaque cluster\n",
    "list_random_countries = []\n",
    "for cluster_num in range(num_clusters):\n",
    "    countries_in_cluster = df_cluster[df_cluster['Cluster'] == cluster_num].index\n",
    "    random_country = d.np.random.choice(countries_in_cluster)\n",
    "    list_random_countries.append(random_country)\n",
    "    print(f'Cluster {cluster_num + 1}: {random_country}')"
   ]
  }
 ],
 "metadata": {
  "kernelspec": {
   "display_name": "Python 3",
   "language": "python",
   "name": "python3"
  },
  "language_info": {
   "codemirror_mode": {
    "name": "ipython",
    "version": 3
   },
   "file_extension": ".py",
   "mimetype": "text/x-python",
   "name": "python",
   "nbconvert_exporter": "python",
   "pygments_lexer": "ipython3",
   "version": "3.11.7"
  }
 },
 "nbformat": 4,
 "nbformat_minor": 2
}

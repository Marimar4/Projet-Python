{
 "cells": [
  {
   "cell_type": "markdown",
   "metadata": {},
   "source": [
    " <div style=\"text-align:center;\">\n",
    "  <span style=\"color:green; font-size:2em; font-weight:bold;\">Modélisation</span><br><br>"
   ]
  },
  {
   "cell_type": "markdown",
   "metadata": {},
   "source": [
    "# <span style=\"color:green\">Introduction</span><br><br> "
   ]
  },
  {
   "cell_type": "markdown",
   "metadata": {},
   "source": [
    "### <span style=\"color:green\">Références et équations de base de la relation d'Okun</span><br><br> "
   ]
  },
  {
   "cell_type": "markdown",
   "metadata": {},
   "source": [
    "Dans cette partie, nous allons proposer une modélisation permettant de vérifier empiriquement la loi d'Okun, à partir des bases de données établies dans la partie \"Préparation_données.ipynb\".\n",
    "\n",
    "La loi d'Okun, indique que : \"chaque fois que le PIB chute d'un certain pourcentage, par rapport au produit potentiel, le taux de chômage augmente d'environ un point de pourcentage. Ainsi, lorsque le PIB réel diminue, le taux de chômage augmente.\" (Mankiw, 2003)\n",
    "\n",
    "Pour cette modélisation, on s'inspire des travaux suivants : \n",
    "\n",
    "- [1]. Traoré, D. L., Diakite, S., & Mariko, O. (2021). Croissance et chômage au Mali : Vérification empirique de la loi d'Okun. Revue Malienne de Science et de Technologie, Série C : Sciences Humaines et Sociales, 02(25), Page. ISSN 1987-1031. CNRST, Bamako, Mali.\n",
    "\n",
    "- [2]. Aassif, Z. L'extraction de la tendance cycle. Haut-Commissariat au Plan, Direction de la comptabilité nationale. \n",
    "\n",
    "- [3]. Belaidi, N. (2022, 28 mars). Validation croisée en Machine Learning. Consulté le  12 décembre 2023. URL : https://blent.ai/blog/a/validation-croisee-machine-learning.\n",
    "\n",
    "\n",
    "Le travail [1] nous présente deux équations de base de la relation d'Okun, la version en \"différences premières\" et la \"version gap\".\n",
    "\n",
    "- Version en \"différences premières\" : \n",
    "$$\\Delta u = C + \\beta\\Delta \\text{pib} + \\epsilon$$\n",
    "\n",
    "- \"Version gap\" : \n",
    "$$u - u^* = c + \\beta^*(\\text{pib} - \\text{pib}^*) + \\epsilon$$\n",
    "\n",
    "avec $u$ le taux de chômage, $u^*$ le taux de chômage naturel, $\\text{pib}^*$ le PIB potentiel et c, $\\beta$ et $\\epsilon$  des constantes à déterminer grâce à la modélisation. "
   ]
  },
  {
   "cell_type": "markdown",
   "metadata": {},
   "source": [
    "### <span style=\"color:green\">Equation et outils utilisés dans notre modélisation</span><br><br> "
   ]
  },
  {
   "cell_type": "markdown",
   "metadata": {},
   "source": [
    "Pour la modélisation, nous allons utiliser la version \"gap\", qui relie le taux de chômage et le PIB de la manière suivante : \n",
    "\n",
    "$$u - u^* = c + \\beta^*(\\text{pib} - \\text{pib}^*) + \\epsilon$$\n",
    "\n",
    "Pour extraire la tendance à long terme du taux de chômage et du PIB (c'est-à-dire, le taux de chômage naturel et le PIB potentiel), à partir de la base de données, nous allons utiliser le filtre de Hodrick-Prescott. Ce filtre est introduit dans [2], et permet de décomposer une série selon sa tendance à long terme et son cycle (fluctuations autour de la tendance) à plus court terme.\n",
    "\n",
    "Par ailleurs, pour prendre en compte la dynamique temporelle de nos données, nous allons utiliser le modèle ARDL (Auto Regressive Distributed Lag), introduit dans [2]."
   ]
  },
  {
   "cell_type": "markdown",
   "metadata": {},
   "source": [
    "### <span style=\"color:green\">Les différentes étapes de notre modélisation</span><br><br> \n"
   ]
  },
  {
   "cell_type": "markdown",
   "metadata": {},
   "source": [
    "Pour effectuer notre modélisation sur les données obtenues suite au traitement, nous allons tout d'abord regrouper les pays présents selon différents critères, grâce à la technique du clustering. \n",
    "Nous sélectionnerons un pays de manière aléatoire au sein de chaque groupe afin de vérifier la loi d'Okun (ou alors nous vérifierons la loi d'Okun pour chaque groupe après agrégation).\n",
    "\n",
    "(Par ailleurs, nous allons utiliser une méthode de validation croisée afin de valider notre modèle. Nous allons tout d'abord établir les paramètres du modèle grâce au jeu d'entrainement reprenant les données de 1994 à 2016 ; puis nous vérifierons la précision du modèle grâce au jeu de test reprenant les données de 2017 à 2023.)\n"
   ]
  },
  {
   "cell_type": "markdown",
   "metadata": {},
   "source": [
    "# <span style=\"color:green\"> I- Extraction de la tendance à long terme du taux de chômage et du PIB</span><br><br> "
   ]
  },
  {
   "cell_type": "markdown",
   "metadata": {},
   "source": [
    "## <span style=\"color:green\"> Importation des bases de données</span><br><br> "
   ]
  },
  {
   "cell_type": "code",
   "execution_count": null,
   "metadata": {},
   "outputs": [],
   "source": [
    "import declarations as d "
   ]
  },
  {
   "cell_type": "code",
   "execution_count": null,
   "metadata": {},
   "outputs": [],
   "source": [
    "# Bases de données relatives au PIB et au taux de chômage\n",
    "quart_data = d.pd.read_csv('bases/quart_data.csv', encoding='latin-1')\n",
    "data_moyenne = d.pd.read_csv('bases/donnees_moyennees.csv', encoding = 'latin-1')"
   ]
  },
  {
   "cell_type": "code",
   "execution_count": null,
   "metadata": {},
   "outputs": [],
   "source": [
    "# Base de données relative aux variables considérées pour le clustering"
   ]
  },
  {
   "cell_type": "markdown",
   "metadata": {},
   "source": [
    "## <span style=\"color:green\">Extraction de la tendance à long terme pour le PIB (gdp)</span><br><br> "
   ]
  },
  {
   "cell_type": "code",
   "execution_count": null,
   "metadata": {},
   "outputs": [],
   "source": [
    "quart_data.head(2)"
   ]
  },
  {
   "cell_type": "markdown",
   "metadata": {},
   "source": [
    "## <span style=\"color:green\">Extraction de la tendance à long terme pour le taux de chômage (rate)</span><br><br> "
   ]
  },
  {
   "cell_type": "code",
   "execution_count": null,
   "metadata": {},
   "outputs": [],
   "source": [
    "# Extraire toutes les colonnes avec le suffixe \"_rate\" ainsi que la colonne des dates\n",
    "columns_rate = ['Dates'] + [col for col in quart_data.columns if col.endswith('_rate')] \n",
    "df_rates = quart_data[columns_rate]\n",
    "df_rates.set_index('Dates', inplace = True)\n",
    "\n",
    "df_rates.head(2)"
   ]
  },
  {
   "cell_type": "code",
   "execution_count": null,
   "metadata": {},
   "outputs": [],
   "source": [
    "# Extraire toutes les colonnes avec le suffixe \"_gdp\" ainsi que la colonne des dates\n",
    "columns_gdp = ['Dates'] + [col for col in quart_data.columns if col.endswith('_gdp')] \n",
    "df_gdp = quart_data[columns_gdp]\n",
    "df_gdp.set_index('Dates', inplace = True)\n",
    "\n",
    "df_gdp.head(2)"
   ]
  },
  {
   "cell_type": "code",
   "execution_count": null,
   "metadata": {},
   "outputs": [],
   "source": [
    "import statsmodels.tsa.filters.hp_filter as smf\n",
    "import statsmodels.tsa.ardl as sma\n",
    "import statsmodels.api as sm"
   ]
  },
  {
   "cell_type": "markdown",
   "metadata": {},
   "source": [
    " ## <span style=\"color:green\">Exemple de la Belgique</span><br><br> "
   ]
  },
  {
   "cell_type": "markdown",
   "metadata": {},
   "source": [
    "### <span style=\"color:green\">Extraction de la tendance de la série</span><br><br> "
   ]
  },
  {
   "cell_type": "code",
   "execution_count": null,
   "metadata": {},
   "outputs": [],
   "source": [
    "# Extraction de la tendance long terme du taux de chômage\n",
    "x = df_rates['BEL_rate']\n",
    "\n",
    "# Appliquer le filtre de Hodrick-Prescott\n",
    "tendance_x, cycle_x = smf.hpfilter(x, lamb=1600)\n",
    "\n",
    "# Afficher les résultats\n",
    "d.plt.plot(x, label='Série originale')\n",
    "d.plt.plot(tendance_x, label='Tendance')\n",
    "d.plt.plot(cycle_x, label='Cycle')\n",
    "d.plt.legend()\n",
    "d.plt.show()"
   ]
  },
  {
   "cell_type": "code",
   "execution_count": null,
   "metadata": {},
   "outputs": [],
   "source": [
    "# Extraction de la tendance long terme du PIB\n",
    "y = df_gdp['BEL_gdp']\n",
    "\n",
    "# Appliquer le filtre de Hodrick-Prescott\n",
    "tendance_y, cycle_y = smf.hpfilter(y, lamb=1600)\n",
    "\n",
    "# Afficher les résultats\n",
    "d.plt.plot(x, label='Série originale')\n",
    "d.plt.plot(tendance_y, label='Tendance')\n",
    "d.plt.plot(cycle_y, label='Cycle')\n",
    "d.plt.legend()\n",
    "d.plt.show()"
   ]
  },
  {
   "cell_type": "code",
   "execution_count": null,
   "metadata": {},
   "outputs": [],
   "source": [
    "nouveau_x = x - tendance_x\n",
    "nouveau_y = y - tendance_y"
   ]
  },
  {
   "cell_type": "code",
   "execution_count": null,
   "metadata": {},
   "outputs": [],
   "source": [
    "dfx = nouveau_x.reset_index().rename(columns={'index': 'Dates'})\n",
    "dfx = dfx.rename(columns = {0:'rates'})"
   ]
  },
  {
   "cell_type": "code",
   "execution_count": null,
   "metadata": {},
   "outputs": [],
   "source": [
    "dfy = nouveau_y.reset_index().rename(columns={'index': 'Dates'})\n",
    "dfy = dfy.rename(columns = {0 :'gdp'})"
   ]
  },
  {
   "cell_type": "code",
   "execution_count": null,
   "metadata": {},
   "outputs": [],
   "source": [
    "data_Belgique = d.pd.merge(dfx, dfy, on='Dates', how='inner')\n",
    "data_Belgique.head(2)"
   ]
  },
  {
   "cell_type": "markdown",
   "metadata": {},
   "source": [
    "### <span style=\"color:darkred\">Régression linéaire simple avec la méthode OLS</span><br><br> \n",
    "\n",
    "La régression linéaire simple considère chaque observation comme indépendante des autres, ce qui signifie qu'elle ne modélise pas l'autocorrélation ou la dépendance temporelle potentielle entre les observations successives. "
   ]
  },
  {
   "cell_type": "code",
   "execution_count": null,
   "metadata": {},
   "outputs": [],
   "source": [
    "# S'assurer que la colonne Dates est au format datetime\n",
    "data_Belgique['Dates'] = d.pd.to_datetime(data_Belgique['Dates'])\n",
    "\n",
    "# Ajouter une constante à vos données pour inclure l'intercept dans le modèle\n",
    "data_Belgique['const'] = 1\n",
    "\n",
    "# Spécifier les variables indépendantes (X) et dépendante (y)\n",
    "X = data_Belgique[['const', 'rates']]\n",
    "y = data_Belgique['gdp']\n",
    "\n",
    "# Créer et ajuster le modèle de régression linéaire\n",
    "model = sm.OLS(y, X)\n",
    "results = model.fit()\n",
    "\n",
    "# Afficher les résultats du modèle\n",
    "print(results.summary())\n"
   ]
  },
  {
   "cell_type": "markdown",
   "metadata": {},
   "source": [
    "### <span style=\"color:darkred\">Modèle ARIMA (AutoRegressive Integrated Moving Average)</span><br><br> \n",
    "\n",
    "Ici, on considère un modèle de séries temporelles, qui capture la dépendance temporelle et modélise la dynamique temporelle des données."
   ]
  },
  {
   "cell_type": "code",
   "execution_count": null,
   "metadata": {},
   "outputs": [],
   "source": [
    "# AACF (AutoCorrelation Function)\n",
    "# PACF (Partial AutoCorrelation Function)\n",
    "\n",
    "from statsmodels.graphics.tsaplots import plot_acf, plot_pacf\n",
    "\n",
    "# Tracez l'ACF et PACF\n",
    "fig, ax = d.plt.subplots(1, 2, figsize=(12, 4))\n",
    "plot_acf(data_Belgique['gdp'], lags=20, ax=ax[0])\n",
    "plot_pacf(data_Belgique['gdp'], lags=20, ax=ax[1])\n",
    "d.plt.show()\n"
   ]
  },
  {
   "cell_type": "code",
   "execution_count": null,
   "metadata": {},
   "outputs": [],
   "source": [
    "# Créer et ajuster le modèle ARIMA\n",
    "model = sm.tsa.ARIMA(data_Belgique['gdp'], order=(2, 2, 11))  # Spécifier l'ordre du modèle ARIMA\n",
    "results = model.fit()\n",
    "\n",
    "# Afficher les résultats du modèle\n",
    "print(results.summary())\n"
   ]
  },
  {
   "cell_type": "markdown",
   "metadata": {},
   "source": [
    "### <span style=\"color:darkred\">Modèle ARDL</span><br><br> "
   ]
  },
  {
   "cell_type": "code",
   "execution_count": null,
   "metadata": {},
   "outputs": [],
   "source": [
    "# Spécifiez les paramètres du modèle ARDL\n",
    "endog_variable = data_Belgique['gdp']\n",
    "lags_endog = 2  # Nombre de retards pour la variable endogène\n",
    "exog_variables = data_Belgique['rates']\n",
    "lags_exog = [1, 2]  # Nombre de retards pour les variables exogènes\n",
    "trend = 'c'  # 'c' pour une constante, 'ct' pour une constante et une tendance linéaire, ou None pour aucun\n",
    "\n",
    "# Créez le modèle ARDL\n",
    "model_ardl = sma.ARDL(endog_variable, lags=lags_endog, exog=exog_variables, order=lags_exog, trend=trend)\n",
    "\n",
    "# Ajustez le modèle\n",
    "results = model_ardl.fit()\n",
    "\n",
    "# Affichez les résultats du modèle\n",
    "print(results.summary())\n"
   ]
  },
  {
   "cell_type": "code",
   "execution_count": null,
   "metadata": {},
   "outputs": [],
   "source": [
    "# Spécifiez les retards que vous souhaitez inclure\n",
    "lags = 2\n",
    "\n",
    "# Créez des colonnes de lags pour rates\n",
    "for i in range(1, lags + 1):\n",
    "    data_Belgique[f'rates_lag{i}'] = data_Belgique['rates'].shift(i)\n",
    "\n",
    "# Spécifiez les variables indépendantes (X) et dépendante (y)\n",
    "X = data_Belgique[['const', 'rates_lag1', 'rates_lag2']]\n",
    "y = data_Belgique['gdp']\n",
    "\n",
    "# Éliminez les lignes avec des valeurs manquantes introduites par les lags\n",
    "data_Belgique = data_Belgique.dropna()\n",
    "\n",
    "# Créez et ajustez le modèle de régression linéaire avec lags\n",
    "model = sm.OLS(y, X)\n",
    "results = model.fit()\n",
    "\n",
    "# Affichez les résultats du modèle\n",
    "print(results.summary())\n"
   ]
  },
  {
   "cell_type": "markdown",
   "metadata": {},
   "source": [
    "# II- Clustering : regroupement des pays selon des critères de développement"
   ]
  },
  {
   "cell_type": "markdown",
   "metadata": {},
   "source": [
    "# III- Vérification de la loi pour un pays tiré de manière i.i.d. dans chaque groupe\n"
   ]
  },
  {
   "cell_type": "code",
   "execution_count": null,
   "metadata": {},
   "outputs": [],
   "source": []
  }
 ],
 "metadata": {
  "kernelspec": {
   "display_name": "Python 3",
   "language": "python",
   "name": "python3"
  },
  "language_info": {
   "codemirror_mode": {
    "name": "ipython",
    "version": 3
   },
   "file_extension": ".py",
   "mimetype": "text/x-python",
   "name": "python",
   "nbconvert_exporter": "python",
   "pygments_lexer": "ipython3",
   "version": "3.11.7"
  }
 },
 "nbformat": 4,
 "nbformat_minor": 2
}

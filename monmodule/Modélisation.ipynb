{
 "cells": [
  {
   "cell_type": "markdown",
   "metadata": {},
   "source": [
    " <div style=\"text-align:center;\">\n",
    "   <span style=\"color:white; font-size:larger; font-weight:bold;\">Modélisation</span><br><br>\n",
    "</div>"
   ]
  },
  {
   "cell_type": "markdown",
   "metadata": {},
   "source": [
    "# Introduction"
   ]
  },
  {
   "cell_type": "markdown",
   "metadata": {},
   "source": [
    "## Références et équations de base de la relation d'Okun"
   ]
  },
  {
   "cell_type": "markdown",
   "metadata": {},
   "source": [
    "Dans cette partie, nous allons proposer une modélisation permettant de vérifier empiriquement la loi d'Okun, à partir des bases de données établies dans la partie \"Préparation_données.ipynb\".\n",
    "\n",
    "La loi d'Okun, indique que : \"chaque fois que le PIB chute d'un certain pourcentage, par rapport au produit potentiel, le taux de chômage augmente d'environ un point de pourcentage. Ainsi, lorsque le PIB réel diminue, le taux de chômage augmente.\" (Mankiw, 2003)\n",
    "\n",
    "Pour cette modélisation, on s'inspire des travaux suivants : \n",
    "\n",
    "- [1]. Traoré, D. L., Diakite, S., & Mariko, O. (2021). Croissance et chômage au Mali : Vérification empirique de la loi d'Okun. Revue Malienne de Science et de Technologie, Série C : Sciences Humaines et Sociales, 02(25), Page. ISSN 1987-1031. CNRST, Bamako, Mali.\n",
    "\n",
    "- [2]. Aassif, Z. L'extraction de la tendance cycle. Haut-Commissariat au Plan, Direction de la comptabilité nationale. \n",
    "\n",
    "- [3]. Belaidi, N. (2022, 28 mars). Validation croisée en Machine Learning. Consulté le  12 décembre 2023. URL : https://blent.ai/blog/a/validation-croisee-machine-learning.\n",
    "\n",
    "\n",
    "Le travail [1] nous présente deux équations de base de la relation d'Okun, la version en \"différences premières\" et la \"version gap\".\n",
    "\n",
    "- Version en \"différences premières\" : \n",
    "$$\\Delta u = C + \\beta\\Delta \\text{pib} + \\epsilon$$\n",
    "\n",
    "- \"Version gap\" : \n",
    "$$u - u^* = c + \\beta^*(\\text{pib} - \\text{pib}^*) + \\epsilon$$\n",
    "\n",
    "avec $u$ le taux de chômage, $u^*$ le taux de chômage naturel, $\\text{pib}^*$ le PIB potentiel et c, $\\beta$ et $\\epsilon$  des constantes à déterminer grâce à la modélisation. "
   ]
  },
  {
   "cell_type": "markdown",
   "metadata": {},
   "source": [
    "## Equation et outils utilisés dans notre modélisation"
   ]
  },
  {
   "cell_type": "markdown",
   "metadata": {},
   "source": [
    "Pour la modélisation, nous allons utiliser la version \"gap\", qui relie le taux de chômage et le PIB de la manière suivante : \n",
    "\n",
    "$$u - u^* = c + \\beta^*(\\text{pib} - \\text{pib}^*) + \\epsilon$$\n",
    "\n",
    "Pour extraire la tendance à long terme du taux de chômage et du PIB (c'est-à-dire, le taux de chômage naturel et le PIB potentiel), à partir de la base de données, nous allons utiliser le filtre de Hodrick-Prescott. Ce filtre est introduit dans [2], et permet de décomposer une série selon sa tendance à long terme et son cycle (fluctuations autour de la tendance) à plus court terme.\n",
    "\n",
    "Par ailleurs, pour prendre en compte la dynamique temporelle de nos données, nous allons utiliser le modèle ARDL (Auto Regressive Distributed Lag), introduit dans [2]."
   ]
  },
  {
   "cell_type": "markdown",
   "metadata": {},
   "source": [
    "## Les différentes étapes de notre modélisation\n"
   ]
  },
  {
   "cell_type": "markdown",
   "metadata": {},
   "source": [
    "Pour effectuer notre modélisation sur les données obtenues suite au traitement, nous allons tout d'abord regrouper les pays présents selon différents critères, grâce à la technique du clustering. \n",
    "Nous sélectionnerons un pays de manière aléatoire au sein de chaque groupe afin de vérifier la loi d'Okun (ou alors nous vérifierons la loi d'Okun pour chaque groupe après agrégation).\n",
    "\n",
    "(Par ailleurs, nous allons utiliser une méthode de validation croisée afin de valider notre modèle. Nous allons tout d'abord établir les paramètres du modèle grâce au jeu d'entrainement reprenant les données de 1994 à 2016 ; puis nous vérifierons la précision du modèle grâce au jeu de test reprenant les données de 2017 à 2023.)\n"
   ]
  },
  {
   "cell_type": "markdown",
   "metadata": {},
   "source": [
    "# I- Extraction de la tendance à long terme du taux de chômage et du PIB"
   ]
  },
  {
   "cell_type": "markdown",
   "metadata": {},
   "source": [
    "## Importation des bases de données"
   ]
  },
  {
   "cell_type": "code",
   "execution_count": 9,
   "metadata": {},
   "outputs": [],
   "source": [
    "import declarations as d "
   ]
  },
  {
   "cell_type": "code",
   "execution_count": 10,
   "metadata": {},
   "outputs": [],
   "source": [
    "# Bases de données relatives au PIB et au taux de chômage\n",
    "quart_data = d.pd.read_csv('bases/quart_data.csv', encoding='latin-1')\n",
    "data_moyenne = d.pd.read_csv('bases/donnees_moyennees.csv', encoding = 'latin-1')"
   ]
  },
  {
   "cell_type": "code",
   "execution_count": 11,
   "metadata": {},
   "outputs": [],
   "source": [
    "# Base de données relative aux variables considérées pour le clustering"
   ]
  },
  {
   "cell_type": "markdown",
   "metadata": {},
   "source": [
    "## Extraction de la tendance à long terme pour le PIB (gdp)"
   ]
  },
  {
   "cell_type": "code",
   "execution_count": 12,
   "metadata": {},
   "outputs": [
    {
     "data": {
      "text/html": [
       "<div>\n",
       "<style scoped>\n",
       "    .dataframe tbody tr th:only-of-type {\n",
       "        vertical-align: middle;\n",
       "    }\n",
       "\n",
       "    .dataframe tbody tr th {\n",
       "        vertical-align: top;\n",
       "    }\n",
       "\n",
       "    .dataframe thead th {\n",
       "        text-align: right;\n",
       "    }\n",
       "</style>\n",
       "<table border=\"1\" class=\"dataframe\">\n",
       "  <thead>\n",
       "    <tr style=\"text-align: right;\">\n",
       "      <th></th>\n",
       "      <th>Dates</th>\n",
       "      <th>AUS_gdp</th>\n",
       "      <th>AUS_rate</th>\n",
       "      <th>AUT_gdp</th>\n",
       "      <th>AUT_rate</th>\n",
       "      <th>BEL_gdp</th>\n",
       "      <th>BEL_rate</th>\n",
       "      <th>BGR_gdp</th>\n",
       "      <th>BGR_rate</th>\n",
       "      <th>CAN_gdp</th>\n",
       "      <th>...</th>\n",
       "      <th>SVK_rate</th>\n",
       "      <th>SVN_gdp</th>\n",
       "      <th>SVN_rate</th>\n",
       "      <th>SWE_gdp</th>\n",
       "      <th>SWE_rate</th>\n",
       "      <th>URY</th>\n",
       "      <th>USA_gdp</th>\n",
       "      <th>USA_rate</th>\n",
       "      <th>YEAR_gdp</th>\n",
       "      <th>YEAR_rate</th>\n",
       "    </tr>\n",
       "  </thead>\n",
       "  <tbody>\n",
       "    <tr>\n",
       "      <th>0</th>\n",
       "      <td>1994-01</td>\n",
       "      <td>0.501645</td>\n",
       "      <td>9.814137</td>\n",
       "      <td>0.779464</td>\n",
       "      <td>6.609708</td>\n",
       "      <td>0.796550</td>\n",
       "      <td>9.641018</td>\n",
       "      <td>0.559233</td>\n",
       "      <td>14.300000</td>\n",
       "      <td>0.680429</td>\n",
       "      <td>...</td>\n",
       "      <td>14.620000</td>\n",
       "      <td>0.748256</td>\n",
       "      <td>14.650000</td>\n",
       "      <td>0.585296</td>\n",
       "      <td>10.839335</td>\n",
       "      <td>12.100000</td>\n",
       "      <td>0.650468</td>\n",
       "      <td>6.2</td>\n",
       "      <td>1994-01</td>\n",
       "      <td>1994-01</td>\n",
       "    </tr>\n",
       "    <tr>\n",
       "      <th>1</th>\n",
       "      <td>1994-04</td>\n",
       "      <td>0.504920</td>\n",
       "      <td>10.269157</td>\n",
       "      <td>0.782479</td>\n",
       "      <td>6.582263</td>\n",
       "      <td>0.800992</td>\n",
       "      <td>9.728535</td>\n",
       "      <td>0.568045</td>\n",
       "      <td>15.393333</td>\n",
       "      <td>0.689810</td>\n",
       "      <td>...</td>\n",
       "      <td>14.426667</td>\n",
       "      <td>0.768536</td>\n",
       "      <td>14.966667</td>\n",
       "      <td>0.595983</td>\n",
       "      <td>10.866990</td>\n",
       "      <td>12.083333</td>\n",
       "      <td>0.660922</td>\n",
       "      <td>6.5</td>\n",
       "      <td>1994-04</td>\n",
       "      <td>1994-04</td>\n",
       "    </tr>\n",
       "  </tbody>\n",
       "</table>\n",
       "<p>2 rows × 63 columns</p>\n",
       "</div>"
      ],
      "text/plain": [
       "     Dates   AUS_gdp   AUS_rate   AUT_gdp  AUT_rate   BEL_gdp  BEL_rate  \\\n",
       "0  1994-01  0.501645   9.814137  0.779464  6.609708  0.796550  9.641018   \n",
       "1  1994-04  0.504920  10.269157  0.782479  6.582263  0.800992  9.728535   \n",
       "\n",
       "    BGR_gdp   BGR_rate   CAN_gdp  ...   SVK_rate   SVN_gdp   SVN_rate  \\\n",
       "0  0.559233  14.300000  0.680429  ...  14.620000  0.748256  14.650000   \n",
       "1  0.568045  15.393333  0.689810  ...  14.426667  0.768536  14.966667   \n",
       "\n",
       "    SWE_gdp   SWE_rate        URY   USA_gdp  USA_rate  YEAR_gdp  YEAR_rate  \n",
       "0  0.585296  10.839335  12.100000  0.650468       6.2   1994-01    1994-01  \n",
       "1  0.595983  10.866990  12.083333  0.660922       6.5   1994-04    1994-04  \n",
       "\n",
       "[2 rows x 63 columns]"
      ]
     },
     "execution_count": 12,
     "metadata": {},
     "output_type": "execute_result"
    }
   ],
   "source": [
    "quart_data.head(2)"
   ]
  },
  {
   "cell_type": "markdown",
   "metadata": {},
   "source": [
    "## Extraction de la tendance à long terme pour le taux de chômage (rate)"
   ]
  },
  {
   "cell_type": "code",
   "execution_count": 13,
   "metadata": {},
   "outputs": [
    {
     "data": {
      "text/html": [
       "<div>\n",
       "<style scoped>\n",
       "    .dataframe tbody tr th:only-of-type {\n",
       "        vertical-align: middle;\n",
       "    }\n",
       "\n",
       "    .dataframe tbody tr th {\n",
       "        vertical-align: top;\n",
       "    }\n",
       "\n",
       "    .dataframe thead th {\n",
       "        text-align: right;\n",
       "    }\n",
       "</style>\n",
       "<table border=\"1\" class=\"dataframe\">\n",
       "  <thead>\n",
       "    <tr style=\"text-align: right;\">\n",
       "      <th></th>\n",
       "      <th>AUS_rate</th>\n",
       "      <th>AUT_rate</th>\n",
       "      <th>BEL_rate</th>\n",
       "      <th>BGR_rate</th>\n",
       "      <th>CAN_rate</th>\n",
       "      <th>CHE_rate</th>\n",
       "      <th>CZE_rate</th>\n",
       "      <th>DEU_rate</th>\n",
       "      <th>ESP_rate</th>\n",
       "      <th>EST_rate</th>\n",
       "      <th>...</th>\n",
       "      <th>POL_rate</th>\n",
       "      <th>PRT_rate</th>\n",
       "      <th>ROU_rate</th>\n",
       "      <th>RUS_rate</th>\n",
       "      <th>SGP_rate</th>\n",
       "      <th>SVK_rate</th>\n",
       "      <th>SVN_rate</th>\n",
       "      <th>SWE_rate</th>\n",
       "      <th>USA_rate</th>\n",
       "      <th>YEAR_rate</th>\n",
       "    </tr>\n",
       "    <tr>\n",
       "      <th>Dates</th>\n",
       "      <th></th>\n",
       "      <th></th>\n",
       "      <th></th>\n",
       "      <th></th>\n",
       "      <th></th>\n",
       "      <th></th>\n",
       "      <th></th>\n",
       "      <th></th>\n",
       "      <th></th>\n",
       "      <th></th>\n",
       "      <th></th>\n",
       "      <th></th>\n",
       "      <th></th>\n",
       "      <th></th>\n",
       "      <th></th>\n",
       "      <th></th>\n",
       "      <th></th>\n",
       "      <th></th>\n",
       "      <th></th>\n",
       "      <th></th>\n",
       "      <th></th>\n",
       "    </tr>\n",
       "  </thead>\n",
       "  <tbody>\n",
       "    <tr>\n",
       "      <th>1994-01</th>\n",
       "      <td>9.814137</td>\n",
       "      <td>6.609708</td>\n",
       "      <td>9.641018</td>\n",
       "      <td>14.300000</td>\n",
       "      <td>10.700000</td>\n",
       "      <td>4.704339</td>\n",
       "      <td>4.3</td>\n",
       "      <td>7.261003</td>\n",
       "      <td>22.000000</td>\n",
       "      <td>7.600000</td>\n",
       "      <td>...</td>\n",
       "      <td>16.450000</td>\n",
       "      <td>7.756329</td>\n",
       "      <td>10.9</td>\n",
       "      <td>6.759498</td>\n",
       "      <td>1.750000</td>\n",
       "      <td>14.620000</td>\n",
       "      <td>14.650000</td>\n",
       "      <td>10.839335</td>\n",
       "      <td>6.2</td>\n",
       "      <td>1994-01</td>\n",
       "    </tr>\n",
       "    <tr>\n",
       "      <th>1994-04</th>\n",
       "      <td>10.269157</td>\n",
       "      <td>6.582263</td>\n",
       "      <td>9.728535</td>\n",
       "      <td>15.393333</td>\n",
       "      <td>10.866667</td>\n",
       "      <td>4.839299</td>\n",
       "      <td>4.2</td>\n",
       "      <td>7.521107</td>\n",
       "      <td>22.233333</td>\n",
       "      <td>7.466667</td>\n",
       "      <td>...</td>\n",
       "      <td>16.533333</td>\n",
       "      <td>7.916827</td>\n",
       "      <td>10.9</td>\n",
       "      <td>6.574419</td>\n",
       "      <td>1.666667</td>\n",
       "      <td>14.426667</td>\n",
       "      <td>14.966667</td>\n",
       "      <td>10.866990</td>\n",
       "      <td>6.5</td>\n",
       "      <td>1994-04</td>\n",
       "    </tr>\n",
       "  </tbody>\n",
       "</table>\n",
       "<p>2 rows × 30 columns</p>\n",
       "</div>"
      ],
      "text/plain": [
       "          AUS_rate  AUT_rate  BEL_rate   BGR_rate   CAN_rate  CHE_rate  \\\n",
       "Dates                                                                    \n",
       "1994-01   9.814137  6.609708  9.641018  14.300000  10.700000  4.704339   \n",
       "1994-04  10.269157  6.582263  9.728535  15.393333  10.866667  4.839299   \n",
       "\n",
       "         CZE_rate  DEU_rate   ESP_rate  EST_rate  ...   POL_rate  PRT_rate  \\\n",
       "Dates                                             ...                        \n",
       "1994-01       4.3  7.261003  22.000000  7.600000  ...  16.450000  7.756329   \n",
       "1994-04       4.2  7.521107  22.233333  7.466667  ...  16.533333  7.916827   \n",
       "\n",
       "         ROU_rate  RUS_rate  SGP_rate   SVK_rate   SVN_rate   SWE_rate  \\\n",
       "Dates                                                                    \n",
       "1994-01      10.9  6.759498  1.750000  14.620000  14.650000  10.839335   \n",
       "1994-04      10.9  6.574419  1.666667  14.426667  14.966667  10.866990   \n",
       "\n",
       "         USA_rate  YEAR_rate  \n",
       "Dates                         \n",
       "1994-01       6.2    1994-01  \n",
       "1994-04       6.5    1994-04  \n",
       "\n",
       "[2 rows x 30 columns]"
      ]
     },
     "execution_count": 13,
     "metadata": {},
     "output_type": "execute_result"
    }
   ],
   "source": [
    "# Extraire toutes les colonnes avec le suffixe \"_rate\" ainsi que la colonne des dates\n",
    "columns_rate = ['Dates'] + [col for col in quart_data.columns if col.endswith('_rate')] \n",
    "df_rates = quart_data[columns_rate]\n",
    "df_rates.set_index('Dates', inplace = True)\n",
    "\n",
    "df_rates.head(2)"
   ]
  },
  {
   "cell_type": "code",
   "execution_count": 14,
   "metadata": {},
   "outputs": [
    {
     "data": {
      "text/html": [
       "<div>\n",
       "<style scoped>\n",
       "    .dataframe tbody tr th:only-of-type {\n",
       "        vertical-align: middle;\n",
       "    }\n",
       "\n",
       "    .dataframe tbody tr th {\n",
       "        vertical-align: top;\n",
       "    }\n",
       "\n",
       "    .dataframe thead th {\n",
       "        text-align: right;\n",
       "    }\n",
       "</style>\n",
       "<table border=\"1\" class=\"dataframe\">\n",
       "  <thead>\n",
       "    <tr style=\"text-align: right;\">\n",
       "      <th></th>\n",
       "      <th>AUS_gdp</th>\n",
       "      <th>AUT_gdp</th>\n",
       "      <th>BEL_gdp</th>\n",
       "      <th>BGR_gdp</th>\n",
       "      <th>CAN_gdp</th>\n",
       "      <th>CHE_gdp</th>\n",
       "      <th>CZE_gdp</th>\n",
       "      <th>DEU_gdp</th>\n",
       "      <th>ESP_gdp</th>\n",
       "      <th>EST_gdp</th>\n",
       "      <th>...</th>\n",
       "      <th>POL_gdp</th>\n",
       "      <th>PRT_gdp</th>\n",
       "      <th>ROU_gdp</th>\n",
       "      <th>RUS_gdp</th>\n",
       "      <th>SGP_gdp</th>\n",
       "      <th>SVK_gdp</th>\n",
       "      <th>SVN_gdp</th>\n",
       "      <th>SWE_gdp</th>\n",
       "      <th>USA_gdp</th>\n",
       "      <th>YEAR_gdp</th>\n",
       "    </tr>\n",
       "    <tr>\n",
       "      <th>Dates</th>\n",
       "      <th></th>\n",
       "      <th></th>\n",
       "      <th></th>\n",
       "      <th></th>\n",
       "      <th></th>\n",
       "      <th></th>\n",
       "      <th></th>\n",
       "      <th></th>\n",
       "      <th></th>\n",
       "      <th></th>\n",
       "      <th></th>\n",
       "      <th></th>\n",
       "      <th></th>\n",
       "      <th></th>\n",
       "      <th></th>\n",
       "      <th></th>\n",
       "      <th></th>\n",
       "      <th></th>\n",
       "      <th></th>\n",
       "      <th></th>\n",
       "      <th></th>\n",
       "    </tr>\n",
       "  </thead>\n",
       "  <tbody>\n",
       "    <tr>\n",
       "      <th>1994-01</th>\n",
       "      <td>0.501645</td>\n",
       "      <td>0.779464</td>\n",
       "      <td>0.796550</td>\n",
       "      <td>0.559233</td>\n",
       "      <td>0.680429</td>\n",
       "      <td>0.907331</td>\n",
       "      <td>0.814153</td>\n",
       "      <td>0.794548</td>\n",
       "      <td>0.774291</td>\n",
       "      <td>0.525902</td>\n",
       "      <td>...</td>\n",
       "      <td>0.744291</td>\n",
       "      <td>0.753611</td>\n",
       "      <td>1.405948</td>\n",
       "      <td>0.131693</td>\n",
       "      <td>0.806523</td>\n",
       "      <td>0.781847</td>\n",
       "      <td>0.748256</td>\n",
       "      <td>0.585296</td>\n",
       "      <td>0.650468</td>\n",
       "      <td>1994-01</td>\n",
       "    </tr>\n",
       "    <tr>\n",
       "      <th>1994-04</th>\n",
       "      <td>0.504920</td>\n",
       "      <td>0.782479</td>\n",
       "      <td>0.800992</td>\n",
       "      <td>0.568045</td>\n",
       "      <td>0.689810</td>\n",
       "      <td>0.908917</td>\n",
       "      <td>0.822573</td>\n",
       "      <td>0.803800</td>\n",
       "      <td>0.786744</td>\n",
       "      <td>0.543380</td>\n",
       "      <td>...</td>\n",
       "      <td>0.745930</td>\n",
       "      <td>0.766161</td>\n",
       "      <td>1.503724</td>\n",
       "      <td>0.137729</td>\n",
       "      <td>0.831123</td>\n",
       "      <td>0.784607</td>\n",
       "      <td>0.768536</td>\n",
       "      <td>0.595983</td>\n",
       "      <td>0.660922</td>\n",
       "      <td>1994-04</td>\n",
       "    </tr>\n",
       "  </tbody>\n",
       "</table>\n",
       "<p>2 rows × 30 columns</p>\n",
       "</div>"
      ],
      "text/plain": [
       "          AUS_gdp   AUT_gdp   BEL_gdp   BGR_gdp   CAN_gdp   CHE_gdp   CZE_gdp  \\\n",
       "Dates                                                                           \n",
       "1994-01  0.501645  0.779464  0.796550  0.559233  0.680429  0.907331  0.814153   \n",
       "1994-04  0.504920  0.782479  0.800992  0.568045  0.689810  0.908917  0.822573   \n",
       "\n",
       "          DEU_gdp   ESP_gdp   EST_gdp  ...   POL_gdp   PRT_gdp   ROU_gdp  \\\n",
       "Dates                                  ...                                 \n",
       "1994-01  0.794548  0.774291  0.525902  ...  0.744291  0.753611  1.405948   \n",
       "1994-04  0.803800  0.786744  0.543380  ...  0.745930  0.766161  1.503724   \n",
       "\n",
       "          RUS_gdp   SGP_gdp   SVK_gdp   SVN_gdp   SWE_gdp   USA_gdp  YEAR_gdp  \n",
       "Dates                                                                          \n",
       "1994-01  0.131693  0.806523  0.781847  0.748256  0.585296  0.650468   1994-01  \n",
       "1994-04  0.137729  0.831123  0.784607  0.768536  0.595983  0.660922   1994-04  \n",
       "\n",
       "[2 rows x 30 columns]"
      ]
     },
     "execution_count": 14,
     "metadata": {},
     "output_type": "execute_result"
    }
   ],
   "source": [
    "# Extraire toutes les colonnes avec le suffixe \"_gdp\" ainsi que la colonne des dates\n",
    "columns_gdp = ['Dates'] + [col for col in quart_data.columns if col.endswith('_gdp')] \n",
    "df_gdp = quart_data[columns_gdp]\n",
    "df_gdp.set_index('Dates', inplace = True)\n",
    "\n",
    "df_gdp.head(2)"
   ]
  },
  {
   "cell_type": "code",
   "execution_count": 15,
   "metadata": {},
   "outputs": [
    {
     "ename": "ModuleNotFoundError",
     "evalue": "No module named 'statsmodels'",
     "output_type": "error",
     "traceback": [
      "\u001b[1;31m---------------------------------------------------------------------------\u001b[0m",
      "\u001b[1;31mModuleNotFoundError\u001b[0m                       Traceback (most recent call last)",
      "Cell \u001b[1;32mIn[15], line 1\u001b[0m\n\u001b[1;32m----> 1\u001b[0m \u001b[38;5;28;01mimport\u001b[39;00m \u001b[38;5;21;01mstatsmodels\u001b[39;00m\u001b[38;5;21;01m.\u001b[39;00m\u001b[38;5;21;01mtsa\u001b[39;00m\u001b[38;5;21;01m.\u001b[39;00m\u001b[38;5;21;01mfilters\u001b[39;00m\u001b[38;5;21;01m.\u001b[39;00m\u001b[38;5;21;01mhp_filter\u001b[39;00m \u001b[38;5;28;01mas\u001b[39;00m \u001b[38;5;21;01msmf\u001b[39;00m\n\u001b[0;32m      2\u001b[0m \u001b[38;5;28;01mimport\u001b[39;00m \u001b[38;5;21;01mstatsmodels\u001b[39;00m\u001b[38;5;21;01m.\u001b[39;00m\u001b[38;5;21;01mtsa\u001b[39;00m\u001b[38;5;21;01m.\u001b[39;00m\u001b[38;5;21;01mardl\u001b[39;00m \u001b[38;5;28;01mas\u001b[39;00m \u001b[38;5;21;01msma\u001b[39;00m\n\u001b[0;32m      3\u001b[0m \u001b[38;5;28;01mimport\u001b[39;00m \u001b[38;5;21;01mstatsmodels\u001b[39;00m\u001b[38;5;21;01m.\u001b[39;00m\u001b[38;5;21;01mapi\u001b[39;00m \u001b[38;5;28;01mas\u001b[39;00m \u001b[38;5;21;01msm\u001b[39;00m\n",
      "\u001b[1;31mModuleNotFoundError\u001b[0m: No module named 'statsmodels'"
     ]
    }
   ],
   "source": [
    "import statsmodels.tsa.filters.hp_filter as smf\n",
    "import statsmodels.tsa.ardl as sma\n",
    "import statsmodels.api as sm"
   ]
  },
  {
   "cell_type": "markdown",
   "metadata": {},
   "source": [
    "## Exemple de la Belgique"
   ]
  },
  {
   "cell_type": "markdown",
   "metadata": {},
   "source": [
    "### Extraction de la tendance de la série"
   ]
  },
  {
   "cell_type": "code",
   "execution_count": null,
   "metadata": {},
   "outputs": [],
   "source": [
    "# Extraction de la tendance long terme du taux de chômage\n",
    "x = df_rates['BEL_rate']\n",
    "\n",
    "# Appliquer le filtre de Hodrick-Prescott\n",
    "tendance_x, cycle_x = smf.hpfilter(x, lamb=1600)\n",
    "\n",
    "# Afficher les résultats\n",
    "d.plt.plot(x, label='Série originale')\n",
    "d.plt.plot(tendance_x, label='Tendance')\n",
    "d.plt.plot(cycle_x, label='Cycle')\n",
    "d.plt.legend()\n",
    "d.plt.show()"
   ]
  },
  {
   "cell_type": "code",
   "execution_count": null,
   "metadata": {},
   "outputs": [],
   "source": [
    "# Extraction de la tendance long terme du PIB\n",
    "y = df_gdp['BEL_gdp']\n",
    "\n",
    "# Appliquer le filtre de Hodrick-Prescott\n",
    "tendance_y, cycle_y = smf.hpfilter(y, lamb=1600)\n",
    "\n",
    "# Afficher les résultats\n",
    "d.plt.plot(x, label='Série originale')\n",
    "d.plt.plot(tendance_y, label='Tendance')\n",
    "d.plt.plot(cycle_y, label='Cycle')\n",
    "d.plt.legend()\n",
    "d.plt.show()"
   ]
  },
  {
   "cell_type": "code",
   "execution_count": null,
   "metadata": {},
   "outputs": [],
   "source": [
    "nouveau_x = x - tendance_x\n",
    "nouveau_y = y - tendance_y"
   ]
  },
  {
   "cell_type": "code",
   "execution_count": null,
   "metadata": {},
   "outputs": [],
   "source": [
    "dfx = nouveau_x.reset_index().rename(columns={'index': 'Dates'})\n",
    "dfx = dfx.rename(columns = {0:'rates'})"
   ]
  },
  {
   "cell_type": "code",
   "execution_count": null,
   "metadata": {},
   "outputs": [],
   "source": [
    "dfy = nouveau_y.reset_index().rename(columns={'index': 'Dates'})\n",
    "dfy = dfy.rename(columns = {0 :'gdp'})"
   ]
  },
  {
   "cell_type": "code",
   "execution_count": null,
   "metadata": {},
   "outputs": [],
   "source": [
    "data_Belgique = d.pd.merge(dfx, dfy, on='Dates', how='inner')\n",
    "data_Belgique.head(2)"
   ]
  },
  {
   "cell_type": "markdown",
   "metadata": {},
   "source": [
    "### Régression linéaire simple avec la méthode OLS : \n",
    "\n",
    "La régression linéaire simple considère chaque observation comme indépendante des autres, ce qui signifie qu'elle ne modélise pas l'autocorrélation ou la dépendance temporelle potentielle entre les observations successives. "
   ]
  },
  {
   "cell_type": "code",
   "execution_count": null,
   "metadata": {},
   "outputs": [],
   "source": [
    "# S'assurer que la colonne Dates est au format datetime\n",
    "data_Belgique['Dates'] = d.pd.to_datetime(data_Belgique['Dates'])\n",
    "\n",
    "# Ajouter une constante à vos données pour inclure l'intercept dans le modèle\n",
    "data_Belgique['const'] = 1\n",
    "\n",
    "# Spécifier les variables indépendantes (X) et dépendante (y)\n",
    "X = data_Belgique[['const', 'rates']]\n",
    "y = data_Belgique['gdp']\n",
    "\n",
    "# Créer et ajuster le modèle de régression linéaire\n",
    "model = sm.OLS(y, X)\n",
    "results = model.fit()\n",
    "\n",
    "# Afficher les résultats du modèle\n",
    "print(results.summary())\n"
   ]
  },
  {
   "cell_type": "markdown",
   "metadata": {},
   "source": [
    "### Modèle ARIMA (AutoRegressive Integrated Moving Average)\n",
    "\n",
    "Ici, on considère un modèle de séries temporelles, qui capture la dépendance temporelle et modélise la dynamique temporelle des données."
   ]
  },
  {
   "cell_type": "code",
   "execution_count": null,
   "metadata": {},
   "outputs": [],
   "source": [
    "# AACF (AutoCorrelation Function)\n",
    "# PACF (Partial AutoCorrelation Function)\n",
    "\n",
    "from statsmodels.graphics.tsaplots import plot_acf, plot_pacf\n",
    "\n",
    "# Tracez l'ACF et PACF\n",
    "fig, ax = d.plt.subplots(1, 2, figsize=(12, 4))\n",
    "plot_acf(data_Belgique['gdp'], lags=20, ax=ax[0])\n",
    "plot_pacf(data_Belgique['gdp'], lags=20, ax=ax[1])\n",
    "d.plt.show()\n"
   ]
  },
  {
   "cell_type": "code",
   "execution_count": null,
   "metadata": {},
   "outputs": [],
   "source": [
    "# Créer et ajuster le modèle ARIMA\n",
    "model = sm.tsa.ARIMA(data_Belgique['gdp'], order=(2, 2, 11))  # Spécifier l'ordre du modèle ARIMA\n",
    "results = model.fit()\n",
    "\n",
    "# Afficher les résultats du modèle\n",
    "print(results.summary())\n"
   ]
  },
  {
   "cell_type": "markdown",
   "metadata": {},
   "source": [
    "### Modèle ARDL"
   ]
  },
  {
   "cell_type": "code",
   "execution_count": null,
   "metadata": {},
   "outputs": [],
   "source": [
    "# Spécifiez les paramètres du modèle ARDL\n",
    "endog_variable = data_Belgique['gdp']\n",
    "lags_endog = 2  # Nombre de retards pour la variable endogène\n",
    "exog_variables = data_Belgique['rates']\n",
    "lags_exog = [1, 2]  # Nombre de retards pour les variables exogènes\n",
    "trend = 'c'  # 'c' pour une constante, 'ct' pour une constante et une tendance linéaire, ou None pour aucun\n",
    "\n",
    "# Créez le modèle ARDL\n",
    "model_ardl = sma.ARDL(endog_variable, lags=lags_endog, exog=exog_variables, order=lags_exog, trend=trend)\n",
    "\n",
    "# Ajustez le modèle\n",
    "results = model_ardl.fit()\n",
    "\n",
    "# Affichez les résultats du modèle\n",
    "print(results.summary())\n"
   ]
  },
  {
   "cell_type": "code",
   "execution_count": null,
   "metadata": {},
   "outputs": [],
   "source": [
    "# Spécifiez les retards que vous souhaitez inclure\n",
    "lags = 2\n",
    "\n",
    "# Créez des colonnes de lags pour rates\n",
    "for i in range(1, lags + 1):\n",
    "    data_Belgique[f'rates_lag{i}'] = data_Belgique['rates'].shift(i)\n",
    "\n",
    "# Spécifiez les variables indépendantes (X) et dépendante (y)\n",
    "X = data_Belgique[['const', 'rates_lag1', 'rates_lag2']]\n",
    "y = data_Belgique['gdp']\n",
    "\n",
    "# Éliminez les lignes avec des valeurs manquantes introduites par les lags\n",
    "data_Belgique = data_Belgique.dropna()\n",
    "\n",
    "# Créez et ajustez le modèle de régression linéaire avec lags\n",
    "model = sm.OLS(y, X)\n",
    "results = model.fit()\n",
    "\n",
    "# Affichez les résultats du modèle\n",
    "print(results.summary())\n"
   ]
  },
  {
   "cell_type": "markdown",
   "metadata": {},
   "source": [
    "# II- Clustering : regroupement des pays selon des critères de développement"
   ]
  },
  {
   "cell_type": "markdown",
   "metadata": {},
   "source": [
    "# III- Vérification de la loi pour un pays tiré de manière i.i.d. dans chaque groupe"
   ]
  },
  {
   "cell_type": "code",
   "execution_count": null,
   "metadata": {},
   "outputs": [],
   "source": []
  }
 ],
 "metadata": {
  "kernelspec": {
   "display_name": "Python 3",
   "language": "python",
   "name": "python3"
  },
  "language_info": {
   "codemirror_mode": {
    "name": "ipython",
    "version": 3
   },
   "file_extension": ".py",
   "mimetype": "text/x-python",
   "name": "python",
   "nbconvert_exporter": "python",
   "pygments_lexer": "ipython3",
   "version": "3.11.7"
  }
 },
 "nbformat": 4,
 "nbformat_minor": 2
}

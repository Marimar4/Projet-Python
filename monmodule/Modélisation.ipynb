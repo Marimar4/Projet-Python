{
 "cells": [
  {
   "cell_type": "markdown",
   "metadata": {},
   "source": [
    " <div style=\"text-align:center;\">\n",
    "   <span style=\"color:green; font-size:larger; font-weight:bold;\">Modélisation</span><br><br>\n",
    "</div>"
   ]
  },
  {
   "cell_type": "markdown",
   "metadata": {},
   "source": [
    "<span style=\"color:green; font-size:larger; font-weight:bold;\">INTRODUCTION</span>"
   ]
  },
  {
   "cell_type": "markdown",
   "metadata": {},
   "source": [
    "Dans cette partie, nous allons proposer une modélisation permettant de vérifier empiriquement la loi d'Okun (relation linéaire entre la variation du taux de chômage et la variation du PIB), à partir de la base de données \"final_merged\", établie dans \"Préparation_données.ipynb\".\n",
    "Pour cette modélisation, on s'inspire des travaux suivants : (donner les deux articles de recherche et le site sur la validation croisée en machine learning)\n",
    "\n",
    "Tout d'abord, nous allons vérifier la loi d'Okun pour chaque pays considéré. Ensuite, nous allons regrouper les pays grâce à la technique du clustering selon différents critères. Enfin, nous vérifierons la loi d'Okun pour ces différents groupes après agrégation. \n",
    "\n",
    "Pour la modélisation, nous allons utiliser la version \"gap\" introduite dans le travail de \"citer l'article\", qui relie le taux de chômage et le PIB de la manière suivante : \n",
    "\n",
    "$$u - u^* = c + \\beta^*(\\text{pib} - \\text{pib}^*) + \\epsilon$$\n",
    "\n",
    "\n",
    "avec u le taux de chômage, u* le taux de chômage naturel, PIB* le PIB potentiel et a,b,c des constantes à déterminer grâce à la modélisation. \n",
    "Pour prendre en compte la dynamique temporelle de nos données, nous allons utiliser le modèle ARDL (Auto Regressive Distributed Lag).\n",
    "\n",
    "Pour extraire la tendance à long terme du taux de chômage et du PIB à partir de la base de données \"final_merged\", nous allons utiliser un filtre HP (ou filtre de HODRICK-PRESCOTT). \n",
    "\n",
    "Par ailleurs, nous allons utiliser une méthode de validation croisée afin de valider notre modèle. Nous allons tout d'abord établir les paramètres du modèle grâce au jeu d'entrainement reprenant les données de 1994 à 2010 ; puis nous vérifierons la précision du modèle grâce au jeu de test reprenant les données de 2016 à 2023.\n"
   ]
  },
  {
   "cell_type": "markdown",
   "metadata": {},
   "source": [
    "# <span style=\"color:green\">I- Extraction de la tendance à long terme du taux de chômage et du PIB</span>"
   ]
  },
  {
   "cell_type": "markdown",
   "metadata": {},
   "source": [
    "# <span style=\"color:green\">II- Clustering : regroupement des pays selon des critères de développement</span>"
   ]
  },
  {
   "cell_type": "markdown",
   "metadata": {},
   "source": [
    "# <span style=\"color:green\">III- Vérification de la loi pour chaque pays</span>"
   ]
  },
  {
   "cell_type": "markdown",
   "metadata": {},
   "source": [
    "# <span style=\"color:green\">IV- Vérification de la loi pour chaque groupe de pays</span>"
   ]
  },
  {
   "cell_type": "code",
   "execution_count": null,
   "metadata": {},
   "outputs": [],
   "source": []
  }
 ],
 "metadata": {
  "language_info": {
   "name": "python"
  }
 },
 "nbformat": 4,
 "nbformat_minor": 2
}

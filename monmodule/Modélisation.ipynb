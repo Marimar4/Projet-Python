{
 "cells": [
  {
   "cell_type": "markdown",
   "metadata": {},
   "source": [
    " <div style=\"text-align:center;\">\n",
    "   <span style=\"color:white; font-size:larger; font-weight:bold;\">Modélisation</span><br><br>\n",
    "</div>"
   ]
  },
  {
   "cell_type": "markdown",
   "metadata": {},
   "source": [
    "# Introduction"
   ]
  },
  {
   "cell_type": "markdown",
   "metadata": {},
   "source": [
    "## Références et équations de base de la relation d'Okun"
   ]
  },
  {
   "cell_type": "markdown",
   "metadata": {},
   "source": [
    "Dans cette partie, nous allons proposer une modélisation permettant de vérifier empiriquement la loi d'Okun, à partir des bases de données établies dans la partie \"Préparation_données.ipynb\".\n",
    "\n",
    "La loi d'Okun, indique que : \"chaque fois que le PIB chute d'un certain pourcentage, par rapport au produit potentiel, le taux de chômage augmente d'environ un point de pourcentage. Ainsi, lorsque le PIB réel diminue, le taux de chômage augmente.\" (Mankiw, 2003)\n",
    "\n",
    "Pour cette modélisation, on s'inspire des travaux suivants : \n",
    "\n",
    "- [1]. Traoré, D. L., Diakite, S., & Mariko, O. (2021). Croissance et chômage au Mali : Vérification empirique de la loi d'Okun. Revue Malienne de Science et de Technologie, Série C : Sciences Humaines et Sociales, 02(25), Page. ISSN 1987-1031. CNRST, Bamako, Mali.\n",
    "\n",
    "- [2]. Aassif, Z. L'extraction de la tendance cycle. Haut-Commissariat au Plan, Direction de la comptabilité nationale. \n",
    "\n",
    "- [3]. Belaidi, N. (2022, 28 mars). Validation croisée en Machine Learning. Consulté le  12 décembre 2023. URL : https://blent.ai/blog/a/validation-croisee-machine-learning.\n",
    "\n",
    "\n",
    "Le travail [1] nous présente deux équations de base de la relation d'Okun, la version en \"différences premières\" et la \"version gap\".\n",
    "\n",
    "- Version en \"différences premières\" : \n",
    "$$\\Delta u = C + \\beta\\Delta \\text{pib} + \\epsilon$$\n",
    "\n",
    "- \"Version gap\" : \n",
    "$$u - u^* = c + \\beta^*(\\text{pib} - \\text{pib}^*) + \\epsilon$$\n",
    "\n",
    "avec $u$ le taux de chômage, $u^*$ le taux de chômage naturel, $\\text{pib}^*$ le PIB potentiel et c, $\\beta$ et $\\epsilon$  des constantes à déterminer grâce à la modélisation. "
   ]
  },
  {
   "cell_type": "markdown",
   "metadata": {},
   "source": [
    "## Equation et outils utilisés dans notre modélisation"
   ]
  },
  {
   "cell_type": "markdown",
   "metadata": {},
   "source": [
    "Pour la modélisation, nous allons utiliser la version \"gap\", qui relie le taux de chômage et le PIB de la manière suivante : \n",
    "\n",
    "$$u - u^* = c + \\beta^*(\\text{pib} - \\text{pib}^*) + \\epsilon$$\n",
    "\n",
    "Pour extraire la tendance à long terme du taux de chômage et du PIB (c'est-à-dire, le taux de chômage naturel et le PIB potentiel), à partir de la base de données, nous allons utiliser le filtre de Hodrick-Prescott. Ce filtre est introduit dans [2], et permet de décomposer une série selon sa tendance à long terme et son cycle (fluctuations autour de la tendance) à plus court terme.\n",
    "\n",
    "Par ailleurs, pour prendre en compte la dynamique temporelle de nos données, nous allons utiliser le modèle ARDL (Auto Regressive Distributed Lag), introduit dans [2]."
   ]
  },
  {
   "cell_type": "markdown",
   "metadata": {},
   "source": [
    "## Les différentes étapes de notre modélisation\n"
   ]
  },
  {
   "cell_type": "markdown",
   "metadata": {},
   "source": [
    "Pour effectuer notre modélisation sur les données obtenues suite au traitement, nous allons tout d'abord regrouper les pays présents selon différents critères, grâce à la technique du clustering. \n",
    "Nous sélectionnerons un pays de manière aléatoire au sein de chaque groupe afin de vérifier la loi d'Okun (ou alors nous vérifierons la loi d'Okun pour chaque groupe après agrégation).\n",
    "\n",
    "(Par ailleurs, nous allons utiliser une méthode de validation croisée afin de valider notre modèle. Nous allons tout d'abord établir les paramètres du modèle grâce au jeu d'entrainement reprenant les données de 1994 à 2016 ; puis nous vérifierons la précision du modèle grâce au jeu de test reprenant les données de 2017 à 2023.)\n"
   ]
  },
  {
   "cell_type": "markdown",
   "metadata": {},
   "source": [
    "# I- Extraction de la tendance à long terme du taux de chômage et du PIB"
   ]
  },
  {
   "cell_type": "markdown",
   "metadata": {},
   "source": [
    "## Importation des bases de données"
   ]
  },
  {
   "cell_type": "code",
   "execution_count": 2,
   "metadata": {},
   "outputs": [],
   "source": [
    "import declarations as d "
   ]
  },
  {
   "cell_type": "code",
   "execution_count": 3,
   "metadata": {},
   "outputs": [],
   "source": [
    "# Bases de données relatives au PIB et au taux de chômage\n",
    "\n",
    "data_semestre = d.pd.read_csv('bases/donnees_semestrielles.csv', encoding='latin-1')\n",
    "data_moyenne = d.pd.read_csv('bases/donnees_moyennees.csv', encoding = 'latin-1')"
   ]
  },
  {
   "cell_type": "code",
   "execution_count": null,
   "metadata": {},
   "outputs": [],
   "source": [
    "# Base de données relative aux variables considérées pour le clustering"
   ]
  },
  {
   "cell_type": "markdown",
   "metadata": {},
   "source": [
    "## Extraction de la tendance à long terme pour le PIB (gdp)"
   ]
  },
  {
   "cell_type": "code",
   "execution_count": 4,
   "metadata": {},
   "outputs": [
    {
     "data": {
      "text/html": [
       "<div>\n",
       "<style scoped>\n",
       "    .dataframe tbody tr th:only-of-type {\n",
       "        vertical-align: middle;\n",
       "    }\n",
       "\n",
       "    .dataframe tbody tr th {\n",
       "        vertical-align: top;\n",
       "    }\n",
       "\n",
       "    .dataframe thead th {\n",
       "        text-align: right;\n",
       "    }\n",
       "</style>\n",
       "<table border=\"1\" class=\"dataframe\">\n",
       "  <thead>\n",
       "    <tr style=\"text-align: right;\">\n",
       "      <th></th>\n",
       "      <th>Dates</th>\n",
       "      <th>ARG_gdp</th>\n",
       "      <th>ARG_rate</th>\n",
       "      <th>AUS_gdp</th>\n",
       "      <th>AUS_rate</th>\n",
       "      <th>AUT_gdp</th>\n",
       "      <th>AUT_rate</th>\n",
       "      <th>BEL_gdp</th>\n",
       "      <th>BEL_rate</th>\n",
       "      <th>BGR_gdp</th>\n",
       "      <th>...</th>\n",
       "      <th>TUR_gdp</th>\n",
       "      <th>TUR_rate</th>\n",
       "      <th>Taiwan, China_gdp</th>\n",
       "      <th>Taiwan, China_rate</th>\n",
       "      <th>URY_gdp</th>\n",
       "      <th>URY_rate</th>\n",
       "      <th>USA_gdp</th>\n",
       "      <th>USA_rate</th>\n",
       "      <th>ZAF_gdp</th>\n",
       "      <th>ZAF_rate</th>\n",
       "    </tr>\n",
       "  </thead>\n",
       "  <tbody>\n",
       "    <tr>\n",
       "      <th>0</th>\n",
       "      <td>1994-01</td>\n",
       "      <td>0.635635</td>\n",
       "      <td>9.724381</td>\n",
       "      <td>0.501645</td>\n",
       "      <td>10.580050</td>\n",
       "      <td>0.906967</td>\n",
       "      <td>6.672157</td>\n",
       "      <td>0.920006</td>\n",
       "      <td>9.518617</td>\n",
       "      <td>0.815213</td>\n",
       "      <td>...</td>\n",
       "      <td>0.006777</td>\n",
       "      <td>10.480357</td>\n",
       "      <td>0.972158</td>\n",
       "      <td>1.400000</td>\n",
       "      <td>0.735524</td>\n",
       "      <td>9.929305</td>\n",
       "      <td>0.650468</td>\n",
       "      <td>6.6</td>\n",
       "      <td>0.224378</td>\n",
       "      <td>26.474568</td>\n",
       "    </tr>\n",
       "    <tr>\n",
       "      <th>1</th>\n",
       "      <td>1994-04</td>\n",
       "      <td>0.644039</td>\n",
       "      <td>9.724381</td>\n",
       "      <td>0.502208</td>\n",
       "      <td>10.269157</td>\n",
       "      <td>0.906967</td>\n",
       "      <td>6.582263</td>\n",
       "      <td>0.920006</td>\n",
       "      <td>9.728535</td>\n",
       "      <td>0.815213</td>\n",
       "      <td>...</td>\n",
       "      <td>0.009421</td>\n",
       "      <td>10.480357</td>\n",
       "      <td>0.971386</td>\n",
       "      <td>1.633333</td>\n",
       "      <td>0.735524</td>\n",
       "      <td>9.929305</td>\n",
       "      <td>0.653595</td>\n",
       "      <td>6.5</td>\n",
       "      <td>0.225938</td>\n",
       "      <td>26.474568</td>\n",
       "    </tr>\n",
       "  </tbody>\n",
       "</table>\n",
       "<p>2 rows × 99 columns</p>\n",
       "</div>"
      ],
      "text/plain": [
       "     Dates   ARG_gdp  ARG_rate   AUS_gdp   AUS_rate   AUT_gdp  AUT_rate  \\\n",
       "0  1994-01  0.635635  9.724381  0.501645  10.580050  0.906967  6.672157   \n",
       "1  1994-04  0.644039  9.724381  0.502208  10.269157  0.906967  6.582263   \n",
       "\n",
       "    BEL_gdp  BEL_rate   BGR_gdp  ...   TUR_gdp   TUR_rate  Taiwan, China_gdp  \\\n",
       "0  0.920006  9.518617  0.815213  ...  0.006777  10.480357           0.972158   \n",
       "1  0.920006  9.728535  0.815213  ...  0.009421  10.480357           0.971386   \n",
       "\n",
       "   Taiwan, China_rate   URY_gdp  URY_rate   USA_gdp  USA_rate   ZAF_gdp  \\\n",
       "0            1.400000  0.735524  9.929305  0.650468       6.6  0.224378   \n",
       "1            1.633333  0.735524  9.929305  0.653595       6.5  0.225938   \n",
       "\n",
       "    ZAF_rate  \n",
       "0  26.474568  \n",
       "1  26.474568  \n",
       "\n",
       "[2 rows x 99 columns]"
      ]
     },
     "execution_count": 4,
     "metadata": {},
     "output_type": "execute_result"
    }
   ],
   "source": [
    "data_semestre.head(2)"
   ]
  },
  {
   "cell_type": "markdown",
   "metadata": {},
   "source": [
    "## Extraction de la tendance à long terme pour le taux de chômage (rate)"
   ]
  },
  {
   "cell_type": "code",
   "execution_count": 5,
   "metadata": {},
   "outputs": [
    {
     "data": {
      "text/html": [
       "<div>\n",
       "<style scoped>\n",
       "    .dataframe tbody tr th:only-of-type {\n",
       "        vertical-align: middle;\n",
       "    }\n",
       "\n",
       "    .dataframe tbody tr th {\n",
       "        vertical-align: top;\n",
       "    }\n",
       "\n",
       "    .dataframe thead th {\n",
       "        text-align: right;\n",
       "    }\n",
       "</style>\n",
       "<table border=\"1\" class=\"dataframe\">\n",
       "  <thead>\n",
       "    <tr style=\"text-align: right;\">\n",
       "      <th></th>\n",
       "      <th>ARG_rate</th>\n",
       "      <th>AUS_rate</th>\n",
       "      <th>AUT_rate</th>\n",
       "      <th>BEL_rate</th>\n",
       "      <th>BGR_rate</th>\n",
       "      <th>CAN_rate</th>\n",
       "      <th>CHE_rate</th>\n",
       "      <th>COL_rate</th>\n",
       "      <th>CYP_rate</th>\n",
       "      <th>Czech Republic_rate</th>\n",
       "      <th>...</th>\n",
       "      <th>RUS_rate</th>\n",
       "      <th>SGP_rate</th>\n",
       "      <th>SVN_rate</th>\n",
       "      <th>SWE_rate</th>\n",
       "      <th>THA_rate</th>\n",
       "      <th>TUR_rate</th>\n",
       "      <th>Taiwan, China_rate</th>\n",
       "      <th>URY_rate</th>\n",
       "      <th>USA_rate</th>\n",
       "      <th>ZAF_rate</th>\n",
       "    </tr>\n",
       "    <tr>\n",
       "      <th>Dates</th>\n",
       "      <th></th>\n",
       "      <th></th>\n",
       "      <th></th>\n",
       "      <th></th>\n",
       "      <th></th>\n",
       "      <th></th>\n",
       "      <th></th>\n",
       "      <th></th>\n",
       "      <th></th>\n",
       "      <th></th>\n",
       "      <th></th>\n",
       "      <th></th>\n",
       "      <th></th>\n",
       "      <th></th>\n",
       "      <th></th>\n",
       "      <th></th>\n",
       "      <th></th>\n",
       "      <th></th>\n",
       "      <th></th>\n",
       "      <th></th>\n",
       "      <th></th>\n",
       "    </tr>\n",
       "  </thead>\n",
       "  <tbody>\n",
       "    <tr>\n",
       "      <th>1994-01</th>\n",
       "      <td>9.724381</td>\n",
       "      <td>10.580050</td>\n",
       "      <td>6.672157</td>\n",
       "      <td>9.518617</td>\n",
       "      <td>15.860000</td>\n",
       "      <td>11.400000</td>\n",
       "      <td>4.847199</td>\n",
       "      <td>11.808516</td>\n",
       "      <td>7.71193</td>\n",
       "      <td>4.2</td>\n",
       "      <td>...</td>\n",
       "      <td>6.024640</td>\n",
       "      <td>1.700000</td>\n",
       "      <td>15.100000</td>\n",
       "      <td>11.26787</td>\n",
       "      <td>1.380426</td>\n",
       "      <td>10.480357</td>\n",
       "      <td>1.400000</td>\n",
       "      <td>9.929305</td>\n",
       "      <td>6.6</td>\n",
       "      <td>26.474568</td>\n",
       "    </tr>\n",
       "    <tr>\n",
       "      <th>1994-04</th>\n",
       "      <td>9.724381</td>\n",
       "      <td>10.269157</td>\n",
       "      <td>6.582263</td>\n",
       "      <td>9.728535</td>\n",
       "      <td>15.393333</td>\n",
       "      <td>10.866667</td>\n",
       "      <td>4.839299</td>\n",
       "      <td>11.808516</td>\n",
       "      <td>7.71193</td>\n",
       "      <td>4.2</td>\n",
       "      <td>...</td>\n",
       "      <td>6.574419</td>\n",
       "      <td>1.666667</td>\n",
       "      <td>14.966667</td>\n",
       "      <td>10.86699</td>\n",
       "      <td>1.380426</td>\n",
       "      <td>10.480357</td>\n",
       "      <td>1.633333</td>\n",
       "      <td>9.929305</td>\n",
       "      <td>6.5</td>\n",
       "      <td>26.474568</td>\n",
       "    </tr>\n",
       "  </tbody>\n",
       "</table>\n",
       "<p>2 rows × 49 columns</p>\n",
       "</div>"
      ],
      "text/plain": [
       "         ARG_rate   AUS_rate  AUT_rate  BEL_rate   BGR_rate   CAN_rate  \\\n",
       "Dates                                                                    \n",
       "1994-01  9.724381  10.580050  6.672157  9.518617  15.860000  11.400000   \n",
       "1994-04  9.724381  10.269157  6.582263  9.728535  15.393333  10.866667   \n",
       "\n",
       "         CHE_rate   COL_rate  CYP_rate  Czech Republic_rate  ...  RUS_rate  \\\n",
       "Dates                                                        ...             \n",
       "1994-01  4.847199  11.808516   7.71193                  4.2  ...  6.024640   \n",
       "1994-04  4.839299  11.808516   7.71193                  4.2  ...  6.574419   \n",
       "\n",
       "         SGP_rate   SVN_rate  SWE_rate  THA_rate   TUR_rate  \\\n",
       "Dates                                                         \n",
       "1994-01  1.700000  15.100000  11.26787  1.380426  10.480357   \n",
       "1994-04  1.666667  14.966667  10.86699  1.380426  10.480357   \n",
       "\n",
       "         Taiwan, China_rate  URY_rate  USA_rate   ZAF_rate  \n",
       "Dates                                                       \n",
       "1994-01            1.400000  9.929305       6.6  26.474568  \n",
       "1994-04            1.633333  9.929305       6.5  26.474568  \n",
       "\n",
       "[2 rows x 49 columns]"
      ]
     },
     "execution_count": 5,
     "metadata": {},
     "output_type": "execute_result"
    }
   ],
   "source": [
    "# Extraire toutes les colonnes avec le suffixe \"_rate\" ainsi que la colonne des dates\n",
    "columns_rate = ['Dates'] + [col for col in data_semestre.columns if col.endswith('_rate')] \n",
    "df_rates = data_semestre[columns_rate]\n",
    "df_rates.set_index('Dates', inplace = True)\n",
    "\n",
    "df_rates.head(2)"
   ]
  },
  {
   "cell_type": "code",
   "execution_count": 6,
   "metadata": {},
   "outputs": [
    {
     "data": {
      "text/html": [
       "<div>\n",
       "<style scoped>\n",
       "    .dataframe tbody tr th:only-of-type {\n",
       "        vertical-align: middle;\n",
       "    }\n",
       "\n",
       "    .dataframe tbody tr th {\n",
       "        vertical-align: top;\n",
       "    }\n",
       "\n",
       "    .dataframe thead th {\n",
       "        text-align: right;\n",
       "    }\n",
       "</style>\n",
       "<table border=\"1\" class=\"dataframe\">\n",
       "  <thead>\n",
       "    <tr style=\"text-align: right;\">\n",
       "      <th></th>\n",
       "      <th>ARG_gdp</th>\n",
       "      <th>AUS_gdp</th>\n",
       "      <th>AUT_gdp</th>\n",
       "      <th>BEL_gdp</th>\n",
       "      <th>BGR_gdp</th>\n",
       "      <th>CAN_gdp</th>\n",
       "      <th>CHE_gdp</th>\n",
       "      <th>COL_gdp</th>\n",
       "      <th>CYP_gdp</th>\n",
       "      <th>Czech Republic_gdp</th>\n",
       "      <th>...</th>\n",
       "      <th>RUS_gdp</th>\n",
       "      <th>SGP_gdp</th>\n",
       "      <th>SVN_gdp</th>\n",
       "      <th>SWE_gdp</th>\n",
       "      <th>THA_gdp</th>\n",
       "      <th>TUR_gdp</th>\n",
       "      <th>Taiwan, China_gdp</th>\n",
       "      <th>URY_gdp</th>\n",
       "      <th>USA_gdp</th>\n",
       "      <th>ZAF_gdp</th>\n",
       "    </tr>\n",
       "    <tr>\n",
       "      <th>Dates</th>\n",
       "      <th></th>\n",
       "      <th></th>\n",
       "      <th></th>\n",
       "      <th></th>\n",
       "      <th></th>\n",
       "      <th></th>\n",
       "      <th></th>\n",
       "      <th></th>\n",
       "      <th></th>\n",
       "      <th></th>\n",
       "      <th></th>\n",
       "      <th></th>\n",
       "      <th></th>\n",
       "      <th></th>\n",
       "      <th></th>\n",
       "      <th></th>\n",
       "      <th></th>\n",
       "      <th></th>\n",
       "      <th></th>\n",
       "      <th></th>\n",
       "      <th></th>\n",
       "    </tr>\n",
       "  </thead>\n",
       "  <tbody>\n",
       "    <tr>\n",
       "      <th>1994-01</th>\n",
       "      <td>0.635635</td>\n",
       "      <td>0.501645</td>\n",
       "      <td>0.906967</td>\n",
       "      <td>0.920006</td>\n",
       "      <td>0.815213</td>\n",
       "      <td>0.680429</td>\n",
       "      <td>0.907331</td>\n",
       "      <td>0.909903</td>\n",
       "      <td>0.915292</td>\n",
       "      <td>0.933408</td>\n",
       "      <td>...</td>\n",
       "      <td>0.443597</td>\n",
       "      <td>0.806523</td>\n",
       "      <td>0.914395</td>\n",
       "      <td>0.585296</td>\n",
       "      <td>0.767809</td>\n",
       "      <td>0.006777</td>\n",
       "      <td>0.972158</td>\n",
       "      <td>0.735524</td>\n",
       "      <td>0.650468</td>\n",
       "      <td>0.224378</td>\n",
       "    </tr>\n",
       "    <tr>\n",
       "      <th>1994-04</th>\n",
       "      <td>0.644039</td>\n",
       "      <td>0.502208</td>\n",
       "      <td>0.906967</td>\n",
       "      <td>0.920006</td>\n",
       "      <td>0.815213</td>\n",
       "      <td>0.680180</td>\n",
       "      <td>0.909250</td>\n",
       "      <td>0.909903</td>\n",
       "      <td>0.915292</td>\n",
       "      <td>0.933408</td>\n",
       "      <td>...</td>\n",
       "      <td>0.443597</td>\n",
       "      <td>0.812181</td>\n",
       "      <td>0.914395</td>\n",
       "      <td>0.587775</td>\n",
       "      <td>0.778599</td>\n",
       "      <td>0.009421</td>\n",
       "      <td>0.971386</td>\n",
       "      <td>0.735524</td>\n",
       "      <td>0.653595</td>\n",
       "      <td>0.225938</td>\n",
       "    </tr>\n",
       "  </tbody>\n",
       "</table>\n",
       "<p>2 rows × 49 columns</p>\n",
       "</div>"
      ],
      "text/plain": [
       "          ARG_gdp   AUS_gdp   AUT_gdp   BEL_gdp   BGR_gdp   CAN_gdp   CHE_gdp  \\\n",
       "Dates                                                                           \n",
       "1994-01  0.635635  0.501645  0.906967  0.920006  0.815213  0.680429  0.907331   \n",
       "1994-04  0.644039  0.502208  0.906967  0.920006  0.815213  0.680180  0.909250   \n",
       "\n",
       "          COL_gdp   CYP_gdp  Czech Republic_gdp  ...   RUS_gdp   SGP_gdp  \\\n",
       "Dates                                            ...                       \n",
       "1994-01  0.909903  0.915292            0.933408  ...  0.443597  0.806523   \n",
       "1994-04  0.909903  0.915292            0.933408  ...  0.443597  0.812181   \n",
       "\n",
       "          SVN_gdp   SWE_gdp   THA_gdp   TUR_gdp  Taiwan, China_gdp   URY_gdp  \\\n",
       "Dates                                                                          \n",
       "1994-01  0.914395  0.585296  0.767809  0.006777           0.972158  0.735524   \n",
       "1994-04  0.914395  0.587775  0.778599  0.009421           0.971386  0.735524   \n",
       "\n",
       "          USA_gdp   ZAF_gdp  \n",
       "Dates                        \n",
       "1994-01  0.650468  0.224378  \n",
       "1994-04  0.653595  0.225938  \n",
       "\n",
       "[2 rows x 49 columns]"
      ]
     },
     "execution_count": 6,
     "metadata": {},
     "output_type": "execute_result"
    }
   ],
   "source": [
    "# Extraire toutes les colonnes avec le suffixe \"_gdp\" ainsi que la colonne des dates\n",
    "columns_gdp = ['Dates'] + [col for col in data_semestre.columns if col.endswith('_gdp')] \n",
    "df_gdp = data_semestre[columns_gdp]\n",
    "df_gdp.set_index('Dates', inplace = True)\n",
    "\n",
    "df_gdp.head(2)"
   ]
  },
  {
   "cell_type": "code",
   "execution_count": 22,
   "metadata": {},
   "outputs": [],
   "source": [
    "import statsmodels.tsa.filters.hp_filter as smf\n",
    "import statsmodels.tsa.ardl as sma\n",
    "import statsmodels.api as sm"
   ]
  },
  {
   "cell_type": "markdown",
   "metadata": {},
   "source": [
    "## Exemple de la Belgique"
   ]
  },
  {
   "cell_type": "markdown",
   "metadata": {},
   "source": [
    "### Extraction de la tendance de la série"
   ]
  },
  {
   "cell_type": "code",
   "execution_count": 8,
   "metadata": {},
   "outputs": [
    {
     "data": {
      "image/png": "[encoded data removed]",
      "text/plain": [
       "<Figure size 640x480 with 1 Axes>"
      ]
     },
     "metadata": {},
     "output_type": "display_data"
    }
   ],
   "source": [
    "# Extraction de la tendance long terme du taux de chômage\n",
    "x = df_rates['BEL_rate']\n",
    "\n",
    "# Appliquer le filtre de Hodrick-Prescott\n",
    "tendance_x, cycle_x = smf.hpfilter(x, lamb=1600)\n",
    "\n",
    "# Afficher les résultats\n",
    "d.plt.plot(x, label='Série originale')\n",
    "d.plt.plot(tendance_x, label='Tendance')\n",
    "d.plt.plot(cycle_x, label='Cycle')\n",
    "d.plt.legend()\n",
    "d.plt.show()"
   ]
  },
  {
   "cell_type": "code",
   "execution_count": 9,
   "metadata": {},
   "outputs": [
    {
     "data": {
      "image/png": "[encoded data removed]",
      "text/plain": [
       "<Figure size 640x480 with 1 Axes>"
      ]
     },
     "metadata": {},
     "output_type": "display_data"
    }
   ],
   "source": [
    "# Extraction de la tendance long terme du PIB\n",
    "y = df_gdp['BEL_gdp']\n",
    "\n",
    "# Appliquer le filtre de Hodrick-Prescott\n",
    "tendance_y, cycle_y = smf.hpfilter(y, lamb=1600)\n",
    "\n",
    "# Afficher les résultats\n",
    "d.plt.plot(x, label='Série originale')\n",
    "d.plt.plot(tendance_y, label='Tendance')\n",
    "d.plt.plot(cycle_y, label='Cycle')\n",
    "d.plt.legend()\n",
    "d.plt.show()"
   ]
  },
  {
   "cell_type": "code",
   "execution_count": 10,
   "metadata": {},
   "outputs": [],
   "source": [
    "nouveau_x = x - tendance_x\n",
    "nouveau_y = y - tendance_y"
   ]
  },
  {
   "cell_type": "code",
   "execution_count": 11,
   "metadata": {},
   "outputs": [],
   "source": [
    "dfx = nouveau_x.reset_index().rename(columns={'index': 'Dates'})\n",
    "dfx = dfx.rename(columns = {0:'rates'})"
   ]
  },
  {
   "cell_type": "code",
   "execution_count": 12,
   "metadata": {},
   "outputs": [],
   "source": [
    "dfy = nouveau_y.reset_index().rename(columns={'index': 'Dates'})\n",
    "dfy = dfy.rename(columns = {0 :'gdp'})"
   ]
  },
  {
   "cell_type": "code",
   "execution_count": 13,
   "metadata": {},
   "outputs": [
    {
     "data": {
      "text/html": [
       "<div>\n",
       "<style scoped>\n",
       "    .dataframe tbody tr th:only-of-type {\n",
       "        vertical-align: middle;\n",
       "    }\n",
       "\n",
       "    .dataframe tbody tr th {\n",
       "        vertical-align: top;\n",
       "    }\n",
       "\n",
       "    .dataframe thead th {\n",
       "        text-align: right;\n",
       "    }\n",
       "</style>\n",
       "<table border=\"1\" class=\"dataframe\">\n",
       "  <thead>\n",
       "    <tr style=\"text-align: right;\">\n",
       "      <th></th>\n",
       "      <th>Dates</th>\n",
       "      <th>rates</th>\n",
       "      <th>gdp</th>\n",
       "    </tr>\n",
       "  </thead>\n",
       "  <tbody>\n",
       "    <tr>\n",
       "      <th>0</th>\n",
       "      <td>1994-01</td>\n",
       "      <td>9.994411</td>\n",
       "      <td>0.853213</td>\n",
       "    </tr>\n",
       "    <tr>\n",
       "      <th>1</th>\n",
       "      <td>1994-04</td>\n",
       "      <td>9.943249</td>\n",
       "      <td>0.842851</td>\n",
       "    </tr>\n",
       "  </tbody>\n",
       "</table>\n",
       "</div>"
      ],
      "text/plain": [
       "     Dates     rates       gdp\n",
       "0  1994-01  9.994411  0.853213\n",
       "1  1994-04  9.943249  0.842851"
      ]
     },
     "execution_count": 13,
     "metadata": {},
     "output_type": "execute_result"
    }
   ],
   "source": [
    "data_Belgique = d.pd.merge(dfx, dfy, on='Dates', how='inner')\n",
    "data_Belgique.head(2)"
   ]
  },
  {
   "cell_type": "markdown",
   "metadata": {},
   "source": [
    "### Régression linéaire simple avec la méthode OLS : \n",
    "\n",
    "La régression linéaire simple considère chaque observation comme indépendante des autres, ce qui signifie qu'elle ne modélise pas l'autocorrélation ou la dépendance temporelle potentielle entre les observations successives. "
   ]
  },
  {
   "cell_type": "code",
   "execution_count": 14,
   "metadata": {},
   "outputs": [
    {
     "name": "stdout",
     "output_type": "stream",
     "text": [
      "                            OLS Regression Results                            \n",
      "==============================================================================\n",
      "Dep. Variable:                    gdp   R-squared:                       0.613\n",
      "Model:                            OLS   Adj. R-squared:                  0.609\n",
      "Method:                 Least Squares   F-statistic:                     182.0\n",
      "Date:                Sun, 24 Dec 2023   Prob (F-statistic):           1.92e-25\n",
      "Time:                        11:38:56   Log-Likelihood:                 133.62\n",
      "No. Observations:                 117   AIC:                            -263.2\n",
      "Df Residuals:                     115   BIC:                            -257.7\n",
      "Df Model:                           1                                         \n",
      "Covariance Type:            nonrobust                                         \n",
      "==============================================================================\n",
      "                 coef    std err          t      P>|t|      [0.025      0.975]\n",
      "------------------------------------------------------------------------------\n",
      "const          1.6204      0.053     30.801      0.000       1.516       1.725\n",
      "rates         -0.0904      0.007    -13.490      0.000      -0.104      -0.077\n",
      "==============================================================================\n",
      "Omnibus:                       10.967   Durbin-Watson:                   0.009\n",
      "Prob(Omnibus):                  0.004   Jarque-Bera (JB):                5.642\n",
      "Skew:                          -0.335   Prob(JB):                       0.0596\n",
      "Kurtosis:                       2.158   Cond. No.                         58.3\n",
      "==============================================================================\n",
      "\n",
      "Notes:\n",
      "[1] Standard Errors assume that the covariance matrix of the errors is correctly specified.\n"
     ]
    }
   ],
   "source": [
    "# S'assurer que la colonne Dates est au format datetime\n",
    "data_Belgique['Dates'] = d.pd.to_datetime(data_Belgique['Dates'])\n",
    "\n",
    "# Ajouter une constante à vos données pour inclure l'intercept dans le modèle\n",
    "data_Belgique['const'] = 1\n",
    "\n",
    "# Spécifier les variables indépendantes (X) et dépendante (y)\n",
    "X = data_Belgique[['const', 'rates']]\n",
    "y = data_Belgique['gdp']\n",
    "\n",
    "# Créer et ajuster le modèle de régression linéaire\n",
    "model = sm.OLS(y, X)\n",
    "results = model.fit()\n",
    "\n",
    "# Afficher les résultats du modèle\n",
    "print(results.summary())\n"
   ]
  },
  {
   "cell_type": "markdown",
   "metadata": {},
   "source": [
    "### Modèle ARIMA (AutoRegressive Integrated Moving Average)\n",
    "\n",
    "Ici, on considère un modèle de séries temporelles, qui capture la dépendance temporelle et modélise la dynamique temporelle des données."
   ]
  },
  {
   "cell_type": "code",
   "execution_count": 15,
   "metadata": {},
   "outputs": [
    {
     "data": {
      "image/png": "[encoded data removed]",
      "text/plain": [
       "<Figure size 1200x400 with 2 Axes>"
      ]
     },
     "metadata": {},
     "output_type": "display_data"
    }
   ],
   "source": [
    "# AACF (AutoCorrelation Function)\n",
    "# PACF (Partial AutoCorrelation Function)\n",
    "\n",
    "from statsmodels.graphics.tsaplots import plot_acf, plot_pacf\n",
    "\n",
    "# Tracez l'ACF et PACF\n",
    "fig, ax = d.plt.subplots(1, 2, figsize=(12, 4))\n",
    "plot_acf(data_Belgique['gdp'], lags=20, ax=ax[0])\n",
    "plot_pacf(data_Belgique['gdp'], lags=20, ax=ax[1])\n",
    "d.plt.show()\n"
   ]
  },
  {
   "cell_type": "code",
   "execution_count": 31,
   "metadata": {},
   "outputs": [
    {
     "name": "stderr",
     "output_type": "stream",
     "text": [
      "c:\\Users\\Amina\\AppData\\Local\\Programs\\Python\\Python311\\Lib\\site-packages\\statsmodels\\tsa\\base\\tsa_model.py:473: ValueWarning: No frequency information was provided, so inferred frequency QS-OCT will be used.\n",
      "  self._init_dates(dates, freq)\n",
      "c:\\Users\\Amina\\AppData\\Local\\Programs\\Python\\Python311\\Lib\\site-packages\\statsmodels\\tsa\\base\\tsa_model.py:473: ValueWarning: No frequency information was provided, so inferred frequency QS-OCT will be used.\n",
      "  self._init_dates(dates, freq)\n",
      "c:\\Users\\Amina\\AppData\\Local\\Programs\\Python\\Python311\\Lib\\site-packages\\statsmodels\\tsa\\base\\tsa_model.py:473: ValueWarning: No frequency information was provided, so inferred frequency QS-OCT will be used.\n",
      "  self._init_dates(dates, freq)\n"
     ]
    },
    {
     "name": "stdout",
     "output_type": "stream",
     "text": [
      "                               SARIMAX Results                                \n",
      "==============================================================================\n",
      "Dep. Variable:                    gdp   No. Observations:                  117\n",
      "Model:                ARIMA(2, 2, 11)   Log Likelihood                -853.229\n",
      "Date:                Sun, 24 Dec 2023   AIC                           1734.458\n",
      "Time:                        11:55:26   BIC                           1772.887\n",
      "Sample:                    01-01-1994   HQIC                          1750.056\n",
      "                         - 01-01-2023                                         \n",
      "Covariance Type:                  opg                                         \n",
      "==============================================================================\n",
      "                 coef    std err          z      P>|z|      [0.025      0.975]\n",
      "------------------------------------------------------------------------------\n",
      "ar.L1          1.8952      0.001   1878.041      0.000       1.893       1.897\n",
      "ar.L2         -0.9126      0.000  -7107.061      0.000      -0.913      -0.912\n",
      "ma.L1          1.0254      0.000   6046.492      0.000       1.025       1.026\n",
      "ma.L2          0.6858      0.000   4723.012      0.000       0.686       0.686\n",
      "ma.L3          0.6366      0.000   4625.833      0.000       0.636       0.637\n",
      "ma.L4          0.4599      0.000   3964.640      0.000       0.460       0.460\n",
      "ma.L5          0.3917     0.0001   3916.886      0.000       0.391       0.392\n",
      "ma.L6          0.2574   7.72e-05   3333.574      0.000       0.257       0.258\n",
      "ma.L7          0.1045   5.27e-05   1983.014      0.000       0.104       0.105\n",
      "ma.L8         -0.0153    3.2e-05   -476.226      0.000      -0.015      -0.015\n",
      "ma.L9         -0.1497   1.28e-05  -1.17e+04      0.000      -0.150      -0.150\n",
      "ma.L10         0.2673   3.91e-05   6843.648      0.000       0.267       0.267\n",
      "ma.L11         0.1691    2.6e-05   6501.950      0.000       0.169       0.169\n",
      "sigma2          1e-10    1.9e-10      0.525      0.599   -2.73e-10    4.73e-10\n",
      "===================================================================================\n",
      "Ljung-Box (L1) (Q):                   0.00   Jarque-Bera (JB):             53094.43\n",
      "Prob(Q):                              0.95   Prob(JB):                         0.00\n",
      "Heteroskedasticity (H):               0.00   Skew:                           -10.04\n",
      "Prob(H) (two-sided):                  0.00   Kurtosis:                       106.33\n",
      "===================================================================================\n",
      "\n",
      "Warnings:\n",
      "[1] Covariance matrix calculated using the outer product of gradients (complex-step).\n",
      "[2] Covariance matrix is singular or near-singular, with condition number 3.62e+19. Standard errors may be unstable.\n"
     ]
    }
   ],
   "source": [
    "# Créer et ajuster le modèle ARIMA\n",
    "model = sm.tsa.ARIMA(data_Belgique['gdp'], order=(2, 2, 11))  # Spécifier l'ordre du modèle ARIMA\n",
    "results = model.fit()\n",
    "\n",
    "# Afficher les résultats du modèle\n",
    "print(results.summary())\n"
   ]
  },
  {
   "cell_type": "markdown",
   "metadata": {},
   "source": [
    "### Modèle ARDL"
   ]
  },
  {
   "cell_type": "code",
   "execution_count": 39,
   "metadata": {},
   "outputs": [
    {
     "name": "stderr",
     "output_type": "stream",
     "text": [
      "c:\\Users\\Amina\\AppData\\Local\\Programs\\Python\\Python311\\Lib\\site-packages\\statsmodels\\tsa\\base\\tsa_model.py:473: ValueWarning: No frequency information was provided, so inferred frequency QS-OCT will be used.\n",
      "  self._init_dates(dates, freq)\n"
     ]
    },
    {
     "ename": "IndexError",
     "evalue": "tuple index out of range",
     "output_type": "error",
     "traceback": [
      "\u001b[1;31m---------------------------------------------------------------------------\u001b[0m",
      "\u001b[1;31mIndexError\u001b[0m                                Traceback (most recent call last)",
      "Cell \u001b[1;32mIn[39], line 9\u001b[0m\n\u001b[0;32m      6\u001b[0m trend \u001b[38;5;241m=\u001b[39m \u001b[38;5;124m'\u001b[39m\u001b[38;5;124mc\u001b[39m\u001b[38;5;124m'\u001b[39m  \u001b[38;5;66;03m# 'c' pour une constante, 'ct' pour une constante et une tendance linéaire, ou None pour aucun\u001b[39;00m\n\u001b[0;32m      8\u001b[0m \u001b[38;5;66;03m# Créez le modèle ARDL\u001b[39;00m\n\u001b[1;32m----> 9\u001b[0m model_ardl \u001b[38;5;241m=\u001b[39m \u001b[43msma\u001b[49m\u001b[38;5;241;43m.\u001b[39;49m\u001b[43mARDL\u001b[49m\u001b[43m(\u001b[49m\u001b[43mendog_variable\u001b[49m\u001b[43m,\u001b[49m\u001b[43m \u001b[49m\u001b[43mlags\u001b[49m\u001b[38;5;241;43m=\u001b[39;49m\u001b[43mlags_endog\u001b[49m\u001b[43m,\u001b[49m\u001b[43m \u001b[49m\u001b[43mexog\u001b[49m\u001b[38;5;241;43m=\u001b[39;49m\u001b[43mexog_variables\u001b[49m\u001b[43m,\u001b[49m\u001b[43m \u001b[49m\u001b[43morder\u001b[49m\u001b[38;5;241;43m=\u001b[39;49m\u001b[43mlags_exog\u001b[49m\u001b[43m,\u001b[49m\u001b[43m \u001b[49m\u001b[43mtrend\u001b[49m\u001b[38;5;241;43m=\u001b[39;49m\u001b[43mtrend\u001b[49m\u001b[43m)\u001b[49m\n\u001b[0;32m     11\u001b[0m \u001b[38;5;66;03m# Ajustez le modèle\u001b[39;00m\n\u001b[0;32m     12\u001b[0m results \u001b[38;5;241m=\u001b[39m model_ardl\u001b[38;5;241m.\u001b[39mfit()\n",
      "File \u001b[1;32mc:\\Users\\Amina\\AppData\\Local\\Programs\\Python\\Python311\\Lib\\site-packages\\statsmodels\\tsa\\ardl\\model.py:380\u001b[0m, in \u001b[0;36mARDL.__init__\u001b[1;34m(self, endog, lags, exog, order, trend, fixed, causal, seasonal, deterministic, hold_back, period, missing)\u001b[0m\n\u001b[0;32m    377\u001b[0m \u001b[38;5;28mself\u001b[39m\u001b[38;5;241m.\u001b[39m_names: \u001b[38;5;28mdict\u001b[39m[\u001b[38;5;28mstr\u001b[39m, Sequence[\u001b[38;5;28mstr\u001b[39m]] \u001b[38;5;241m=\u001b[39m {}\n\u001b[0;32m    379\u001b[0m \u001b[38;5;66;03m# 1. Check and update order\u001b[39;00m\n\u001b[1;32m--> 380\u001b[0m \u001b[38;5;28mself\u001b[39m\u001b[38;5;241m.\u001b[39m_order \u001b[38;5;241m=\u001b[39m \u001b[38;5;28;43mself\u001b[39;49m\u001b[38;5;241;43m.\u001b[39;49m\u001b[43m_check_order\u001b[49m\u001b[43m(\u001b[49m\u001b[43morder\u001b[49m\u001b[43m)\u001b[49m\n\u001b[0;32m    381\u001b[0m \u001b[38;5;66;03m# 2. Construct Regressors\u001b[39;00m\n\u001b[0;32m    382\u001b[0m \u001b[38;5;28mself\u001b[39m\u001b[38;5;241m.\u001b[39m_y, \u001b[38;5;28mself\u001b[39m\u001b[38;5;241m.\u001b[39m_x \u001b[38;5;241m=\u001b[39m \u001b[38;5;28mself\u001b[39m\u001b[38;5;241m.\u001b[39m_construct_regressors(hold_back)\n",
      "File \u001b[1;32mc:\\Users\\Amina\\AppData\\Local\\Programs\\Python\\Python311\\Lib\\site-packages\\statsmodels\\tsa\\ardl\\model.py:458\u001b[0m, in \u001b[0;36mARDL._check_order\u001b[1;34m(self, order)\u001b[0m\n\u001b[0;32m    456\u001b[0m \u001b[38;5;28;01mdef\u001b[39;00m \u001b[38;5;21m_check_order\u001b[39m(\u001b[38;5;28mself\u001b[39m, order: _ARDLOrder) \u001b[38;5;241m-\u001b[39m\u001b[38;5;241m>\u001b[39m \u001b[38;5;28mdict\u001b[39m[Hashable, \u001b[38;5;28mlist\u001b[39m[\u001b[38;5;28mint\u001b[39m]]:\n\u001b[0;32m    457\u001b[0m \u001b[38;5;250m    \u001b[39m\u001b[38;5;124;03m\"\"\"Validate and standardize the model order\"\"\"\u001b[39;00m\n\u001b[1;32m--> 458\u001b[0m     \u001b[38;5;28;01mreturn\u001b[39;00m \u001b[43m_format_order\u001b[49m\u001b[43m(\u001b[49m\u001b[38;5;28;43mself\u001b[39;49m\u001b[38;5;241;43m.\u001b[39;49m\u001b[43mdata\u001b[49m\u001b[38;5;241;43m.\u001b[39;49m\u001b[43morig_exog\u001b[49m\u001b[43m,\u001b[49m\u001b[43m \u001b[49m\u001b[43morder\u001b[49m\u001b[43m,\u001b[49m\u001b[43m \u001b[49m\u001b[38;5;28;43mself\u001b[39;49m\u001b[38;5;241;43m.\u001b[39;49m\u001b[43m_causal\u001b[49m\u001b[43m)\u001b[49m\n",
      "File \u001b[1;32mc:\\Users\\Amina\\AppData\\Local\\Programs\\Python\\Python311\\Lib\\site-packages\\statsmodels\\tsa\\ardl\\model.py:141\u001b[0m, in \u001b[0;36m_format_order\u001b[1;34m(exog, order, causal)\u001b[0m\n\u001b[0;32m    139\u001b[0m \u001b[38;5;28;01mif\u001b[39;00m \u001b[38;5;129;01mnot\u001b[39;00m \u001b[38;5;28misinstance\u001b[39m(exog, pd\u001b[38;5;241m.\u001b[39mDataFrame):\n\u001b[0;32m    140\u001b[0m     exog \u001b[38;5;241m=\u001b[39m array_like(exog, \u001b[38;5;124m\"\u001b[39m\u001b[38;5;124mexog\u001b[39m\u001b[38;5;124m\"\u001b[39m, ndim\u001b[38;5;241m=\u001b[39m\u001b[38;5;241m2\u001b[39m, maxdim\u001b[38;5;241m=\u001b[39m\u001b[38;5;241m2\u001b[39m)\n\u001b[1;32m--> 141\u001b[0m     keys \u001b[38;5;241m=\u001b[39m \u001b[38;5;28mlist\u001b[39m(\u001b[38;5;28mrange\u001b[39m(\u001b[43mexog\u001b[49m\u001b[38;5;241;43m.\u001b[39;49m\u001b[43mshape\u001b[49m\u001b[43m[\u001b[49m\u001b[38;5;241;43m1\u001b[39;49m\u001b[43m]\u001b[49m))\n\u001b[0;32m    142\u001b[0m \u001b[38;5;28;01melse\u001b[39;00m:\n\u001b[0;32m    143\u001b[0m     keys \u001b[38;5;241m=\u001b[39m [col \u001b[38;5;28;01mfor\u001b[39;00m col \u001b[38;5;129;01min\u001b[39;00m exog\u001b[38;5;241m.\u001b[39mcolumns]\n",
      "\u001b[1;31mIndexError\u001b[0m: tuple index out of range"
     ]
    }
   ],
   "source": [
    "# Spécifiez les paramètres du modèle ARDL\n",
    "endog_variable = data_Belgique['gdp']\n",
    "lags_endog = 2  # Nombre de retards pour la variable endogène\n",
    "exog_variables = data_Belgique['rates']\n",
    "lags_exog = [1, 2]  # Nombre de retards pour les variables exogènes\n",
    "trend = 'c'  # 'c' pour une constante, 'ct' pour une constante et une tendance linéaire, ou None pour aucun\n",
    "\n",
    "# Créez le modèle ARDL\n",
    "model_ardl = sma.ARDL(endog_variable, lags=lags_endog, exog=exog_variables, order=lags_exog, trend=trend)\n",
    "\n",
    "# Ajustez le modèle\n",
    "results = model_ardl.fit()\n",
    "\n",
    "# Affichez les résultats du modèle\n",
    "print(results.summary())\n"
   ]
  },
  {
   "cell_type": "code",
   "execution_count": 40,
   "metadata": {},
   "outputs": [
    {
     "ename": "MissingDataError",
     "evalue": "exog contains inf or nans",
     "output_type": "error",
     "traceback": [
      "\u001b[1;31m---------------------------------------------------------------------------\u001b[0m",
      "\u001b[1;31mMissingDataError\u001b[0m                          Traceback (most recent call last)",
      "Cell \u001b[1;32mIn[40], line 16\u001b[0m\n\u001b[0;32m     13\u001b[0m data_Belgique \u001b[38;5;241m=\u001b[39m data_Belgique\u001b[38;5;241m.\u001b[39mdropna()\n\u001b[0;32m     15\u001b[0m \u001b[38;5;66;03m# Créez et ajustez le modèle de régression linéaire avec lags\u001b[39;00m\n\u001b[1;32m---> 16\u001b[0m model \u001b[38;5;241m=\u001b[39m \u001b[43msm\u001b[49m\u001b[38;5;241;43m.\u001b[39;49m\u001b[43mOLS\u001b[49m\u001b[43m(\u001b[49m\u001b[43my\u001b[49m\u001b[43m,\u001b[49m\u001b[43m \u001b[49m\u001b[43mX\u001b[49m\u001b[43m)\u001b[49m\n\u001b[0;32m     17\u001b[0m results \u001b[38;5;241m=\u001b[39m model\u001b[38;5;241m.\u001b[39mfit()\n\u001b[0;32m     19\u001b[0m \u001b[38;5;66;03m# Affichez les résultats du modèle\u001b[39;00m\n",
      "File \u001b[1;32mc:\\Users\\Amina\\AppData\\Local\\Programs\\Python\\Python311\\Lib\\site-packages\\statsmodels\\regression\\linear_model.py:923\u001b[0m, in \u001b[0;36mOLS.__init__\u001b[1;34m(self, endog, exog, missing, hasconst, **kwargs)\u001b[0m\n\u001b[0;32m    920\u001b[0m     msg \u001b[38;5;241m=\u001b[39m (\u001b[38;5;124m\"\u001b[39m\u001b[38;5;124mWeights are not supported in OLS and will be ignored\u001b[39m\u001b[38;5;124m\"\u001b[39m\n\u001b[0;32m    921\u001b[0m            \u001b[38;5;124m\"\u001b[39m\u001b[38;5;124mAn exception will be raised in the next version.\u001b[39m\u001b[38;5;124m\"\u001b[39m)\n\u001b[0;32m    922\u001b[0m     warnings\u001b[38;5;241m.\u001b[39mwarn(msg, ValueWarning)\n\u001b[1;32m--> 923\u001b[0m \u001b[38;5;28;43msuper\u001b[39;49m\u001b[43m(\u001b[49m\u001b[43mOLS\u001b[49m\u001b[43m,\u001b[49m\u001b[43m \u001b[49m\u001b[38;5;28;43mself\u001b[39;49m\u001b[43m)\u001b[49m\u001b[38;5;241;43m.\u001b[39;49m\u001b[38;5;21;43m__init__\u001b[39;49m\u001b[43m(\u001b[49m\u001b[43mendog\u001b[49m\u001b[43m,\u001b[49m\u001b[43m \u001b[49m\u001b[43mexog\u001b[49m\u001b[43m,\u001b[49m\u001b[43m \u001b[49m\u001b[43mmissing\u001b[49m\u001b[38;5;241;43m=\u001b[39;49m\u001b[43mmissing\u001b[49m\u001b[43m,\u001b[49m\n\u001b[0;32m    924\u001b[0m \u001b[43m                          \u001b[49m\u001b[43mhasconst\u001b[49m\u001b[38;5;241;43m=\u001b[39;49m\u001b[43mhasconst\u001b[49m\u001b[43m,\u001b[49m\u001b[43m \u001b[49m\u001b[38;5;241;43m*\u001b[39;49m\u001b[38;5;241;43m*\u001b[39;49m\u001b[43mkwargs\u001b[49m\u001b[43m)\u001b[49m\n\u001b[0;32m    925\u001b[0m \u001b[38;5;28;01mif\u001b[39;00m \u001b[38;5;124m\"\u001b[39m\u001b[38;5;124mweights\u001b[39m\u001b[38;5;124m\"\u001b[39m \u001b[38;5;129;01min\u001b[39;00m \u001b[38;5;28mself\u001b[39m\u001b[38;5;241m.\u001b[39m_init_keys:\n\u001b[0;32m    926\u001b[0m     \u001b[38;5;28mself\u001b[39m\u001b[38;5;241m.\u001b[39m_init_keys\u001b[38;5;241m.\u001b[39mremove(\u001b[38;5;124m\"\u001b[39m\u001b[38;5;124mweights\u001b[39m\u001b[38;5;124m\"\u001b[39m)\n",
      "File \u001b[1;32mc:\\Users\\Amina\\AppData\\Local\\Programs\\Python\\Python311\\Lib\\site-packages\\statsmodels\\regression\\linear_model.py:748\u001b[0m, in \u001b[0;36mWLS.__init__\u001b[1;34m(self, endog, exog, weights, missing, hasconst, **kwargs)\u001b[0m\n\u001b[0;32m    746\u001b[0m \u001b[38;5;28;01melse\u001b[39;00m:\n\u001b[0;32m    747\u001b[0m     weights \u001b[38;5;241m=\u001b[39m weights\u001b[38;5;241m.\u001b[39msqueeze()\n\u001b[1;32m--> 748\u001b[0m \u001b[38;5;28;43msuper\u001b[39;49m\u001b[43m(\u001b[49m\u001b[43mWLS\u001b[49m\u001b[43m,\u001b[49m\u001b[43m \u001b[49m\u001b[38;5;28;43mself\u001b[39;49m\u001b[43m)\u001b[49m\u001b[38;5;241;43m.\u001b[39;49m\u001b[38;5;21;43m__init__\u001b[39;49m\u001b[43m(\u001b[49m\u001b[43mendog\u001b[49m\u001b[43m,\u001b[49m\u001b[43m \u001b[49m\u001b[43mexog\u001b[49m\u001b[43m,\u001b[49m\u001b[43m \u001b[49m\u001b[43mmissing\u001b[49m\u001b[38;5;241;43m=\u001b[39;49m\u001b[43mmissing\u001b[49m\u001b[43m,\u001b[49m\n\u001b[0;32m    749\u001b[0m \u001b[43m                          \u001b[49m\u001b[43mweights\u001b[49m\u001b[38;5;241;43m=\u001b[39;49m\u001b[43mweights\u001b[49m\u001b[43m,\u001b[49m\u001b[43m \u001b[49m\u001b[43mhasconst\u001b[49m\u001b[38;5;241;43m=\u001b[39;49m\u001b[43mhasconst\u001b[49m\u001b[43m,\u001b[49m\u001b[43m \u001b[49m\u001b[38;5;241;43m*\u001b[39;49m\u001b[38;5;241;43m*\u001b[39;49m\u001b[43mkwargs\u001b[49m\u001b[43m)\u001b[49m\n\u001b[0;32m    750\u001b[0m nobs \u001b[38;5;241m=\u001b[39m \u001b[38;5;28mself\u001b[39m\u001b[38;5;241m.\u001b[39mexog\u001b[38;5;241m.\u001b[39mshape[\u001b[38;5;241m0\u001b[39m]\n\u001b[0;32m    751\u001b[0m weights \u001b[38;5;241m=\u001b[39m \u001b[38;5;28mself\u001b[39m\u001b[38;5;241m.\u001b[39mweights\n",
      "File \u001b[1;32mc:\\Users\\Amina\\AppData\\Local\\Programs\\Python\\Python311\\Lib\\site-packages\\statsmodels\\regression\\linear_model.py:202\u001b[0m, in \u001b[0;36mRegressionModel.__init__\u001b[1;34m(self, endog, exog, **kwargs)\u001b[0m\n\u001b[0;32m    201\u001b[0m \u001b[38;5;28;01mdef\u001b[39;00m \u001b[38;5;21m__init__\u001b[39m(\u001b[38;5;28mself\u001b[39m, endog, exog, \u001b[38;5;241m*\u001b[39m\u001b[38;5;241m*\u001b[39mkwargs):\n\u001b[1;32m--> 202\u001b[0m     \u001b[38;5;28;43msuper\u001b[39;49m\u001b[43m(\u001b[49m\u001b[43mRegressionModel\u001b[49m\u001b[43m,\u001b[49m\u001b[43m \u001b[49m\u001b[38;5;28;43mself\u001b[39;49m\u001b[43m)\u001b[49m\u001b[38;5;241;43m.\u001b[39;49m\u001b[38;5;21;43m__init__\u001b[39;49m\u001b[43m(\u001b[49m\u001b[43mendog\u001b[49m\u001b[43m,\u001b[49m\u001b[43m \u001b[49m\u001b[43mexog\u001b[49m\u001b[43m,\u001b[49m\u001b[43m \u001b[49m\u001b[38;5;241;43m*\u001b[39;49m\u001b[38;5;241;43m*\u001b[39;49m\u001b[43mkwargs\u001b[49m\u001b[43m)\u001b[49m\n\u001b[0;32m    203\u001b[0m     \u001b[38;5;28mself\u001b[39m\u001b[38;5;241m.\u001b[39mpinv_wexog: Float64Array \u001b[38;5;241m|\u001b[39m \u001b[38;5;28;01mNone\u001b[39;00m \u001b[38;5;241m=\u001b[39m \u001b[38;5;28;01mNone\u001b[39;00m\n\u001b[0;32m    204\u001b[0m     \u001b[38;5;28mself\u001b[39m\u001b[38;5;241m.\u001b[39m_data_attr\u001b[38;5;241m.\u001b[39mextend([\u001b[38;5;124m'\u001b[39m\u001b[38;5;124mpinv_wexog\u001b[39m\u001b[38;5;124m'\u001b[39m, \u001b[38;5;124m'\u001b[39m\u001b[38;5;124mwendog\u001b[39m\u001b[38;5;124m'\u001b[39m, \u001b[38;5;124m'\u001b[39m\u001b[38;5;124mwexog\u001b[39m\u001b[38;5;124m'\u001b[39m, \u001b[38;5;124m'\u001b[39m\u001b[38;5;124mweights\u001b[39m\u001b[38;5;124m'\u001b[39m])\n",
      "File \u001b[1;32mc:\\Users\\Amina\\AppData\\Local\\Programs\\Python\\Python311\\Lib\\site-packages\\statsmodels\\base\\model.py:270\u001b[0m, in \u001b[0;36mLikelihoodModel.__init__\u001b[1;34m(self, endog, exog, **kwargs)\u001b[0m\n\u001b[0;32m    269\u001b[0m \u001b[38;5;28;01mdef\u001b[39;00m \u001b[38;5;21m__init__\u001b[39m(\u001b[38;5;28mself\u001b[39m, endog, exog\u001b[38;5;241m=\u001b[39m\u001b[38;5;28;01mNone\u001b[39;00m, \u001b[38;5;241m*\u001b[39m\u001b[38;5;241m*\u001b[39mkwargs):\n\u001b[1;32m--> 270\u001b[0m     \u001b[38;5;28;43msuper\u001b[39;49m\u001b[43m(\u001b[49m\u001b[43m)\u001b[49m\u001b[38;5;241;43m.\u001b[39;49m\u001b[38;5;21;43m__init__\u001b[39;49m\u001b[43m(\u001b[49m\u001b[43mendog\u001b[49m\u001b[43m,\u001b[49m\u001b[43m \u001b[49m\u001b[43mexog\u001b[49m\u001b[43m,\u001b[49m\u001b[43m \u001b[49m\u001b[38;5;241;43m*\u001b[39;49m\u001b[38;5;241;43m*\u001b[39;49m\u001b[43mkwargs\u001b[49m\u001b[43m)\u001b[49m\n\u001b[0;32m    271\u001b[0m     \u001b[38;5;28mself\u001b[39m\u001b[38;5;241m.\u001b[39minitialize()\n",
      "File \u001b[1;32mc:\\Users\\Amina\\AppData\\Local\\Programs\\Python\\Python311\\Lib\\site-packages\\statsmodels\\base\\model.py:95\u001b[0m, in \u001b[0;36mModel.__init__\u001b[1;34m(self, endog, exog, **kwargs)\u001b[0m\n\u001b[0;32m     93\u001b[0m missing \u001b[38;5;241m=\u001b[39m kwargs\u001b[38;5;241m.\u001b[39mpop(\u001b[38;5;124m'\u001b[39m\u001b[38;5;124mmissing\u001b[39m\u001b[38;5;124m'\u001b[39m, \u001b[38;5;124m'\u001b[39m\u001b[38;5;124mnone\u001b[39m\u001b[38;5;124m'\u001b[39m)\n\u001b[0;32m     94\u001b[0m hasconst \u001b[38;5;241m=\u001b[39m kwargs\u001b[38;5;241m.\u001b[39mpop(\u001b[38;5;124m'\u001b[39m\u001b[38;5;124mhasconst\u001b[39m\u001b[38;5;124m'\u001b[39m, \u001b[38;5;28;01mNone\u001b[39;00m)\n\u001b[1;32m---> 95\u001b[0m \u001b[38;5;28mself\u001b[39m\u001b[38;5;241m.\u001b[39mdata \u001b[38;5;241m=\u001b[39m \u001b[38;5;28;43mself\u001b[39;49m\u001b[38;5;241;43m.\u001b[39;49m\u001b[43m_handle_data\u001b[49m\u001b[43m(\u001b[49m\u001b[43mendog\u001b[49m\u001b[43m,\u001b[49m\u001b[43m \u001b[49m\u001b[43mexog\u001b[49m\u001b[43m,\u001b[49m\u001b[43m \u001b[49m\u001b[43mmissing\u001b[49m\u001b[43m,\u001b[49m\u001b[43m \u001b[49m\u001b[43mhasconst\u001b[49m\u001b[43m,\u001b[49m\n\u001b[0;32m     96\u001b[0m \u001b[43m                              \u001b[49m\u001b[38;5;241;43m*\u001b[39;49m\u001b[38;5;241;43m*\u001b[39;49m\u001b[43mkwargs\u001b[49m\u001b[43m)\u001b[49m\n\u001b[0;32m     97\u001b[0m \u001b[38;5;28mself\u001b[39m\u001b[38;5;241m.\u001b[39mk_constant \u001b[38;5;241m=\u001b[39m \u001b[38;5;28mself\u001b[39m\u001b[38;5;241m.\u001b[39mdata\u001b[38;5;241m.\u001b[39mk_constant\n\u001b[0;32m     98\u001b[0m \u001b[38;5;28mself\u001b[39m\u001b[38;5;241m.\u001b[39mexog \u001b[38;5;241m=\u001b[39m \u001b[38;5;28mself\u001b[39m\u001b[38;5;241m.\u001b[39mdata\u001b[38;5;241m.\u001b[39mexog\n",
      "File \u001b[1;32mc:\\Users\\Amina\\AppData\\Local\\Programs\\Python\\Python311\\Lib\\site-packages\\statsmodels\\base\\model.py:135\u001b[0m, in \u001b[0;36mModel._handle_data\u001b[1;34m(self, endog, exog, missing, hasconst, **kwargs)\u001b[0m\n\u001b[0;32m    134\u001b[0m \u001b[38;5;28;01mdef\u001b[39;00m \u001b[38;5;21m_handle_data\u001b[39m(\u001b[38;5;28mself\u001b[39m, endog, exog, missing, hasconst, \u001b[38;5;241m*\u001b[39m\u001b[38;5;241m*\u001b[39mkwargs):\n\u001b[1;32m--> 135\u001b[0m     data \u001b[38;5;241m=\u001b[39m \u001b[43mhandle_data\u001b[49m\u001b[43m(\u001b[49m\u001b[43mendog\u001b[49m\u001b[43m,\u001b[49m\u001b[43m \u001b[49m\u001b[43mexog\u001b[49m\u001b[43m,\u001b[49m\u001b[43m \u001b[49m\u001b[43mmissing\u001b[49m\u001b[43m,\u001b[49m\u001b[43m \u001b[49m\u001b[43mhasconst\u001b[49m\u001b[43m,\u001b[49m\u001b[43m \u001b[49m\u001b[38;5;241;43m*\u001b[39;49m\u001b[38;5;241;43m*\u001b[39;49m\u001b[43mkwargs\u001b[49m\u001b[43m)\u001b[49m\n\u001b[0;32m    136\u001b[0m     \u001b[38;5;66;03m# kwargs arrays could have changed, easier to just attach here\u001b[39;00m\n\u001b[0;32m    137\u001b[0m     \u001b[38;5;28;01mfor\u001b[39;00m key \u001b[38;5;129;01min\u001b[39;00m kwargs:\n",
      "File \u001b[1;32mc:\\Users\\Amina\\AppData\\Local\\Programs\\Python\\Python311\\Lib\\site-packages\\statsmodels\\base\\data.py:675\u001b[0m, in \u001b[0;36mhandle_data\u001b[1;34m(endog, exog, missing, hasconst, **kwargs)\u001b[0m\n\u001b[0;32m    672\u001b[0m     exog \u001b[38;5;241m=\u001b[39m np\u001b[38;5;241m.\u001b[39masarray(exog)\n\u001b[0;32m    674\u001b[0m klass \u001b[38;5;241m=\u001b[39m handle_data_class_factory(endog, exog)\n\u001b[1;32m--> 675\u001b[0m \u001b[38;5;28;01mreturn\u001b[39;00m \u001b[43mklass\u001b[49m\u001b[43m(\u001b[49m\u001b[43mendog\u001b[49m\u001b[43m,\u001b[49m\u001b[43m \u001b[49m\u001b[43mexog\u001b[49m\u001b[38;5;241;43m=\u001b[39;49m\u001b[43mexog\u001b[49m\u001b[43m,\u001b[49m\u001b[43m \u001b[49m\u001b[43mmissing\u001b[49m\u001b[38;5;241;43m=\u001b[39;49m\u001b[43mmissing\u001b[49m\u001b[43m,\u001b[49m\u001b[43m \u001b[49m\u001b[43mhasconst\u001b[49m\u001b[38;5;241;43m=\u001b[39;49m\u001b[43mhasconst\u001b[49m\u001b[43m,\u001b[49m\n\u001b[0;32m    676\u001b[0m \u001b[43m             \u001b[49m\u001b[38;5;241;43m*\u001b[39;49m\u001b[38;5;241;43m*\u001b[39;49m\u001b[43mkwargs\u001b[49m\u001b[43m)\u001b[49m\n",
      "File \u001b[1;32mc:\\Users\\Amina\\AppData\\Local\\Programs\\Python\\Python311\\Lib\\site-packages\\statsmodels\\base\\data.py:88\u001b[0m, in \u001b[0;36mModelData.__init__\u001b[1;34m(self, endog, exog, missing, hasconst, **kwargs)\u001b[0m\n\u001b[0;32m     86\u001b[0m \u001b[38;5;28mself\u001b[39m\u001b[38;5;241m.\u001b[39mconst_idx \u001b[38;5;241m=\u001b[39m \u001b[38;5;28;01mNone\u001b[39;00m\n\u001b[0;32m     87\u001b[0m \u001b[38;5;28mself\u001b[39m\u001b[38;5;241m.\u001b[39mk_constant \u001b[38;5;241m=\u001b[39m \u001b[38;5;241m0\u001b[39m\n\u001b[1;32m---> 88\u001b[0m \u001b[38;5;28;43mself\u001b[39;49m\u001b[38;5;241;43m.\u001b[39;49m\u001b[43m_handle_constant\u001b[49m\u001b[43m(\u001b[49m\u001b[43mhasconst\u001b[49m\u001b[43m)\u001b[49m\n\u001b[0;32m     89\u001b[0m \u001b[38;5;28mself\u001b[39m\u001b[38;5;241m.\u001b[39m_check_integrity()\n\u001b[0;32m     90\u001b[0m \u001b[38;5;28mself\u001b[39m\u001b[38;5;241m.\u001b[39m_cache \u001b[38;5;241m=\u001b[39m {}\n",
      "File \u001b[1;32mc:\\Users\\Amina\\AppData\\Local\\Programs\\Python\\Python311\\Lib\\site-packages\\statsmodels\\base\\data.py:134\u001b[0m, in \u001b[0;36mModelData._handle_constant\u001b[1;34m(self, hasconst)\u001b[0m\n\u001b[0;32m    132\u001b[0m exog_max \u001b[38;5;241m=\u001b[39m np\u001b[38;5;241m.\u001b[39mmax(\u001b[38;5;28mself\u001b[39m\u001b[38;5;241m.\u001b[39mexog, axis\u001b[38;5;241m=\u001b[39m\u001b[38;5;241m0\u001b[39m)\n\u001b[0;32m    133\u001b[0m \u001b[38;5;28;01mif\u001b[39;00m \u001b[38;5;129;01mnot\u001b[39;00m np\u001b[38;5;241m.\u001b[39misfinite(exog_max)\u001b[38;5;241m.\u001b[39mall():\n\u001b[1;32m--> 134\u001b[0m     \u001b[38;5;28;01mraise\u001b[39;00m MissingDataError(\u001b[38;5;124m'\u001b[39m\u001b[38;5;124mexog contains inf or nans\u001b[39m\u001b[38;5;124m'\u001b[39m)\n\u001b[0;32m    135\u001b[0m exog_min \u001b[38;5;241m=\u001b[39m np\u001b[38;5;241m.\u001b[39mmin(\u001b[38;5;28mself\u001b[39m\u001b[38;5;241m.\u001b[39mexog, axis\u001b[38;5;241m=\u001b[39m\u001b[38;5;241m0\u001b[39m)\n\u001b[0;32m    136\u001b[0m const_idx \u001b[38;5;241m=\u001b[39m np\u001b[38;5;241m.\u001b[39mwhere(exog_max \u001b[38;5;241m==\u001b[39m exog_min)[\u001b[38;5;241m0\u001b[39m]\u001b[38;5;241m.\u001b[39msqueeze()\n",
      "\u001b[1;31mMissingDataError\u001b[0m: exog contains inf or nans"
     ]
    }
   ],
   "source": [
    "# Spécifiez les retards que vous souhaitez inclure\n",
    "lags = 2\n",
    "\n",
    "# Créez des colonnes de lags pour rates\n",
    "for i in range(1, lags + 1):\n",
    "    data_Belgique[f'rates_lag{i}'] = data_Belgique['rates'].shift(i)\n",
    "\n",
    "# Spécifiez les variables indépendantes (X) et dépendante (y)\n",
    "X = data_Belgique[['const', 'rates_lag1', 'rates_lag2']]\n",
    "y = data_Belgique['gdp']\n",
    "\n",
    "# Éliminez les lignes avec des valeurs manquantes introduites par les lags\n",
    "data_Belgique = data_Belgique.dropna()\n",
    "\n",
    "# Créez et ajustez le modèle de régression linéaire avec lags\n",
    "model = sm.OLS(y, X)\n",
    "results = model.fit()\n",
    "\n",
    "# Affichez les résultats du modèle\n",
    "print(results.summary())\n"
   ]
  },
  {
   "cell_type": "markdown",
   "metadata": {},
   "source": [
    "# II- Clustering : regroupement des pays selon des critères de développement"
   ]
  },
  {
   "cell_type": "markdown",
   "metadata": {},
   "source": [
    "# III- Vérification de la loi pour un pays tiré de manière i.i.d. dans chaque groupe"
   ]
  },
  {
   "cell_type": "code",
   "execution_count": null,
   "metadata": {},
   "outputs": [],
   "source": []
  }
 ],
 "metadata": {
  "kernelspec": {
   "display_name": "Python 3",
   "language": "python",
   "name": "python3"
  },
  "language_info": {
   "codemirror_mode": {
    "name": "ipython",
    "version": 3
   },
   "file_extension": ".py",
   "mimetype": "text/x-python",
   "name": "python",
   "nbconvert_exporter": "python",
   "pygments_lexer": "ipython3",
   "version": "3.11.4"
  }
 },
 "nbformat": 4,
 "nbformat_minor": 2
}

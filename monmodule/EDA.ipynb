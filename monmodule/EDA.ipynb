{
 "cells": [
  {
   "cell_type": "markdown",
   "metadata": {},
   "source": [
    " <div style=\"text-align:center;\">\n",
    "   <span style=\"color:green; font-size:2em; font-weight:bold;\">Exploratory Data Analysis (EDA)</span><br><br>\n",
    "</div>\n"
   ]
  },
  {
   "cell_type": "markdown",
   "metadata": {},
   "source": [
    "# <span style=\"color:green; text-align:center;\">Introduction</span>\n",
    "\n",
    "Dans cette partie, nous nous intéressons à la visualisation des données ainsi qu'à l'analyse descriptive du jeu de données **\"final_data\"** obtenu suite au nettoyage des bases de données initiales du fichier \"Préparation_données.ipynb\".\n",
    "\n",
    "Pour étudier les tendances moyennes, nous allons se concentrer uniquement sur les observations de la période s'étallant de **2019** à **2023**. Nous voulons à partir de cela visualiser les niveaux moyens de chomage et de croissance économique pour les cinq dernières années.\n",
    "L'objectif ici est de mettre en pratique les méthodes vues en cours.\n",
    "\n",
    "**Précision :** Pour les autres représentations, la période considérée est celle s'étallant de **1994** à **2023**.\n",
    "\n",
    "- Pour cela, quatres applications ont été créées."
   ]
  },
  {
   "cell_type": "code",
   "execution_count": 51,
   "metadata": {},
   "outputs": [
    {
     "data": {
      "text/plain": [
       "<module 'declarations' from 'c:\\\\Users\\\\user\\\\Documents\\\\FRANCE\\\\python\\\\Projet-Python\\\\monmodule\\\\declarations.py'>"
      ]
     },
     "execution_count": 51,
     "metadata": {},
     "output_type": "execute_result"
    }
   ],
   "source": [
    "# Import des packages\n",
    "from importlib import reload\n",
    "import declarations as d\n",
    "reload(d)"
   ]
  },
  {
   "cell_type": "code",
   "execution_count": 52,
   "metadata": {},
   "outputs": [],
   "source": [
    "# Importation du jeu de données\n",
    "df = d.pd.read_csv(\"./bases/final_data.csv\")"
   ]
  },
  {
   "cell_type": "code",
   "execution_count": 53,
   "metadata": {},
   "outputs": [
    {
     "data": {
      "text/html": [
       "<div>\n",
       "<style scoped>\n",
       "    .dataframe tbody tr th:only-of-type {\n",
       "        vertical-align: middle;\n",
       "    }\n",
       "\n",
       "    .dataframe tbody tr th {\n",
       "        vertical-align: top;\n",
       "    }\n",
       "\n",
       "    .dataframe thead th {\n",
       "        text-align: right;\n",
       "    }\n",
       "</style>\n",
       "<table border=\"1\" class=\"dataframe\">\n",
       "  <thead>\n",
       "    <tr style=\"text-align: right;\">\n",
       "      <th></th>\n",
       "      <th>YEAR</th>\n",
       "      <th>COUNTRY</th>\n",
       "      <th>Unemployment_rate</th>\n",
       "      <th>GDP_rate</th>\n",
       "      <th>life_expentancy</th>\n",
       "      <th>pop_growth_rate</th>\n",
       "    </tr>\n",
       "  </thead>\n",
       "  <tbody>\n",
       "    <tr>\n",
       "      <th>0</th>\n",
       "      <td>1994-01</td>\n",
       "      <td>AUS</td>\n",
       "      <td>9.814137</td>\n",
       "      <td>0.501645</td>\n",
       "      <td>77.878049</td>\n",
       "      <td>0.963092</td>\n",
       "    </tr>\n",
       "    <tr>\n",
       "      <th>1</th>\n",
       "      <td>1994-01</td>\n",
       "      <td>SVN</td>\n",
       "      <td>14.650000</td>\n",
       "      <td>0.748256</td>\n",
       "      <td>73.404878</td>\n",
       "      <td>-0.115694</td>\n",
       "    </tr>\n",
       "    <tr>\n",
       "      <th>2</th>\n",
       "      <td>1994-01</td>\n",
       "      <td>CAN</td>\n",
       "      <td>10.700000</td>\n",
       "      <td>0.680429</td>\n",
       "      <td>77.871707</td>\n",
       "      <td>1.095258</td>\n",
       "    </tr>\n",
       "    <tr>\n",
       "      <th>3</th>\n",
       "      <td>1994-01</td>\n",
       "      <td>AUT</td>\n",
       "      <td>6.609708</td>\n",
       "      <td>0.779464</td>\n",
       "      <td>76.419512</td>\n",
       "      <td>0.384870</td>\n",
       "    </tr>\n",
       "    <tr>\n",
       "      <th>4</th>\n",
       "      <td>1994-01</td>\n",
       "      <td>PHL</td>\n",
       "      <td>9.450000</td>\n",
       "      <td>0.329061</td>\n",
       "      <td>67.942000</td>\n",
       "      <td>2.343515</td>\n",
       "    </tr>\n",
       "  </tbody>\n",
       "</table>\n",
       "</div>"
      ],
      "text/plain": [
       "      YEAR COUNTRY  Unemployment_rate  GDP_rate  life_expentancy  \\\n",
       "0  1994-01     AUS           9.814137  0.501645        77.878049   \n",
       "1  1994-01     SVN          14.650000  0.748256        73.404878   \n",
       "2  1994-01     CAN          10.700000  0.680429        77.871707   \n",
       "3  1994-01     AUT           6.609708  0.779464        76.419512   \n",
       "4  1994-01     PHL           9.450000  0.329061        67.942000   \n",
       "\n",
       "   pop_growth_rate  \n",
       "0         0.963092  \n",
       "1        -0.115694  \n",
       "2         1.095258  \n",
       "3         0.384870  \n",
       "4         2.343515  "
      ]
     },
     "execution_count": 53,
     "metadata": {},
     "output_type": "execute_result"
    }
   ],
   "source": [
    "# Visualisation \n",
    "df.head()"
   ]
  },
  {
   "cell_type": "markdown",
   "metadata": {},
   "source": [
    "## <span style=\"color:green; text-align:center;\">I- Présentation de la base</span>"
   ]
  },
  {
   "cell_type": "code",
   "execution_count": 54,
   "metadata": {},
   "outputs": [
    {
     "data": {
      "text/plain": [
       "(3627, 6)"
      ]
     },
     "execution_count": 54,
     "metadata": {},
     "output_type": "execute_result"
    }
   ],
   "source": [
    "# Dimensions de la DF\n",
    "df.shape"
   ]
  },
  {
   "cell_type": "code",
   "execution_count": 55,
   "metadata": {},
   "outputs": [],
   "source": [
    "# Informations sur la DF (nombre de valeurs non nulles, type de données de chaque colonne...)\n",
    "df.info()"
   ]
  },
  {
   "cell_type": "code",
   "execution_count": 56,
   "metadata": {},
   "outputs": [
    {
     "data": {
      "text/html": [
       "<div>\n",
       "<style scoped>\n",
       "    .dataframe tbody tr th:only-of-type {\n",
       "        vertical-align: middle;\n",
       "    }\n",
       "\n",
       "    .dataframe tbody tr th {\n",
       "        vertical-align: top;\n",
       "    }\n",
       "\n",
       "    .dataframe thead th {\n",
       "        text-align: right;\n",
       "    }\n",
       "</style>\n",
       "<table border=\"1\" class=\"dataframe\">\n",
       "  <thead>\n",
       "    <tr style=\"text-align: right;\">\n",
       "      <th></th>\n",
       "      <th>Unemployment_rate</th>\n",
       "      <th>GDP_rate</th>\n",
       "      <th>life_expentancy</th>\n",
       "      <th>pop_growth_rate</th>\n",
       "    </tr>\n",
       "  </thead>\n",
       "  <tbody>\n",
       "    <tr>\n",
       "      <th>count</th>\n",
       "      <td>3627.000000</td>\n",
       "      <td>3393.000000</td>\n",
       "      <td>3277.000000</td>\n",
       "      <td>3277.000000</td>\n",
       "    </tr>\n",
       "    <tr>\n",
       "      <th>mean</th>\n",
       "      <td>7.641700</td>\n",
       "      <td>0.953404</td>\n",
       "      <td>77.805258</td>\n",
       "      <td>0.483831</td>\n",
       "    </tr>\n",
       "    <tr>\n",
       "      <th>std</th>\n",
       "      <td>3.810740</td>\n",
       "      <td>0.673057</td>\n",
       "      <td>4.124382</td>\n",
       "      <td>0.889267</td>\n",
       "    </tr>\n",
       "    <tr>\n",
       "      <th>min</th>\n",
       "      <td>1.400000</td>\n",
       "      <td>0.016733</td>\n",
       "      <td>64.467073</td>\n",
       "      <td>-6.187253</td>\n",
       "    </tr>\n",
       "    <tr>\n",
       "      <th>25%</th>\n",
       "      <td>4.950000</td>\n",
       "      <td>0.747568</td>\n",
       "      <td>75.412195</td>\n",
       "      <td>0.029112</td>\n",
       "    </tr>\n",
       "    <tr>\n",
       "      <th>50%</th>\n",
       "      <td>7.066667</td>\n",
       "      <td>0.896520</td>\n",
       "      <td>78.631707</td>\n",
       "      <td>0.399943</td>\n",
       "    </tr>\n",
       "    <tr>\n",
       "      <th>75%</th>\n",
       "      <td>9.408281</td>\n",
       "      <td>1.007932</td>\n",
       "      <td>81.078049</td>\n",
       "      <td>0.964254</td>\n",
       "    </tr>\n",
       "    <tr>\n",
       "      <th>max</th>\n",
       "      <td>26.366667</td>\n",
       "      <td>8.370481</td>\n",
       "      <td>84.560000</td>\n",
       "      <td>5.321517</td>\n",
       "    </tr>\n",
       "  </tbody>\n",
       "</table>\n",
       "</div>"
      ],
      "text/plain": [
       "       Unemployment_rate     GDP_rate  life_expentancy  pop_growth_rate\n",
       "count        3627.000000  3393.000000      3277.000000      3277.000000\n",
       "mean            7.641700     0.953404        77.805258         0.483831\n",
       "std             3.810740     0.673057         4.124382         0.889267\n",
       "min             1.400000     0.016733        64.467073        -6.187253\n",
       "25%             4.950000     0.747568        75.412195         0.029112\n",
       "50%             7.066667     0.896520        78.631707         0.399943\n",
       "75%             9.408281     1.007932        81.078049         0.964254\n",
       "max            26.366667     8.370481        84.560000         5.321517"
      ]
     },
     "execution_count": 56,
     "metadata": {},
     "output_type": "execute_result"
    }
   ],
   "source": [
    "# Générer des statistiques descriptives récapitulatives d'une DataFrame\n",
    "df.describe()"
   ]
  },
  {
   "cell_type": "code",
   "execution_count": 57,
   "metadata": {},
   "outputs": [],
   "source": [
    "# Telécharger le shapefile\n",
    "world = d.gpd.read_file(d.gpd.datasets.get_path('naturalearth_lowres'))\n",
    "\n",
    "# Transformer les coordonnées géographiques en coordonnées projetées\n",
    "world.to_crs('EPSG:4326') \n",
    "\n",
    "# Renommer la colonne iso_a3\n",
    "world=world.rename(columns={'iso_a3': 'COUNTRY'})"
   ]
  },
  {
   "cell_type": "code",
   "execution_count": 58,
   "metadata": {},
   "outputs": [
    {
     "data": {
      "text/html": [
       "<div>\n",
       "<style scoped>\n",
       "    .dataframe tbody tr th:only-of-type {\n",
       "        vertical-align: middle;\n",
       "    }\n",
       "\n",
       "    .dataframe tbody tr th {\n",
       "        vertical-align: top;\n",
       "    }\n",
       "\n",
       "    .dataframe thead th {\n",
       "        text-align: right;\n",
       "    }\n",
       "</style>\n",
       "<table border=\"1\" class=\"dataframe\">\n",
       "  <thead>\n",
       "    <tr style=\"text-align: right;\">\n",
       "      <th></th>\n",
       "      <th>pop_est</th>\n",
       "      <th>continent</th>\n",
       "      <th>name</th>\n",
       "      <th>COUNTRY</th>\n",
       "      <th>gdp_md_est</th>\n",
       "      <th>geometry</th>\n",
       "    </tr>\n",
       "  </thead>\n",
       "  <tbody>\n",
       "    <tr>\n",
       "      <th>0</th>\n",
       "      <td>889953.0</td>\n",
       "      <td>Oceania</td>\n",
       "      <td>Fiji</td>\n",
       "      <td>FJI</td>\n",
       "      <td>5496</td>\n",
       "      <td>MULTIPOLYGON (((180.00000 -16.06713, 180.00000...</td>\n",
       "    </tr>\n",
       "    <tr>\n",
       "      <th>1</th>\n",
       "      <td>58005463.0</td>\n",
       "      <td>Africa</td>\n",
       "      <td>Tanzania</td>\n",
       "      <td>TZA</td>\n",
       "      <td>63177</td>\n",
       "      <td>POLYGON ((33.90371 -0.95000, 34.07262 -1.05982...</td>\n",
       "    </tr>\n",
       "    <tr>\n",
       "      <th>2</th>\n",
       "      <td>603253.0</td>\n",
       "      <td>Africa</td>\n",
       "      <td>W. Sahara</td>\n",
       "      <td>ESH</td>\n",
       "      <td>907</td>\n",
       "      <td>POLYGON ((-8.66559 27.65643, -8.66512 27.58948...</td>\n",
       "    </tr>\n",
       "    <tr>\n",
       "      <th>3</th>\n",
       "      <td>37589262.0</td>\n",
       "      <td>North America</td>\n",
       "      <td>Canada</td>\n",
       "      <td>CAN</td>\n",
       "      <td>1736425</td>\n",
       "      <td>MULTIPOLYGON (((-122.84000 49.00000, -122.9742...</td>\n",
       "    </tr>\n",
       "    <tr>\n",
       "      <th>4</th>\n",
       "      <td>328239523.0</td>\n",
       "      <td>North America</td>\n",
       "      <td>United States of America</td>\n",
       "      <td>USA</td>\n",
       "      <td>21433226</td>\n",
       "      <td>MULTIPOLYGON (((-122.84000 49.00000, -120.0000...</td>\n",
       "    </tr>\n",
       "  </tbody>\n",
       "</table>\n",
       "</div>"
      ],
      "text/plain": [
       "       pop_est      continent                      name COUNTRY  gdp_md_est  \\\n",
       "0     889953.0        Oceania                      Fiji     FJI        5496   \n",
       "1   58005463.0         Africa                  Tanzania     TZA       63177   \n",
       "2     603253.0         Africa                 W. Sahara     ESH         907   \n",
       "3   37589262.0  North America                    Canada     CAN     1736425   \n",
       "4  328239523.0  North America  United States of America     USA    21433226   \n",
       "\n",
       "                                            geometry  \n",
       "0  MULTIPOLYGON (((180.00000 -16.06713, 180.00000...  \n",
       "1  POLYGON ((33.90371 -0.95000, 34.07262 -1.05982...  \n",
       "2  POLYGON ((-8.66559 27.65643, -8.66512 27.58948...  \n",
       "3  MULTIPOLYGON (((-122.84000 49.00000, -122.9742...  \n",
       "4  MULTIPOLYGON (((-122.84000 49.00000, -120.0000...  "
      ]
     },
     "execution_count": 58,
     "metadata": {},
     "output_type": "execute_result"
    }
   ],
   "source": [
    "# Visualisation\n",
    "world.head()"
   ]
  },
  {
   "cell_type": "code",
   "execution_count": 59,
   "metadata": {},
   "outputs": [],
   "source": [
    "# Sélectionner certaines colonnes\n",
    "columns_to_keep = ['geometry', 'name','COUNTRY', 'continent']\n",
    "world = world[columns_to_keep]\n",
    "\n",
    "# Fusionner les deux DataFrames\n",
    "world_df = d.pd.merge(world, df, how='inner', on=['COUNTRY'])"
   ]
  },
  {
   "cell_type": "code",
   "execution_count": 60,
   "metadata": {},
   "outputs": [
    {
     "data": {
      "text/html": [
       "<div>\n",
       "<style scoped>\n",
       "    .dataframe tbody tr th:only-of-type {\n",
       "        vertical-align: middle;\n",
       "    }\n",
       "\n",
       "    .dataframe tbody tr th {\n",
       "        vertical-align: top;\n",
       "    }\n",
       "\n",
       "    .dataframe thead th {\n",
       "        text-align: right;\n",
       "    }\n",
       "</style>\n",
       "<table border=\"1\" class=\"dataframe\">\n",
       "  <thead>\n",
       "    <tr style=\"text-align: right;\">\n",
       "      <th></th>\n",
       "      <th>geometry</th>\n",
       "      <th>name</th>\n",
       "      <th>COUNTRY</th>\n",
       "      <th>continent</th>\n",
       "      <th>YEAR</th>\n",
       "      <th>Unemployment_rate</th>\n",
       "      <th>GDP_rate</th>\n",
       "      <th>life_expentancy</th>\n",
       "      <th>pop_growth_rate</th>\n",
       "    </tr>\n",
       "  </thead>\n",
       "  <tbody>\n",
       "    <tr>\n",
       "      <th>0</th>\n",
       "      <td>MULTIPOLYGON (((-122.84000 49.00000, -122.9742...</td>\n",
       "      <td>Canada</td>\n",
       "      <td>CAN</td>\n",
       "      <td>North America</td>\n",
       "      <td>1994-01</td>\n",
       "      <td>10.700000</td>\n",
       "      <td>0.680429</td>\n",
       "      <td>77.871707</td>\n",
       "      <td>1.095258</td>\n",
       "    </tr>\n",
       "    <tr>\n",
       "      <th>1</th>\n",
       "      <td>MULTIPOLYGON (((-122.84000 49.00000, -122.9742...</td>\n",
       "      <td>Canada</td>\n",
       "      <td>CAN</td>\n",
       "      <td>North America</td>\n",
       "      <td>1994-02</td>\n",
       "      <td>10.866667</td>\n",
       "      <td>0.680180</td>\n",
       "      <td>77.871707</td>\n",
       "      <td>1.095258</td>\n",
       "    </tr>\n",
       "    <tr>\n",
       "      <th>2</th>\n",
       "      <td>MULTIPOLYGON (((-122.84000 49.00000, -122.9742...</td>\n",
       "      <td>Canada</td>\n",
       "      <td>CAN</td>\n",
       "      <td>North America</td>\n",
       "      <td>1994-03</td>\n",
       "      <td>10.366667</td>\n",
       "      <td>0.686270</td>\n",
       "      <td>77.871707</td>\n",
       "      <td>1.095258</td>\n",
       "    </tr>\n",
       "    <tr>\n",
       "      <th>3</th>\n",
       "      <td>MULTIPOLYGON (((-122.84000 49.00000, -122.9742...</td>\n",
       "      <td>Canada</td>\n",
       "      <td>CAN</td>\n",
       "      <td>North America</td>\n",
       "      <td>1994-04</td>\n",
       "      <td>10.150000</td>\n",
       "      <td>0.689810</td>\n",
       "      <td>77.871707</td>\n",
       "      <td>1.095258</td>\n",
       "    </tr>\n",
       "    <tr>\n",
       "      <th>4</th>\n",
       "      <td>MULTIPOLYGON (((-122.84000 49.00000, -122.9742...</td>\n",
       "      <td>Canada</td>\n",
       "      <td>CAN</td>\n",
       "      <td>North America</td>\n",
       "      <td>1995-01</td>\n",
       "      <td>9.550000</td>\n",
       "      <td>0.694571</td>\n",
       "      <td>77.977317</td>\n",
       "      <td>1.034769</td>\n",
       "    </tr>\n",
       "  </tbody>\n",
       "</table>\n",
       "</div>"
      ],
      "text/plain": [
       "                                            geometry    name COUNTRY  \\\n",
       "0  MULTIPOLYGON (((-122.84000 49.00000, -122.9742...  Canada     CAN   \n",
       "1  MULTIPOLYGON (((-122.84000 49.00000, -122.9742...  Canada     CAN   \n",
       "2  MULTIPOLYGON (((-122.84000 49.00000, -122.9742...  Canada     CAN   \n",
       "3  MULTIPOLYGON (((-122.84000 49.00000, -122.9742...  Canada     CAN   \n",
       "4  MULTIPOLYGON (((-122.84000 49.00000, -122.9742...  Canada     CAN   \n",
       "\n",
       "       continent     YEAR  Unemployment_rate  GDP_rate  life_expentancy  \\\n",
       "0  North America  1994-01          10.700000  0.680429        77.871707   \n",
       "1  North America  1994-02          10.866667  0.680180        77.871707   \n",
       "2  North America  1994-03          10.366667  0.686270        77.871707   \n",
       "3  North America  1994-04          10.150000  0.689810        77.871707   \n",
       "4  North America  1995-01           9.550000  0.694571        77.977317   \n",
       "\n",
       "   pop_growth_rate  \n",
       "0         1.095258  \n",
       "1         1.095258  \n",
       "2         1.095258  \n",
       "3         1.095258  \n",
       "4         1.034769  "
      ]
     },
     "execution_count": 60,
     "metadata": {},
     "output_type": "execute_result"
    }
   ],
   "source": [
    "# Visualisation\n",
    "world_df.head()"
   ]
  },
  {
   "cell_type": "markdown",
   "metadata": {},
   "source": [
    "## <span style=\"color:green; text-align:center;\">II- Visualisation des données </span>"
   ]
  },
  {
   "cell_type": "code",
   "execution_count": 61,
   "metadata": {},
   "outputs": [],
   "source": [
    "# Plot\n",
    "world_df.plot(color='lightgrey')\n",
    "d.plt.show()"
   ]
  },
  {
   "cell_type": "markdown",
   "metadata": {},
   "source": [
    "Deux applications seront créées pour la visualisation des données :\n",
    "<div style=\"margin-left: 20px;\">\n",
    "-La première sera instantannée et à l'échelle mondiale. <br>\n",
    "-La seconde c'est la représentation de la série temporelle par continent.\n",
    "    </div>"
   ]
  },
  {
   "cell_type": "markdown",
   "metadata": {},
   "source": [
    "## <span style=\"color:green; text-align:center;\">II-1. APPLICATION 1</span>"
   ]
  },
  {
   "cell_type": "markdown",
   "metadata": {},
   "source": [
    "La première application consiste à créer une application web interactive affichant une carte choroplèthe basée sur les données fournies dans le DataFrame world_df (shapefile)."
   ]
  },
  {
   "cell_type": "code",
   "execution_count": 62,
   "metadata": {},
   "outputs": [
    {
     "data": {
      "text/html": [
       "\n",
       "        <iframe\n",
       "            width=\"100%\"\n",
       "            height=\"650\"\n",
       "            src=\"http://127.0.0.1:8050/\"\n",
       "            frameborder=\"0\"\n",
       "            allowfullscreen\n",
       "            \n",
       "        ></iframe>\n",
       "        "
      ],
      "text/plain": [
       "<IPython.lib.display.IFrame at 0x1b8aa142710>"
      ]
     },
     "metadata": {},
     "output_type": "display_data"
    }
   ],
   "source": [
    "# Créer un Dash app\n",
    "app1 = d.dash.Dash(__name__)\n",
    "\n",
    "# Définir le layout \n",
    "app1.layout = d.html.Div([\n",
    "    # Sélecteur d'année\n",
    "    d.dcc.Dropdown(\n",
    "        id='year-dropdown',\n",
    "        options=[{'label': year, 'value': year} for year in sorted(world_df['YEAR'].unique())],\n",
    "        value=world_df['YEAR'].min(),  #valeur par defaut de l'année\n",
    "        multi=False,\n",
    "    ),\n",
    "    # Sélecteur de variables\n",
    "    d.dcc.Dropdown(\n",
    "        id='variable-dropdown',\n",
    "        options=[\n",
    "            {'label': 'Unemployment Rate', 'value': 'Unemployment_rate'},\n",
    "            {'label': 'GDP growth Rate', 'value': 'GDP_rate'},\n",
    "            {'label': 'Life expentancy', 'value': 'life_expentancy'},\n",
    "            {'label': 'Population growth rate', 'value': 'pop_growth_rate'}\n",
    "          \n",
    "        ],\n",
    "        value='Unemployment_rate',  # valeur par défaut de la variable representée\n",
    "        multi=False,\n",
    "    ),\n",
    "    d.dcc.Graph(id='choropleth-map'),\n",
    "])\n",
    "\n",
    "# Définir un callback  pour mettre à jour la carte sur l'année selectionnée \n",
    "@app1.callback(\n",
    "    d.Output('choropleth-map', 'figure'),\n",
    "    [d.Input('year-dropdown', 'value'),\n",
    "     d.Input('variable-dropdown', 'value')]\n",
    ")\n",
    "def update_map(selected_year, selected_variable):\n",
    "    subset_gdf = world_df[world_df['YEAR'] == selected_year]\n",
    "    subset_gdf.index = subset_gdf['name']\n",
    "    fig = d.px.choropleth(\n",
    "        subset_gdf,\n",
    "        geojson=subset_gdf.geometry,\n",
    "        locations=subset_gdf.index,\n",
    "        color=selected_variable,\n",
    "        projection=\"natural earth\",\n",
    "        title=f'{selected_variable} in {selected_year}',\n",
    "    )\n",
    "    fig.update_geos(fitbounds=\"locations\", visible=True)\n",
    "  \n",
    "    fig.update_layout ( margin = { \"r\" : 0 , \"t\" : 0 , \"l\" : 0 , \"b\" : 0 }) \n",
    "    \n",
    "    return fig\n",
    "\n",
    "# Exécuter l'application\n",
    "if __name__ == '__main__':\n",
    "    app1.run_server(debug=True, port=8050)\n"
   ]
  },
  {
   "cell_type": "markdown",
   "metadata": {},
   "source": [
    "## <span style=\"color:green; text-align:center;\">II-2 APPLICATION 2 : Visualisation des séries temporelles par contient</span>"
   ]
  },
  {
   "cell_type": "code",
   "execution_count": 63,
   "metadata": {},
   "outputs": [
    {
     "data": {
      "text/html": [
       "\n",
       "        <iframe\n",
       "            width=\"100%\"\n",
       "            height=\"650\"\n",
       "            src=\"http://127.0.0.1:8051/\"\n",
       "            frameborder=\"0\"\n",
       "            allowfullscreen\n",
       "            \n",
       "        ></iframe>\n",
       "        "
      ],
      "text/plain": [
       "<IPython.lib.display.IFrame at 0x1b8aa4cb050>"
      ]
     },
     "metadata": {},
     "output_type": "display_data"
    }
   ],
   "source": [
    "# Créer un Dash app\n",
    "app2 = d.dash.Dash(__name__)\n",
    "\n",
    "# Créer le graphique initial\n",
    "fig = d.px.line(world_df, x='YEAR', y=[\"Unemployment_rate\"], color='name')\n",
    "\n",
    "# Créer la mise en page de votre application Dash\n",
    "app2.layout = d.html.Div([\n",
    "    # Sélecteur de continents\n",
    "    d.dcc.Dropdown(\n",
    "        id='continent-selector',\n",
    "        options=[\n",
    "            {'label': continent, 'value': continent}\n",
    "            for continent in world_df['continent'].unique()\n",
    "        ],\n",
    "        multi=True,\n",
    "        value=world_df['continent'].unique()  # Sélectionner tous les continents par défaut\n",
    "    ),\n",
    "    # Sélecteur de variables\n",
    "    d.dcc.Dropdown(\n",
    "        id='variable-dropdown',\n",
    "        options=[\n",
    "            {'label': 'Unemployment Rate', 'value': 'Unemployment_rate'},\n",
    "            {'label': 'GDP growth Rate', 'value': 'GDP_rate'},\n",
    "            {'label': 'Life expentancy', 'value': 'life_expentancy'},\n",
    "            {'label': 'Population growth rate', 'value': 'pop_growth_rate'}\n",
    "          \n",
    "        ],\n",
    "        value='Unemployment_rate',  # Valeur par defaut de la variable representée\n",
    "        multi=False,\n",
    "    ),\n",
    "    \n",
    "    # Graphique\n",
    "    d.dcc.Graph(\n",
    "        id='line-chart',\n",
    "        figure=fig\n",
    "    )\n",
    "])\n",
    "\n",
    "# Définir la logique de la mise à jour du graphique en fonction de la sélection du sélecteur\n",
    "@app2.callback(\n",
    "    d.Output('line-chart', 'figure'),\n",
    "    [d.Input('variable-dropdown', 'value'),\n",
    "     d.Input('continent-selector', 'value')]\n",
    ")\n",
    "def update_graph2(selected_variable, selected_continents):\n",
    "    filtered_df = world_df[world_df['continent'].isin(selected_continents)]\n",
    "    fig = d.px.line(filtered_df, x='YEAR', y=[selected_variable], color='name',\n",
    "                   labels={'YEAR': 'Année', selected_variable : f\"{selected_variable}\"})\n",
    "    \n",
    "    \n",
    "    return fig\n",
    "\n",
    "\n",
    "# Exécuter l'application Dash\n",
    "if __name__ == '__main__':\n",
    "    app2.run_server(debug=True, port=8051)\n"
   ]
  },
  {
   "cell_type": "markdown",
   "metadata": {},
   "source": [
    "## <span style=\"color:green; text-align:center;\">II-3 APPLICATION 3 : Visualisation de la tendance moyenne </span>"
   ]
  },
  {
   "cell_type": "code",
   "execution_count": 64,
   "metadata": {},
   "outputs": [],
   "source": [
    "# Tronquer la DataFrame pour garder uniquement les lignes à partir de 2019\n",
    "df_tronque = world_df.loc[world_df.YEAR >= '2019']\n",
    "\n",
    "# Sélectionner uniquement les 4 colonnes 'Unemployment_rate', 'GDP_rate', 'life_expentancy' et 'pop_growth_rate', puis faire la moyenne dans chaque groupe\n",
    "df_group = df_tronque.groupby('name')[\n",
    "    ['Unemployment_rate', 'GDP_rate', 'life_expentancy', 'pop_growth_rate']\n",
    "    ].mean().reset_index()"
   ]
  },
  {
   "cell_type": "code",
   "execution_count": 65,
   "metadata": {},
   "outputs": [
    {
     "data": {
      "text/html": [
       "<div>\n",
       "<style scoped>\n",
       "    .dataframe tbody tr th:only-of-type {\n",
       "        vertical-align: middle;\n",
       "    }\n",
       "\n",
       "    .dataframe tbody tr th {\n",
       "        vertical-align: top;\n",
       "    }\n",
       "\n",
       "    .dataframe thead th {\n",
       "        text-align: right;\n",
       "    }\n",
       "</style>\n",
       "<table border=\"1\" class=\"dataframe\">\n",
       "  <thead>\n",
       "    <tr style=\"text-align: right;\">\n",
       "      <th></th>\n",
       "      <th>name</th>\n",
       "      <th>Unemployment_rate</th>\n",
       "      <th>GDP_rate</th>\n",
       "      <th>life_expentancy</th>\n",
       "      <th>pop_growth_rate</th>\n",
       "    </tr>\n",
       "  </thead>\n",
       "  <tbody>\n",
       "    <tr>\n",
       "      <th>0</th>\n",
       "      <td>Australia</td>\n",
       "      <td>5.063088</td>\n",
       "      <td>1.029390</td>\n",
       "      <td>83.146154</td>\n",
       "      <td>0.972761</td>\n",
       "    </tr>\n",
       "    <tr>\n",
       "      <th>1</th>\n",
       "      <td>Austria</td>\n",
       "      <td>7.857682</td>\n",
       "      <td>1.116826</td>\n",
       "      <td>81.426642</td>\n",
       "      <td>0.472183</td>\n",
       "    </tr>\n",
       "    <tr>\n",
       "      <th>2</th>\n",
       "      <td>Belgium</td>\n",
       "      <td>5.699012</td>\n",
       "      <td>1.125821</td>\n",
       "      <td>81.554784</td>\n",
       "      <td>0.491413</td>\n",
       "    </tr>\n",
       "    <tr>\n",
       "      <th>3</th>\n",
       "      <td>Bulgaria</td>\n",
       "      <td>5.739069</td>\n",
       "      <td>1.344580</td>\n",
       "      <td>73.281238</td>\n",
       "      <td>-1.127941</td>\n",
       "    </tr>\n",
       "    <tr>\n",
       "      <th>4</th>\n",
       "      <td>Canada</td>\n",
       "      <td>6.985294</td>\n",
       "      <td>1.174125</td>\n",
       "      <td>82.198471</td>\n",
       "      <td>1.089599</td>\n",
       "    </tr>\n",
       "  </tbody>\n",
       "</table>\n",
       "</div>"
      ],
      "text/plain": [
       "        name  Unemployment_rate  GDP_rate  life_expentancy  pop_growth_rate\n",
       "0  Australia           5.063088  1.029390        83.146154         0.972761\n",
       "1    Austria           7.857682  1.116826        81.426642         0.472183\n",
       "2    Belgium           5.699012  1.125821        81.554784         0.491413\n",
       "3   Bulgaria           5.739069  1.344580        73.281238        -1.127941\n",
       "4     Canada           6.985294  1.174125        82.198471         1.089599"
      ]
     },
     "execution_count": 65,
     "metadata": {},
     "output_type": "execute_result"
    }
   ],
   "source": [
    "# Visualisation\n",
    "df_group.head()"
   ]
  },
  {
   "cell_type": "code",
   "execution_count": 66,
   "metadata": {},
   "outputs": [
    {
     "data": {
      "text/html": [
       "\n",
       "        <iframe\n",
       "            width=\"100%\"\n",
       "            height=\"650\"\n",
       "            src=\"http://127.0.0.1:8052/\"\n",
       "            frameborder=\"0\"\n",
       "            allowfullscreen\n",
       "            \n",
       "        ></iframe>\n",
       "        "
      ],
      "text/plain": [
       "<IPython.lib.display.IFrame at 0x1b8a5b47fd0>"
      ]
     },
     "metadata": {},
     "output_type": "display_data"
    }
   ],
   "source": [
    "# Créer un Dash app\n",
    "app3 = d.dash.Dash(__name__)\n",
    "\n",
    "# Créer votre graphique initial\n",
    "fig = d.px.bar(df_group, x='name', y='Unemployment_rate', color='name',\n",
    "             labels={'name': 'Pays', 'Unemployment_rate': 'Taux de chômage moyen'},\n",
    "             template='plotly_dark')\n",
    "\n",
    "# Créer la mise en page de votre application Dash\n",
    "app3.layout = d.html.Div([\n",
    "    \n",
    "    # Sélecteur de variables\n",
    "    d.dcc.Dropdown(\n",
    "        id='variable-dropdown',\n",
    "        options=[\n",
    "            {'label': 'Unemployment Rate', 'value': 'Unemployment_rate'},\n",
    "            {'label': 'GDP growth Rate', 'value': 'GDP_rate'},\n",
    "            {'label': 'Life expentancy', 'value': 'life_expentancy'},\n",
    "            {'label': 'Population growth rate', 'value': 'pop_growth_rate'}\n",
    "          \n",
    "        ],\n",
    "        value='Unemployment_rate',  # valeur par défaut de la variable representée\n",
    "        multi=False,\n",
    "    ),\n",
    "    \n",
    "    # Graphique\n",
    "    d.dcc.Graph(\n",
    "        id='bar',\n",
    "        figure=fig\n",
    "    )\n",
    "])\n",
    "\n",
    "# Définir la logique de la mise à jour du graphique en fonction de la sélection du sélecteur\n",
    "@app3.callback(\n",
    "    d.Output('bar', 'figure'),\n",
    "    [d.Input('variable-dropdown', 'value')]\n",
    ")\n",
    "def update_graph3(selected_variable):\n",
    "    #fig = px.line(filtered_df, x='YEAR', y=[\"Unemployment_rate\"], color='COUNTRY')\n",
    "    fig = d.px.bar(df_group, x='name', y=[selected_variable], color='name',\n",
    "                   labels={'name': 'Pays', selected_variable: selected_variable},\n",
    "                   template='plotly_dark')\n",
    "    # Afficher le graphique interactif\n",
    "    \n",
    "    return fig\n",
    "\n",
    "\n",
    "# Exécuter l'application Dash\n",
    "if __name__ == '__main__':\n",
    "    app3.run_server(debug=True, port=8052)\n"
   ]
  },
  {
   "cell_type": "markdown",
   "metadata": {},
   "source": [
    "# <span style=\"color:green; text-align:center;\">III- Analyse descriptive </span>"
   ]
  },
  {
   "cell_type": "markdown",
   "metadata": {},
   "source": [
    "Pour l'analyse des séries temporelles, une fonction est définie dans le fichier 'declarations.py'. Ladite fonction 'analyse_serie_temporelle_pays' prend en arguments, le jeu de données, l'indicateur (taux de chômage, taux de croissance...) et le pays à considérer.\n",
    "\n",
    "Cette dernière renvoie, le plot :<br>\n",
    "\n",
    "<div style=\"margin-left: 20px;\">\n",
    "-de la série temporelle brute, <br>\n",
    "-de la série temporelle lissée par une moyenne mobile d'ordre 4,<br> \n",
    "-de la décomposition de la série temporelle en composante saisonnière, composante tendancielle et rédisuelle. <br>\n",
    "    </div>\n",
    "\n",
    "Enfin, elle permet de tester la stationnarité de la série (Augmented Dickey-Fuller test).<br>\n",
    "\n",
    "<u>**RAPPEL :**</u>\n",
    "\n",
    "**Hypothèses du Test de Dickey-Fuller Augmenté (ADF)**\n",
    "\n",
    "<div style=\"margin-left: 20px;\">\n",
    "\n",
    "- **$H_0$ :** La série temporelle a une racine unitaire, ce qui indique la non-stationnarité.\n",
    "\n",
    "- **$H_1$ :** La série temporelle n'a pas de racine unitaire, ce qui indique la stationnarité.\n",
    "    </div>\n",
    "**Interprétation des résultats :**\n",
    "\n",
    "<div style=\"margin-left: 20px;\">\n",
    "\n",
    "- Si la statistique du test est inférieure à la valeur critique au seuil de signification (par exemple, 0.05), on aurait tendance à rejeter l'hypothèse nulle et conclure que la série temporelle est stationnaire.<br>\n",
    "\n",
    "- Sinon, on ne peut pas rejeter l'hypothèse nulle, ce qui suggère que la série temporelle est non stationnaire.\n",
    "    </div>\n",
    "\n",
    "**NB :** Le test est implémenté par la bibliothèque Statsmodels de Python.\n"
   ]
  },
  {
   "cell_type": "markdown",
   "metadata": {},
   "source": [
    "### <span style=\"color:green; text-align:center;\">III-1. Série temporelle : Taux de chômage </span>"
   ]
  },
  {
   "cell_type": "code",
   "execution_count": 67,
   "metadata": {},
   "outputs": [],
   "source": [
    "# EXEMPLE : Utilisation de la fonction avec le DataFrame 'final_data', le pays 'AUS', et la variable 'Unemployment_rate'\n",
    "d.analyse_serie_temporelle_pays(df,'Unemployment_rate', 'AUS')"
   ]
  },
  {
   "cell_type": "markdown",
   "metadata": {},
   "source": [
    "### <span style=\"color:green; text-align:center;\">III-2. Série temporelle : Taux de croissance du PIB </span>"
   ]
  },
  {
   "cell_type": "code",
   "execution_count": 68,
   "metadata": {},
   "outputs": [],
   "source": [
    "# EXEMPLE : Utilisation de la fonction avec le DataFrame 'final_data', le pays 'PHL', et la variable 'GDP_rate'\n",
    "d.analyse_serie_temporelle_pays(df,'GDP_rate', 'PHL')"
   ]
  },
  {
   "cell_type": "markdown",
   "metadata": {},
   "source": [
    "### <span style=\"color:green; text-align:center;\">III-3. Série temporelle : Croissance démographique </span>"
   ]
  },
  {
   "cell_type": "code",
   "execution_count": 69,
   "metadata": {},
   "outputs": [],
   "source": [
    "# EXEMPLE : Utilisation de la fonction avec le DataFrame 'final_data', le pays 'PHL', et la variable 'GDP_rate'\n",
    "d.analyse_serie_temporelle_pays(df,'pop_growth_rate', 'USA')"
   ]
  },
  {
   "cell_type": "markdown",
   "metadata": {},
   "source": [
    "### <span style=\"color:green; text-align:center;\">III-4. Série temporelle : Espérance de vie </span>"
   ]
  },
  {
   "cell_type": "code",
   "execution_count": 70,
   "metadata": {},
   "outputs": [],
   "source": [
    "# EXEMPLE : Utilisation de la fonction avec le DataFrame 'final_data', le pays 'PHL', et la variable 'GDP_rate'\n",
    "d.analyse_serie_temporelle_pays(df,'life_expentancy', 'CAN')"
   ]
  },
  {
   "cell_type": "markdown",
   "metadata": {},
   "source": [
    "## <span style=\"color:green; text-align:center;\">III-5. APPLICATION 4 : </span>"
   ]
  },
  {
   "cell_type": "markdown",
   "metadata": {},
   "source": [
    "Par la suite, la fonction 'analyse_serie_temporelle_pays' sera implémentée dans une application dash."
   ]
  },
  {
   "cell_type": "code",
   "execution_count": 71,
   "metadata": {},
   "outputs": [],
   "source": [
    "df=world_df.copy()"
   ]
  },
  {
   "cell_type": "code",
   "execution_count": 72,
   "metadata": {},
   "outputs": [
    {
     "data": {
      "text/html": [
       "\n",
       "        <iframe\n",
       "            width=\"100%\"\n",
       "            height=\"650\"\n",
       "            src=\"http://127.0.0.1:8050/\"\n",
       "            frameborder=\"0\"\n",
       "            allowfullscreen\n",
       "            \n",
       "        ></iframe>\n",
       "        "
      ],
      "text/plain": [
       "<IPython.lib.display.IFrame at 0x1b8a9fe8310>"
      ]
     },
     "metadata": {},
     "output_type": "display_data"
    }
   ],
   "source": [
    "# Créer un Dash app\n",
    "app = d.dash.Dash(__name__)\n",
    "\n",
    "# Liste des pays disponibles dans le dataframe\n",
    "pays_disponibles = df['name'].unique()\n",
    "\n",
    "app.layout = d.html.Div([\n",
    "    d.html.H1(\"Analyse de Série Temporelle\"),\n",
    "    \n",
    "    \n",
    "   # Sélecteur de variables\n",
    "    d.dcc.Dropdown(\n",
    "        id='variable-dropdown',\n",
    "        options=[\n",
    "            {'label': 'Unemployment Rate', 'value': 'Unemployment_rate'},\n",
    "            {'label': 'GDP growth Rate', 'value': 'GDP_rate'},\n",
    "            {'label': 'Life expentancy', 'value': 'life_expentancy'},\n",
    "            {'label': 'Population growth rate', 'value': 'pop_growth_rate'}\n",
    "          \n",
    "        ],\n",
    "        value='Unemployment_rate',  # valeur par defaut de la variable representée\n",
    "        multi=False,\n",
    "    ),\n",
    "    \n",
    "    \n",
    "    # Sélection du pays\n",
    "    d.html.Label(\"Choisissez le pays :\"),\n",
    "    d.dcc.Dropdown(\n",
    "        id='dropdown-pays',\n",
    "        options=[\n",
    "            {'label': pays, 'value': pays} for pays in pays_disponibles\n",
    "        ],\n",
    "        value=pays_disponibles[0]\n",
    "    ),\n",
    "    \n",
    "    # Graphiques\n",
    "    d.dcc.Graph(id='time-series-plot'),\n",
    "    d.dcc.Graph(id='decomposition-plot'),\n",
    "])\n",
    "\n",
    "@app.callback(\n",
    "    [d.Output('time-series-plot', 'figure'),\n",
    "     d.Output('decomposition-plot', 'figure')],\n",
    "    [d.Input('variable-dropdown', 'value'),\n",
    "     d.Input('dropdown-pays', 'value')]\n",
    ")\n",
    "def update_graph(indicateur, pays):\n",
    "    # Sélectionner la série temporelle du pays spécifique\n",
    "    serie_temporelle = df[indicateur].dropna()\n",
    "    \n",
    "    # Moyenne mobile d'ordre 4\n",
    "    rolling_mean = serie_temporelle.rolling(window=4).mean()\n",
    "\n",
    "    # Créer le premier graphique (série temporelle et moyenne mobile)\n",
    "    time_series_fig = d.px.line(x=serie_temporelle.index, y=[serie_temporelle, rolling_mean],\n",
    "                              labels={'variable': 'Type', 'value': 'Valeur'},\n",
    "                              title=f'Série Temporelle et Moyenne Mobile - {indicateur} en {pays}',\n",
    "                              color_discrete_map={'0': 'blue', '1': 'red'})\n",
    "    \n",
    "    # Décomposition saisonnière\n",
    "    decomposition = d.seasonal_decompose(serie_temporelle, model='multiplicative', period=4)\n",
    "\n",
    "    # Créer le deuxième graphique (décomposition)\n",
    "    decomposition_fig = d.px.line(x=serie_temporelle.index, y=[decomposition.trend, decomposition.seasonal, decomposition.resid],\n",
    "                                labels={'variable': 'Composant', 'value': 'Valeur'},\n",
    "                                title=f'Décomposition - {indicateur} en {pays}',\n",
    "                                color_discrete_map={'0': 'green', '1': 'orange', '2': 'gray'})\n",
    "\n",
    "    return time_series_fig, decomposition_fig\n",
    "\n",
    "if __name__ == '__main__':\n",
    "    app.run_server(debug=True)"
   ]
  }
 ],
 "metadata": {
  "kernelspec": {
   "display_name": "base",
   "language": "python",
   "name": "python3"
  },
  "language_info": {
   "codemirror_mode": {
    "name": "ipython",
    "version": 3
   },
   "file_extension": ".py",
   "mimetype": "text/x-python",
   "name": "python",
   "nbconvert_exporter": "python",
   "pygments_lexer": "ipython3",
   "version": "3.11.7"
  }
 },
 "nbformat": 4,
 "nbformat_minor": 2
}

{
 "cells": [
  {
   "cell_type": "markdown",
   "metadata": {},
   "source": [
    " <div style=\"text-align:center;\">\n",
    "   <span style=\"color:green; font-size:2em; font-weight:bold;\">Exploratory Data Analysis (EDA)</span><br><br>\n",
    "</div>\n"
   ]
  },
  {
   "cell_type": "markdown",
   "metadata": {},
   "source": [
    "<span style=\"color:green; font-size:larger; font-weight:bold;\">INTRODUCTION</span>\n",
    "\n",
    "Dans cette partie, nous nous intéressons à l'analyse descriptive de la base de données \"final_data\" obtenue suite au nettoyage des bases de données initiales du fichier \"Préparation_données.ipynb\""
   ]
  },
  {
   "cell_type": "code",
   "execution_count": 1,
   "metadata": {},
   "outputs": [
    {
     "ename": "SyntaxError",
     "evalue": "invalid syntax (declarations.py, line 33)",
     "output_type": "error",
     "traceback": [
      "Traceback \u001b[1;36m(most recent call last)\u001b[0m:\n",
      "\u001b[0m  File \u001b[0;32m~\\AppData\\Local\\Packages\\PythonSoftwareFoundation.Python.3.11_qbz5n2kfra8p0\\LocalCache\\local-packages\\Python311\\site-packages\\IPython\\core\\interactiveshell.py:3548\u001b[0m in \u001b[0;35mrun_code\u001b[0m\n    exec(code_obj, self.user_global_ns, self.user_ns)\u001b[0m\n",
      "\u001b[1;36m  Cell \u001b[1;32mIn[1], line 2\u001b[1;36m\n\u001b[1;33m    import declarations as d\u001b[1;36m\n",
      "\u001b[1;36m  File \u001b[1;32mc:\\Projet-Python\\monmodule\\declarations.py:33\u001b[1;36m\u001b[0m\n\u001b[1;33m    <<<<<<< HEAD\u001b[0m\n\u001b[1;37m    ^\u001b[0m\n\u001b[1;31mSyntaxError\u001b[0m\u001b[1;31m:\u001b[0m invalid syntax\n"
     ]
    }
   ],
   "source": [
    "from importlib import reload\n",
    "import declarations as d\n",
    "reload(d)"
   ]
  },
  {
   "cell_type": "code",
   "execution_count": null,
   "metadata": {},
   "outputs": [],
   "source": [
    "# Importation  de la base de données\n",
    "df = d.pd.read_csv(\"../final_data.csv\")"
   ]
  },
  {
   "cell_type": "code",
   "execution_count": null,
   "metadata": {},
   "outputs": [],
   "source": [
    "# Visualisation\n",
    "df.head()"
   ]
  },
  {
   "cell_type": "code",
   "execution_count": null,
   "metadata": {},
   "outputs": [],
   "source": [
    "# Telécharger le shapefile\n",
    "world = d.gpd.read_file(d.gpd.datasets.get_path('naturalearth_lowres'))\n",
    "world=world.rename(columns={'name': 'COUNTRY'})\n",
    "world.head()"
   ]
  },
  {
   "cell_type": "code",
   "execution_count": null,
   "metadata": {},
   "outputs": [],
   "source": [
    "#selectioner certaines colonnes \n",
    "world.drop(world.columns.difference(['geometry','COUNTRY','continent']), 1, inplace=True)\n",
    "#Mettre les noms des colonnes en abbreviation\n",
    "world['COUNTRY']=d.correct_country_name(world['COUNTRY'])\n",
    "# fusionner les deux photos\n",
    "world_df = d.pd.merge(world,df, how='inner', on=['COUNTRY'])\n",
    "world_df.head(5)\n",
    "#world.head()"
   ]
  },
  {
   "cell_type": "code",
   "execution_count": null,
   "metadata": {},
   "outputs": [],
   "source": [
    "world_df.head()"
   ]
  },
  {
   "cell_type": "markdown",
   "metadata": {},
   "source": [
    "# <span style=\"color:green; text-align:center;\">II- VISUALISATION DES DONNEES</span>"
   ]
  },
  {
   "cell_type": "code",
   "execution_count": null,
   "metadata": {},
   "outputs": [],
   "source": [
    "# <span style=\"color:green; text-align:center;\">II- VISUALISATION DES DONNEES</span>"
   ]
  },
  {
   "cell_type": "code",
   "execution_count": null,
   "metadata": {},
   "outputs": [],
   "source": [
    "world_df.plot(color='lightgrey')"
   ]
  },
  {
   "cell_type": "markdown",
   "metadata": {},
   "source": [
    "Deux applications seront créer pour la visualition des données:\n",
    "- la premiere sera instantanné et à l'echelle mondiale\n",
    "-la seconde c'est la representation de la serie temporelle par continent."
   ]
  },
  {
   "cell_type": "code",
   "execution_count": null,
   "metadata": {},
   "outputs": [],
   "source": [
    "# Creer un Dash app\n",
    "app1 = d.dash.Dash(__name__)\n",
    "\n",
    "# Definir le layout \n",
    "app1.layout = d.html.Div([\n",
    "    #selecteur d'année\n",
    "    d.dcc.Dropdown(\n",
    "        id='year-dropdown',\n",
    "        options=[{'label': year, 'value': year} for year in sorted(world_df['YEAR'].unique())],\n",
    "        value=world_df['YEAR'].min(),  #valeur par defaut de l'année\n",
    "        multi=False,\n",
    "    ),\n",
    "    #selecteur de variables\n",
    "    d.dcc.Dropdown(\n",
    "        id='variable-dropdown',\n",
    "        options=[\n",
    "            {'label': 'Unemployment Rate', 'value': 'Unemployment_rate'},\n",
    "            {'label': 'GDP growth Rate', 'value': 'GDP_rate'},\n",
    "            {'label': 'Life expentancy', 'value': 'life_expentancy'},\n",
    "            {'label': 'Population growth rate', 'value': 'pop_growth_rate'}\n",
    "          \n",
    "        ],\n",
    "        value='Unemployment_rate',  # valeur par defaut de la variable representée\n",
    "        multi=False,\n",
    "    ),\n",
    "    d.dcc.Graph(id='choropleth-map'),\n",
    "])\n",
    "\n",
    "# Definir un callback  pour mettre à jour la carte sur l'année selectionnée \n",
    "@app1.callback(\n",
    "    d.Output('choropleth-map', 'figure'),\n",
    "    [d.Input('year-dropdown', 'value'),\n",
    "     d.Input('variable-dropdown', 'value')]\n",
    ")\n",
    "def update_map(selected_year, selected_variable):\n",
    "    subset_gdf = world_df[world_df['YEAR'] == selected_year]\n",
    "    subset_gdf.index = subset_gdf['COUNTRY']\n",
    "    fig = d.px.choropleth(\n",
    "        subset_gdf,\n",
    "        geojson=subset_gdf.geometry,\n",
    "        locations=subset_gdf.index,\n",
    "        color=selected_variable,\n",
    "        projection=\"natural earth\",\n",
    "        title=f'{selected_variable} in {selected_year}',\n",
    "    )\n",
    "    fig.update_geos(fitbounds=\"locations\", visible=True)\n",
    "    return fig\n",
    "\n",
    "# executer l'application\n",
    "if __name__ == '__main__':\n",
    "    app1.run_server(debug=True, port=8050)\n"
   ]
  },
  {
   "cell_type": "code",
   "execution_count": null,
   "metadata": {},
   "outputs": [],
   "source": [
    "\n",
    "df=world_df.copy()\n",
    "app2 = d.dash.Dash(__name__)\n",
    "\n",
    "# Créez votre graphique initial\n",
    "fig = d.px.line(df, x='YEAR', y=[\"Unemployment_rate\"], color='COUNTRY')\n",
    "\n",
    "# Créez la mise en page de votre application Dash\n",
    "app2.layout = d.html.Div([\n",
    "    # Sélecteur de continents\n",
    "    d.dcc.Dropdown(\n",
    "        id='continent-selector',\n",
    "        options=[\n",
    "            {'label': continent, 'value': continent}\n",
    "            for continent in df['continent'].unique()\n",
    "        ],\n",
    "        multi=True,\n",
    "        value=df['continent'].unique()  # Sélectionnez tous les continents par défaut\n",
    "    ),\n",
    "    # Sélecteur de variables\n",
    "    d.dcc.Dropdown(\n",
    "        id='variable-dropdown',\n",
    "        options=[\n",
    "            {'label': 'Unemployment Rate', 'value': 'Unemployment_rate'},\n",
    "            {'label': 'GDP growth Rate', 'value': 'GDP_rate'},\n",
    "            {'label': 'Life expentancy', 'value': 'life_expentancy'},\n",
    "            {'label': 'Population growth rate', 'value': 'pop_growth_rate'}\n",
    "          \n",
    "        ],\n",
    "        value='Unemployment_rate',  # valeur par defaut de la variable representée\n",
    "        multi=False,\n",
    "    ),\n",
    "    \n",
    "    # Graphique\n",
    "    d.dcc.Graph(\n",
    "        id='line-chart',\n",
    "        figure=fig\n",
    "    )\n",
    "])\n",
    "\n",
    "# Définissez la logique de la mise à jour du graphique en fonction de la sélection du sélecteur\n",
    "@app2.callback(\n",
    "    d.Output('line-chart', 'figure'),\n",
    "    [d.Input('variable-dropdown', 'value'),\n",
    "     d.Input('continent-selector', 'value')]\n",
    ")\n",
    "def update_graph2(selected_variable,selected_continents):\n",
    "    filtered_df = df[df['continent'].isin(selected_continents)]\n",
    "    #fig = px.line(filtered_df, x='YEAR', y=[\"Unemployment_rate\"], color='COUNTRY')\n",
    "    fig = d.px.line(filtered_df, x='YEAR', y=[selected_variable], color='COUNTRY',\n",
    "                   labels={'YEAR': 'Année', selected_variable: selected_variable})\n",
    "    return fig\n",
    "\n",
    "\n",
    "# Exécutez l'application Dash\n",
    "if __name__ == '__main__':\n",
    "    app2.run_server(debug=True, port=8051)\n"
   ]
  },
  {
   "cell_type": "code",
   "execution_count": null,
   "metadata": {},
   "outputs": [],
   "source": [
    "df_group=df.groupby('COUNTRY')['Unemployment_rate', 'GDP_rate',\n",
    "                      'life_expentancy','pop_growth_rate'].mean().reset_index()\n",
    "\n",
    "df_group.head()"
   ]
  },
  {
   "cell_type": "code",
   "execution_count": null,
   "metadata": {},
   "outputs": [],
   "source": [
    "app3 = d.dash.Dash(__name__)\n",
    "\n",
    "# Créez votre graphique initial\n",
    "fig = d.px.bar(df_group, x='COUNTRY', y='Unemployment_rate', color='COUNTRY',\n",
    "             labels={'COUNTRY': 'Pays', 'Unemployment_rate': 'Taux de chômage moyen'},\n",
    "             #title='Taux de chômage moyen par pays sur la période 2019-2023',\n",
    "             template='plotly_dark')\n",
    "\n",
    "# Créez la mise en page de votre application Dash\n",
    "app3.layout = d.html.Div([\n",
    "    \n",
    "    # Sélecteur de variables\n",
    "    d.dcc.Dropdown(\n",
    "        id='variable-dropdown',\n",
    "        options=[\n",
    "            {'label': 'Unemployment Rate', 'value': 'Unemployment_rate'},\n",
    "            {'label': 'GDP growth Rate', 'value': 'GDP_rate'},\n",
    "            {'label': 'Life expentancy', 'value': 'life_expentancy'},\n",
    "            {'label': 'Population growth rate', 'value': 'pop_growth_rate'}\n",
    "          \n",
    "        ],\n",
    "        value='Unemployment_rate',  # valeur par defaut de la variable representée\n",
    "        multi=False,\n",
    "    ),\n",
    "    \n",
    "    # Graphique\n",
    "    d.dcc.Graph(\n",
    "        id='bar',\n",
    "        figure=fig\n",
    "    )\n",
    "])\n",
    "\n",
    "# Définissez la logique de la mise à jour du graphique en fonction de la sélection du sélecteur\n",
    "@app3.callback(\n",
    "    d.Output('bar', 'figure'),\n",
    "    [d.Input('variable-dropdown', 'value')]\n",
    ")\n",
    "def update_graph3(selected_variable):\n",
    "    #fig = px.line(filtered_df, x='YEAR', y=[\"Unemployment_rate\"], color='COUNTRY')\n",
    "    fig = d.px.bar(df, x='COUNTRY', y=[selected_variable], color='COUNTRY',\n",
    "                   labels={'COUNTRY': 'Pays', selected_variable: selected_variable},\n",
    "                   template='plotly_dark')\n",
    "    return fig\n",
    "\n",
    "\n",
    "# Exécutez l'application Dash\n",
    "if __name__ == '__main__':\n",
    "    app3.run_server(debug=True, port=8052)\n"
   ]
  },
  {
   "cell_type": "code",
   "execution_count": null,
   "metadata": {},
   "outputs": [],
   "source": [
    "# Créez un graphique interactif avec Plotly Express\n",
    "fig = d.px.bar(df_group, x='COUNTRY', y='Unemployment_rate', color='COUNTRY',\n",
    "             labels={'COUNTRY': 'Pays', 'Unemployment_rate': 'Taux de chômage moyen'},\n",
    "             title='Taux de chômage moyen par pays sur la période 2019-2023',\n",
    "             template='plotly_dark')\n",
    "\n",
    "# Affichez le graphique interactif\n",
    "fig.show()"
   ]
  }
 ],
 "metadata": {
  "kernelspec": {
   "display_name": "base",
   "language": "python",
   "name": "python3"
  },
  "language_info": {
   "codemirror_mode": {
    "name": "ipython",
    "version": 3
   },
   "file_extension": ".py",
   "mimetype": "text/x-python",
   "name": "python",
   "nbconvert_exporter": "python",
   "pygments_lexer": "ipython3",
   "version": "3.11.7"
  }
 },
 "nbformat": 4,
 "nbformat_minor": 2
}

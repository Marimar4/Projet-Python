{
 "cells": [
  {
   "cell_type": "markdown",
   "metadata": {},
   "source": [
    " <div style=\"text-align:center;\">\n",
    "   <span style=\"color:green; font-size:2em; font-weight:bold;\">Exploratory Data Analysis (EDA)</span><br><br>\n",
    "</div>\n"
   ]
  },
  {
   "cell_type": "markdown",
   "metadata": {},
   "source": [
    "# <span style=\"color:green; text-align:center;\">Introduction</span>\n",
    "\n",
    "Dans cette partie, nous nous intéressons à la visualisation des données ainsi qu'à l'analyse descriptive du jeu de données **\"final_data\"** obtenu suite au nettoyage des bases de données initiales du fichier \"Préparation_données.ipynb\". <br>\n",
    "\n",
    "- Pour étudier les tendances moyennes, nous allons se concentrer uniquement sur les observations de la période s'étallant de **2019** à **2023**. Nous voulons à partir de cela visualiser les niveaux moyens de chomage et de croissance économique pour les cinq dernières années. <br>\n",
    "\n",
    "- Pour les autres représentations, la période considérée est celle s'étallant de **1994** à **2023**. <br>\n",
    "\n",
    "Pour cela, quatres applications ont été créées."
   ]
  },
  {
   "cell_type": "code",
   "execution_count": null,
   "metadata": {},
   "outputs": [],
   "source": [
    "# Import des packages\n",
    "from importlib import reload\n",
    "import declarations as d\n",
    "reload(d)"
   ]
  },
  {
   "cell_type": "code",
   "execution_count": null,
   "metadata": {},
   "outputs": [],
   "source": [
    "# Importation du jeu de données\n",
    "df = d.pd.read_csv(\"./bases/final_data.csv\")"
   ]
  },
  {
   "cell_type": "code",
   "execution_count": null,
   "metadata": {},
   "outputs": [],
   "source": [
    "# Visualisation \n",
    "df.head()"
   ]
  },
  {
   "cell_type": "markdown",
   "metadata": {},
   "source": [
    "## <span style=\"color:green; text-align:center;\">I- Présentation de la base</span>"
   ]
  },
  {
   "cell_type": "code",
   "execution_count": null,
   "metadata": {},
   "outputs": [],
   "source": [
    "# Dimensions de la DF\n",
    "df.shape"
   ]
  },
  {
   "cell_type": "code",
   "execution_count": null,
   "metadata": {},
   "outputs": [],
   "source": [
    "# Informations sur la DF (nombre de valeurs non nulles, type de données de chaque colonne...)\n",
    "df.info()"
   ]
  },
  {
   "cell_type": "code",
   "execution_count": null,
   "metadata": {},
   "outputs": [],
   "source": [
    "# Générer des statistiques descriptives récapitulatives d'une DataFrame\n",
    "df.describe()"
   ]
  },
  {
   "cell_type": "code",
   "execution_count": null,
   "metadata": {},
   "outputs": [],
   "source": [
    "# Telécharger le shapefile\n",
    "world = d.gpd.read_file(d.gpd.datasets.get_path('naturalearth_lowres'))\n",
    "\n",
    "# Transformer les coordonnées géographiques en coordonnées projetées\n",
    "world.to_crs('EPSG:4326') \n",
    "\n",
    "# Renommer la colonne iso_a3\n",
    "world=world.rename(columns={'iso_a3': 'COUNTRY'})"
   ]
  },
  {
   "cell_type": "code",
   "execution_count": null,
   "metadata": {},
   "outputs": [],
   "source": [
    "# Visualisation\n",
    "world.head()"
   ]
  },
  {
   "cell_type": "code",
   "execution_count": null,
   "metadata": {},
   "outputs": [],
   "source": [
    "# Sélectionner certaines colonnes\n",
    "columns_to_keep = ['geometry', 'name','COUNTRY', 'continent']\n",
    "world = world[columns_to_keep]\n",
    "\n",
    "# Fusionner les deux DataFrames\n",
    "world_df = d.pd.merge(world, df, how='inner', on=['COUNTRY'])"
   ]
  },
  {
   "cell_type": "code",
   "execution_count": null,
   "metadata": {},
   "outputs": [],
   "source": [
    "# Visualisation\n",
    "world_df.head()"
   ]
  },
  {
   "cell_type": "markdown",
   "metadata": {},
   "source": [
    "## <span style=\"color:green; text-align:center;\">II- Visualisation des données </span>"
   ]
  },
  {
   "cell_type": "code",
   "execution_count": null,
   "metadata": {},
   "outputs": [],
   "source": [
    "# Plot\n",
    "world_df.plot(color='lightgrey')\n",
    "d.plt.show()"
   ]
  },
  {
   "cell_type": "markdown",
   "metadata": {},
   "source": [
    "## <span style=\"color:green; text-align:center;\">II-1. APPLICATION 1</span>"
   ]
  },
  {
   "cell_type": "markdown",
   "metadata": {},
   "source": [
    "La première application consiste à créer une application web interactive affichant une carte choroplèthe basée sur les données fournies dans le DataFrame world_df (shapefile)."
   ]
  },
  {
   "cell_type": "code",
   "execution_count": null,
   "metadata": {},
   "outputs": [],
   "source": [
    "# Créer un Dash app\n",
    "app1 = d.dash.Dash(__name__)\n",
    "\n",
    "# Définir le layout \n",
    "app1.layout = d.html.Div([\n",
    "    # Sélecteur d'année\n",
    "    d.dcc.Dropdown(\n",
    "        id='year-dropdown',\n",
    "        options=[{'label': year, 'value': year} for year in sorted(world_df['YEAR'].unique())],\n",
    "        value=world_df['YEAR'].min(),  #valeur par defaut de l'année\n",
    "        multi=False,\n",
    "    ),\n",
    "    # Sélecteur de variables\n",
    "    d.dcc.Dropdown(\n",
    "        id='variable-dropdown',\n",
    "        options=[\n",
    "            {'label': 'Unemployment Rate', 'value': 'Unemployment_rate'},\n",
    "            {'label': 'GDP growth Rate', 'value': 'GDP_rate'},\n",
    "            {'label': 'Life expentancy', 'value': 'life_expentancy'},\n",
    "            {'label': 'Population growth rate', 'value': 'pop_growth_rate'}\n",
    "          \n",
    "        ],\n",
    "        value='Unemployment_rate',  # valeur par défaut de la variable representée\n",
    "        multi=False,\n",
    "    ),\n",
    "    d.dcc.Graph(id='choropleth-map'),\n",
    "])\n",
    "\n",
    "# Définir un callback  pour mettre à jour la carte sur l'année selectionnée \n",
    "@app1.callback(\n",
    "    d.Output('choropleth-map', 'figure'),\n",
    "    [d.Input('year-dropdown', 'value'),\n",
    "     d.Input('variable-dropdown', 'value')]\n",
    ")\n",
    "def update_map(selected_year, selected_variable):\n",
    "    subset_gdf = world_df[world_df['YEAR'] == selected_year]\n",
    "    subset_gdf.index = subset_gdf['name']\n",
    "    fig = d.px.choropleth(\n",
    "        subset_gdf,\n",
    "        geojson=subset_gdf.geometry,\n",
    "        locations=subset_gdf.index,\n",
    "        color=selected_variable,\n",
    "        projection=\"natural earth\",\n",
    "        title=f'{selected_variable} in {selected_year}',\n",
    "    )\n",
    "    fig.update_geos(fitbounds=\"locations\", visible=True)\n",
    "  \n",
    "    fig.update_layout ( margin = { \"r\" : 0 , \"t\" : 0 , \"l\" : 0 , \"b\" : 0 }) \n",
    "    \n",
    "    return fig\n",
    "\n",
    "# Exécuter l'application\n",
    "if __name__ == '__main__':\n",
    "    app1.run_server(debug=True, port=8050)"
   ]
  },
  {
   "cell_type": "markdown",
   "metadata": {},
   "source": [
    "## <span style=\"color:green; text-align:center;\">II-2 APPLICATION 2 : Visualisation des séries temporelles par contient</span>"
   ]
  },
  {
   "cell_type": "markdown",
   "metadata": {},
   "source": [
    "La deuxième application consiste à créer une application web interactive affichant les plots des séries temporelles des différents indicateurs pour différents pays."
   ]
  },
  {
   "cell_type": "code",
   "execution_count": null,
   "metadata": {},
   "outputs": [],
   "source": [
    "# Créer un Dash app\n",
    "app2 = d.dash.Dash(__name__)\n",
    "\n",
    "# Créer le graphique initial\n",
    "fig = d.px.line(world_df, x='YEAR', y=[\"Unemployment_rate\"], color='name')\n",
    "\n",
    "# Créer la mise en page de votre application Dash\n",
    "app2.layout = d.html.Div([\n",
    "    # Sélecteur de continents\n",
    "    d.dcc.Dropdown(\n",
    "        id='continent-selector',\n",
    "        options=[\n",
    "            {'label': continent, 'value': continent}\n",
    "            for continent in world_df['continent'].unique()\n",
    "        ],\n",
    "        multi=True,\n",
    "        value=world_df['continent'].unique()  # Sélectionner tous les continents par défaut\n",
    "    ),\n",
    "    # Sélecteur de variables\n",
    "    d.dcc.Dropdown(\n",
    "        id='variable-dropdown',\n",
    "        options=[\n",
    "            {'label': 'Unemployment Rate', 'value': 'Unemployment_rate'},\n",
    "            {'label': 'GDP growth Rate', 'value': 'GDP_rate'},\n",
    "            {'label': 'Life expentancy', 'value': 'life_expentancy'},\n",
    "            {'label': 'Population growth rate', 'value': 'pop_growth_rate'}\n",
    "          \n",
    "        ],\n",
    "        value='Unemployment_rate',  # Valeur par defaut de la variable representée\n",
    "        multi=False,\n",
    "    ),\n",
    "    \n",
    "    # Graphique\n",
    "    d.dcc.Graph(\n",
    "        id='line-chart',\n",
    "        figure=fig\n",
    "    )\n",
    "])\n",
    "\n",
    "# Définir la logique de la mise à jour du graphique en fonction de la sélection du sélecteur\n",
    "@app2.callback(\n",
    "    d.Output('line-chart', 'figure'),\n",
    "    [d.Input('variable-dropdown', 'value'),\n",
    "     d.Input('continent-selector', 'value')]\n",
    ")\n",
    "def update_graph2(selected_variable, selected_continents):\n",
    "    filtered_df = world_df[world_df['continent'].isin(selected_continents)]\n",
    "    fig = d.px.line(filtered_df, x='YEAR', y=[selected_variable], color='name',\n",
    "                   labels={'YEAR': 'Année', selected_variable : f\"{selected_variable}\"})\n",
    "    \n",
    "    \n",
    "    return fig\n",
    "\n",
    "\n",
    "# Exécuter l'application Dash\n",
    "if __name__ == '__main__':\n",
    "    app2.run_server(debug=True, port=8051)"
   ]
  },
  {
   "cell_type": "markdown",
   "metadata": {},
   "source": [
    "## <span style=\"color:green; text-align:center;\">II-3 APPLICATION 3 : Visualisation de la tendance moyenne </span>"
   ]
  },
  {
   "cell_type": "markdown",
   "metadata": {},
   "source": [
    "La troisième application consiste à créer une application web interactive affichant les barplots (diagramme à barres) des valeurs moyennes des différents indicateurs pour les différents pays."
   ]
  },
  {
   "cell_type": "code",
   "execution_count": null,
   "metadata": {},
   "outputs": [],
   "source": [
    "# Tronquer la DataFrame pour garder uniquement les lignes à partir de 2019\n",
    "df_tronque = world_df.loc[world_df.YEAR >= '2019']\n",
    "\n",
    "# Sélectionner uniquement les 4 colonnes 'Unemployment_rate', 'GDP_rate', 'life_expentancy' et 'pop_growth_rate', puis faire la moyenne dans chaque groupe\n",
    "df_group = df_tronque.groupby('name')[\n",
    "    ['Unemployment_rate', 'GDP_rate', 'life_expentancy', 'pop_growth_rate']\n",
    "    ].mean().reset_index()"
   ]
  },
  {
   "cell_type": "code",
   "execution_count": null,
   "metadata": {},
   "outputs": [],
   "source": [
    "# Visualisation\n",
    "df_group.head()"
   ]
  },
  {
   "cell_type": "code",
   "execution_count": null,
   "metadata": {},
   "outputs": [],
   "source": [
    "# Créer un Dash app\n",
    "app3 = d.dash.Dash(__name__)\n",
    "\n",
    "# Créer votre graphique initial\n",
    "fig = d.px.bar(df_group, x='name', y='Unemployment_rate', color='name',\n",
    "             labels={'name': 'Pays', 'Unemployment_rate': 'Taux de chômage moyen'},\n",
    "             template='plotly_dark')\n",
    "\n",
    "# Créer la mise en page de votre application Dash\n",
    "app3.layout = d.html.Div([\n",
    "    \n",
    "    # Sélecteur de variables\n",
    "    d.dcc.Dropdown(\n",
    "        id='variable-dropdown',\n",
    "        options=[\n",
    "            {'label': 'Unemployment Rate', 'value': 'Unemployment_rate'},\n",
    "            {'label': 'GDP growth Rate', 'value': 'GDP_rate'},\n",
    "            {'label': 'Life expentancy', 'value': 'life_expentancy'},\n",
    "            {'label': 'Population growth rate', 'value': 'pop_growth_rate'}\n",
    "          \n",
    "        ],\n",
    "        value='Unemployment_rate',  # valeur par défaut de la variable representée\n",
    "        multi=False,\n",
    "    ),\n",
    "    \n",
    "    # Graphique\n",
    "    d.dcc.Graph(\n",
    "        id='bar',\n",
    "        figure=fig\n",
    "    )\n",
    "])\n",
    "\n",
    "# Définir la logique de la mise à jour du graphique en fonction de la sélection du sélecteur\n",
    "@app3.callback(\n",
    "    d.Output('bar', 'figure'),\n",
    "    [d.Input('variable-dropdown', 'value')]\n",
    ")\n",
    "def update_graph3(selected_variable):\n",
    "    #fig = px.line(filtered_df, x='YEAR', y=[\"Unemployment_rate\"], color='COUNTRY')\n",
    "    fig = d.px.bar(df_group, x='name', y=[selected_variable], color='name',\n",
    "                   labels={'name': 'Pays', selected_variable: selected_variable},\n",
    "                   template='plotly_dark')\n",
    "    # Afficher le graphique interactif\n",
    "    \n",
    "    return fig\n",
    "\n",
    "\n",
    "# Exécuter l'application Dash\n",
    "if __name__ == '__main__':\n",
    "    app3.run_server(debug=True, port=8052)"
   ]
  },
  {
   "cell_type": "markdown",
   "metadata": {},
   "source": [
    "# <span style=\"color:green; text-align:center;\">III- Analyse descriptive </span>"
   ]
  },
  {
   "cell_type": "markdown",
   "metadata": {},
   "source": [
    "Pour l'analyse des séries temporelles, une fonction est définie dans le fichier 'declarations.py'. Ladite fonction 'analyse_serie_temporelle_pays' prend en arguments, le jeu de données, l'indicateur (taux de chômage, taux de croissance...) et le pays à considérer.\n",
    "\n",
    "Cette dernière renvoie, le plot :<br>\n",
    "\n",
    "<div style=\"margin-left: 20px;\">\n",
    "-de la série temporelle brute, <br>\n",
    "-de la série temporelle lissée par une moyenne mobile d'ordre 4,<br> \n",
    "-de la décomposition de la série temporelle en composante saisonnière, composante tendancielle et rédisuelle. <br>\n",
    "    </div>\n",
    "\n",
    "Enfin, elle permet de tester la stationnarité de la série (Augmented Dickey-Fuller test).<br>\n",
    "\n",
    "<u>**RAPPEL :**</u>\n",
    "\n",
    "**Hypothèses du Test de Dickey-Fuller Augmenté (ADF)**\n",
    "\n",
    "<div style=\"margin-left: 20px;\">\n",
    "\n",
    "- **$H_0$ :** La série temporelle a une racine unitaire, ce qui indique la non-stationnarité.\n",
    "\n",
    "- **$H_1$ :** La série temporelle n'a pas de racine unitaire, ce qui indique la stationnarité.\n",
    "    </div>\n",
    "**Interprétation des résultats :**\n",
    "\n",
    "<div style=\"margin-left: 20px;\">\n",
    "\n",
    "- Si la statistique du test est inférieure à la valeur critique au seuil de signification (par exemple, 0.05), on aurait tendance à rejeter l'hypothèse nulle et conclure que la série temporelle est stationnaire.<br>\n",
    "\n",
    "- Sinon, on ne peut pas rejeter l'hypothèse nulle, ce qui suggère que la série temporelle est non stationnaire.\n",
    "    </div>\n",
    "\n",
    "**NB :** Le test est implémenté par la bibliothèque Statsmodels de Python.\n"
   ]
  },
  {
   "cell_type": "markdown",
   "metadata": {},
   "source": [
    "### <span style=\"color:green; text-align:center;\">III-1. Série temporelle : Taux de chômage </span>"
   ]
  },
  {
   "cell_type": "code",
   "execution_count": null,
   "metadata": {},
   "outputs": [],
   "source": [
    "# EXEMPLE : Utilisation de la fonction avec le DataFrame 'final_data', le pays 'AUS', et la variable 'Unemployment_rate'\n",
    "d.analyse_serie_temporelle_pays(df,'Unemployment_rate', 'AUS')"
   ]
  },
  {
   "cell_type": "markdown",
   "metadata": {},
   "source": [
    "### <span style=\"color:green; text-align:center;\">III-2. Série temporelle : Taux de croissance du PIB </span>"
   ]
  },
  {
   "cell_type": "code",
   "execution_count": null,
   "metadata": {},
   "outputs": [],
   "source": [
    "# EXEMPLE : Utilisation de la fonction avec le DataFrame 'final_data', le pays 'PHL', et la variable 'GDP_rate'\n",
    "d.analyse_serie_temporelle_pays(df,'GDP_rate', 'PHL')"
   ]
  },
  {
   "cell_type": "markdown",
   "metadata": {},
   "source": [
    "### <span style=\"color:green; text-align:center;\">III-3. Série temporelle : Croissance démographique </span>"
   ]
  },
  {
   "cell_type": "code",
   "execution_count": null,
   "metadata": {},
   "outputs": [],
   "source": [
    "# EXEMPLE : Utilisation de la fonction avec le DataFrame 'final_data', le pays 'PHL', et la variable 'GDP_rate'\n",
    "d.analyse_serie_temporelle_pays(df,'pop_growth_rate', 'USA')"
   ]
  },
  {
   "cell_type": "markdown",
   "metadata": {},
   "source": [
    "### <span style=\"color:green; text-align:center;\">III-4. Série temporelle : Espérance de vie </span>"
   ]
  },
  {
   "cell_type": "code",
   "execution_count": null,
   "metadata": {},
   "outputs": [],
   "source": [
    "# EXEMPLE : Utilisation de la fonction avec le DataFrame 'final_data', le pays 'PHL', et la variable 'GDP_rate'\n",
    "d.analyse_serie_temporelle_pays(df,'life_expentancy', 'CAN')"
   ]
  },
  {
   "cell_type": "markdown",
   "metadata": {},
   "source": [
    "## <span style=\"color:green; text-align:center;\">III-5. APPLICATION 4 : </span>"
   ]
  },
  {
   "cell_type": "markdown",
   "metadata": {},
   "source": [
    "Dans ce qui suit, la fonction 'analyse_serie_temporelle_pays' sera implémentée dans une application dash."
   ]
  },
  {
   "cell_type": "code",
   "execution_count": null,
   "metadata": {},
   "outputs": [],
   "source": [
    "df=world_df.copy()"
   ]
  },
  {
   "cell_type": "code",
   "execution_count": null,
   "metadata": {},
   "outputs": [],
   "source": [
    "# Créer un Dash app\n",
    "app = d.dash.Dash(__name__)\n",
    "\n",
    "# Liste des pays disponibles dans le dataframe\n",
    "pays_disponibles = df['name'].unique()\n",
    "\n",
    "app.layout = d.html.Div([\n",
    "    d.html.H1(\"Analyse de Série Temporelle\"),\n",
    "    \n",
    "    \n",
    "   # Sélecteur de variables\n",
    "    d.dcc.Dropdown(\n",
    "        id='variable-dropdown',\n",
    "        options=[\n",
    "            {'label': 'Unemployment Rate', 'value': 'Unemployment_rate'},\n",
    "            {'label': 'GDP growth Rate', 'value': 'GDP_rate'},\n",
    "            {'label': 'Life expentancy', 'value': 'life_expentancy'},\n",
    "            {'label': 'Population growth rate', 'value': 'pop_growth_rate'}\n",
    "          \n",
    "        ],\n",
    "        value='Unemployment_rate',  # valeur par defaut de la variable representée\n",
    "        multi=False,\n",
    "    ),\n",
    "    \n",
    "    \n",
    "    # Sélection du pays\n",
    "    d.html.Label(\"Choisissez le pays :\"),\n",
    "    d.dcc.Dropdown(\n",
    "        id='dropdown-pays',\n",
    "        options=[\n",
    "            {'label': pays, 'value': pays} for pays in pays_disponibles\n",
    "        ],\n",
    "        value=pays_disponibles[0]\n",
    "    ),\n",
    "    \n",
    "    # Graphiques\n",
    "    d.dcc.Graph(id='time-series-plot'),\n",
    "    d.dcc.Graph(id='decomposition-plot'),\n",
    "])\n",
    "\n",
    "@app.callback(\n",
    "    [d.Output('time-series-plot', 'figure'),\n",
    "     d.Output('decomposition-plot', 'figure')],\n",
    "    [d.Input('variable-dropdown', 'value'),\n",
    "     d.Input('dropdown-pays', 'value')]\n",
    ")\n",
    "def update_graph(indicateur, pays):\n",
    "    # Sélectionner la série temporelle du pays spécifique\n",
    "    serie_temporelle = df[indicateur].dropna()\n",
    "    \n",
    "    # Moyenne mobile d'ordre 4\n",
    "    rolling_mean = serie_temporelle.rolling(window=4).mean()\n",
    "\n",
    "    # Créer le premier graphique (série temporelle et moyenne mobile)\n",
    "    time_series_fig = d.px.line(x=serie_temporelle.index, y=[serie_temporelle, rolling_mean],\n",
    "                              labels={'variable': 'Type', 'value': 'Valeur'},\n",
    "                              title=f'Série Temporelle et Moyenne Mobile - {indicateur} en {pays}',\n",
    "                              color_discrete_map={'0': 'blue', '1': 'red'})\n",
    "    \n",
    "    # Décomposition saisonnière\n",
    "    decomposition = d.seasonal_decompose(serie_temporelle, model='multiplicative', period=4)\n",
    "\n",
    "    # Créer le deuxième graphique (décomposition)\n",
    "    decomposition_fig = d.px.line(x=serie_temporelle.index, y=[decomposition.trend, decomposition.seasonal, decomposition.resid],\n",
    "                                labels={'variable': 'Composant', 'value': 'Valeur'},\n",
    "                                title=f'Décomposition - {indicateur} en {pays}',\n",
    "                                color_discrete_map={'0': 'green', '1': 'orange', '2': 'gray'})\n",
    "\n",
    "    return time_series_fig, decomposition_fig\n",
    "\n",
    "if __name__ == '__main__':\n",
    "    app.run_server(debug=True)"
   ]
  }
 ],
 "metadata": {
  "kernelspec": {
   "display_name": "base",
   "language": "python",
   "name": "python3"
  },
  "language_info": {
   "codemirror_mode": {
    "name": "ipython",
    "version": 3
   },
   "file_extension": ".py",
   "mimetype": "text/x-python",
   "name": "python",
   "nbconvert_exporter": "python",
   "pygments_lexer": "ipython3",
   "version": "3.11.7"
  }
 },
 "nbformat": 4,
 "nbformat_minor": 2
}

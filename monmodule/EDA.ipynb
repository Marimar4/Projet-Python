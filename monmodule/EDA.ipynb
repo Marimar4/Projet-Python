{
 "cells": [
  {
   "cell_type": "markdown",
   "metadata": {},
   "source": [
    " <div style=\"text-align:center;\">\n",
    "   <span style=\"color:green; font-size:2em; font-weight:bold;\">Exploratory Data Analysis (EDA)</span><br><br>\n",
    "</div>\n"
   ]
  },
  {
   "cell_type": "markdown",
   "metadata": {},
   "source": [
    "<span style=\"color:green; font-size:larger; font-weight:bold;\">INTRODUCTION</span>\n",
    "\n",
    "Dans cette partie, nous nous intéressons à l'analyse descriptive de la base de données \"final_data\" obtenue suite au nettoyage des bases de données initiales du fichier \"Préparation_données.ipynb\""
   ]
  },
  {
   "cell_type": "code",
   "execution_count": null,
   "metadata": {},
   "outputs": [],
   "source": [
    "# Import des packages\n",
    "from importlib import reload\n",
    "import declarations as d\n",
    "reload(d)"
   ]
  },
  {
   "cell_type": "code",
   "execution_count": null,
   "metadata": {},
   "outputs": [],
   "source": [
    "# Importation  de la base de données\n",
    "df = d.pd.read_csv(\"../final_data.csv\")"
   ]
  },
  {
   "cell_type": "code",
   "execution_count": null,
   "metadata": {},
   "outputs": [],
   "source": [
    "# Visualisation\n",
    "df.head()"
   ]
  },
  {
   "cell_type": "code",
   "execution_count": null,
   "metadata": {},
   "outputs": [],
   "source": [
    "# Telécharger le shapefile\n",
    "world = d.gpd.read_file(d.gpd.datasets.get_path('naturalearth_lowres'))\n",
    "world=world.rename(columns={'name': 'COUNTRY'})\n",
    "world.head()"
   ]
  },
  {
   "cell_type": "code",
   "execution_count": null,
   "metadata": {},
   "outputs": [],
   "source": [
    "# Sélectionner certaines colonnes\n",
    "columns_to_keep = ['geometry', 'COUNTRY', 'continent']\n",
    "world = world[columns_to_keep]\n",
    "\n",
    "# Mettre les noms des colonnes en abréviation\n",
    "world['COUNTRY'] = d.correct_country_name(world['COUNTRY'])\n",
    "\n",
    "# Fusionner les deux DataFrames\n",
    "world_df = d.pd.merge(world, df, how='inner', on=['COUNTRY'])\n"
   ]
  },
  {
   "cell_type": "code",
   "execution_count": null,
   "metadata": {},
   "outputs": [],
   "source": [
    "# Visualisation\n",
    "world_df.head()"
   ]
  },
  {
   "cell_type": "markdown",
   "metadata": {},
   "source": [
    "# <span style=\"color:green; text-align:center;\">II- VISUALISATION DES DONNEES</span>"
   ]
  },
  {
   "cell_type": "code",
   "execution_count": null,
   "metadata": {},
   "outputs": [],
   "source": [
    "# Plot\n",
    "world_df.plot(color='lightgrey')"
   ]
  },
  {
   "cell_type": "markdown",
   "metadata": {},
   "source": [
    "Deux applications seront créer pour la visualition des données:\n",
    "<div style=\"margin-left: 20px;\">\n",
    "-La premiere sera instantanné et à l'échelle mondiale. <br>\n",
    "-La seconde c'est la représentation de la série temporelle par continent.\n",
    "    </div>"
   ]
  },
  {
   "cell_type": "code",
   "execution_count": null,
   "metadata": {},
   "outputs": [],
   "source": [
    "# Créer un Dash app\n",
    "app1 = d.dash.Dash(__name__)\n",
    "\n",
    "# Définir le layout \n",
    "app1.layout = d.html.Div([\n",
    "    # Sélecteur d'année\n",
    "    d.dcc.Dropdown(\n",
    "        id='year-dropdown',\n",
    "        options=[{'label': year, 'value': year} for year in sorted(world_df['YEAR'].unique())],\n",
    "        value=world_df['YEAR'].min(),  #valeur par defaut de l'année\n",
    "        multi=False,\n",
    "    ),\n",
    "    # Sélecteur de variables\n",
    "    d.dcc.Dropdown(\n",
    "        id='variable-dropdown',\n",
    "        options=[\n",
    "            {'label': 'Unemployment Rate', 'value': 'Unemployment_rate'},\n",
    "            {'label': 'GDP growth Rate', 'value': 'GDP_rate'},\n",
    "            {'label': 'Life expentancy', 'value': 'life_expentancy'},\n",
    "            {'label': 'Population growth rate', 'value': 'pop_growth_rate'}\n",
    "          \n",
    "        ],\n",
    "        value='Unemployment_rate',  # valeur par defaut de la variable representée\n",
    "        multi=False,\n",
    "    ),\n",
    "    d.dcc.Graph(id='choropleth-map'),\n",
    "])\n",
    "\n",
    "# Définir un callback  pour mettre à jour la carte sur l'année selectionnée \n",
    "@app1.callback(\n",
    "    d.Output('choropleth-map', 'figure'),\n",
    "    [d.Input('year-dropdown', 'value'),\n",
    "     d.Input('variable-dropdown', 'value')]\n",
    ")\n",
    "def update_map(selected_year, selected_variable):\n",
    "    subset_gdf = world_df[world_df['YEAR'] == selected_year]\n",
    "    subset_gdf.index = subset_gdf['COUNTRY']\n",
    "    fig = d.px.choropleth(\n",
    "        subset_gdf,\n",
    "        geojson=subset_gdf.geometry,\n",
    "        locations=subset_gdf.index,\n",
    "        color=selected_variable,\n",
    "        projection=\"natural earth\",\n",
    "        title=f'{selected_variable} in {selected_year}',\n",
    "    )\n",
    "    fig.update_geos(fitbounds=\"locations\", visible=True)\n",
    "    return fig\n",
    "\n",
    "# Executer l'application\n",
    "if __name__ == '__main__':\n",
    "    app1.run_server(debug=True, port=8050)\n"
   ]
  },
  {
   "cell_type": "code",
   "execution_count": null,
   "metadata": {},
   "outputs": [],
   "source": [
    "\n",
    "df=world_df.copy()\n",
    "app2 = d.dash.Dash(__name__)\n",
    "\n",
    "# Créer votre graphique initial\n",
    "fig = d.px.line(df, x='YEAR', y=[\"Unemployment_rate\"], color='COUNTRY')\n",
    "\n",
    "# Créer la mise en page de votre application Dash\n",
    "app2.layout = d.html.Div([\n",
    "    # Sélecteur de continents\n",
    "    d.dcc.Dropdown(\n",
    "        id='continent-selector',\n",
    "        options=[\n",
    "            {'label': continent, 'value': continent}\n",
    "            for continent in df['continent'].unique()\n",
    "        ],\n",
    "        multi=True,\n",
    "        value=df['continent'].unique()  # Sélectionner tous les continents par défaut\n",
    "    ),\n",
    "    # Sélecteur de variables\n",
    "    d.dcc.Dropdown(\n",
    "        id='variable-dropdown',\n",
    "        options=[\n",
    "            {'label': 'Unemployment Rate', 'value': 'Unemployment_rate'},\n",
    "            {'label': 'GDP growth Rate', 'value': 'GDP_rate'},\n",
    "            {'label': 'Life expentancy', 'value': 'life_expentancy'},\n",
    "            {'label': 'Population growth rate', 'value': 'pop_growth_rate'}\n",
    "          \n",
    "        ],\n",
    "        value='Unemployment_rate',  # Valeur par defaut de la variable representée\n",
    "        multi=False,\n",
    "    ),\n",
    "    \n",
    "    # Graphique\n",
    "    d.dcc.Graph(\n",
    "        id='line-chart',\n",
    "        figure=fig\n",
    "    )\n",
    "])\n",
    "\n",
    "# Définisser la logique de la mise à jour du graphique en fonction de la sélection du sélecteur\n",
    "@app2.callback(\n",
    "    d.Output('line-chart', 'figure'),\n",
    "    [d.Input('variable-dropdown', 'value'),\n",
    "     d.Input('continent-selector', 'value')]\n",
    ")\n",
    "def update_graph2(selected_variable, selected_continents):\n",
    "    filtered_df = df[df['continent'].isin(selected_continents)]\n",
    "    fig = d.px.line(filtered_df, x='YEAR', y=[selected_variable], color='COUNTRY',\n",
    "                   labels={'YEAR': 'Année', selected_variable : f\"{selected_variable}\"})\n",
    "    return fig\n",
    "\n",
    "\n",
    "# Exécuter l'application Dash\n",
    "if __name__ == '__main__':\n",
    "    app2.run_server(debug=True, port=8051)\n"
   ]
  },
  {
   "cell_type": "code",
   "execution_count": null,
   "metadata": {},
   "outputs": [],
   "source": [
    "# Group by Country, sélectionner uniquement les 4 colonnes et faire la moyenne dans chaque groupe\n",
    "df_group = df.groupby('COUNTRY')[\n",
    "    ['Unemployment_rate', 'GDP_rate', 'life_expentancy', 'pop_growth_rate']\n",
    "    ].mean().reset_index()"
   ]
  },
  {
   "cell_type": "code",
   "execution_count": null,
   "metadata": {},
   "outputs": [],
   "source": [
    "# Visualisation\n",
    "df_group.head()"
   ]
  },
  {
   "cell_type": "code",
   "execution_count": null,
   "metadata": {},
   "outputs": [],
   "source": [
    "app3 = d.dash.Dash(__name__)\n",
    "\n",
    "# Créer votre graphique initial\n",
    "fig = d.px.bar(df_group, x='COUNTRY', y='Unemployment_rate', color='COUNTRY',\n",
    "             labels={'COUNTRY': 'Pays', 'Unemployment_rate': 'Taux de chômage moyen'},\n",
    "             #title='Taux de chômage moyen par pays sur la période 2019-2023',\n",
    "             template='plotly_dark')\n",
    "\n",
    "# Créer la mise en page de votre application Dash\n",
    "app3.layout = d.html.Div([\n",
    "    \n",
    "    # Sélecteur de variables\n",
    "    d.dcc.Dropdown(\n",
    "        id='variable-dropdown',\n",
    "        options=[\n",
    "            {'label': 'Unemployment Rate', 'value': 'Unemployment_rate'},\n",
    "            {'label': 'GDP growth Rate', 'value': 'GDP_rate'},\n",
    "            {'label': 'Life expentancy', 'value': 'life_expentancy'},\n",
    "            {'label': 'Population growth rate', 'value': 'pop_growth_rate'}\n",
    "          \n",
    "        ],\n",
    "        value='Unemployment_rate',  # valeur par defaut de la variable representée\n",
    "        multi=False,\n",
    "    ),\n",
    "    \n",
    "    # Graphique\n",
    "    d.dcc.Graph(\n",
    "        id='bar',\n",
    "        figure=fig\n",
    "    )\n",
    "])\n",
    "\n",
    "# Définisser la logique de la mise à jour du graphique en fonction de la sélection du sélecteur\n",
    "@app3.callback(\n",
    "    d.Output('bar', 'figure'),\n",
    "    [d.Input('variable-dropdown', 'value')]\n",
    ")\n",
    "def update_graph3(selected_variable):\n",
    "    #fig = px.line(filtered_df, x='YEAR', y=[\"Unemployment_rate\"], color='COUNTRY')\n",
    "    fig = d.px.bar(df, x='COUNTRY', y=[selected_variable], color='COUNTRY',\n",
    "                   labels={'COUNTRY': 'Pays', selected_variable: selected_variable},\n",
    "                   template='plotly_dark')\n",
    "    return fig\n",
    "\n",
    "\n",
    "# Exécuter l'application Dash\n",
    "if __name__ == '__main__':\n",
    "    app3.run_server(debug=True, port=8052)\n"
   ]
  },
  {
   "cell_type": "code",
   "execution_count": null,
   "metadata": {},
   "outputs": [],
   "source": [
    "# Créer un graphique interactif avec Plotly Express\n",
    "fig = d.px.bar(df_group, x='COUNTRY', y='Unemployment_rate', color='COUNTRY',\n",
    "             labels={'COUNTRY': 'Pays', 'Unemployment_rate': 'Taux de chômage moyen'},\n",
    "             title='Taux de chômage moyen par pays sur la période 2019-2023',\n",
    "             template='plotly_dark')\n",
    "\n",
    "# Afficher le graphique interactif\n",
    "fig.show()"
   ]
  }
 ],
 "metadata": {
  "kernelspec": {
   "display_name": "base",
   "language": "python",
   "name": "python3"
  },
  "language_info": {
   "codemirror_mode": {
    "name": "ipython",
    "version": 3
   },
   "file_extension": ".py",
   "mimetype": "text/x-python",
   "name": "python",
   "nbconvert_exporter": "python",
   "pygments_lexer": "ipython3",
   "version": "3.11.7"
  }
 },
 "nbformat": 4,
 "nbformat_minor": 2
}

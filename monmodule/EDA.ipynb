{
 "cells": [
  {
   "cell_type": "markdown",
   "metadata": {},
   "source": [
    " <div style=\"text-align:center;\">\n",
    "   <span style=\"color:green; font-size:2em; font-weight:bold;\">Exploratory Data Analysis (EDA)</span><br><br>\n",
    "</div>\n"
   ]
  },
  {
   "cell_type": "markdown",
   "metadata": {},
   "source": [
    "# <span style=\"color:green; text-align:center;\">Introduction</span>\n",
    "\n",
    "Dans cette partie, nous nous intéressons à la visualisation des données ainsi qu'à l'analyse descriptive du jeu de données **\"final_data\"** obtenu suite au nettoyage des bases de données initiales du fichier \"Préparation_données.ipynb\".\n",
    "\n",
    "Pour les taux de chômage et de croissance, nous allons se concentrer uniquement sur les observations de la période s'étallant de **2019** à **2023**. Nous voulons à partir de cela visualiser les niveaux moyens de chomage et de croissance économique pour les cinq dernières années.\n",
    "L'objectif ici est de mettre en pratique les méthodes vues en cours.\n",
    "\n",
    "**Précision :**\n",
    "\n",
    "Pour la représentation graphique des séries temporelles, la période considérée est celle s'étallant de **1994** à **2023**.\n",
    "\n",
    "-La visualisation se fera par le biais de deux applications Dash.\n",
    "-L'analyse descriptive portera sur une série temporelle particulière."
   ]
  },
  {
   "cell_type": "code",
   "execution_count": 15,
   "metadata": {},
   "outputs": [
    {
     "data": {
      "text/plain": [
       "<module 'declarations' from 'c:\\\\Projet-Python\\\\Projet-Python\\\\monmodule\\\\declarations.py'>"
      ]
     },
     "execution_count": 15,
     "metadata": {},
     "output_type": "execute_result"
    }
   ],
   "source": [
    "# Import des packages\n",
    "from importlib import reload\n",
    "import declarations as d\n",
    "reload(d)"
   ]
  },
  {
   "cell_type": "code",
   "execution_count": 16,
   "metadata": {},
   "outputs": [
    {
     "ename": "FileNotFoundError",
     "evalue": "[Errno 2] No such file or directory: '../final_data.csv'",
     "output_type": "error",
     "traceback": [
      "\u001b[1;31m---------------------------------------------------------------------------\u001b[0m",
      "\u001b[1;31mFileNotFoundError\u001b[0m                         Traceback (most recent call last)",
      "Cell \u001b[1;32mIn[16], line 2\u001b[0m\n\u001b[0;32m      1\u001b[0m \u001b[38;5;66;03m# Importation du jeu de données\u001b[39;00m\n\u001b[1;32m----> 2\u001b[0m df \u001b[38;5;241m=\u001b[39m \u001b[43md\u001b[49m\u001b[38;5;241;43m.\u001b[39;49m\u001b[43mpd\u001b[49m\u001b[38;5;241;43m.\u001b[39;49m\u001b[43mread_csv\u001b[49m\u001b[43m(\u001b[49m\u001b[38;5;124;43m\"\u001b[39;49m\u001b[38;5;124;43m../final_data.csv\u001b[39;49m\u001b[38;5;124;43m\"\u001b[39;49m\u001b[43m)\u001b[49m\n",
      "File \u001b[1;32m~\\AppData\\Local\\Packages\\PythonSoftwareFoundation.Python.3.11_qbz5n2kfra8p0\\LocalCache\\local-packages\\Python311\\site-packages\\pandas\\io\\parsers\\readers.py:948\u001b[0m, in \u001b[0;36mread_csv\u001b[1;34m(filepath_or_buffer, sep, delimiter, header, names, index_col, usecols, dtype, engine, converters, true_values, false_values, skipinitialspace, skiprows, skipfooter, nrows, na_values, keep_default_na, na_filter, verbose, skip_blank_lines, parse_dates, infer_datetime_format, keep_date_col, date_parser, date_format, dayfirst, cache_dates, iterator, chunksize, compression, thousands, decimal, lineterminator, quotechar, quoting, doublequote, escapechar, comment, encoding, encoding_errors, dialect, on_bad_lines, delim_whitespace, low_memory, memory_map, float_precision, storage_options, dtype_backend)\u001b[0m\n\u001b[0;32m    935\u001b[0m kwds_defaults \u001b[38;5;241m=\u001b[39m _refine_defaults_read(\n\u001b[0;32m    936\u001b[0m     dialect,\n\u001b[0;32m    937\u001b[0m     delimiter,\n\u001b[1;32m   (...)\u001b[0m\n\u001b[0;32m    944\u001b[0m     dtype_backend\u001b[38;5;241m=\u001b[39mdtype_backend,\n\u001b[0;32m    945\u001b[0m )\n\u001b[0;32m    946\u001b[0m kwds\u001b[38;5;241m.\u001b[39mupdate(kwds_defaults)\n\u001b[1;32m--> 948\u001b[0m \u001b[38;5;28;01mreturn\u001b[39;00m \u001b[43m_read\u001b[49m\u001b[43m(\u001b[49m\u001b[43mfilepath_or_buffer\u001b[49m\u001b[43m,\u001b[49m\u001b[43m \u001b[49m\u001b[43mkwds\u001b[49m\u001b[43m)\u001b[49m\n",
      "File \u001b[1;32m~\\AppData\\Local\\Packages\\PythonSoftwareFoundation.Python.3.11_qbz5n2kfra8p0\\LocalCache\\local-packages\\Python311\\site-packages\\pandas\\io\\parsers\\readers.py:611\u001b[0m, in \u001b[0;36m_read\u001b[1;34m(filepath_or_buffer, kwds)\u001b[0m\n\u001b[0;32m    608\u001b[0m _validate_names(kwds\u001b[38;5;241m.\u001b[39mget(\u001b[38;5;124m\"\u001b[39m\u001b[38;5;124mnames\u001b[39m\u001b[38;5;124m\"\u001b[39m, \u001b[38;5;28;01mNone\u001b[39;00m))\n\u001b[0;32m    610\u001b[0m \u001b[38;5;66;03m# Create the parser.\u001b[39;00m\n\u001b[1;32m--> 611\u001b[0m parser \u001b[38;5;241m=\u001b[39m \u001b[43mTextFileReader\u001b[49m\u001b[43m(\u001b[49m\u001b[43mfilepath_or_buffer\u001b[49m\u001b[43m,\u001b[49m\u001b[43m \u001b[49m\u001b[38;5;241;43m*\u001b[39;49m\u001b[38;5;241;43m*\u001b[39;49m\u001b[43mkwds\u001b[49m\u001b[43m)\u001b[49m\n\u001b[0;32m    613\u001b[0m \u001b[38;5;28;01mif\u001b[39;00m chunksize \u001b[38;5;129;01mor\u001b[39;00m iterator:\n\u001b[0;32m    614\u001b[0m     \u001b[38;5;28;01mreturn\u001b[39;00m parser\n",
      "File \u001b[1;32m~\\AppData\\Local\\Packages\\PythonSoftwareFoundation.Python.3.11_qbz5n2kfra8p0\\LocalCache\\local-packages\\Python311\\site-packages\\pandas\\io\\parsers\\readers.py:1448\u001b[0m, in \u001b[0;36mTextFileReader.__init__\u001b[1;34m(self, f, engine, **kwds)\u001b[0m\n\u001b[0;32m   1445\u001b[0m     \u001b[38;5;28mself\u001b[39m\u001b[38;5;241m.\u001b[39moptions[\u001b[38;5;124m\"\u001b[39m\u001b[38;5;124mhas_index_names\u001b[39m\u001b[38;5;124m\"\u001b[39m] \u001b[38;5;241m=\u001b[39m kwds[\u001b[38;5;124m\"\u001b[39m\u001b[38;5;124mhas_index_names\u001b[39m\u001b[38;5;124m\"\u001b[39m]\n\u001b[0;32m   1447\u001b[0m \u001b[38;5;28mself\u001b[39m\u001b[38;5;241m.\u001b[39mhandles: IOHandles \u001b[38;5;241m|\u001b[39m \u001b[38;5;28;01mNone\u001b[39;00m \u001b[38;5;241m=\u001b[39m \u001b[38;5;28;01mNone\u001b[39;00m\n\u001b[1;32m-> 1448\u001b[0m \u001b[38;5;28mself\u001b[39m\u001b[38;5;241m.\u001b[39m_engine \u001b[38;5;241m=\u001b[39m \u001b[38;5;28;43mself\u001b[39;49m\u001b[38;5;241;43m.\u001b[39;49m\u001b[43m_make_engine\u001b[49m\u001b[43m(\u001b[49m\u001b[43mf\u001b[49m\u001b[43m,\u001b[49m\u001b[43m \u001b[49m\u001b[38;5;28;43mself\u001b[39;49m\u001b[38;5;241;43m.\u001b[39;49m\u001b[43mengine\u001b[49m\u001b[43m)\u001b[49m\n",
      "File \u001b[1;32m~\\AppData\\Local\\Packages\\PythonSoftwareFoundation.Python.3.11_qbz5n2kfra8p0\\LocalCache\\local-packages\\Python311\\site-packages\\pandas\\io\\parsers\\readers.py:1705\u001b[0m, in \u001b[0;36mTextFileReader._make_engine\u001b[1;34m(self, f, engine)\u001b[0m\n\u001b[0;32m   1703\u001b[0m     \u001b[38;5;28;01mif\u001b[39;00m \u001b[38;5;124m\"\u001b[39m\u001b[38;5;124mb\u001b[39m\u001b[38;5;124m\"\u001b[39m \u001b[38;5;129;01mnot\u001b[39;00m \u001b[38;5;129;01min\u001b[39;00m mode:\n\u001b[0;32m   1704\u001b[0m         mode \u001b[38;5;241m+\u001b[39m\u001b[38;5;241m=\u001b[39m \u001b[38;5;124m\"\u001b[39m\u001b[38;5;124mb\u001b[39m\u001b[38;5;124m\"\u001b[39m\n\u001b[1;32m-> 1705\u001b[0m \u001b[38;5;28mself\u001b[39m\u001b[38;5;241m.\u001b[39mhandles \u001b[38;5;241m=\u001b[39m \u001b[43mget_handle\u001b[49m\u001b[43m(\u001b[49m\n\u001b[0;32m   1706\u001b[0m \u001b[43m    \u001b[49m\u001b[43mf\u001b[49m\u001b[43m,\u001b[49m\n\u001b[0;32m   1707\u001b[0m \u001b[43m    \u001b[49m\u001b[43mmode\u001b[49m\u001b[43m,\u001b[49m\n\u001b[0;32m   1708\u001b[0m \u001b[43m    \u001b[49m\u001b[43mencoding\u001b[49m\u001b[38;5;241;43m=\u001b[39;49m\u001b[38;5;28;43mself\u001b[39;49m\u001b[38;5;241;43m.\u001b[39;49m\u001b[43moptions\u001b[49m\u001b[38;5;241;43m.\u001b[39;49m\u001b[43mget\u001b[49m\u001b[43m(\u001b[49m\u001b[38;5;124;43m\"\u001b[39;49m\u001b[38;5;124;43mencoding\u001b[39;49m\u001b[38;5;124;43m\"\u001b[39;49m\u001b[43m,\u001b[49m\u001b[43m \u001b[49m\u001b[38;5;28;43;01mNone\u001b[39;49;00m\u001b[43m)\u001b[49m\u001b[43m,\u001b[49m\n\u001b[0;32m   1709\u001b[0m \u001b[43m    \u001b[49m\u001b[43mcompression\u001b[49m\u001b[38;5;241;43m=\u001b[39;49m\u001b[38;5;28;43mself\u001b[39;49m\u001b[38;5;241;43m.\u001b[39;49m\u001b[43moptions\u001b[49m\u001b[38;5;241;43m.\u001b[39;49m\u001b[43mget\u001b[49m\u001b[43m(\u001b[49m\u001b[38;5;124;43m\"\u001b[39;49m\u001b[38;5;124;43mcompression\u001b[39;49m\u001b[38;5;124;43m\"\u001b[39;49m\u001b[43m,\u001b[49m\u001b[43m \u001b[49m\u001b[38;5;28;43;01mNone\u001b[39;49;00m\u001b[43m)\u001b[49m\u001b[43m,\u001b[49m\n\u001b[0;32m   1710\u001b[0m \u001b[43m    \u001b[49m\u001b[43mmemory_map\u001b[49m\u001b[38;5;241;43m=\u001b[39;49m\u001b[38;5;28;43mself\u001b[39;49m\u001b[38;5;241;43m.\u001b[39;49m\u001b[43moptions\u001b[49m\u001b[38;5;241;43m.\u001b[39;49m\u001b[43mget\u001b[49m\u001b[43m(\u001b[49m\u001b[38;5;124;43m\"\u001b[39;49m\u001b[38;5;124;43mmemory_map\u001b[39;49m\u001b[38;5;124;43m\"\u001b[39;49m\u001b[43m,\u001b[49m\u001b[43m \u001b[49m\u001b[38;5;28;43;01mFalse\u001b[39;49;00m\u001b[43m)\u001b[49m\u001b[43m,\u001b[49m\n\u001b[0;32m   1711\u001b[0m \u001b[43m    \u001b[49m\u001b[43mis_text\u001b[49m\u001b[38;5;241;43m=\u001b[39;49m\u001b[43mis_text\u001b[49m\u001b[43m,\u001b[49m\n\u001b[0;32m   1712\u001b[0m \u001b[43m    \u001b[49m\u001b[43merrors\u001b[49m\u001b[38;5;241;43m=\u001b[39;49m\u001b[38;5;28;43mself\u001b[39;49m\u001b[38;5;241;43m.\u001b[39;49m\u001b[43moptions\u001b[49m\u001b[38;5;241;43m.\u001b[39;49m\u001b[43mget\u001b[49m\u001b[43m(\u001b[49m\u001b[38;5;124;43m\"\u001b[39;49m\u001b[38;5;124;43mencoding_errors\u001b[39;49m\u001b[38;5;124;43m\"\u001b[39;49m\u001b[43m,\u001b[49m\u001b[43m \u001b[49m\u001b[38;5;124;43m\"\u001b[39;49m\u001b[38;5;124;43mstrict\u001b[39;49m\u001b[38;5;124;43m\"\u001b[39;49m\u001b[43m)\u001b[49m\u001b[43m,\u001b[49m\n\u001b[0;32m   1713\u001b[0m \u001b[43m    \u001b[49m\u001b[43mstorage_options\u001b[49m\u001b[38;5;241;43m=\u001b[39;49m\u001b[38;5;28;43mself\u001b[39;49m\u001b[38;5;241;43m.\u001b[39;49m\u001b[43moptions\u001b[49m\u001b[38;5;241;43m.\u001b[39;49m\u001b[43mget\u001b[49m\u001b[43m(\u001b[49m\u001b[38;5;124;43m\"\u001b[39;49m\u001b[38;5;124;43mstorage_options\u001b[39;49m\u001b[38;5;124;43m\"\u001b[39;49m\u001b[43m,\u001b[49m\u001b[43m \u001b[49m\u001b[38;5;28;43;01mNone\u001b[39;49;00m\u001b[43m)\u001b[49m\u001b[43m,\u001b[49m\n\u001b[0;32m   1714\u001b[0m \u001b[43m\u001b[49m\u001b[43m)\u001b[49m\n\u001b[0;32m   1715\u001b[0m \u001b[38;5;28;01massert\u001b[39;00m \u001b[38;5;28mself\u001b[39m\u001b[38;5;241m.\u001b[39mhandles \u001b[38;5;129;01mis\u001b[39;00m \u001b[38;5;129;01mnot\u001b[39;00m \u001b[38;5;28;01mNone\u001b[39;00m\n\u001b[0;32m   1716\u001b[0m f \u001b[38;5;241m=\u001b[39m \u001b[38;5;28mself\u001b[39m\u001b[38;5;241m.\u001b[39mhandles\u001b[38;5;241m.\u001b[39mhandle\n",
      "File \u001b[1;32m~\\AppData\\Local\\Packages\\PythonSoftwareFoundation.Python.3.11_qbz5n2kfra8p0\\LocalCache\\local-packages\\Python311\\site-packages\\pandas\\io\\common.py:863\u001b[0m, in \u001b[0;36mget_handle\u001b[1;34m(path_or_buf, mode, encoding, compression, memory_map, is_text, errors, storage_options)\u001b[0m\n\u001b[0;32m    858\u001b[0m \u001b[38;5;28;01melif\u001b[39;00m \u001b[38;5;28misinstance\u001b[39m(handle, \u001b[38;5;28mstr\u001b[39m):\n\u001b[0;32m    859\u001b[0m     \u001b[38;5;66;03m# Check whether the filename is to be opened in binary mode.\u001b[39;00m\n\u001b[0;32m    860\u001b[0m     \u001b[38;5;66;03m# Binary mode does not support 'encoding' and 'newline'.\u001b[39;00m\n\u001b[0;32m    861\u001b[0m     \u001b[38;5;28;01mif\u001b[39;00m ioargs\u001b[38;5;241m.\u001b[39mencoding \u001b[38;5;129;01mand\u001b[39;00m \u001b[38;5;124m\"\u001b[39m\u001b[38;5;124mb\u001b[39m\u001b[38;5;124m\"\u001b[39m \u001b[38;5;129;01mnot\u001b[39;00m \u001b[38;5;129;01min\u001b[39;00m ioargs\u001b[38;5;241m.\u001b[39mmode:\n\u001b[0;32m    862\u001b[0m         \u001b[38;5;66;03m# Encoding\u001b[39;00m\n\u001b[1;32m--> 863\u001b[0m         handle \u001b[38;5;241m=\u001b[39m \u001b[38;5;28mopen\u001b[39m(\n\u001b[0;32m    864\u001b[0m             handle,\n\u001b[0;32m    865\u001b[0m             ioargs\u001b[38;5;241m.\u001b[39mmode,\n\u001b[0;32m    866\u001b[0m             encoding\u001b[38;5;241m=\u001b[39mioargs\u001b[38;5;241m.\u001b[39mencoding,\n\u001b[0;32m    867\u001b[0m             errors\u001b[38;5;241m=\u001b[39merrors,\n\u001b[0;32m    868\u001b[0m             newline\u001b[38;5;241m=\u001b[39m\u001b[38;5;124m\"\u001b[39m\u001b[38;5;124m\"\u001b[39m,\n\u001b[0;32m    869\u001b[0m         )\n\u001b[0;32m    870\u001b[0m     \u001b[38;5;28;01melse\u001b[39;00m:\n\u001b[0;32m    871\u001b[0m         \u001b[38;5;66;03m# Binary mode\u001b[39;00m\n\u001b[0;32m    872\u001b[0m         handle \u001b[38;5;241m=\u001b[39m \u001b[38;5;28mopen\u001b[39m(handle, ioargs\u001b[38;5;241m.\u001b[39mmode)\n",
      "\u001b[1;31mFileNotFoundError\u001b[0m: [Errno 2] No such file or directory: '../final_data.csv'"
     ]
    }
   ],
   "source": [
    "# Importation du jeu de données\n",
    "df = d.pd.read_csv(\"../final_data.csv\")"
   ]
  },
  {
   "cell_type": "code",
   "execution_count": null,
   "metadata": {},
   "outputs": [],
   "source": [
    "# Visualisation \n",
    "df.head()"
   ]
  },
  {
   "cell_type": "markdown",
   "metadata": {},
   "source": [
    "## <span style=\"color:green; text-align:center;\">I- Présentation de la base</span>"
   ]
  },
  {
   "cell_type": "code",
   "execution_count": null,
   "metadata": {},
   "outputs": [],
   "source": [
    "# Dimensions de la DF\n",
    "df.shape"
   ]
  },
  {
   "cell_type": "code",
   "execution_count": null,
   "metadata": {},
   "outputs": [],
   "source": [
    "# Informations sur la DF (nombre de valeurs non nulles, type de données de chaque colonne...)\n",
    "df.info()"
   ]
  },
  {
   "cell_type": "code",
   "execution_count": null,
   "metadata": {},
   "outputs": [],
   "source": [
    "# Générer des statistiques descriptives récapitulatives d'une DataFrame\n",
    "df.describe()"
   ]
  },
  {
   "cell_type": "code",
   "execution_count": null,
   "metadata": {},
   "outputs": [],
   "source": [
    "# Telécharger le shapefile\n",
    "world = d.gpd.read_file(d.gpd.datasets.get_path('naturalearth_lowres'))\n",
    "\n",
    "# Transformer les coordonnées géographiques en coordonnées projetées\n",
    "world.to_crs('EPSG:4326') \n",
    "\n",
    "# Renommer la colonne iso_a3\n",
    "world=world.rename(columns={'iso_a3': 'COUNTRY'})"
   ]
  },
  {
   "cell_type": "code",
   "execution_count": null,
   "metadata": {},
   "outputs": [],
   "source": [
    "# Visualisation\n",
    "world.head()"
   ]
  },
  {
   "cell_type": "code",
   "execution_count": null,
   "metadata": {},
   "outputs": [],
   "source": [
    "# Sélectionner certaines colonnes\n",
    "columns_to_keep = ['geometry', 'name','COUNTRY', 'continent']\n",
    "world = world[columns_to_keep]\n",
    "\n",
    "# Fusionner les deux DataFrames\n",
    "world_df = d.pd.merge(world, df, how='inner', on=['COUNTRY'])"
   ]
  },
  {
   "cell_type": "code",
   "execution_count": null,
   "metadata": {},
   "outputs": [],
   "source": [
    "# Visualisation\n",
    "world_df.head()"
   ]
  },
  {
   "cell_type": "markdown",
   "metadata": {},
   "source": [
    "## <span style=\"color:green; text-align:center;\">II- Visualisation des données </span>"
   ]
  },
  {
   "cell_type": "code",
   "execution_count": null,
   "metadata": {},
   "outputs": [],
   "source": [
    "# Plot\n",
    "world_df.plot(color='lightgrey')"
   ]
  },
  {
   "cell_type": "markdown",
   "metadata": {},
   "source": [
    "Deux applications seront créées pour la visualisation des données :\n",
    "<div style=\"margin-left: 20px;\">\n",
    "-La première sera instantannée et à l'échelle mondiale. <br>\n",
    "-La seconde c'est la représentation de la série temporelle par continent.\n",
    "    </div>"
   ]
  },
  {
   "cell_type": "markdown",
   "metadata": {},
   "source": [
    "## <span style=\"color:green; text-align:center;\">II-1. APPLICATION 1</span>"
   ]
  },
  {
   "cell_type": "code",
   "execution_count": null,
   "metadata": {},
   "outputs": [],
   "source": [
    "# Créer un Dash app\n",
    "app1 = d.dash.Dash(__name__)\n",
    "\n",
    "# Définir le layout \n",
    "app1.layout = d.html.Div([\n",
    "    # Sélecteur d'année\n",
    "    d.dcc.Dropdown(\n",
    "        id='year-dropdown',\n",
    "        options=[{'label': year, 'value': year} for year in sorted(world_df['YEAR'].unique())],\n",
    "        value=world_df['YEAR'].min(),  #valeur par defaut de l'année\n",
    "        multi=False,\n",
    "    ),\n",
    "    # Sélecteur de variables\n",
    "    d.dcc.Dropdown(\n",
    "        id='variable-dropdown',\n",
    "        options=[\n",
    "            {'label': 'Unemployment Rate', 'value': 'Unemployment_rate'},\n",
    "            {'label': 'GDP growth Rate', 'value': 'GDP_rate'},\n",
    "            {'label': 'Life expentancy', 'value': 'life_expentancy'},\n",
    "            {'label': 'Population growth rate', 'value': 'pop_growth_rate'}\n",
    "          \n",
    "        ],\n",
    "        value='Unemployment_rate',  # valeur par defaut de la variable representée\n",
    "        multi=False,\n",
    "    ),\n",
    "    d.dcc.Graph(id='choropleth-map'),\n",
    "])\n",
    "\n",
    "# Définir un callback  pour mettre à jour la carte sur l'année selectionnée \n",
    "@app1.callback(\n",
    "    d.Output('choropleth-map', 'figure'),\n",
    "    [d.Input('year-dropdown', 'value'),\n",
    "     d.Input('variable-dropdown', 'value')]\n",
    ")\n",
    "def update_map(selected_year, selected_variable):\n",
    "    subset_gdf = world_df[world_df['YEAR'] == selected_year]\n",
    "    subset_gdf.index = subset_gdf['name']\n",
    "    fig = d.px.choropleth(\n",
    "        subset_gdf,\n",
    "        geojson=subset_gdf.geometry,\n",
    "        locations=subset_gdf.index,\n",
    "        color=selected_variable,\n",
    "        projection=\"natural earth\",\n",
    "        title=f'{selected_variable} in {selected_year}',\n",
    "    )\n",
    "    fig.update_geos(fitbounds=\"locations\", visible=True)\n",
    "  \n",
    "    fig.update_layout ( margin = { \"r\" : 0 , \"t\" : 0 , \"l\" : 0 , \"b\" : 0 }) \n",
    "    # Afficher le graphique interactif\n",
    "    #fig.show()\n",
    "    return fig\n",
    "\n",
    "# Exécuter l'application\n",
    "if __name__ == '__main__':\n",
    "    app1.run_server(debug=True, port=8050)\n"
   ]
  },
  {
   "cell_type": "markdown",
   "metadata": {},
   "source": [
    "## <span style=\"color:green; text-align:center;\">II-2 APPLICATION 2 : Visualisation des séries temporelles par contient</span>"
   ]
  },
  {
   "cell_type": "code",
   "execution_count": null,
   "metadata": {},
   "outputs": [],
   "source": [
    "# Créer un Dash app\n",
    "app2 = d.dash.Dash(__name__)\n",
    "\n",
    "# Créer le graphique initial\n",
    "fig = d.px.line(world_df, x='YEAR', y=[\"Unemployment_rate\"], color='name')\n",
    "\n",
    "# Créer la mise en page de votre application Dash\n",
    "app2.layout = d.html.Div([\n",
    "    # Sélecteur de continents\n",
    "    d.dcc.Dropdown(\n",
    "        id='continent-selector',\n",
    "        options=[\n",
    "            {'label': continent, 'value': continent}\n",
    "            for continent in world_df['continent'].unique()\n",
    "        ],\n",
    "        multi=True,\n",
    "        value=world_df['continent'].unique()  # Sélectionner tous les continents par défaut\n",
    "    ),\n",
    "    # Sélecteur de variables\n",
    "    d.dcc.Dropdown(\n",
    "        id='variable-dropdown',\n",
    "        options=[\n",
    "            {'label': 'Unemployment Rate', 'value': 'Unemployment_rate'},\n",
    "            {'label': 'GDP growth Rate', 'value': 'GDP_rate'},\n",
    "            {'label': 'Life expentancy', 'value': 'life_expentancy'},\n",
    "            {'label': 'Population growth rate', 'value': 'pop_growth_rate'}\n",
    "          \n",
    "        ],\n",
    "        value='Unemployment_rate',  # Valeur par defaut de la variable representée\n",
    "        multi=False,\n",
    "    ),\n",
    "    \n",
    "    # Graphique\n",
    "    d.dcc.Graph(\n",
    "        id='line-chart',\n",
    "        figure=fig\n",
    "    )\n",
    "])\n",
    "\n",
    "# Définir la logique de la mise à jour du graphique en fonction de la sélection du sélecteur\n",
    "@app2.callback(\n",
    "    d.Output('line-chart', 'figure'),\n",
    "    [d.Input('variable-dropdown', 'value'),\n",
    "     d.Input('continent-selector', 'value')]\n",
    ")\n",
    "def update_graph2(selected_variable, selected_continents):\n",
    "    filtered_df = world_df[world_df['continent'].isin(selected_continents)]\n",
    "    fig = d.px.line(filtered_df, x='YEAR', y=[selected_variable], color='name',\n",
    "                   labels={'YEAR': 'Année', selected_variable : f\"{selected_variable}\"})\n",
    "    \n",
    "    \n",
    "    return fig\n",
    "\n",
    "\n",
    "# Exécuter l'application Dash\n",
    "if __name__ == '__main__':\n",
    "    app2.run_server(debug=True, port=8051)\n"
   ]
  },
  {
   "cell_type": "markdown",
   "metadata": {},
   "source": [
    "## <span style=\"color:green; text-align:center;\">II-3 APPLICATION 3 : Visualisation de la tendance moyenne </span>"
   ]
  },
  {
   "cell_type": "code",
   "execution_count": null,
   "metadata": {},
   "outputs": [],
   "source": [
    "# Sélectionner uniquement les 4 colonnes 'Unemployment_rate', 'GDP_rate', 'life_expentancy' et 'pop_growth_rate', puis faire la moyenne dans chaque groupe\n",
    "df_group = world_df.groupby('name')[\n",
    "    ['Unemployment_rate', 'GDP_rate', 'life_expentancy', 'pop_growth_rate']\n",
    "    ].mean().reset_index()"
   ]
  },
  {
   "cell_type": "code",
   "execution_count": null,
   "metadata": {},
   "outputs": [],
   "source": [
    "# Visualisation\n",
    "df_group.head()"
   ]
  },
  {
   "cell_type": "code",
   "execution_count": null,
   "metadata": {},
   "outputs": [],
   "source": [
    "# Créer un Dash app\n",
    "app3 = d.dash.Dash(__name__)\n",
    "\n",
    "# Créer votre graphique initial\n",
    "fig = d.px.bar(df_group, x='name', y='Unemployment_rate', color='name',\n",
    "             labels={'name': 'Pays', 'Unemployment_rate': 'Taux de chômage moyen'},\n",
    "             template='plotly_dark')\n",
    "\n",
    "# Créer la mise en page de votre application Dash\n",
    "app3.layout = d.html.Div([\n",
    "    \n",
    "    # Sélecteur de variables\n",
    "    d.dcc.Dropdown(\n",
    "        id='variable-dropdown',\n",
    "        options=[\n",
    "            {'label': 'Unemployment Rate', 'value': 'Unemployment_rate'},\n",
    "            {'label': 'GDP growth Rate', 'value': 'GDP_rate'},\n",
    "            {'label': 'Life expentancy', 'value': 'life_expentancy'},\n",
    "            {'label': 'Population growth rate', 'value': 'pop_growth_rate'}\n",
    "          \n",
    "        ],\n",
    "        value='Unemployment_rate',  # valeur par défaut de la variable representée\n",
    "        multi=False,\n",
    "    ),\n",
    "    \n",
    "    # Graphique\n",
    "    d.dcc.Graph(\n",
    "        id='bar',\n",
    "        figure=fig\n",
    "    )\n",
    "])\n",
    "\n",
    "# Définir la logique de la mise à jour du graphique en fonction de la sélection du sélecteur\n",
    "@app3.callback(\n",
    "    d.Output('bar', 'figure'),\n",
    "    [d.Input('variable-dropdown', 'value')]\n",
    ")\n",
    "def update_graph3(selected_variable):\n",
    "    #fig = px.line(filtered_df, x='YEAR', y=[\"Unemployment_rate\"], color='COUNTRY')\n",
    "    fig = d.px.bar(df_group, x='name', y=[selected_variable], color='name',\n",
    "                   labels={'name': 'Pays', selected_variable: selected_variable},\n",
    "                   template='plotly_dark')\n",
    "    # Afficher le graphique interactif\n",
    "    \n",
    "    return fig\n",
    "\n",
    "\n",
    "# Exécuter l'application Dash\n",
    "if __name__ == '__main__':\n",
    "    app3.run_server(debug=True, port=8052)\n"
   ]
  },
  {
   "cell_type": "markdown",
   "metadata": {},
   "source": [
    "# <span style=\"color:green; text-align:center;\">III- Analyse descriptive </span>"
   ]
  },
  {
   "cell_type": "code",
   "execution_count": null,
   "metadata": {},
   "outputs": [],
   "source": [
    "final_data= d.pd.read_csv('C:\\Projet-Python\\Projet-Python\\monmodule\\bases\\final_data.csv')"
   ]
  },
  {
   "cell_type": "code",
   "execution_count": null,
   "metadata": {},
   "outputs": [],
   "source": [
    "final_data.head()"
   ]
  },
  {
   "cell_type": "markdown",
   "metadata": {},
   "source": [
    "## <span style=\"color:green; text-align:center;\">III-1. Série temporelle : Taux de chômage </span>"
   ]
  },
  {
   "cell_type": "code",
   "execution_count": null,
   "metadata": {},
   "outputs": [],
   "source": [
    "# un exemple\n",
    "\n",
    "# Utilisation de la fonction avec le DataFrame 'final_data', le pays 'AUS', et la variable 'Unemployment_rate'\n",
    "analyse_serie_temporelle_pays(world_df,'GDP_rate', 'AUS')\n"
   ]
  },
  {
   "cell_type": "code",
   "execution_count": null,
   "metadata": {},
   "outputs": [],
   "source": [
    "# exemple 2\n",
    "analyse_serie_temporelle_pays(world_df,'Unemployment_rate', 'PHL')"
   ]
  },
  {
   "cell_type": "markdown",
   "metadata": {},
   "source": [
    "par suite , nous allons implementer la fonction 'analyse_serie_temporelle_pays' dans une application dash"
   ]
  },
  {
   "cell_type": "code",
   "execution_count": null,
   "metadata": {},
   "outputs": [],
   "source": [
    "import dash\n",
    "from dash import dcc, html\n",
    "from dash.dependencies import Input, Output\n",
    "import pandas as pd\n",
    "import plotly.express as px\n",
    "from statsmodels.tsa.seasonal import seasonal_decompose\n",
    "from statsmodels.tsa.stattools import adfuller\n",
    "\n",
    "df=world_df.copy()\n",
    "\n",
    "\n",
    "app = dash.Dash(__name__)\n",
    "\n",
    "\n",
    "\n",
    "# Liste des pays disponibles dans le dataframe\n",
    "pays_disponibles = df['name'].unique()\n",
    "\n",
    "app.layout = html.Div([\n",
    "    html.H1(\"Analyse de Série Temporelle\"),\n",
    "    \n",
    "    \n",
    "   # Sélecteur de variables\n",
    "    d.dcc.Dropdown(\n",
    "        id='variable-dropdown',\n",
    "        options=[\n",
    "            {'label': 'Unemployment Rate', 'value': 'Unemployment_rate'},\n",
    "            {'label': 'GDP growth Rate', 'value': 'GDP_rate'},\n",
    "            {'label': 'Life expentancy', 'value': 'life_expentancy'},\n",
    "            {'label': 'Population growth rate', 'value': 'pop_growth_rate'}\n",
    "          \n",
    "        ],\n",
    "        value='Unemployment_rate',  # valeur par defaut de la variable representée\n",
    "        multi=False,\n",
    "    ),\n",
    "    \n",
    "    \n",
    "    # Sélection du pays\n",
    "    html.Label(\"Choisissez le pays :\"),\n",
    "    dcc.Dropdown(\n",
    "        id='dropdown-pays',\n",
    "        options=[\n",
    "            {'label': pays, 'value': pays} for pays in pays_disponibles\n",
    "        ],\n",
    "        value=pays_disponibles[0]\n",
    "    ),\n",
    "    \n",
    "    # Graphiques\n",
    "    dcc.Graph(id='time-series-plot'),\n",
    "    dcc.Graph(id='decomposition-plot'),\n",
    "])\n",
    "\n",
    "@app.callback(\n",
    "    [Output('time-series-plot', 'figure'),\n",
    "     Output('decomposition-plot', 'figure')],\n",
    "    [Input('variable-dropdown', 'value'),\n",
    "     Input('dropdown-pays', 'value')]\n",
    ")\n",
    "def update_graph(indicateur, pays):\n",
    "    # Sélectionner la série temporelle du pays spécifique\n",
    "    serie_temporelle = df[indicateur].dropna()\n",
    "    \n",
    "    # Moyenne mobile d'ordre 4\n",
    "    rolling_mean = serie_temporelle.rolling(window=4).mean()\n",
    "\n",
    "    # Créer le premier graphique (série temporelle et moyenne mobile)\n",
    "    time_series_fig = px.line(x=serie_temporelle.index, y=[serie_temporelle, rolling_mean],\n",
    "                              labels={'variable': 'Type', 'value': 'Valeur'},\n",
    "                              title=f'Série Temporelle et Moyenne Mobile - {indicateur} en {pays}',\n",
    "                              color_discrete_map={'0': 'blue', '1': 'red'})\n",
    "    \n",
    "    # Décomposition saisonnière\n",
    "    decomposition = seasonal_decompose(serie_temporelle, model='multiplicative', period=4)\n",
    "\n",
    "    # Créer le deuxième graphique (décomposition)\n",
    "    decomposition_fig = px.line(x=serie_temporelle.index, y=[decomposition.trend, decomposition.seasonal, decomposition.resid],\n",
    "                                labels={'variable': 'Composant', 'value': 'Valeur'},\n",
    "                                title=f'Décomposition - {indicateur} en {pays}',\n",
    "                                color_discrete_map={'0': 'green', '1': 'orange', '2': 'gray'})\n",
    "\n",
    "    return time_series_fig, decomposition_fig\n",
    "\n",
    "if __name__ == '__main__':\n",
    "    app.run_server(debug=True)"
   ]
  }
 ],
 "metadata": {
  "kernelspec": {
   "display_name": "base",
   "language": "python",
   "name": "python3"
  },
  "language_info": {
   "codemirror_mode": {
    "name": "ipython",
    "version": 3
   },
   "file_extension": ".py",
   "mimetype": "text/x-python",
   "name": "python",
   "nbconvert_exporter": "python",
   "pygments_lexer": "ipython3",
   "version": "3.11.7"
  }
 },
 "nbformat": 4,
 "nbformat_minor": 2
}

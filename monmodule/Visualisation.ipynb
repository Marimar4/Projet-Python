{
 "cells": [
  {
   "cell_type": "markdown",
   "metadata": {},
   "source": [
    " <div style=\"text-align:center;\">\n",
    "  <span style=\"color:green; font-size:2em; font-weight:bold;\">Visualisation</span><br><br>"
   ]
  },
  {
   "cell_type": "markdown",
   "metadata": {},
   "source": [
    "Dans cette partie nous allons nous interesser à la visualisation de nos données. Pour les taux de chomage et de croissance, nous allons se concentrer uniquement sur les observations de la période s'etallant de **2019** à **2023**. Nous voulons à partir de cela visualiser les niveaux moyens de chomage et de croissance économique pour les cinq dernières années.\n",
    "L'objectif ici est de mettre en pratique les méthodes vues en cours."
   ]
  },
  {
   "cell_type": "markdown",
   "metadata": {},
   "source": [
    "# <span style=\"color:green\">I. Taux de chômage à travers le monde</span><br><br> "
   ]
  },
  {
   "cell_type": "code",
   "execution_count": null,
   "metadata": {},
   "outputs": [],
   "source": [
    "import declarations as d "
   ]
  },
  {
   "cell_type": "code",
   "execution_count": null,
   "metadata": {},
   "outputs": [],
   "source": [
    "# Importation de la DF construite initialement dans le fichier \"Préparation_données_copy.ipynb\"\n",
    "final_data= d.pd.read_csv('C:/Projet-Python/monmodule/bases/final_data.csv', index_col=0)"
   ]
  },
  {
   "cell_type": "code",
   "execution_count": null,
   "metadata": {},
   "outputs": [],
   "source": [
    "# Visualisation\n",
    "final_data.head()"
   ]
  },
  {
   "cell_type": "markdown",
   "metadata": {},
   "source": [
    "Nous allons à ce stade tronquer la Dataframe df_Unemployement, pour ne garder que les années à partir de 2019."
   ]
  },
  {
   "cell_type": "code",
   "execution_count": null,
   "metadata": {},
   "outputs": [],
   "source": [
    "# Tronquer la DataFrame pour garder uniquement les lignes à partir de 2019\n",
    "df_tronque = final_data.loc[final_data.index >= '2019']\n",
    "\n",
    "# Afficher la DataFrame tronquée\n",
    "df_tronque.head()"
   ]
  },
  {
   "cell_type": "markdown",
   "metadata": {},
   "source": [
    "Nous calculons la moyenne des taux de chômage sur la période considérée (2019-2023)"
   ]
  },
  {
   "cell_type": "code",
   "execution_count": null,
   "metadata": {},
   "outputs": [],
   "source": [
    "# Calculer la moyenne des taux de chomage sur la période considérée\n",
    "unemployment_mean =  df_tronque.groupby('COUNTRY')['Unemployment_rate'].mean().reset_index()"
   ]
  },
  {
   "cell_type": "code",
   "execution_count": null,
   "metadata": {},
   "outputs": [],
   "source": [
    "# Visualisation\n",
    "unemployment_mean.head(50)"
   ]
  },
  {
   "cell_type": "markdown",
   "metadata": {},
   "source": [
    "## <span style=\"color:green\">I.1. Carte statique </span><br><br> "
   ]
  },
  {
   "cell_type": "markdown",
   "metadata": {},
   "source": [
    "## <span style=\"color:green\">I.1. Carte interactive : cartes choroplèthes  </span><br><br>  "
   ]
  },
  {
   "cell_type": "markdown",
   "metadata": {},
   "source": [
    "Une carte choroplèthe est une carte composée de polygones colorés. Elle est utilisée pour représenter les variations spatiales d’une quantité.\n",
    "Précisemment, nous optons ici pour la carte choroplèthe **px.choropleth** de la bibliothèque **Plotly Express**, cette dernière étant plus adapté aux notebooks jupyter.\n",
    "\n",
    "Pour obtenir des données spatiale sur les pays de nos Dataframes, nous allons recourir au jeu de données **\"naturalearth_lowres\"** fourni par GeoPandas.\n",
    "\n",
    "Les méthodes utilisées ici sont essentiellement ceux des bibliothèques **geopandas** et **plotly**."
   ]
  },
  {
   "cell_type": "code",
   "execution_count": null,
   "metadata": {},
   "outputs": [],
   "source": [
    "# Import des packages \n",
    "import declarations as d"
   ]
  },
  {
   "cell_type": "code",
   "execution_count": null,
   "metadata": {},
   "outputs": [],
   "source": [
    "import plotly.express as px\n",
    "import geopandas as gpd\n",
    "# Recours au jeu de données \"naturalearth_lowres\"\n",
    "world = gpd.read_file(gpd.datasets.get_path('naturalearth_lowres'))"
   ]
  },
  {
   "cell_type": "code",
   "execution_count": null,
   "metadata": {},
   "outputs": [],
   "source": [
    "# Visualisation\n",
    "world.head(20)"
   ]
  },
  {
   "cell_type": "markdown",
   "metadata": {},
   "source": [
    "Nous nous intéressons essentiellement aux colonnes suivantes du jeu de données \"naturalearth_lowres\" (la Dataframe \"World\") : \n",
    "     <div style=\"margin-left: 20px;\">\n",
    "    -name : Nom des pays. <br>\n",
    "    -iso_a3 : Code ISO 3 des pays. <br>\n",
    "    -geometry : Colonne géométrique contenant les frontières des pays\n",
    "    </div>\n",
    "\n",
    "Ensuite nous procédons à une jointure entre la DF \"World\" et la DF \"unemployment_mean\". La jointure se fait sur la colonne \"iso_a3\" de la DF \"World\" et la colonne \"Country\" de la DF \"unemployment_mean\"."
   ]
  },
  {
   "cell_type": "code",
   "execution_count": null,
   "metadata": {},
   "outputs": [],
   "source": [
    "# Jointure\n",
    "merged = gpd.GeoDataFrame(d.pd.merge(world, unemployment_mean, left_on='iso_a3', right_on='COUNTRY', how='left'))"
   ]
  },
  {
   "cell_type": "code",
   "execution_count": null,
   "metadata": {},
   "outputs": [],
   "source": [
    "# Visualisation de la jointure\n",
    "merged.tail(100)"
   ]
  },
  {
   "cell_type": "code",
   "execution_count": null,
   "metadata": {},
   "outputs": [],
   "source": [
    "# Créer une carte centrée sur la position moyenne des pays\n",
    "map_center = [merged['geometry'].centroid.y.mean(), merged['geometry'].centroid.x.mean()]\n",
    "\n",
    "# Utiliser Plotly Express pour créer la carte choroplèthe\n",
    "fig = px.choropleth(\n",
    "    merged,\n",
    "    geojson=merged.geometry,\n",
    "    locations=merged.index,\n",
    "    color='Unemployment_rate',\n",
    "    color_continuous_scale=\"Viridis\",\n",
    "    range_color=(merged['Unemployment_rate'].min(), merged['Unemployment_rate'].max()),\n",
    "    labels={'Unemployment mean': 'Unemployment Rate (%)', 'name': 'Country'},\n",
    "    title='Unemployment Rate by Country',\n",
    "    hover_name='name'\n",
    ")\n",
    "\n",
    "# Ajouter une couche choroplèthe à la carte\n",
    "fig.update_geos(fitbounds=\"locations\", visible=True)\n",
    "\n",
    "fig.update_layout ( margin = { \"r\" : 0 , \"t\" : 0 , \"l\" : 0 , \"b\" : 0 }) \n",
    "\n",
    "# Afficher la carte interactive\n",
    "fig.show()"
   ]
  },
  {
   "cell_type": "markdown",
   "metadata": {},
   "source": [
    "## A VOIR "
   ]
  },
  {
   "cell_type": "code",
   "execution_count": null,
   "metadata": {},
   "outputs": [],
   "source": [
    "import folium\n",
    "\n",
    "# Créer une carte folium centrée sur la position moyenne des pays\n",
    "map_center = [merged['geometry'].centroid.y.mean(), merged['geometry'].centroid.x.mean()]\n",
    "mymap = folium.Map(location=map_center, zoom_start=2)\n",
    "\n",
    "# Ajouter une couche choroplèthe avec les taux de chômage\n",
    "folium.Choropleth(\n",
    "    geo_data=merged,\n",
    "    name='choropleth',\n",
    "    data=merged,\n",
    "    columns=[\"name\", 'Unemployment_rate'],\n",
    "    key_on='feature.properties.iso_a3',\n",
    "    fill_color=\"BuPu\",\n",
    "    fill_opacity=0.2,\n",
    "    line_opacity=0.2,\n",
    "    legend_name='Unemployment Rate (%)'\n",
    ").add_to(mymap)\n",
    "\n",
    "# Ajouter des popups pour afficher les taux de chômage\n",
    "for idx, row in merged.iterrows():\n",
    "    # Add Marker only if Unemployment rate is not NaN\n",
    "    if not d.pd.isna(row['Unemployment_rate']):\n",
    "        folium.Marker(\n",
    "            location=[row['geometry'].centroid.y, row['geometry'].centroid.x],\n",
    "            popup=f\"{row['name']}<br>Unemployment Rate: {row['Unemployment_rate']}\",\n",
    "            icon=folium.Icon(icon='star', color='green')\n",
    "        ).add_to(mymap)\n",
    "\n",
    "# Afficher la carte interactive\n",
    "mymap"
   ]
  },
  {
   "cell_type": "markdown",
   "metadata": {},
   "source": [
    "## <span style=\"color:green\">I.2. Séries temporelles  </span><br><br>"
   ]
  },
  {
   "cell_type": "code",
   "execution_count": null,
   "metadata": {},
   "outputs": [],
   "source": [
    "# Visualisation\n",
    "final_data.head(5)"
   ]
  },
  {
   "cell_type": "code",
   "execution_count": null,
   "metadata": {},
   "outputs": [],
   "source": [
    "import pandas as pd\n",
    "import plotly.express as px\n",
    "\n",
    "# S'assurer que l'index est de type date\n",
    "final_data.index = pd.to_datetime(final_data.index)\n",
    "\n",
    "# Créer un graphe interactif pour les séries temporelles avec Plotly Express\n",
    "fig = px.line(final_data.Unemployment_rate, x=final_data.index, y=final_data.Unemployment_rate, color=final_data.COUNTRY,\n",
    "              labels={'index': 'Date', 'Unemployment_rate': 'Unemployment Rate'},\n",
    "              title='Série temporelle du taux de chômage par pays',\n",
    "              template='plotly_dark')\n",
    "\n",
    "# Afficher le plot interactif\n",
    "fig.show()\n"
   ]
  },
  {
   "cell_type": "markdown",
   "metadata": {},
   "source": [
    "# <span style=\"color:green\">II. Croissance économique à travers le monde</span><br><br> "
   ]
  }
 ],
 "metadata": {
  "kernelspec": {
   "display_name": "Python 3",
   "language": "python",
   "name": "python3"
  },
  "language_info": {
   "codemirror_mode": {
    "name": "ipython",
    "version": 3
   },
   "file_extension": ".py",
   "mimetype": "text/x-python",
   "name": "python",
   "nbconvert_exporter": "python",
   "pygments_lexer": "ipython3",
   "version": "3.11.7"
  }
 },
 "nbformat": 4,
 "nbformat_minor": 2
}

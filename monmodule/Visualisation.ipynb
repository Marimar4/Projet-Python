{
 "cells": [
  {
   "cell_type": "markdown",
   "metadata": {},
   "source": [
    " <div style=\"text-align:center;\">\n",
    "  <span style=\"color:green; font-size:2em; font-weight:bold;\">Visualisation</span><br><br>"
   ]
  },
  {
   "cell_type": "markdown",
   "metadata": {},
   "source": [
    "Dans cette partie nous allons nous interesser à la visualisation de nos données. Pour les taux de chomage et de croissance, nous allons se concentrer uniquement sur les observations de la période s'etallant de **2019** à **2023**. Nous voulons à partir de cela visualiser les niveaux moyens de chomage et de croissance économique pour les cinq dernières années.\n",
    "L'objectif ici est de mettre en pratique les méthodes vues en cours."
   ]
  },
  {
   "cell_type": "markdown",
   "metadata": {},
   "source": [
    "# <span style=\"color:green\">I. Taux de chômage à travers le monde</span><br><br> "
   ]
  },
  {
   "cell_type": "code",
   "execution_count": null,
   "metadata": {},
   "outputs": [],
   "source": [
    "import declarations as d "
   ]
  },
  {
   "cell_type": "code",
   "execution_count": null,
   "metadata": {},
   "outputs": [],
   "source": [
    "# Importation de la DF construite initialement dans le fichier \"Préparation_données_copy.ipynb\"\n",
    "df_Unemployement= d.pd.read_csv('bases/Unemployment_rates.csv', index_col=0)"
   ]
  },
  {
   "cell_type": "code",
   "execution_count": null,
   "metadata": {},
   "outputs": [],
   "source": [
    "# Visualisation\n",
    "df_Unemployement.head()"
   ]
  },
  {
   "cell_type": "code",
   "execution_count": null,
   "metadata": {},
   "outputs": [],
   "source": [
    "# Informations sur la DF (nombre de valeurs non nulles, type de données de chaque colonne...)\n",
    "df_Unemployement.info()"
   ]
  },
  {
   "cell_type": "code",
   "execution_count": null,
   "metadata": {},
   "outputs": [],
   "source": [
    "# Convertir l'index en type date\n",
    "df_Unemployement.index = d.pd.to_datetime(df_Unemployement.index)"
   ]
  },
  {
   "cell_type": "code",
   "execution_count": null,
   "metadata": {},
   "outputs": [],
   "source": [
    "# Tronquer la DataFrame pour garder uniquement les lignes à partir de 2019\n",
    "df_tronque = df_Unemployement.loc[df_Unemployement.index >= '2019']\n",
    "\n",
    "# Afficher la DataFrame tronquée\n",
    "df_tronque.head()"
   ]
  },
  {
   "cell_type": "code",
   "execution_count": null,
   "metadata": {},
   "outputs": [],
   "source": [
    "# Calculer la moyenne des taux de chomage sur la période considérée\n",
    "unemployement_mean = df_tronque.mean()\n",
    "\n",
    "# Transformer en DF pandas\n",
    "unemployement_mean = d.pd.DataFrame(unemployement_mean)\n",
    "\n",
    "# Renommer la colonne 0\n",
    "unemployement_mean.rename(columns={0: 'Unemployment mean'}, inplace=True)\n",
    "\n",
    "# Renommer l'index\n",
    "unemployement_mean.index.name = 'Country'\n",
    "\n",
    "# Visualisation\n",
    "unemployement_mean.head()"
   ]
  },
  {
   "cell_type": "markdown",
   "metadata": {},
   "source": [
    "## <span style=\"color:green\">I.1. Carte statique </span><br><br> "
   ]
  },
  {
   "cell_type": "markdown",
   "metadata": {},
   "source": [
    "## <span style=\"color:green\">I.1. Carte interactive : cartes choroplèthes  </span><br><br>  "
   ]
  },
  {
   "cell_type": "markdown",
   "metadata": {},
   "source": [
    "Une carte choroplèthe est une carte composée de polygones colorés. Il est utilisé pour représenter les variations spatiales d’une quantité."
   ]
  },
  {
   "cell_type": "code",
   "execution_count": null,
   "metadata": {},
   "outputs": [],
   "source": [
    "import plotly.express as px\n",
    "\n",
    "# Créer une carte centrée sur la position moyenne des pays\n",
    "map_center = [merged['geometry'].centroid.y.mean(), merged['geometry'].centroid.x.mean()]\n",
    "\n",
    "# Utiliser Plotly Express pour créer la carte choroplèthe\n",
    "fig = px.choropleth(\n",
    "    merged,\n",
    "    geojson=merged.geometry,\n",
    "    locations=merged.index,\n",
    "    color='Unemployment mean',\n",
    "    color_continuous_scale=\"Viridis\",\n",
    "    range_color=(merged['Unemployment mean'].min(), merged['Unemployment mean'].max()),\n",
    "    labels={'Unemployment mean': 'Unemployment Rate (%)'},\n",
    "    title='Unemployment Rate by Country'\n",
    ")\n",
    "\n",
    "# Ajouter une couche choroplèthe à la carte\n",
    "fig.update_geos(fitbounds=\"locations\", visible=True)\n",
    "\n",
    "fig.update_layout ( margin = { \"r\" : 0 , \"t\" : 0 , \"l\" : 0 , \"b\" : 0 }) \n",
    "\n",
    "# Afficher la carte interactive\n",
    "fig.show()"
   ]
  },
  {
   "cell_type": "code",
   "execution_count": null,
   "metadata": {},
   "outputs": [],
   "source": [
    "world.head(20)\n",
    "merged.head(5)"
   ]
  },
  {
   "cell_type": "code",
   "execution_count": null,
   "metadata": {},
   "outputs": [],
   "source": [
    "#merged.set_index('iso_a3', inplace=True)\n",
    "merged.rename_axis('Pays', inplace=True)"
   ]
  },
  {
   "cell_type": "code",
   "execution_count": null,
   "metadata": {},
   "outputs": [],
   "source": [
    "merged.head(5)"
   ]
  },
  {
   "cell_type": "code",
   "execution_count": null,
   "metadata": {},
   "outputs": [],
   "source": [
    "import folium\n",
    "\n",
    "# Créer une carte folium centrée sur la position moyenne des pays\n",
    "map_center = [merged['geometry'].centroid.y.mean(), merged['geometry'].centroid.x.mean()]\n",
    "mymap = folium.Map(location=map_center, zoom_start=2)\n",
    "\n",
    "# Ajouter une couche choroplèthe avec les taux de chômage\n",
    "folium.Choropleth(\n",
    "    geo_data=merged,\n",
    "    name='choropleth',\n",
    "    data=merged,\n",
    "    columns=['iso_a3', 'Unemployment mean'],\n",
    "    key_on='feature.properties.iso_a3',\n",
    "    fill_color=\"BuPu\",\n",
    "    fill_opacity=0.7,\n",
    "    line_opacity=0.2,\n",
    "    legend_name='Unemployment Rate (%)'\n",
    ").add_to(mymap)\n",
    "\n",
    "# Ajouter des popups pour afficher les taux de chômage\n",
    "for idx, row in merged.iterrows():\n",
    "    folium.Marker(\n",
    "        location=[row['geometry'].centroid.y, row['geometry'].centroid.x],\n",
    "        popup=f\"{row['name']}<br>Unemployment Rate: {row['Unemployment mean']}\",\n",
    "        icon=folium.Icon(icon='star', color='green')\n",
    "    ).add_to(mymap)\n",
    "\n",
    "# Afficher la carte interactive\n",
    "mymap"
   ]
  },
  {
   "cell_type": "markdown",
   "metadata": {},
   "source": [
    "# <span style=\"color:green\">II. Croissance économique à travers le monde</span><br><br> "
   ]
  }
 ],
 "metadata": {
  "kernelspec": {
   "display_name": "Python 3",
   "language": "python",
   "name": "python3"
  },
  "language_info": {
   "codemirror_mode": {
    "name": "ipython",
    "version": 3
   },
   "file_extension": ".py",
   "mimetype": "text/x-python",
   "name": "python",
   "nbconvert_exporter": "python",
   "pygments_lexer": "ipython3",
   "version": "3.11.7"
  }
 },
 "nbformat": 4,
 "nbformat_minor": 2
}

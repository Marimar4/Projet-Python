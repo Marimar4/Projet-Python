{
 "cells": [
  {
   "cell_type": "markdown",
   "metadata": {},
   "source": [
    " <div style=\"text-align:center;\">\n",
    "  <span style=\"color:green; font-size:2em; font-weight:bold;\">Visualisation</span><br><br>"
   ]
  },
  {
   "cell_type": "markdown",
   "metadata": {},
   "source": [
    "Dans cette partie nous allons nous interesser à la visualisation de nos données. Pour les taux de chômage et de croissance, nous allons se concentrer uniquement sur les observations de la période s'étallant de **2019** à **2023**. Nous voulons à partir de cela visualiser les niveaux moyens de chomage et de croissance économique pour les cinq dernières années.\n",
    "L'objectif ici est de mettre en pratique les méthodes vues en cours.\n",
    "\n",
    "**Précision :**\n",
    "\n",
    "Pour la représentation graphique des séries temporelles, la période considérée est celle s'étallant de **1994** à **2023**."
   ]
  },
  {
   "cell_type": "markdown",
   "metadata": {},
   "source": [
    "# <span style=\"color:green\">I. Taux de chômage à travers le monde</span><br><br> "
   ]
  },
  {
   "cell_type": "code",
   "execution_count": null,
   "metadata": {},
   "outputs": [],
   "source": [
    "# Importation des packages nécessaires\n",
    "import declarations as d "
   ]
  },
  {
   "cell_type": "code",
   "execution_count": null,
   "metadata": {},
   "outputs": [],
   "source": [
    "# Importation de la DF construite initialement dans le fichier \"Préparation_données_copy.ipynb\"\n",
    "final_data= d.pd.read_csv('C:/Projet-Python/monmodule/bases/final_data.csv', index_col=0)"
   ]
  },
  {
   "cell_type": "code",
   "execution_count": null,
   "metadata": {},
   "outputs": [],
   "source": [
    "# Visualisation\n",
    "final_data.head()"
   ]
  },
  {
   "cell_type": "markdown",
   "metadata": {},
   "source": [
    "Nous allons à ce stade tronquer la Dataframe df_Unemployement, pour ne garder que les années à partir de 2019."
   ]
  },
  {
   "cell_type": "code",
   "execution_count": null,
   "metadata": {},
   "outputs": [],
   "source": [
    "# Tronquer la DataFrame pour garder uniquement les lignes à partir de 2019\n",
    "df_tronque = final_data.loc[final_data.index >= '2019']\n",
    "\n",
    "# Afficher la DataFrame tronquée\n",
    "df_tronque.head()"
   ]
  },
  {
   "cell_type": "markdown",
   "metadata": {},
   "source": [
    "Nous calculons la moyenne des taux de chômage sur la période considérée (2019-2023)"
   ]
  },
  {
   "cell_type": "code",
   "execution_count": null,
   "metadata": {},
   "outputs": [],
   "source": [
    "# Calculer la moyenne des taux de chomage sur la période considérée\n",
    "unemployment_mean =  df_tronque.groupby('COUNTRY')['Unemployment_rate'].mean().reset_index()"
   ]
  },
  {
   "cell_type": "code",
   "execution_count": null,
   "metadata": {},
   "outputs": [],
   "source": [
    "# Visualisation\n",
    "unemployment_mean.head(5)"
   ]
  },
  {
   "cell_type": "markdown",
   "metadata": {},
   "source": [
    "## <span style=\"color:green\">I.1. Diagramme à batons du taux de chomage moyen </span><br><br> "
   ]
  },
  {
   "cell_type": "code",
   "execution_count": null,
   "metadata": {},
   "outputs": [],
   "source": [
    "\n",
    "# Assurez-vous que votre colonne 'COUNTRY' est de type catégorie\n",
    "unemployment_mean['COUNTRY'] = unemployment_mean['COUNTRY'].astype('category')\n",
    "\n",
    "# Créez un graphique interactif avec Plotly Express\n",
    "fig = d.px.bar(unemployment_mean, x='COUNTRY', y='Unemployment_rate', color='COUNTRY',\n",
    "             labels={'COUNTRY': 'Pays', 'Unemployment_rate': 'Taux de chômage moyen'},\n",
    "             title='Taux de chômage moyen par pays sur la période 2019-2023',\n",
    "             template='plotly_dark')\n",
    "\n",
    "# Affichez le graphique interactif\n",
    "fig.show()"
   ]
  },
  {
   "cell_type": "markdown",
   "metadata": {},
   "source": [
    "## <span style=\"color:green\">I.2. Carte statique </span><br><br> "
   ]
  },
  {
   "cell_type": "code",
   "execution_count": null,
   "metadata": {},
   "outputs": [],
   "source": [
    "# Créer une carte centrée sur la position moyenne des pays\n",
    "bounds = merged.geometry.total_bounds\n",
    "map_center = [(bounds[1] + bounds[3]) / 2, (bounds[0] + bounds[2]) / 2]\n",
    "\n",
    "# Créer la figure et les axes\n",
    "fig, ax = plt.subplots(figsize=(15, 10))\n",
    "\n",
    "# Tracer les frontières des pays\n",
    "merged.boundary.plot(ax=ax, linewidth=1)\n",
    "\n",
    "# Tracer les polygones des pays avec des couleurs basées sur le taux de chômage\n",
    "merged.plot(column='Unemployment_rate', cmap='viridis', ax=ax, legend=True)\n",
    "\n",
    "# Ajouter un titre et une légende\n",
    "plt.title('Taux de chômage moyen par pays sur la période 2019-2023')\n",
    "plt.show()\n"
   ]
  },
  {
   "cell_type": "markdown",
   "metadata": {},
   "source": [
    "## <span style=\"color:green\">I.3. Carte interactive : cartes choroplèthes  </span><br><br>  "
   ]
  },
  {
   "cell_type": "markdown",
   "metadata": {},
   "source": [
    "Une carte choroplèthe est une carte composée de polygones colorés. Elle est utilisée pour représenter les variations spatiales d’une quantité.\n",
    "Précisemment, nous optons ici pour la carte choroplèthe **px.choropleth** de la bibliothèque **Plotly Express**, cette dernière étant plus adapté aux notebooks jupyter.\n",
    "\n",
    "Pour obtenir des données spatiale sur les pays de nos Dataframes, nous allons recourir au jeu de données **\"naturalearth_lowres\"** fourni par GeoPandas.\n",
    "\n",
    "Les méthodes utilisées ici sont essentiellement ceux des bibliothèques **geopandas** et **plotly**."
   ]
  },
  {
   "cell_type": "code",
   "execution_count": null,
   "metadata": {},
   "outputs": [],
   "source": [
    "# Import des packages \n",
    "import declarations as d\n",
    "import geopandas as gpd"
   ]
  },
  {
   "cell_type": "code",
   "execution_count": null,
   "metadata": {},
   "outputs": [],
   "source": [
    "# Recours au jeu de données \"naturalearth_lowres\"\n",
    "world = d.gpd.read_file(gpd.datasets.get_path('naturalearth_lowres'))"
   ]
  },
  {
   "cell_type": "code",
   "execution_count": null,
   "metadata": {},
   "outputs": [],
   "source": [
    "# Transformation\n",
    "world.to_crs('EPSG:4326') # Transformer les coordonnées géographiques en coordonnées projetées."
   ]
  },
  {
   "cell_type": "code",
   "execution_count": null,
   "metadata": {},
   "outputs": [],
   "source": [
    "# Visualisation\n",
    "world.head(20)"
   ]
  },
  {
   "cell_type": "markdown",
   "metadata": {},
   "source": [
    "Nous nous intéressons essentiellement aux colonnes suivantes du jeu de données \"naturalearth_lowres\" (la Dataframe \"World\") : \n",
    "     <div style=\"margin-left: 20px;\">\n",
    "    -name : Nom des pays. <br>\n",
    "    -iso_a3 : Code ISO 3 des pays. <br>\n",
    "    -geometry : Colonne géométrique contenant les frontières des pays\n",
    "    </div>\n",
    "\n",
    "Ensuite nous procédons à une jointure entre la DF \"World\" et la DF \"unemployment_mean\". La jointure se fait sur la colonne \"iso_a3\" de la DF \"World\" et la colonne \"Country\" de la DF \"unemployment_mean\"."
   ]
  },
  {
   "cell_type": "code",
   "execution_count": null,
   "metadata": {},
   "outputs": [],
   "source": [
    "# Jointure\n",
    "merged = gpd.GeoDataFrame(d.pd.merge(world, unemployment_mean, left_on='iso_a3', right_on='COUNTRY', how='left'))"
   ]
  },
  {
   "cell_type": "code",
   "execution_count": null,
   "metadata": {},
   "outputs": [],
   "source": [
    "# Visualisation de la jointure\n",
    "merged.tail(100)"
   ]
  },
  {
   "cell_type": "code",
   "execution_count": null,
   "metadata": {},
   "outputs": [],
   "source": [
    "# Créer une carte centrée sur la position moyenne des pays\n",
    "# Obtenez les limites totales des géométries reprojeter\n",
    "bounds = merged.geometry.total_bounds\n",
    "\n",
    "# Calculer le centre\n",
    "map_center = [(bounds[1] + bounds[3]) / 2, (bounds[0] + bounds[2]) / 2]\n",
    "\n",
    "# Utiliser Plotly Express pour créer la carte choroplèthe\n",
    "fig = d.px.choropleth(\n",
    "    merged,\n",
    "    geojson=merged.geometry,\n",
    "    locations=merged.index,\n",
    "    color='Unemployment_rate',\n",
    "    color_continuous_scale=\"Viridis\",\n",
    "    range_color=(merged['Unemployment_rate'].min(), merged['Unemployment_rate'].max()),\n",
    "    labels={'Unemployment mean': 'Unemployment Rate (%)', 'name': 'Country'},\n",
    "    title='Taux de chômage moyen par pays sur la période 2019-2023',\n",
    "    hover_name='name'\n",
    ")\n",
    "\n",
    "# Ajouter une couche choroplèthe à la carte\n",
    "fig.update_geos(fitbounds=\"locations\", visible=True)\n",
    "\n",
    "fig.update_layout ( margin = { \"r\" : 0 , \"t\" : 0 , \"l\" : 0 , \"b\" : 0 }) \n",
    "\n",
    "# Afficher la carte interactive\n",
    "fig.show()"
   ]
  },
  {
   "cell_type": "markdown",
   "metadata": {},
   "source": [
    "## A VOIR "
   ]
  },
  {
   "cell_type": "code",
   "execution_count": null,
   "metadata": {},
   "outputs": [],
   "source": [
    "import folium\n",
    "\n",
    "# Créer une carte folium centrée sur la position moyenne des pays\n",
    "bounds = merged.geometry.total_bounds\n",
    "\n",
    "# Calculer le centre\n",
    "map_center = [(bounds[1] + bounds[3]) / 2, (bounds[0] + bounds[2]) / 2]\n",
    "mymap = folium.Map(location=map_center, zoom_start=2)\n",
    "\n",
    "# Ajouter une couche choroplèthe avec les taux de chômage\n",
    "folium.Choropleth(\n",
    "    geo_data=merged,\n",
    "    name='choropleth',\n",
    "    data=merged,\n",
    "    columns=[\"name\", 'Unemployment_rate'],\n",
    "    key_on='feature.properties.iso_a3',\n",
    "    fill_color=\"BuPu\",\n",
    "    fill_opacity=0.2,\n",
    "    line_opacity=0.2,\n",
    "    legend_name='Unemployment Rate (%)'\n",
    ").add_to(mymap)\n",
    "\n",
    "# Ajouter des popups pour afficher les taux de chômage\n",
    "for idx, row in merged.iterrows():\n",
    "    # Add Marker only if Unemployment rate is not NaN\n",
    "    if not d.pd.isna(row['Unemployment_rate']):\n",
    "        folium.Marker(\n",
    "            location=[row['geometry'].centroid.y, row['geometry'].centroid.x],\n",
    "            popup=f\"{row['name']}<br>Unemployment Rate: {row['Unemployment_rate']}\",\n",
    "            icon=folium.Icon(icon='star', color='green')\n",
    "        ).add_to(mymap)\n",
    "\n",
    "# Afficher la carte interactive\n",
    "mymap"
   ]
  },
  {
   "cell_type": "markdown",
   "metadata": {},
   "source": [
    "## <span style=\"color:green\">I.4. Séries temporelles  </span><br><br>"
   ]
  },
  {
   "cell_type": "code",
   "execution_count": null,
   "metadata": {},
   "outputs": [],
   "source": [
    "# Visualisation\n",
    "final_data.head(5)"
   ]
  },
  {
   "cell_type": "code",
   "execution_count": null,
   "metadata": {},
   "outputs": [],
   "source": [
    "# S'assurer que l'index est de type date\n",
    "final_data.index = d.pd.to_datetime(final_data.index)\n",
    "\n",
    "# Créer un graphe interactif pour les séries temporelles avec Plotly Express\n",
    "fig = d.px.line(final_data.Unemployment_rate, x=final_data.index, y=final_data.Unemployment_rate, color=final_data.COUNTRY,\n",
    "              labels={'index': 'Date', 'Unemployment_rate': 'Unemployment Rate'},\n",
    "              title='Série temporelle du taux de chômage par pays',\n",
    "              template='plotly_dark')\n",
    "\n",
    "# Afficher le plot interactif\n",
    "fig.show()"
   ]
  },
  {
   "cell_type": "markdown",
   "metadata": {},
   "source": [
    "# <span style=\"color:green\">II. Croissance économique à travers le monde</span><br><br> "
   ]
  },
  {
   "cell_type": "code",
   "execution_count": null,
   "metadata": {},
   "outputs": [],
   "source": [
    "# Calculer la moyenne des taux de chomage sur la période considérée\n",
    "gdp_mean = df_tronque.groupby('COUNTRY')['GDP_rate'].mean().reset_index()"
   ]
  },
  {
   "cell_type": "code",
   "execution_count": null,
   "metadata": {},
   "outputs": [],
   "source": [
    "# Visualisation\n",
    "gdp_mean.head(5)"
   ]
  },
  {
   "cell_type": "markdown",
   "metadata": {},
   "source": [
    "## <span style=\"color:green\">II.1. Diagramme à batons du taux moyen de croissance du PIB</span><br><br> "
   ]
  },
  {
   "cell_type": "code",
   "execution_count": null,
   "metadata": {},
   "outputs": [],
   "source": [
    "# Assurez-vous que votre colonne 'COUNTRY' est de type catégorie\n",
    "gdp_mean['COUNTRY'] = gdp_mean['COUNTRY'].astype('category')\n",
    "\n",
    "# Créez un graphique interactif avec Plotly Express\n",
    "fig = d.px.bar(gdp_mean, x='COUNTRY', y='GDP_rate', color='COUNTRY',\n",
    "             labels={'COUNTRY': 'Pays', 'GDP_rate': 'Taux moyen de croissance du PIB'},\n",
    "             title='Taux moyen de croissance du PIB par pays sur la période 2019-2023',\n",
    "             template='plotly_dark')\n",
    "\n",
    "# Affichez le graphique interactif\n",
    "fig.show()"
   ]
  },
  {
   "cell_type": "markdown",
   "metadata": {},
   "source": [
    "## <span style=\"color:green\">II.2. Carte statique </span><br><br> "
   ]
  },
  {
   "cell_type": "markdown",
   "metadata": {},
   "source": [
    "## <span style=\"color:green\">II.3. Carte interactive : cartes choroplèthes </span><br><br> "
   ]
  },
  {
   "cell_type": "code",
   "execution_count": null,
   "metadata": {},
   "outputs": [],
   "source": [
    "# Jointure\n",
    "merged1 = gpd.GeoDataFrame(d.pd.merge(world, gdp_mean, left_on='iso_a3', right_on='COUNTRY', how='left'))"
   ]
  },
  {
   "cell_type": "code",
   "execution_count": null,
   "metadata": {},
   "outputs": [],
   "source": [
    "# Visualisation de la jointure\n",
    "merged1.head(5)"
   ]
  },
  {
   "cell_type": "code",
   "execution_count": null,
   "metadata": {},
   "outputs": [],
   "source": [
    "# Créer une carte centrée sur la position moyenne des pays\n",
    "bounds = merged1.geometry.total_bounds\n",
    "\n",
    "# Calculer le centre\n",
    "map_center = [(bounds[1] + bounds[3]) / 2, (bounds[0] + bounds[2]) / 2]\n",
    "\n",
    "# Utiliser Plotly Express pour créer la carte choroplèthe\n",
    "fig = d.px.choropleth(\n",
    "    merged1,\n",
    "    geojson=merged1.geometry,\n",
    "    locations=merged1.index,\n",
    "    color='GDP_rate',\n",
    "    color_continuous_scale=\"Viridis\",\n",
    "    range_color=(merged1['GDP_rate'].min(), merged1['GDP_rate'].max()),\n",
    "    labels={'GDP_rate': 'GDP Rate (%)', 'name': 'Country'},\n",
    "    title='Economic growth Rate by Country',\n",
    "    hover_name='name'\n",
    ")\n",
    "\n",
    "# Ajouter une couche choroplèthe à la carte\n",
    "fig.update_geos(fitbounds=\"locations\", visible=True)\n",
    "\n",
    "fig.update_layout ( margin = { \"r\" : 0 , \"t\" : 0 , \"l\" : 0 , \"b\" : 0 }) \n",
    "\n",
    "# Afficher la carte interactive\n",
    "fig.show()"
   ]
  },
  {
   "cell_type": "markdown",
   "metadata": {},
   "source": [
    "## <span style=\"color:green\">II.4. Séries temporelles </span><br><br> "
   ]
  },
  {
   "cell_type": "code",
   "execution_count": null,
   "metadata": {},
   "outputs": [],
   "source": [
    "# Visualisation\n",
    "final_data.head(5)"
   ]
  },
  {
   "cell_type": "code",
   "execution_count": null,
   "metadata": {},
   "outputs": [],
   "source": [
    "import pandas as pd\n",
    "import plotly.express as px\n",
    "\n",
    "# S'assurer que l'index est de type date\n",
    "final_data.index = pd.to_datetime(final_data.index)\n",
    "\n",
    "# Supprimer les valeurs manquantes et trier par index\n",
    "final_data_cleaned = final_data.dropna().sort_index()\n",
    "\n",
    "# Créer un graphe interactif pour les séries temporelles avec Plotly Express\n",
    "fig = px.line(final_data_cleaned, x=final_data_cleaned.index, y='GDP_rate', color='COUNTRY',\n",
    "              labels={'index': 'Date', 'GDP_rate': 'GDP Rate'},\n",
    "              title='Série temporelle du taux de croissance du PIB par pays',\n",
    "              template='plotly_dark')\n",
    "\n",
    "# Lier l'axe des y à l'axe des x pour éviter l'apparence discontinue\n",
    "fig.update_layout(yaxis=dict(scaleanchor='x'))\n",
    "\n",
    "# Afficher le plot interactif\n",
    "fig.show()\n"
   ]
  }
 ],
 "metadata": {
  "kernelspec": {
   "display_name": "Python 3",
   "language": "python",
   "name": "python3"
  },
  "language_info": {
   "codemirror_mode": {
    "name": "ipython",
    "version": 3
   },
   "file_extension": ".py",
   "mimetype": "text/x-python",
   "name": "python",
   "nbconvert_exporter": "python",
   "pygments_lexer": "ipython3",
   "version": "3.11.7"
  }
 },
 "nbformat": 4,
 "nbformat_minor": 2
}

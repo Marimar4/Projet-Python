{
 "cells": [
  {
   "cell_type": "markdown",
   "metadata": {},
   "source": [
    " <div style=\"text-align:center;\">\n",
    "  # <span style=\"color:green; font-size:larger; font-weight:bold;\">Vérification de la loi d'Okun dans plusieurs pays du monde</span><br><br>\n",
    "  <span style=\"font-weight:bold;\">Présenté par:</span><br>\n",
    "  <span>NOUBOUSSI GNINTEDEM LUCIE MARIMAR</span><br>\n",
    "  <span>YOUSRA JEDDOUB</span> <br>\n",
    "  <span>AMINA MANSEUR</span>\n",
    "</div>\n"
   ]
  },
  {
   "cell_type": "markdown",
   "metadata": {},
   "source": [
    "<span style=\"color:green; font-size:larger; font-weight:bold;\">INTRODUCTION</span>"
   ]
  },
  {
   "cell_type": "markdown",
   "metadata": {},
   "source": [
    "FAIRE UNE INTRODCUTION"
   ]
  },
  {
   "cell_type": "markdown",
   "metadata": {},
   "source": [
    "# <span style=\"color:green\">I- Importation et installation des packages</span>"
   ]
  },
  {
   "cell_type": "code",
   "execution_count": null,
   "metadata": {},
   "outputs": [],
   "source": [
    "from importlib import reload\n",
    "import monmodule.declarations as d\n",
    "reload(d)\n",
    "import io\n",
    "from io import BytesIO\n",
    "import pycodestyle as pep8\n",
    "import zipfile\n",
    "import requests\n",
    "import openpyxl as xl\n",
    "import numpy as np\n",
    "import pandas as pd\n",
    "import matplotlib.pyplot as plt\n",
    "import pycountry\n",
    "import seaborn as sns\n",
    "import missingno as msno\n",
    "from statistics import *"
   ]
  },
  {
   "cell_type": "markdown",
   "metadata": {},
   "source": [
    "# <span style=\"color:green; \">II- Construction de la base de données</span>"
   ]
  },
  {
   "cell_type": "markdown",
   "metadata": {},
   "source": [
    "Il faut faire une explication de toutes les étapes que nous allons faire pour constituer notre base "
   ]
  },
  {
   "cell_type": "markdown",
   "metadata": {},
   "source": [
    "## <span style=\"color:green; text-align:center;\">II-1 Importation de la base GemDataEXTR.Zip via son url de téléchargement</span>"
   ]
  },
  {
   "cell_type": "code",
   "execution_count": null,
   "metadata": {},
   "outputs": [],
   "source": [
    "url = \"https://datacatalogfiles.worldbank.org/ddh-published/0037798/DR0092042/GemDataEXTR.zip?\"\n",
    "d.load(url, \"GemDataEXTR.zip\")"
   ]
  },
  {
   "cell_type": "code",
   "execution_count": null,
   "metadata": {},
   "outputs": [],
   "source": [
    "# Choix des fichiers à extraire\n",
    "\n",
    "nom_fichiers = [('Unemployment Rate, seas. adj..xlsx', 'monthly'),\n",
    "              ('GDP Deflator at Market Prices, LCU.xlsx', 'quarterly')\n",
    "]\n",
    "\n",
    "# Extraction des bases dans la mémoire: chomage et PIB déflaté\n",
    "df_Unemployement, df_GDP = [d.extraire_fichier_zip('GemDataEXTR.zip', nom_fichier, nom_feuille)\n",
    "                           for nom_fichier, nom_feuille in nom_fichiers]"
   ]
  },
  {
   "cell_type": "markdown",
   "metadata": {},
   "source": [
    "L'extraction des données sur le taux de chômage et le PIB déflaté par pays est désormais complète. <br>\n",
    "Dans la prochaine étape, nous procéderons à une exploration rapide de ces données et les fusionnerons pour une analyse plus approfondie.\n"
   ]
  },
  {
   "cell_type": "markdown",
   "metadata": {},
   "source": [
    "### <span style=\"color:green; text-align:center;\">II-1-1 Préparation des bases avant fusion</span>"
   ]
  },
  {
   "cell_type": "markdown",
   "metadata": {},
   "source": [
    "#### <span style=\"color:green; text-align:center;\">II-1-1-1 Base taux de chômage</span>"
   ]
  },
  {
   "cell_type": "code",
   "execution_count": null,
   "metadata": {},
   "outputs": [],
   "source": [
    "# Visualisation\n",
    "df_Unemployement.head()"
   ]
  },
  {
   "cell_type": "code",
   "execution_count": null,
   "metadata": {},
   "outputs": [],
   "source": [
    "# Suppression des deux prmières lignes\n",
    "df_Unemployement = df_Unemployement.iloc[2:].copy()"
   ]
  },
  {
   "cell_type": "code",
   "execution_count": null,
   "metadata": {},
   "outputs": [],
   "source": [
    "# Type des données\n",
    "df_Unemployement.info()"
   ]
  },
  {
   "cell_type": "markdown",
   "metadata": {},
   "source": [
    "\n",
    "Le type de chaque variable est approprié et correspond aux types attendus."
   ]
  },
  {
   "cell_type": "markdown",
   "metadata": {},
   "source": [
    "##### Détection des doublons"
   ]
  },
  {
   "cell_type": "code",
   "execution_count": null,
   "metadata": {},
   "outputs": [],
   "source": [
    "# Vérification des doublons\n",
    "print(\"Nombre total de doublons dans df_Unemployement :\",\n",
    "      df_Unemployement[df_Unemployement.duplicated()].shape[0])"
   ]
  },
  {
   "cell_type": "markdown",
   "metadata": {},
   "source": [
    "##### Correction des noms des pays"
   ]
  },
  {
   "cell_type": "code",
   "execution_count": null,
   "metadata": {},
   "outputs": [],
   "source": [
    "# Appliquer la correction sur chaque colonne du DataFrame\n",
    "df_Unemployement.columns = d.correct_country_name(df_Unemployement.columns)\n",
    "\n",
    "# Listes des pays détecter\n",
    "pays = d.detect_country_name(df_Unemployement.columns)\n",
    "\n",
    "# Base avec colonnes corrigées\n",
    "df_Unemployement = df_Unemployement[pays]"
   ]
  },
  {
   "cell_type": "markdown",
   "metadata": {},
   "source": [
    "##### Détection des valeurs manquantes"
   ]
  },
  {
   "cell_type": "code",
   "execution_count": null,
   "metadata": {},
   "outputs": [],
   "source": [
    "# Plot des valeurs manquantes\n",
    "d.missing_plot(df_Unemployement)"
   ]
  },
  {
   "cell_type": "markdown",
   "metadata": {},
   "source": [
    "Les données sont des séries temporelles.<br>\n",
    "Grâce à la visualisation 2, on constate que pour la plupart des pays,<br>\n",
    "les valeurs manquantes sont en début de la période considérée.<br>\n",
    "Ainsi, nous allons garder les pays avec au moins 60% d'observations non manquantes."
   ]
  },
  {
   "cell_type": "code",
   "execution_count": null,
   "metadata": {},
   "outputs": [],
   "source": [
    "# Suppression des pays avec au moins 40% de valeurs manquantes sur la période\n",
    "df_Unemployement = d.missing(df_Unemployement)"
   ]
  },
  {
   "cell_type": "code",
   "execution_count": null,
   "metadata": {},
   "outputs": [],
   "source": [
    "# Plot des valeurs manquantes\n",
    "d.missing_plot(df_Unemployement)"
   ]
  },
  {
   "cell_type": "markdown",
   "metadata": {},
   "source": [
    "##### Imputation des valeurs manquantes"
   ]
  },
  {
   "cell_type": "code",
   "execution_count": null,
   "metadata": {},
   "outputs": [],
   "source": [
    "# Imputation des valeurs manquantes \n",
    "df_Unemployement = d.fill_missing_with_median(df_Unemployement)"
   ]
  },
  {
   "cell_type": "code",
   "execution_count": null,
   "metadata": {},
   "outputs": [],
   "source": [
    "# Plot des valeurs manquantes\n",
    "d.missing_plot(df_Unemployement)"
   ]
  },
  {
   "cell_type": "code",
   "execution_count": null,
   "metadata": {},
   "outputs": [],
   "source": [
    "# Colonnes présentes dans Uemploy\n",
    "pays = df_Unemployement.columns\n",
    "print(pays)"
   ]
  },
  {
   "cell_type": "code",
   "execution_count": null,
   "metadata": {},
   "outputs": [],
   "source": [
    "# L'index de la DF\n",
    "df_Unemployement.index"
   ]
  },
  {
   "cell_type": "markdown",
   "metadata": {},
   "source": [
    "##### Transformation des données mensuelles en données trimestrielles"
   ]
  },
  {
   "cell_type": "code",
   "execution_count": null,
   "metadata": {},
   "outputs": [],
   "source": [
    "# Grouper par année et de 12 mois chacun\n",
    "df_Unemployement = df_Unemployement\\\n",
    "    .groupby(df_Unemployement.index.year)\\\n",
    "        .filter(lambda x: len(x) == 12)\n",
    "df_Unemployement = d.pd.DataFrame(df_Unemployement)\n",
    "\n",
    "# Transformation\n",
    "df_Unemployement = df_Unemployement.resample('Q-JAN').mean()\n",
    "# Ignorer les jours dans l'index\n",
    "df_Unemployement.index = df_Unemployement.index.to_period('Q').strftime('%Y-Q%q')\n",
    "# Appliquer le format trimestre au index\n",
    "df_Unemployement.index = pd.to_datetime(df_Unemployement.index+ '-01', format='%Y-Q%m-%d')\n",
    "\n",
    "# Formater l'index pour obtenir '1994-01' au lieu de '1994-01-01'\n",
    "df_Unemployement.index = df_Unemployement.index.strftime('%Y-%m')\n"
   ]
  },
  {
   "cell_type": "markdown",
   "metadata": {},
   "source": [
    "#### <span style=\"color:green; text-align:center;\">II-1-1-2 Base taux de croissance du PIB</span>"
   ]
  },
  {
   "cell_type": "code",
   "execution_count": null,
   "metadata": {},
   "outputs": [],
   "source": [
    "# L'index de la DF\n",
    "df_GDP.index"
   ]
  },
  {
   "cell_type": "code",
   "execution_count": null,
   "metadata": {},
   "outputs": [],
   "source": [
    "# Formater l'index pour obtenir '1994-01' au lieu de '1994-01-01'\n",
    "df_GDP.index = df_GDP.index.strftime('%Y-%m')\n",
    "# Supprimez la ligne avec l'index NaN du DataFrame\n",
    "df_GDP = df_GDP.drop(df_GDP.index[0])"
   ]
  },
  {
   "cell_type": "code",
   "execution_count": null,
   "metadata": {},
   "outputs": [],
   "source": [
    "# Informations sur la DF (nombre de valeurs non nulles, type de données de chaque colonne...)\n",
    "df_GDP.info()"
   ]
  },
  {
   "cell_type": "markdown",
   "metadata": {},
   "source": [
    "##### Correction des noms des pays"
   ]
  },
  {
   "cell_type": "code",
   "execution_count": null,
   "metadata": {},
   "outputs": [],
   "source": [
    "# Appliquer la correction sur chaque colonne du DataFrame\n",
    "df_GDP.columns = d.correct_country_name(df_GDP.columns)\n",
    "\n",
    "# Base avec colonnes corrigées presente dans Unemploy\n",
    "df_GDP=df_GDP[pays]"
   ]
  },
  {
   "cell_type": "markdown",
   "metadata": {},
   "source": [
    "##### Détection des doublons"
   ]
  },
  {
   "cell_type": "code",
   "execution_count": null,
   "metadata": {},
   "outputs": [],
   "source": [
    "# Vérifier la présence de doublons\n",
    "print(\"Nombre total de doublons dans df_GDP :\", \n",
    "      df_GDP[df_GDP.duplicated()].shape[0])"
   ]
  },
  {
   "cell_type": "code",
   "execution_count": null,
   "metadata": {},
   "outputs": [],
   "source": [
    "# Supprimer les doublons\n",
    "df_GDP.drop_duplicates(inplace=True)\n",
    "\n",
    "print(\"Nombre total de doublons dans df_GDP :\", \n",
    "      df_GDP[df_GDP.duplicated()].shape[0])"
   ]
  },
  {
   "cell_type": "markdown",
   "metadata": {},
   "source": [
    "##### Détection des valeurs manquantes"
   ]
  },
  {
   "cell_type": "code",
   "execution_count": null,
   "metadata": {},
   "outputs": [],
   "source": [
    "# Plot des valeurs manquantes\n",
    "d.missing_plot(df_GDP)"
   ]
  },
  {
   "cell_type": "markdown",
   "metadata": {},
   "source": [
    "Les données sont des séries temporelles.<br>\n",
    "Grâce à la visualisation 2, on constate que pour la plupart des pays,<br>\n",
    "les valeurs manquantes sont en début de periode d'obervation d'observation.<br>\n",
    "Ainsi, nous allons garder les pays avec au moins 60% des observations non manquantes."
   ]
  },
  {
   "cell_type": "code",
   "execution_count": null,
   "metadata": {},
   "outputs": [],
   "source": [
    "# Suppression des pays avec au moins 90% des valeurs manquantes sur la période\n",
    "df_GDP = d.missing(df_GDP)"
   ]
  },
  {
   "cell_type": "code",
   "execution_count": null,
   "metadata": {},
   "outputs": [],
   "source": [
    "# Plot des valeurs manquantes\n",
    "d.missing_plot(df_GDP)"
   ]
  },
  {
   "cell_type": "markdown",
   "metadata": {},
   "source": [
    "##### Imputation des valeurs manquantes"
   ]
  },
  {
   "cell_type": "code",
   "execution_count": null,
   "metadata": {},
   "outputs": [],
   "source": [
    "# Correction des valeurs manquantes \n",
    "df_GDP = d.fill_missing_with_median(df_GDP)"
   ]
  },
  {
   "cell_type": "code",
   "execution_count": null,
   "metadata": {},
   "outputs": [],
   "source": [
    "# Plot des valeurs manquantes\n",
    "d.missing_plot(df_GDP)"
   ]
  },
  {
   "cell_type": "code",
   "execution_count": null,
   "metadata": {},
   "outputs": [],
   "source": [
    "# Colonnes présentes dans gdp\n",
    "pays1 = df_GDP.columns\n",
    "# Colonnes non présentes dans unemploy et GDP\n",
    "print(list(set(pays) - set(pays1))) "
   ]
  },
  {
   "cell_type": "markdown",
   "metadata": {},
   "source": [
    "### <span style=\"color:green; text-align:center;\">II-1-2 Fusion des deux bases</span>"
   ]
  },
  {
   "cell_type": "code",
   "execution_count": null,
   "metadata": {},
   "outputs": [],
   "source": [
    "reload(d)\n",
    "## tranformation des basesen format long \n",
    "dfs = d.transform(df_Unemployement, 'Unemployment_rate')\n",
    "dfs1 = d.transform(df_GDP, 'GDP_rate')\n",
    "dfs1.head()"
   ]
  },
  {
   "cell_type": "code",
   "execution_count": null,
   "metadata": {},
   "outputs": [],
   "source": [
    "# Fusion des bases\n",
    "\n",
    "df_merge1 = d.pd.merge(dfs, dfs1, on=['YEAR', 'COUNTRY'], how='left')\n",
    "df_merge1.head()"
   ]
  },
  {
   "cell_type": "markdown",
   "metadata": {},
   "source": [
    "## <span style=\"color:green; text-align:center;\">II-2 Importation de la base HNP_Stats_EXCEL.Zip via son url de téléchargement</span>"
   ]
  },
  {
   "cell_type": "code",
   "execution_count": null,
   "metadata": {},
   "outputs": [],
   "source": [
    "url = \"https://databank.worldbank.org/data/download/HNP_Stats_EXCEL.zip\"\n",
    "d.load(url,\"HNP_Stats_EXCEL.zip\")"
   ]
  },
  {
   "cell_type": "code",
   "execution_count": null,
   "metadata": {},
   "outputs": [],
   "source": [
    "# Choix des fichiers à extraire\n",
    "nom_fichiers = [('HNP_StatsEXCEL.xlsx', 'Data')]\n",
    "\n",
    "# Extraction des bases dans la mémoire: chomage et PIB déflaté\n",
    "Big_data = [d.extraire_fichier_zip('HNP_Stats_EXCEL.zip', nom_fichier, nom_feuille)\n",
    "                           for nom_fichier, nom_feuille in nom_fichiers]"
   ]
  },
  {
   "cell_type": "markdown",
   "metadata": {},
   "source": [
    "L'extraction des données sur le niveau d'éducation, l'espérance de vie, et le taux de croissance de la population. <br>\n",
    "Dans la prochaine étape, nous procéderons à une exploration rapide de ces données et les fusionnerons pour une analyse plus approfondie.\n"
   ]
  },
  {
   "cell_type": "markdown",
   "metadata": {},
   "source": [
    "### <span style=\"color:green; text-align:center;\">II-2-1 Préparation des bases avant fusion</span>"
   ]
  },
  {
   "cell_type": "code",
   "execution_count": null,
   "metadata": {},
   "outputs": [],
   "source": [
    "Big_data = Big_data[0]\n",
    "Big_data.head()"
   ]
  },
  {
   "cell_type": "markdown",
   "metadata": {},
   "source": [
    "\n",
    "Le type de chaque variable est approprié et correspond aux types attendus."
   ]
  },
  {
   "cell_type": "markdown",
   "metadata": {},
   "source": [
    "#### <span style=\"color:green; text-align:center;\">II-2-1-1 Base espérance de vie</span>"
   ]
  },
  {
   "cell_type": "code",
   "execution_count": null,
   "metadata": {},
   "outputs": [],
   "source": [
    "# Extraction des données sur l'espérance de vie \n",
    "df_LE = d.extract2(Big_data, 'expectancy','total')\n",
    "df_LE.head(2)"
   ]
  },
  {
   "cell_type": "code",
   "execution_count": null,
   "metadata": {},
   "outputs": [],
   "source": [
    "# Construction de la base life expentancy\n",
    "reload(d)\n",
    "df_LE = d.treat_info(df_LE, pays1)\n",
    "df_LE.head(2)"
   ]
  },
  {
   "cell_type": "markdown",
   "metadata": {},
   "source": [
    "##### Detections des valeurs manquantes"
   ]
  },
  {
   "cell_type": "code",
   "execution_count": null,
   "metadata": {},
   "outputs": [],
   "source": [
    "# Plot des valeurs manquantes\n",
    "d.missing_plot(df_LE)\n",
    "\n",
    "print(\"Nombre total de valeurs manquantes est de \", \n",
    "      d.missing_plot(df_LE))"
   ]
  },
  {
   "cell_type": "markdown",
   "metadata": {},
   "source": [
    "On n'observe aucune valeur manquante dans la base"
   ]
  },
  {
   "cell_type": "markdown",
   "metadata": {},
   "source": [
    "#### <span style=\"color:green; text-align:center;\">II-2-1-2 Base taux de croissance démographique</span>"
   ]
  },
  {
   "cell_type": "code",
   "execution_count": null,
   "metadata": {},
   "outputs": [],
   "source": [
    "# Extraction des donnés sur la croissance démographique \n",
    "reload(d)\n",
    "df_pop = d.extract2(Big_data, '^Population growth \\(annual %\\)$','')\n",
    "df_pop.head(2)"
   ]
  },
  {
   "cell_type": "code",
   "execution_count": null,
   "metadata": {},
   "outputs": [],
   "source": [
    "# Informations sur la DF (nombre de valeurs non nulles, type de données de chaque colonne...)\n",
    "df_pop.info()"
   ]
  },
  {
   "cell_type": "code",
   "execution_count": null,
   "metadata": {},
   "outputs": [],
   "source": [
    "# Construction de la base life expentancy\n",
    "reload(d)\n",
    "df_pop = d.treat_info(df_pop, country_codes)\n",
    "df_pop.tail()"
   ]
  },
  {
   "cell_type": "markdown",
   "metadata": {},
   "source": [
    "##### Détection des valeurs manquantes"
   ]
  },
  {
   "cell_type": "code",
   "execution_count": null,
   "metadata": {},
   "outputs": [],
   "source": [
    "# Plot des valeurs manquantes\n",
    "d.missing_plot(df_pop)"
   ]
  },
  {
   "cell_type": "markdown",
   "metadata": {},
   "source": [
    "on observe aucune valeur manquantes dans la base"
   ]
  },
  {
   "cell_type": "markdown",
   "metadata": {},
   "source": [
    "### <span style=\"color:green; text-align:center;\">II-2-2 Fusion des deux bases</span>"
   ]
  },
  {
   "cell_type": "code",
   "execution_count": null,
   "metadata": {},
   "outputs": [],
   "source": [
    "reload(d)\n",
    "## Tranformation des bases en format long \n",
    "dfs = d.transform(df_LE, 'life_expentancy')\n",
    "dfs1 = d.transform(df_pop, 'pop_growth_rate')\n",
    "dfs.head()"
   ]
  },
  {
   "cell_type": "code",
   "execution_count": null,
   "metadata": {},
   "outputs": [],
   "source": [
    "# Fusion des bases\n",
    "\n",
    "df_merge2 = d.pd.merge(dfs, dfs1, on=['YEAR', 'COUNTRY'], how='left')\n",
    "df_merge2.head()"
   ]
  },
  {
   "cell_type": "code",
   "execution_count": null,
   "metadata": {},
   "outputs": [],
   "source": [
    "# Fusion merge1 et merge2.\n",
    "\n",
    "df_merge3 = d.pd.merge(df_merge1, df_merge2, on=['YEAR', 'COUNTRY'], how='left')\n",
    "df_merge3.head()"
   ]
  },
  {
   "cell_type": "code",
   "execution_count": null,
   "metadata": {},
   "outputs": [],
   "source": [
    "# Enregistrez le DataFrame au format CSV\n",
    "df_merge3.to_csv('final_data.csv', index=False)"
   ]
  },
  {
   "cell_type": "markdown",
   "metadata": {},
   "source": [
    "## <span style=\"color:green; text-align:center;\">II-3 Importation de la base Spatial Inequality Database via son url de téléchargement</span>"
   ]
  },
  {
   "cell_type": "code",
   "execution_count": null,
   "metadata": {},
   "outputs": [],
   "source": [
    "url = \"https://datacatalogfiles.worldbank.org/ddh-published/0064524/DR0091539/inequality%20GMD%20World%20Bank.xlsx?versionId=2023-05-22T17:13:22.2930786Z\"\n",
    "d.load(url,\"inequality GMD World Bank.xlsx\")"
   ]
  },
  {
   "cell_type": "code",
   "execution_count": null,
   "metadata": {},
   "outputs": [],
   "source": [
    "df_SID = d.pd.read_excel(\"inequality GMD World Bank.xlsx\",  sheet_name='data', index_col=0)\n",
    "df_SID.head()"
   ]
  },
  {
   "cell_type": "markdown",
   "metadata": {},
   "source": [
    "### <span style=\"color:green; text-align:center;\">II-3-1 Préparation des bases avant fusion</span>"
   ]
  },
  {
   "cell_type": "markdown",
   "metadata": {},
   "source": [
    "#### <span style=\"color:green; text-align:center;\">II-3-1-1 base indice Theil</span>"
   ]
  },
  {
   "cell_type": "code",
   "execution_count": null,
   "metadata": {},
   "outputs": [],
   "source": [
    "# Base de données de l'indice Theil\n",
    "df_theil = df_SID.pivot(index='year', columns='countryname', values='index')\n",
    "df_theil.head(5)"
   ]
  },
  {
   "cell_type": "code",
   "execution_count": null,
   "metadata": {},
   "outputs": [],
   "source": [
    "df_theil = df_theil.drop(columns=df_theil.columns[0])\n",
    "df_theil.info()"
   ]
  },
  {
   "cell_type": "code",
   "execution_count": null,
   "metadata": {},
   "outputs": [],
   "source": [
    "#df_theil.columns"
   ]
  },
  {
   "cell_type": "markdown",
   "metadata": {},
   "source": [
    "##### Corrections des noms des pays"
   ]
  },
  {
   "cell_type": "code",
   "execution_count": null,
   "metadata": {},
   "outputs": [],
   "source": [
    "# Appliquer la correction sur chaque colonne du DataFrame\n",
    "df_theil.columns = d.correct_country_name(df_theil.columns)\n",
    "\n",
    "# base avec colonnes corrigées contenues dans les autres bases\n",
    "#df_theil=df_theil[pays1]\n",
    "#on a que 19 pays"
   ]
  },
  {
   "cell_type": "code",
   "execution_count": null,
   "metadata": {},
   "outputs": [],
   "source": [
    "# Toutes les quatres bases à extraire ici\n",
    "# La moyenne de l'indice de theil sur toutes les périodes\n",
    "mean_theil = theil.mean(axis=0) \n",
    "# Base de données du taux d'urbanisation\n",
    "urban = gmd.pivot(index='year', columns='countryname', values='sp_urb_totl_in_zs')\n",
    "urban.head(5)\n",
    "# La moyenne du taux d'urbanisation sur toutes les périodes\n",
    "mean_urban = urban.mean(axis=0)\n",
    "# Base de données du ratio de pauvreté\n",
    "poverty = gmd.pivot(index='year', columns='countryname', values='si_pov_lmic')\n",
    "poverty.head(5)\n",
    "# La moyenne du ratio de pauvreté sur toutes les périodes\n",
    "mean_poverty = poverty.mean(axis=0)"
   ]
  },
  {
   "cell_type": "markdown",
   "metadata": {},
   "source": [
    "# IV- GMD  ici on a pas les meme années que faire ??"
   ]
  },
  {
   "cell_type": "markdown",
   "metadata": {},
   "source": [
    "## 1.  Importation"
   ]
  },
  {
   "cell_type": "code",
   "execution_count": null,
   "metadata": {},
   "outputs": [],
   "source": [
    "# Gini Mean Difference\n",
    "gmd = pd.read_excel(\"C:/Users/yousr/Downloads/Projet_py/inequality GMD World Bank.xlsx\",  sheet_name='data', index_col=0)\n",
    "gmd.head(5)\n",
    "col_names = gmd.columns\n",
    "print(col_names)"
   ]
  },
  {
   "cell_type": "markdown",
   "metadata": {},
   "source": [
    "## 2. Construction de la DF"
   ]
  },
  {
   "cell_type": "markdown",
   "metadata": {},
   "source": [
    "### 2.1. Extraction des colonnes nécessaires"
   ]
  },
  {
   "cell_type": "code",
   "execution_count": null,
   "metadata": {},
   "outputs": [],
   "source": [
    "# Base de données de l'indice Theil\n",
    "theil = gmd.pivot(index='year', columns='countryname', values='index')\n",
    "theil.head(5)"
   ]
  },
  {
   "cell_type": "code",
   "execution_count": null,
   "metadata": {},
   "outputs": [],
   "source": [
    "# La moyenne de l'indice de theil sur toutes les périodes\n",
    "mean_theil = theil.mean(axis=0) "
   ]
  },
  {
   "cell_type": "code",
   "execution_count": null,
   "metadata": {},
   "outputs": [],
   "source": [
    "# Base de données du taux d'urbanisation\n",
    "urban = gmd.pivot(index='year', columns='countryname', values='sp_urb_totl_in_zs')\n",
    "urban.head(5)"
   ]
  },
  {
   "cell_type": "code",
   "execution_count": null,
   "metadata": {},
   "outputs": [],
   "source": [
    "# La moyenne du taux d'urbanisation sur toutes les périodes\n",
    "mean_urban = urban.mean(axis=0)"
   ]
  },
  {
   "cell_type": "code",
   "execution_count": null,
   "metadata": {},
   "outputs": [],
   "source": [
    "# Base de données du ratio de pauvreté\n",
    "poverty = gmd.pivot(index='year', columns='countryname', values='si_pov_lmic')\n",
    "poverty.head(5)"
   ]
  },
  {
   "cell_type": "code",
   "execution_count": null,
   "metadata": {},
   "outputs": [],
   "source": [
    "# La moyenne du ratio de pauvreté sur toutes les périodes\n",
    "mean_poverty = poverty.mean(axis=0)"
   ]
  },
  {
   "cell_type": "code",
   "execution_count": null,
   "metadata": {},
   "outputs": [],
   "source": [
    "# Dans pandas, une Df à une colonne correspond à une série. On donne un nom à chaque série pour une éventuelle jointure\n",
    "mean_poverty.name = 'Ratio de pauvreté'\n",
    "mean_urban.name = \"Taux urbanisation\"\n",
    "mean_theil.name = 'Theil'"
   ]
  },
  {
   "cell_type": "markdown",
   "metadata": {},
   "source": [
    "## 2.2. Jointure "
   ]
  },
  {
   "cell_type": "code",
   "execution_count": null,
   "metadata": {},
   "outputs": [],
   "source": [
    "# Jointure entre df1 et df2 sur la colonne \"countryname\"\n",
    "merged1 = pd.merge(mean_poverty, mean_urban, on='countryname', how='inner')\n",
    "# Jointure entre le résultat précédent (merged_df) et df3 sur la colonne \"countryname\"\n",
    "final_merged1 = pd.merge(merged1, mean_theil, on='countryname', how='inner')"
   ]
  },
  {
   "cell_type": "code",
   "execution_count": null,
   "metadata": {},
   "outputs": [],
   "source": [
    "# Dans pandas, une Df à une colonne correspond à une série. On donne un nom à chaque série pour une éventuelle jointure\n",
    "mean_LE.name = 'Espérance de vie'\n",
    "mean_PGR.name = \"Croissance démo\""
   ]
  },
  {
   "cell_type": "code",
   "execution_count": null,
   "metadata": {},
   "outputs": [],
   "source": [
    "final_merged1.index.name = 'Country Name'  ####################################################################################\n",
    "mean_LE.index.name = 'Country Name'\n",
    "mean_PGR.index.name = 'Country Name'\n",
    "merged_mean.index.name = 'Country Name'"
   ]
  },
  {
   "cell_type": "code",
   "execution_count": null,
   "metadata": {},
   "outputs": [],
   "source": [
    "# Jointure entre df1 et df2 sur la colonne \"countryname\"\n",
    "merged2 = pd.merge(final_merged1, mean_PGR, on='Country Name', how='inner')\n",
    "# Jointure entre le résultat précédent (merged_df) et df3 sur la colonne \"countryname\"\n",
    "merged3 = pd.merge(merged2, mean_LE, on='Country Name', how='inner')"
   ]
  },
  {
   "cell_type": "markdown",
   "metadata": {},
   "source": [
    "# Transposé de merged3"
   ]
  },
  {
   "cell_type": "code",
   "execution_count": null,
   "metadata": {},
   "outputs": [],
   "source": [
    "merged3_transpose = merged3.transpose()\n",
    "col_names = merged3_transpose.columns\n",
    "merged3_transpose.head(5)"
   ]
  },
  {
   "cell_type": "markdown",
   "metadata": {},
   "source": [
    "# Code ISO des pays"
   ]
  },
  {
   "cell_type": "code",
   "execution_count": null,
   "metadata": {},
   "outputs": [],
   "source": [
    "# Pour faciliter la lecture de la DF, on remplace les noms des pays par leurs codes ISO  correspondant\n",
    "\n",
    "# Dictionnaire de correspondance entre noms complets des pays et leurs codes\n",
    "corresp = {country.name: country.alpha_3 for country in pycountry.countries}\n",
    "\n",
    "# Liste initiale des noms complets des colonnes\n",
    "country = col_names\n",
    "# Transformation des noms complets des colonnes en abréviations\n",
    "country_codes = [corresp.get(pays, pays) for pays in country]\n",
    "\n",
    "# Remplacement des noms des pays par leurs codes dans la merged\n",
    "merged3_transpose.columns = country_codes\n",
    "merged3_transpose.columns\n",
    "merged3_transpose.head(5)\n",
    "\n",
    "#Ordre alphabétique des colonnes \n",
    "merged3_transpose_sort = merged3_transpose.sort_index(axis=1)\n",
    "merged3_transpose_sort.head(5)"
   ]
  },
  {
   "cell_type": "code",
   "execution_count": null,
   "metadata": {},
   "outputs": [],
   "source": [
    "merged4 = merged3_transpose.transpose()\n",
    "merged4.index.name = 'Country Name'\n",
    "merged4.head(5)"
   ]
  },
  {
   "cell_type": "code",
   "execution_count": null,
   "metadata": {},
   "outputs": [],
   "source": [
    "final_merged = pd.merge(merged4, merged_mean, on='Country Name', how='inner')"
   ]
  }
 ],
 "metadata": {
  "kernelspec": {
   "display_name": "Python 3",
   "language": "python",
   "name": "python3"
  },
  "language_info": {
   "codemirror_mode": {
    "name": "ipython",
    "version": 3
   },
   "file_extension": ".py",
   "mimetype": "text/x-python",
   "name": "python",
   "nbconvert_exporter": "python",
   "pygments_lexer": "ipython3",
   "version": "3.11.7"
  }
 },
 "nbformat": 4,
 "nbformat_minor": 2
}

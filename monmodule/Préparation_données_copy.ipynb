{
 "cells": [
  {
   "cell_type": "markdown",
   "metadata": {},
   "source": [
    " <div style=\"text-align:center;\">\n",
    "  # <span style=\"color:green; font-size:larger; font-weight:bold;\">Vérification de la loi d'Okun dans plusieurs pays du monde</span><br><br>\n",
    "  <span style=\"font-weight:bold;\">Présenté par:</span><br>\n",
    "  <span>NOUBOUSSI GNINTEDEM LUCIE MARIMAR</span><br>\n",
    "  <span>YOUSRA JEDDOUB</span> <br>\n",
    "  <span>AMINA MANSEUR</span>\n",
    "</div>\n"
   ]
  },
  {
   "cell_type": "markdown",
   "metadata": {},
   "source": [
    "<span style=\"color:green; font-size:larger; font-weight:bold;\">INTRODUCTION</span>"
   ]
  },
  {
   "cell_type": "markdown",
   "metadata": {},
   "source": [
    "FAIRE UNE INTRODCUTION"
   ]
  },
  {
   "cell_type": "markdown",
   "metadata": {},
   "source": [
    "# <span style=\"color:green\">I- Importation et installation des packages</span>"
   ]
  },
  {
   "cell_type": "code",
   "execution_count": null,
   "metadata": {},
   "outputs": [],
   "source": [
    "from importlib import reload\n",
    "import declarations as d\n",
    "reload(d)\n",
    "\n",
    "import zipfile\n",
    "import requests\n",
    "import numpy as np\n",
    "import pandas as pd\n",
    "import matplotlib.pyplot as plt\n",
    "import pycountry\n",
    "import io\n",
    "from io import BytesIO\n",
    "import seaborn as sns\n",
    "import missingno as msno\n",
    "import statistics "
   ]
  },
  {
   "cell_type": "markdown",
   "metadata": {},
   "source": [
    "# <span style=\"color:green; \">II- Construction de la base de données</span>"
   ]
  },
  {
   "cell_type": "markdown",
   "metadata": {},
   "source": [
    "Il faut faire une explication de toutes les étapes que nous allons faire pour constituer notre base "
   ]
  },
  {
   "cell_type": "markdown",
   "metadata": {},
   "source": [
    "## <span style=\"color:green; text-align:center;\">II-1 Importation de la base GemDataEXTR.Zip via son url de téléchargement</span>"
   ]
  },
  {
   "cell_type": "code",
   "execution_count": null,
   "metadata": {},
   "outputs": [],
   "source": [
    "url = \"https://datacatalogfiles.worldbank.org/ddh-published/0037798/DR0092042/GemDataEXTR.zip?\"\n",
    "d.load(url, \"GemDataEXTR.zip\")"
   ]
  },
  {
   "cell_type": "code",
   "execution_count": null,
   "metadata": {},
   "outputs": [],
   "source": [
    "# Choix des fichiers à extraire\n",
    "\n",
    "nom_fichiers = [('Unemployment Rate, seas. adj..xlsx', 'monthly'),\n",
    "              ('GDP Deflator at Market Prices, LCU.xlsx', 'quarterly')\n",
    "]\n",
    "\n",
    "# Extraction des bases dans la mémoire: chomage et PIB déflaté\n",
    "df_Unemployement, df_GDP = [d.extraire_fichier_zip('GemDataEXTR.zip', nom_fichier, nom_feuille)\n",
    "                           for nom_fichier, nom_feuille in nom_fichiers]"
   ]
  },
  {
   "cell_type": "markdown",
   "metadata": {},
   "source": [
    "L'extraction des données sur le taux de chômage et le PIB déflaté par pays est désormais complète. <br>\n",
    "Dans la prochaine étape, nous procéderons à une exploration rapide de ces données et les fusionnerons pour une analyse plus approfondie.\n"
   ]
  },
  {
   "cell_type": "markdown",
   "metadata": {},
   "source": [
    "### <span style=\"color:green; text-align:center;\">II-1-1 Préparation des bases avant fusion</span>"
   ]
  },
  {
   "cell_type": "markdown",
   "metadata": {},
   "source": [
    "#### <span style=\"color:green; text-align:center;\">II-1-1-1 Base taux de chômage</span>"
   ]
  },
  {
   "cell_type": "code",
   "execution_count": null,
   "metadata": {},
   "outputs": [],
   "source": [
    "# Visualisation\n",
    "df_Unemployement.head()"
   ]
  },
  {
   "cell_type": "code",
   "execution_count": null,
   "metadata": {},
   "outputs": [],
   "source": [
    "# Suppression des deux prmières lignes\n",
    "df_Unemployement = df_Unemployement.iloc[2:].copy()"
   ]
  },
  {
   "cell_type": "code",
   "execution_count": null,
   "metadata": {},
   "outputs": [],
   "source": [
    "# Type des données\n",
    "df_Unemployement.info()"
   ]
  },
  {
   "cell_type": "markdown",
   "metadata": {},
   "source": [
    "\n",
    "Le type de chaque variable est approprié et correspond aux types attendus."
   ]
  },
  {
   "cell_type": "markdown",
   "metadata": {},
   "source": [
    "##### Détection des doublons"
   ]
  },
  {
   "cell_type": "code",
   "execution_count": null,
   "metadata": {},
   "outputs": [],
   "source": [
    "# Vérification des doublons\n",
    "print(\"Nombre total de doublons dans df_Unemployement :\",\n",
    "      df_Unemployement[df_Unemployement.duplicated()].shape[0])"
   ]
  },
  {
   "cell_type": "markdown",
   "metadata": {},
   "source": [
    "##### Correction des noms des pays"
   ]
  },
  {
   "cell_type": "code",
   "execution_count": null,
   "metadata": {},
   "outputs": [],
   "source": [
    "# Appliquer la correction sur chaque colonne du DataFrame\n",
    "df_Unemployement.columns = d.correct_country_name(df_Unemployement.columns)\n",
    "\n",
    "# Listes des pays détectés\n",
    "pays = d.detect_country_name(df_Unemployement.columns)\n",
    "\n",
    "# Base avec colonnes corrigées\n",
    "df_Unemployement = df_Unemployement[pays]"
   ]
  },
  {
   "cell_type": "code",
   "execution_count": null,
   "metadata": {},
   "outputs": [],
   "source": [
    "df_Unemployement.head(5)"
   ]
  },
  {
   "cell_type": "markdown",
   "metadata": {},
   "source": [
    "##### Détection des valeurs manquantes"
   ]
  },
  {
   "cell_type": "code",
   "execution_count": null,
   "metadata": {},
   "outputs": [],
   "source": [
    "# Plot des valeurs manquantes\n",
    "d.missing_plot(df_Unemployement)"
   ]
  },
  {
   "cell_type": "markdown",
   "metadata": {},
   "source": [
    "Les données sont des séries temporelles.<br>\n",
    "Grâce à la visualisation 2, on constate que pour la plupart des pays,<br>\n",
    "les valeurs manquantes sont en début de la période considérée.<br>\n",
    "Ainsi, nous allons garder les pays avec au moins 60% d'observations non manquantes."
   ]
  },
  {
   "cell_type": "code",
   "execution_count": null,
   "metadata": {},
   "outputs": [],
   "source": [
    "# Suppression des pays avec au moins 40% de valeurs manquantes sur la période\n",
    "df_Unemployement = d.missing(df_Unemployement)"
   ]
  },
  {
   "cell_type": "code",
   "execution_count": null,
   "metadata": {},
   "outputs": [],
   "source": [
    "# Plot des valeurs manquantes\n",
    "d.missing_plot(df_Unemployement)"
   ]
  },
  {
   "cell_type": "markdown",
   "metadata": {},
   "source": [
    "##### Imputation des valeurs manquantes"
   ]
  },
  {
   "cell_type": "code",
   "execution_count": null,
   "metadata": {},
   "outputs": [],
   "source": [
    "# Imputation des valeurs manquantes \n",
    "df_Unemployement = d.fill_missing_with_median(df_Unemployement)"
   ]
  },
  {
   "cell_type": "code",
   "execution_count": null,
   "metadata": {},
   "outputs": [],
   "source": [
    "# Plot des valeurs manquantes\n",
    "d.missing_plot(df_Unemployement)"
   ]
  },
  {
   "cell_type": "code",
   "execution_count": null,
   "metadata": {},
   "outputs": [],
   "source": [
    "# Colonnes présentes dans Uemploy\n",
    "pays = df_Unemployement.columns\n",
    "print(pays)"
   ]
  },
  {
   "cell_type": "code",
   "execution_count": null,
   "metadata": {},
   "outputs": [],
   "source": [
    "# L'index de la DF\n",
    "df_Unemployement.index\n",
    "df_Unemployement.head(5)"
   ]
  },
  {
   "cell_type": "markdown",
   "metadata": {},
   "source": [
    "##### Transformation des données mensuelles en données trimestrielles"
   ]
  },
  {
   "cell_type": "code",
   "execution_count": null,
   "metadata": {},
   "outputs": [],
   "source": [
    "# Grouper par année de 12 mois chacun\n",
    "df_Unemployement = df_Unemployement\\\n",
    "    .groupby(df_Unemployement.index.year)\\\n",
    "        .filter(lambda x: len(x) == 12)\n",
    "df_Unemployement = d.pd.DataFrame(df_Unemployement)"
   ]
  },
  {
   "cell_type": "code",
   "execution_count": null,
   "metadata": {},
   "outputs": [],
   "source": [
    "# Transformation\n",
    "df_Unemployement = df_Unemployement.resample('Q-JAN').mean()\n",
    "# Ignorer les jours dans l'index\n",
    "df_Unemployement.index = df_Unemployement.index.strftime('%Y-%m')"
   ]
  },
  {
   "cell_type": "markdown",
   "metadata": {},
   "source": [
    "#### <span style=\"color:green; text-align:center;\">II-1-1-2 Base taux de croissance du PIB</span>"
   ]
  },
  {
   "cell_type": "code",
   "execution_count": null,
   "metadata": {},
   "outputs": [],
   "source": [
    "# L'index de la DF\n",
    "df_GDP.index"
   ]
  },
  {
   "cell_type": "code",
   "execution_count": null,
   "metadata": {},
   "outputs": [],
   "source": [
    "# Formater l'index pour obtenir '1994-01' au lieu de '1994-01-01'\n",
    "df_GDP.index = df_GDP.index.strftime('%Y-%m')\n",
    "# Supprimez la ligne avec l'index NaN du DataFrame\n",
    "df_GDP = df_GDP.drop(df_GDP.index[0])"
   ]
  },
  {
   "cell_type": "code",
   "execution_count": null,
   "metadata": {},
   "outputs": [],
   "source": [
    "# Informations sur la DF (nombre de valeurs non nulles, type de données de chaque colonne...)\n",
    "df_GDP.info()"
   ]
  },
  {
   "cell_type": "markdown",
   "metadata": {},
   "source": [
    "##### Correction des noms des pays"
   ]
  },
  {
   "cell_type": "code",
   "execution_count": null,
   "metadata": {},
   "outputs": [],
   "source": [
    "# Appliquer la correction sur chaque colonne du DataFrame\n",
    "df_GDP.columns = d.correct_country_name(df_GDP.columns)\n",
    "\n",
    "# Base avec colonnes corrigées presente dans Unemploy\n",
    "df_GDP=df_GDP[pays]"
   ]
  },
  {
   "cell_type": "markdown",
   "metadata": {},
   "source": [
    "##### Détection des doublons"
   ]
  },
  {
   "cell_type": "code",
   "execution_count": null,
   "metadata": {},
   "outputs": [],
   "source": [
    "# Vérifier la présence de doublons\n",
    "print(\"Nombre total de doublons dans df_GDP :\", \n",
    "      df_GDP[df_GDP.duplicated()].shape[0])"
   ]
  },
  {
   "cell_type": "code",
   "execution_count": null,
   "metadata": {},
   "outputs": [],
   "source": [
    "# Supprimer les doublons\n",
    "df_GDP.drop_duplicates(inplace=True)\n",
    "\n",
    "print(\"Nombre total de doublons dans df_GDP :\", \n",
    "      df_GDP[df_GDP.duplicated()].shape[0])"
   ]
  },
  {
   "cell_type": "markdown",
   "metadata": {},
   "source": [
    "##### Détection des valeurs manquantes"
   ]
  },
  {
   "cell_type": "code",
   "execution_count": null,
   "metadata": {},
   "outputs": [],
   "source": [
    "# Plot des valeurs manquantes\n",
    "d.missing_plot(df_GDP)"
   ]
  },
  {
   "cell_type": "markdown",
   "metadata": {},
   "source": [
    "Les données sont des séries temporelles.<br>\n",
    "Grâce à la visualisation 2, on constate que pour la plupart des pays,<br>\n",
    "les valeurs manquantes sont en début de periode d'obervation d'observation.<br>\n",
    "Ainsi, nous allons garder les pays avec au moins 60% des observations non manquantes."
   ]
  },
  {
   "cell_type": "code",
   "execution_count": null,
   "metadata": {},
   "outputs": [],
   "source": [
    "# Suppression des pays avec au moins 90% des valeurs manquantes sur la période\n",
    "df_GDP = d.missing(df_GDP)"
   ]
  },
  {
   "cell_type": "code",
   "execution_count": null,
   "metadata": {},
   "outputs": [],
   "source": [
    "# Plot des valeurs manquantes\n",
    "d.missing_plot(df_GDP)"
   ]
  },
  {
   "cell_type": "markdown",
   "metadata": {},
   "source": [
    "##### Imputation des valeurs manquantes"
   ]
  },
  {
   "cell_type": "code",
   "execution_count": null,
   "metadata": {},
   "outputs": [],
   "source": [
    "# Correction des valeurs manquantes \n",
    "df_GDP = d.fill_missing_with_median(df_GDP)"
   ]
  },
  {
   "cell_type": "code",
   "execution_count": null,
   "metadata": {},
   "outputs": [],
   "source": [
    "# Plot des valeurs manquantes\n",
    "d.missing_plot(df_GDP)"
   ]
  },
  {
   "cell_type": "code",
   "execution_count": null,
   "metadata": {},
   "outputs": [],
   "source": [
    "# Colonnes présentes dans gdp\n",
    "pays1 = df_GDP.columns\n",
    "# Colonnes non présentes dans unemploy et GDP\n",
    "print(list(set(pays) - set(pays1))) "
   ]
  },
  {
   "cell_type": "markdown",
   "metadata": {},
   "source": [
    "### <span style=\"color:green; text-align:center;\">II-1-2 Fusion des deux bases</span>"
   ]
  },
  {
   "cell_type": "code",
   "execution_count": null,
   "metadata": {},
   "outputs": [],
   "source": [
    "reload(d)\n",
    "## tranformation des bases en format long \n",
    "dfs = d.transform(df_Unemployement, 'Unemployment_rate')\n",
    "dfs1 = d.transform(df_GDP, 'GDP_rate')\n",
    "dfs1.head()"
   ]
  },
  {
   "cell_type": "code",
   "execution_count": null,
   "metadata": {},
   "outputs": [],
   "source": [
    "# Fusion des bases\n",
    "\n",
    "df_merge1 = d.pd.merge(dfs, dfs1, on=['YEAR', 'COUNTRY'], how='left')\n",
    "df_merge1.head()"
   ]
  },
  {
   "cell_type": "code",
   "execution_count": 74,
   "metadata": {},
   "outputs": [
    {
     "data": {
      "text/html": [
       "<div>\n",
       "<style scoped>\n",
       "    .dataframe tbody tr th:only-of-type {\n",
       "        vertical-align: middle;\n",
       "    }\n",
       "\n",
       "    .dataframe tbody tr th {\n",
       "        vertical-align: top;\n",
       "    }\n",
       "\n",
       "    .dataframe thead th {\n",
       "        text-align: right;\n",
       "    }\n",
       "</style>\n",
       "<table border=\"1\" class=\"dataframe\">\n",
       "  <thead>\n",
       "    <tr style=\"text-align: right;\">\n",
       "      <th></th>\n",
       "      <th>AUS</th>\n",
       "      <th>AUT</th>\n",
       "      <th>BEL</th>\n",
       "      <th>BGR</th>\n",
       "      <th>CAN</th>\n",
       "      <th>CHE</th>\n",
       "      <th>CZE</th>\n",
       "      <th>DEU</th>\n",
       "      <th>ESP</th>\n",
       "      <th>EST</th>\n",
       "      <th>...</th>\n",
       "      <th>PRT</th>\n",
       "      <th>ROU</th>\n",
       "      <th>RUS</th>\n",
       "      <th>SGP</th>\n",
       "      <th>SVK</th>\n",
       "      <th>SVN</th>\n",
       "      <th>SWE</th>\n",
       "      <th>URY</th>\n",
       "      <th>USA</th>\n",
       "      <th>YEAR</th>\n",
       "    </tr>\n",
       "    <tr>\n",
       "      <th>Year</th>\n",
       "      <th></th>\n",
       "      <th></th>\n",
       "      <th></th>\n",
       "      <th></th>\n",
       "      <th></th>\n",
       "      <th></th>\n",
       "      <th></th>\n",
       "      <th></th>\n",
       "      <th></th>\n",
       "      <th></th>\n",
       "      <th></th>\n",
       "      <th></th>\n",
       "      <th></th>\n",
       "      <th></th>\n",
       "      <th></th>\n",
       "      <th></th>\n",
       "      <th></th>\n",
       "      <th></th>\n",
       "      <th></th>\n",
       "      <th></th>\n",
       "      <th></th>\n",
       "    </tr>\n",
       "  </thead>\n",
       "  <tbody>\n",
       "    <tr>\n",
       "      <th>1994-01</th>\n",
       "      <td>9.814137</td>\n",
       "      <td>6.609708</td>\n",
       "      <td>9.641018</td>\n",
       "      <td>14.300000</td>\n",
       "      <td>10.700000</td>\n",
       "      <td>4.704339</td>\n",
       "      <td>4.300000</td>\n",
       "      <td>7.261003</td>\n",
       "      <td>22.000000</td>\n",
       "      <td>7.600000</td>\n",
       "      <td>...</td>\n",
       "      <td>7.756329</td>\n",
       "      <td>10.900000</td>\n",
       "      <td>6.759498</td>\n",
       "      <td>1.750000</td>\n",
       "      <td>14.620000</td>\n",
       "      <td>14.650000</td>\n",
       "      <td>10.839335</td>\n",
       "      <td>12.100000</td>\n",
       "      <td>6.20</td>\n",
       "      <td>1994-01</td>\n",
       "    </tr>\n",
       "    <tr>\n",
       "      <th>1994-04</th>\n",
       "      <td>10.269157</td>\n",
       "      <td>6.582263</td>\n",
       "      <td>9.728535</td>\n",
       "      <td>15.393333</td>\n",
       "      <td>10.866667</td>\n",
       "      <td>4.839299</td>\n",
       "      <td>4.200000</td>\n",
       "      <td>7.521107</td>\n",
       "      <td>22.233333</td>\n",
       "      <td>7.466667</td>\n",
       "      <td>...</td>\n",
       "      <td>7.916827</td>\n",
       "      <td>10.900000</td>\n",
       "      <td>6.574419</td>\n",
       "      <td>1.666667</td>\n",
       "      <td>14.426667</td>\n",
       "      <td>14.966667</td>\n",
       "      <td>10.866990</td>\n",
       "      <td>12.083333</td>\n",
       "      <td>6.50</td>\n",
       "      <td>1994-04</td>\n",
       "    </tr>\n",
       "    <tr>\n",
       "      <th>1994-07</th>\n",
       "      <td>9.745672</td>\n",
       "      <td>6.553856</td>\n",
       "      <td>9.881526</td>\n",
       "      <td>14.143333</td>\n",
       "      <td>10.366667</td>\n",
       "      <td>4.786481</td>\n",
       "      <td>4.266667</td>\n",
       "      <td>7.450542</td>\n",
       "      <td>22.166667</td>\n",
       "      <td>7.466667</td>\n",
       "      <td>...</td>\n",
       "      <td>7.833934</td>\n",
       "      <td>11.033333</td>\n",
       "      <td>7.016574</td>\n",
       "      <td>1.666667</td>\n",
       "      <td>14.716667</td>\n",
       "      <td>14.566667</td>\n",
       "      <td>10.881637</td>\n",
       "      <td>11.900000</td>\n",
       "      <td>6.10</td>\n",
       "      <td>1994-07</td>\n",
       "    </tr>\n",
       "    <tr>\n",
       "      <th>1994-10</th>\n",
       "      <td>9.409495</td>\n",
       "      <td>6.556515</td>\n",
       "      <td>9.778318</td>\n",
       "      <td>13.285000</td>\n",
       "      <td>10.150000</td>\n",
       "      <td>4.715754</td>\n",
       "      <td>4.400000</td>\n",
       "      <td>7.278648</td>\n",
       "      <td>22.000000</td>\n",
       "      <td>7.600000</td>\n",
       "      <td>...</td>\n",
       "      <td>7.782301</td>\n",
       "      <td>11.050000</td>\n",
       "      <td>7.379864</td>\n",
       "      <td>1.800000</td>\n",
       "      <td>14.705000</td>\n",
       "      <td>14.350000</td>\n",
       "      <td>10.736920</td>\n",
       "      <td>11.900000</td>\n",
       "      <td>5.95</td>\n",
       "      <td>1994-10</td>\n",
       "    </tr>\n",
       "    <tr>\n",
       "      <th>1995-01</th>\n",
       "      <td>8.833745</td>\n",
       "      <td>6.495949</td>\n",
       "      <td>9.696386</td>\n",
       "      <td>12.100000</td>\n",
       "      <td>9.550000</td>\n",
       "      <td>4.359326</td>\n",
       "      <td>4.200000</td>\n",
       "      <td>7.079487</td>\n",
       "      <td>21.375000</td>\n",
       "      <td>8.700000</td>\n",
       "      <td>...</td>\n",
       "      <td>7.770154</td>\n",
       "      <td>10.500000</td>\n",
       "      <td>7.957235</td>\n",
       "      <td>1.750000</td>\n",
       "      <td>14.292500</td>\n",
       "      <td>14.025000</td>\n",
       "      <td>10.534358</td>\n",
       "      <td>11.837500</td>\n",
       "      <td>5.55</td>\n",
       "      <td>1995-01</td>\n",
       "    </tr>\n",
       "  </tbody>\n",
       "</table>\n",
       "<p>5 rows × 32 columns</p>\n",
       "</div>"
      ],
      "text/plain": [
       "               AUS       AUT       BEL        BGR        CAN       CHE  \\\n",
       "Year                                                                     \n",
       "1994-01   9.814137  6.609708  9.641018  14.300000  10.700000  4.704339   \n",
       "1994-04  10.269157  6.582263  9.728535  15.393333  10.866667  4.839299   \n",
       "1994-07   9.745672  6.553856  9.881526  14.143333  10.366667  4.786481   \n",
       "1994-10   9.409495  6.556515  9.778318  13.285000  10.150000  4.715754   \n",
       "1995-01   8.833745  6.495949  9.696386  12.100000   9.550000  4.359326   \n",
       "\n",
       "              CZE       DEU        ESP       EST  ...       PRT        ROU  \\\n",
       "Year                                              ...                        \n",
       "1994-01  4.300000  7.261003  22.000000  7.600000  ...  7.756329  10.900000   \n",
       "1994-04  4.200000  7.521107  22.233333  7.466667  ...  7.916827  10.900000   \n",
       "1994-07  4.266667  7.450542  22.166667  7.466667  ...  7.833934  11.033333   \n",
       "1994-10  4.400000  7.278648  22.000000  7.600000  ...  7.782301  11.050000   \n",
       "1995-01  4.200000  7.079487  21.375000  8.700000  ...  7.770154  10.500000   \n",
       "\n",
       "              RUS       SGP        SVK        SVN        SWE        URY   USA  \\\n",
       "Year                                                                            \n",
       "1994-01  6.759498  1.750000  14.620000  14.650000  10.839335  12.100000  6.20   \n",
       "1994-04  6.574419  1.666667  14.426667  14.966667  10.866990  12.083333  6.50   \n",
       "1994-07  7.016574  1.666667  14.716667  14.566667  10.881637  11.900000  6.10   \n",
       "1994-10  7.379864  1.800000  14.705000  14.350000  10.736920  11.900000  5.95   \n",
       "1995-01  7.957235  1.750000  14.292500  14.025000  10.534358  11.837500  5.55   \n",
       "\n",
       "            YEAR  \n",
       "Year              \n",
       "1994-01  1994-01  \n",
       "1994-04  1994-04  \n",
       "1994-07  1994-07  \n",
       "1994-10  1994-10  \n",
       "1995-01  1995-01  \n",
       "\n",
       "[5 rows x 32 columns]"
      ]
     },
     "execution_count": 74,
     "metadata": {},
     "output_type": "execute_result"
    }
   ],
   "source": [
    "df_Unemployement.head(5)"
   ]
  },
  {
   "cell_type": "code",
   "execution_count": null,
   "metadata": {},
   "outputs": [],
   "source": [
    "# Jointure des DF df_Unemployement et df_GDP\n",
    "quart_data = pd.merge(df_Unemployement, df_GDP, left_index=True, right_index=True, how='inner' )\n",
    "# Supprimer le suffixe '_x' et le remplacer par 'rate', de meme supprimer le suffixe '_y' et le remplacer par 'gdp'\n",
    "new_columns = [col.replace('_x', '_rate').replace('_y', '_gdp') for col in quart_data.columns]\n",
    "# Renommer les colonnes de la DataFrame\n",
    "quart_data.columns = new_columns\n",
    "# Trier les colonnes de la DataFrame de facon à placer pour chaque pays le PIB et taux de chomage l'un après l'autre \n",
    "quart_data= quart_data.reindex(sorted(quart_data.columns), axis=1)\n"
   ]
  },
  {
   "cell_type": "code",
   "execution_count": 75,
   "metadata": {},
   "outputs": [
    {
     "data": {
      "text/html": [
       "<div>\n",
       "<style scoped>\n",
       "    .dataframe tbody tr th:only-of-type {\n",
       "        vertical-align: middle;\n",
       "    }\n",
       "\n",
       "    .dataframe tbody tr th {\n",
       "        vertical-align: top;\n",
       "    }\n",
       "\n",
       "    .dataframe thead th {\n",
       "        text-align: right;\n",
       "    }\n",
       "</style>\n",
       "<table border=\"1\" class=\"dataframe\">\n",
       "  <thead>\n",
       "    <tr style=\"text-align: right;\">\n",
       "      <th></th>\n",
       "      <th>AUS_gdp</th>\n",
       "      <th>AUS_rate</th>\n",
       "      <th>AUT_gdp</th>\n",
       "      <th>AUT_rate</th>\n",
       "      <th>BEL_gdp</th>\n",
       "      <th>BEL_rate</th>\n",
       "      <th>BGR_gdp</th>\n",
       "      <th>BGR_rate</th>\n",
       "      <th>CAN_gdp</th>\n",
       "      <th>CAN_rate</th>\n",
       "      <th>...</th>\n",
       "      <th>SVK_rate</th>\n",
       "      <th>SVN_gdp</th>\n",
       "      <th>SVN_rate</th>\n",
       "      <th>SWE_gdp</th>\n",
       "      <th>SWE_rate</th>\n",
       "      <th>URY</th>\n",
       "      <th>USA_gdp</th>\n",
       "      <th>USA_rate</th>\n",
       "      <th>YEAR_gdp</th>\n",
       "      <th>YEAR_rate</th>\n",
       "    </tr>\n",
       "    <tr>\n",
       "      <th>Dates</th>\n",
       "      <th></th>\n",
       "      <th></th>\n",
       "      <th></th>\n",
       "      <th></th>\n",
       "      <th></th>\n",
       "      <th></th>\n",
       "      <th></th>\n",
       "      <th></th>\n",
       "      <th></th>\n",
       "      <th></th>\n",
       "      <th></th>\n",
       "      <th></th>\n",
       "      <th></th>\n",
       "      <th></th>\n",
       "      <th></th>\n",
       "      <th></th>\n",
       "      <th></th>\n",
       "      <th></th>\n",
       "      <th></th>\n",
       "      <th></th>\n",
       "      <th></th>\n",
       "    </tr>\n",
       "  </thead>\n",
       "  <tbody>\n",
       "    <tr>\n",
       "      <th>1994-01</th>\n",
       "      <td>0.501645</td>\n",
       "      <td>9.814137</td>\n",
       "      <td>0.779464</td>\n",
       "      <td>6.609708</td>\n",
       "      <td>0.796550</td>\n",
       "      <td>9.641018</td>\n",
       "      <td>0.559233</td>\n",
       "      <td>14.300000</td>\n",
       "      <td>0.680429</td>\n",
       "      <td>10.700000</td>\n",
       "      <td>...</td>\n",
       "      <td>14.620000</td>\n",
       "      <td>0.748256</td>\n",
       "      <td>14.650000</td>\n",
       "      <td>0.585296</td>\n",
       "      <td>10.839335</td>\n",
       "      <td>12.100000</td>\n",
       "      <td>0.650468</td>\n",
       "      <td>6.200000</td>\n",
       "      <td>1994-01</td>\n",
       "      <td>1994-01</td>\n",
       "    </tr>\n",
       "    <tr>\n",
       "      <th>1994-04</th>\n",
       "      <td>0.504920</td>\n",
       "      <td>10.269157</td>\n",
       "      <td>0.782479</td>\n",
       "      <td>6.582263</td>\n",
       "      <td>0.800992</td>\n",
       "      <td>9.728535</td>\n",
       "      <td>0.568045</td>\n",
       "      <td>15.393333</td>\n",
       "      <td>0.689810</td>\n",
       "      <td>10.866667</td>\n",
       "      <td>...</td>\n",
       "      <td>14.426667</td>\n",
       "      <td>0.768536</td>\n",
       "      <td>14.966667</td>\n",
       "      <td>0.595983</td>\n",
       "      <td>10.866990</td>\n",
       "      <td>12.083333</td>\n",
       "      <td>0.660922</td>\n",
       "      <td>6.500000</td>\n",
       "      <td>1994-04</td>\n",
       "      <td>1994-04</td>\n",
       "    </tr>\n",
       "    <tr>\n",
       "      <th>1995-01</th>\n",
       "      <td>0.514092</td>\n",
       "      <td>8.833745</td>\n",
       "      <td>0.727697</td>\n",
       "      <td>6.495949</td>\n",
       "      <td>0.734561</td>\n",
       "      <td>9.696386</td>\n",
       "      <td>0.021998</td>\n",
       "      <td>12.100000</td>\n",
       "      <td>0.694571</td>\n",
       "      <td>9.550000</td>\n",
       "      <td>...</td>\n",
       "      <td>14.292500</td>\n",
       "      <td>0.445624</td>\n",
       "      <td>14.025000</td>\n",
       "      <td>0.604172</td>\n",
       "      <td>10.534358</td>\n",
       "      <td>11.837500</td>\n",
       "      <td>0.664523</td>\n",
       "      <td>5.550000</td>\n",
       "      <td>1995-01</td>\n",
       "      <td>1995-01</td>\n",
       "    </tr>\n",
       "    <tr>\n",
       "      <th>1995-04</th>\n",
       "      <td>0.528230</td>\n",
       "      <td>8.589052</td>\n",
       "      <td>0.735363</td>\n",
       "      <td>6.395841</td>\n",
       "      <td>0.735204</td>\n",
       "      <td>9.620191</td>\n",
       "      <td>0.023372</td>\n",
       "      <td>11.806667</td>\n",
       "      <td>0.704549</td>\n",
       "      <td>9.600000</td>\n",
       "      <td>...</td>\n",
       "      <td>14.190000</td>\n",
       "      <td>0.486290</td>\n",
       "      <td>13.900000</td>\n",
       "      <td>0.616447</td>\n",
       "      <td>10.371133</td>\n",
       "      <td>11.816667</td>\n",
       "      <td>0.674254</td>\n",
       "      <td>5.533333</td>\n",
       "      <td>1995-04</td>\n",
       "      <td>1995-04</td>\n",
       "    </tr>\n",
       "    <tr>\n",
       "      <th>1996-01</th>\n",
       "      <td>0.526387</td>\n",
       "      <td>8.435412</td>\n",
       "      <td>0.735366</td>\n",
       "      <td>6.938895</td>\n",
       "      <td>0.740587</td>\n",
       "      <td>9.693839</td>\n",
       "      <td>0.023652</td>\n",
       "      <td>11.097500</td>\n",
       "      <td>0.707019</td>\n",
       "      <td>9.475000</td>\n",
       "      <td>...</td>\n",
       "      <td>12.890000</td>\n",
       "      <td>0.498652</td>\n",
       "      <td>14.175000</td>\n",
       "      <td>0.620475</td>\n",
       "      <td>10.703643</td>\n",
       "      <td>11.737500</td>\n",
       "      <td>0.677469</td>\n",
       "      <td>5.500000</td>\n",
       "      <td>1996-01</td>\n",
       "      <td>1996-01</td>\n",
       "    </tr>\n",
       "  </tbody>\n",
       "</table>\n",
       "<p>5 rows × 62 columns</p>\n",
       "</div>"
      ],
      "text/plain": [
       "          AUS_gdp   AUS_rate   AUT_gdp  AUT_rate   BEL_gdp  BEL_rate  \\\n",
       "Dates                                                                  \n",
       "1994-01  0.501645   9.814137  0.779464  6.609708  0.796550  9.641018   \n",
       "1994-04  0.504920  10.269157  0.782479  6.582263  0.800992  9.728535   \n",
       "1995-01  0.514092   8.833745  0.727697  6.495949  0.734561  9.696386   \n",
       "1995-04  0.528230   8.589052  0.735363  6.395841  0.735204  9.620191   \n",
       "1996-01  0.526387   8.435412  0.735366  6.938895  0.740587  9.693839   \n",
       "\n",
       "          BGR_gdp   BGR_rate   CAN_gdp   CAN_rate  ...   SVK_rate   SVN_gdp  \\\n",
       "Dates                                              ...                        \n",
       "1994-01  0.559233  14.300000  0.680429  10.700000  ...  14.620000  0.748256   \n",
       "1994-04  0.568045  15.393333  0.689810  10.866667  ...  14.426667  0.768536   \n",
       "1995-01  0.021998  12.100000  0.694571   9.550000  ...  14.292500  0.445624   \n",
       "1995-04  0.023372  11.806667  0.704549   9.600000  ...  14.190000  0.486290   \n",
       "1996-01  0.023652  11.097500  0.707019   9.475000  ...  12.890000  0.498652   \n",
       "\n",
       "          SVN_rate   SWE_gdp   SWE_rate        URY   USA_gdp  USA_rate  \\\n",
       "Dates                                                                    \n",
       "1994-01  14.650000  0.585296  10.839335  12.100000  0.650468  6.200000   \n",
       "1994-04  14.966667  0.595983  10.866990  12.083333  0.660922  6.500000   \n",
       "1995-01  14.025000  0.604172  10.534358  11.837500  0.664523  5.550000   \n",
       "1995-04  13.900000  0.616447  10.371133  11.816667  0.674254  5.533333   \n",
       "1996-01  14.175000  0.620475  10.703643  11.737500  0.677469  5.500000   \n",
       "\n",
       "         YEAR_gdp  YEAR_rate  \n",
       "Dates                         \n",
       "1994-01   1994-01    1994-01  \n",
       "1994-04   1994-04    1994-04  \n",
       "1995-01   1995-01    1995-01  \n",
       "1995-04   1995-04    1995-04  \n",
       "1996-01   1996-01    1996-01  \n",
       "\n",
       "[5 rows x 62 columns]"
      ]
     },
     "execution_count": 75,
     "metadata": {},
     "output_type": "execute_result"
    }
   ],
   "source": [
    "quart_data = quart_data.rename_axis(\"Dates\")\n",
    "# Visualisation\n",
    "quart_data.head(5)"
   ]
  },
  {
   "cell_type": "code",
   "execution_count": 72,
   "metadata": {},
   "outputs": [],
   "source": [
    "# Exportation de la DF construite sous un fichier .csv\n",
    "quart_data.to_csv(\"quart_data.csv\")"
   ]
  },
  {
   "cell_type": "markdown",
   "metadata": {},
   "source": [
    "## <span style=\"color:green; text-align:center;\">II-2 Importation de la base HNP_Stats_EXCEL.Zip via son url de téléchargement</span>"
   ]
  },
  {
   "cell_type": "code",
   "execution_count": null,
   "metadata": {},
   "outputs": [],
   "source": [
    "url = \"https://databank.worldbank.org/data/download/HNP_Stats_EXCEL.zip\"\n",
    "d.load(url,\"HNP_Stats_EXCEL.zip\")"
   ]
  },
  {
   "cell_type": "code",
   "execution_count": null,
   "metadata": {},
   "outputs": [],
   "source": [
    "# Choix des fichiers à extraire\n",
    "nom_fichiers = [('HNP_StatsEXCEL.xlsx', 'Data')]\n",
    "\n",
    "# Extraction des bases dans la mémoire: chomage et PIB déflaté\n",
    "Big_data = [d.extraire_fichier_zip('HNP_Stats_EXCEL.zip', nom_fichier, nom_feuille)\n",
    "                           for nom_fichier, nom_feuille in nom_fichiers]"
   ]
  },
  {
   "cell_type": "markdown",
   "metadata": {},
   "source": [
    "L'extraction des données sur le niveau d'éducation, l'espérance de vie, et le taux de croissance de la population. <br>\n",
    "Dans la prochaine étape, nous procéderons à une exploration rapide de ces données et les fusionnerons pour une analyse plus approfondie.\n"
   ]
  },
  {
   "cell_type": "markdown",
   "metadata": {},
   "source": [
    "### <span style=\"color:green; text-align:center;\">II-2-1 Préparation des bases avant fusion</span>"
   ]
  },
  {
   "cell_type": "code",
   "execution_count": null,
   "metadata": {},
   "outputs": [],
   "source": [
    "Big_data = Big_data[0]\n",
    "Big_data.head()"
   ]
  },
  {
   "cell_type": "markdown",
   "metadata": {},
   "source": [
    "\n",
    "Le type de chaque variable est approprié et correspond aux types attendus."
   ]
  },
  {
   "cell_type": "markdown",
   "metadata": {},
   "source": [
    "#### <span style=\"color:green; text-align:center;\">II-2-1-1 Base espérance de vie</span>"
   ]
  },
  {
   "cell_type": "code",
   "execution_count": null,
   "metadata": {},
   "outputs": [],
   "source": [
    "# Extraction des données sur l'espérance de vie \n",
    "df_LE = d.extract2(Big_data, 'expectancy','total')\n",
    "df_LE.head(2)"
   ]
  },
  {
   "cell_type": "code",
   "execution_count": null,
   "metadata": {},
   "outputs": [],
   "source": [
    "# Construction de la base life expentancy\n",
    "reload(d)\n",
    "df_LE = d.treat_info(df_LE, pays1)\n",
    "df_LE.head(2)"
   ]
  },
  {
   "cell_type": "markdown",
   "metadata": {},
   "source": [
    "##### Detections des valeurs manquantes"
   ]
  },
  {
   "cell_type": "code",
   "execution_count": null,
   "metadata": {},
   "outputs": [],
   "source": [
    "# Plot des valeurs manquantes\n",
    "d.missing_plot(df_LE)\n",
    "\n",
    "print(\"Nombre total de valeurs manquantes est de \", \n",
    "      d.missing_plot(df_LE))"
   ]
  },
  {
   "cell_type": "markdown",
   "metadata": {},
   "source": [
    "On n'observe aucune valeur manquante dans la base"
   ]
  },
  {
   "cell_type": "markdown",
   "metadata": {},
   "source": [
    "#### <span style=\"color:green; text-align:center;\">II-2-1-2 Base taux de croissance démographique</span>"
   ]
  },
  {
   "cell_type": "code",
   "execution_count": null,
   "metadata": {},
   "outputs": [],
   "source": [
    "# Extraction des donnés sur la croissance démographique \n",
    "reload(d)\n",
    "df_pop = d.extract2(Big_data, '^Population growth \\(annual %\\)$','')\n",
    "df_pop.head(2)"
   ]
  },
  {
   "cell_type": "code",
   "execution_count": null,
   "metadata": {},
   "outputs": [],
   "source": [
    "# Informations sur la DF (nombre de valeurs non nulles, type de données de chaque colonne...)\n",
    "df_pop.info()"
   ]
  },
  {
   "cell_type": "code",
   "execution_count": null,
   "metadata": {},
   "outputs": [],
   "source": [
    "df_pop.head()"
   ]
  },
  {
   "cell_type": "code",
   "execution_count": null,
   "metadata": {},
   "outputs": [],
   "source": [
    "# Construction de la base life expentancy\n",
    "reload(d)\n",
    "df_pop = d.treat_info(df_pop, pays1)\n",
    "df_pop.tail()"
   ]
  },
  {
   "cell_type": "markdown",
   "metadata": {},
   "source": [
    "##### Détection des valeurs manquantes"
   ]
  },
  {
   "cell_type": "code",
   "execution_count": null,
   "metadata": {},
   "outputs": [],
   "source": [
    "# Plot des valeurs manquantes\n",
    "d.missing_plot(df_pop)"
   ]
  },
  {
   "cell_type": "markdown",
   "metadata": {},
   "source": [
    "on observe aucune valeur manquantes dans la base"
   ]
  },
  {
   "cell_type": "markdown",
   "metadata": {},
   "source": [
    "### <span style=\"color:green; text-align:center;\">II-2-2 Fusion des deux bases</span>"
   ]
  },
  {
   "cell_type": "code",
   "execution_count": null,
   "metadata": {},
   "outputs": [],
   "source": [
    "reload(d)\n",
    "## Tranformation des bases en format long \n",
    "dfs = d.transform(df_LE, 'life_expentancy')\n",
    "dfs1 = d.transform(df_pop, 'pop_growth_rate')\n",
    "dfs.head()"
   ]
  },
  {
   "cell_type": "code",
   "execution_count": null,
   "metadata": {},
   "outputs": [],
   "source": [
    "# Fusion des bases\n",
    "\n",
    "df_merge2 = d.pd.merge(dfs, dfs1, on=['YEAR', 'COUNTRY'], how='left')\n",
    "df_merge2.head()"
   ]
  },
  {
   "cell_type": "code",
   "execution_count": null,
   "metadata": {},
   "outputs": [],
   "source": [
    "# Fusion merge1 et merge2.\n",
    "\n",
    "df_merge3 = d.pd.merge(df_merge1, df_merge2, on=['YEAR', 'COUNTRY'], how='left')\n",
    "df_merge3.head()"
   ]
  },
  {
   "cell_type": "code",
   "execution_count": null,
   "metadata": {},
   "outputs": [],
   "source": [
    "# Enregistrez le DataFrame au format CSV\n",
    "df_merge3.to_csv('final_data.csv', index=False)"
   ]
  },
  {
   "cell_type": "markdown",
   "metadata": {},
   "source": [
    "## <span style=\"color:green; text-align:center;\">II-3 Importation de la base Spatial Inequality Database via son url de téléchargement</span>"
   ]
  },
  {
   "cell_type": "code",
   "execution_count": null,
   "metadata": {},
   "outputs": [],
   "source": [
    "url = \"https://datacatalogfiles.worldbank.org/ddh-published/0064524/DR0091539/inequality%20GMD%20World%20Bank.xlsx?versionId=2023-05-22T17:13:22.2930786Z\"\n",
    "d.load(url,\"inequality GMD World Bank.xlsx\")"
   ]
  },
  {
   "cell_type": "code",
   "execution_count": null,
   "metadata": {},
   "outputs": [],
   "source": [
    "df_SID = d.pd.read_excel(\"inequality GMD World Bank.xlsx\",  sheet_name='data', index_col=0)\n",
    "df_SID.head()"
   ]
  },
  {
   "cell_type": "markdown",
   "metadata": {},
   "source": [
    "### <span style=\"color:green; text-align:center;\">II-3-1 Préparation des bases avant fusion</span>"
   ]
  },
  {
   "cell_type": "markdown",
   "metadata": {},
   "source": [
    "#### <span style=\"color:green; text-align:center;\">II-3-1-1 base indice Theil</span>"
   ]
  },
  {
   "cell_type": "code",
   "execution_count": null,
   "metadata": {},
   "outputs": [],
   "source": [
    "# Base de données de l'indice Theil\n",
    "df_theil = df_SID.pivot(index='year', columns='countryname', values='index')\n",
    "df_theil.head(5)"
   ]
  },
  {
   "cell_type": "code",
   "execution_count": null,
   "metadata": {},
   "outputs": [],
   "source": [
    "df_theil = df_theil.drop(columns=df_theil.columns[0])\n",
    "df_theil.info()"
   ]
  },
  {
   "cell_type": "code",
   "execution_count": null,
   "metadata": {},
   "outputs": [],
   "source": [
    "#df_theil.columns"
   ]
  },
  {
   "cell_type": "markdown",
   "metadata": {},
   "source": [
    "##### Corrections des noms des pays"
   ]
  },
  {
   "cell_type": "code",
   "execution_count": null,
   "metadata": {},
   "outputs": [],
   "source": [
    "# Appliquer la correction sur chaque colonne du DataFrame\n",
    "df_theil.columns = d.correct_country_name(df_theil.columns)\n",
    "\n",
    "# base avec colonnes corrigées contenues dans les autres bases\n",
    "#df_theil=df_theil[pays1]\n",
    "#on a que 19 pays"
   ]
  },
  {
   "cell_type": "code",
   "execution_count": null,
   "metadata": {},
   "outputs": [],
   "source": [
    "# Toutes les quatres bases à extraire ici\n",
    "# La moyenne de l'indice de theil sur toutes les périodes\n",
    "mean_theil = theil.mean(axis=0) \n",
    "# Base de données du taux d'urbanisation\n",
    "urban = gmd.pivot(index='year', columns='countryname', values='sp_urb_totl_in_zs')\n",
    "urban.head(5)\n",
    "# La moyenne du taux d'urbanisation sur toutes les périodes\n",
    "mean_urban = urban.mean(axis=0)\n",
    "# Base de données du ratio de pauvreté\n",
    "poverty = gmd.pivot(index='year', columns='countryname', values='si_pov_lmic')\n",
    "poverty.head(5)\n",
    "# La moyenne du ratio de pauvreté sur toutes les périodes\n",
    "mean_poverty = poverty.mean(axis=0)"
   ]
  },
  {
   "cell_type": "markdown",
   "metadata": {},
   "source": [
    "# IV- GMD  ici on a pas les meme années que faire ??"
   ]
  },
  {
   "cell_type": "markdown",
   "metadata": {},
   "source": [
    "## 1.  Importation"
   ]
  },
  {
   "cell_type": "code",
   "execution_count": null,
   "metadata": {},
   "outputs": [],
   "source": [
    "# Gini Mean Difference\n",
    "gmd = pd.read_excel(\"C:/Users/yousr/Downloads/Projet_py/inequality GMD World Bank.xlsx\",  sheet_name='data', index_col=0)\n",
    "gmd.head(5)\n",
    "col_names = gmd.columns\n",
    "print(col_names)"
   ]
  },
  {
   "cell_type": "markdown",
   "metadata": {},
   "source": [
    "## 2. Construction de la DF"
   ]
  },
  {
   "cell_type": "markdown",
   "metadata": {},
   "source": [
    "### 2.1. Extraction des colonnes nécessaires"
   ]
  },
  {
   "cell_type": "code",
   "execution_count": null,
   "metadata": {},
   "outputs": [],
   "source": [
    "# Base de données de l'indice Theil\n",
    "theil = gmd.pivot(index='year', columns='countryname', values='index')\n",
    "theil.head(5)"
   ]
  },
  {
   "cell_type": "code",
   "execution_count": null,
   "metadata": {},
   "outputs": [],
   "source": [
    "# La moyenne de l'indice de theil sur toutes les périodes\n",
    "mean_theil = theil.mean(axis=0) "
   ]
  },
  {
   "cell_type": "code",
   "execution_count": null,
   "metadata": {},
   "outputs": [],
   "source": [
    "# Base de données du taux d'urbanisation\n",
    "urban = gmd.pivot(index='year', columns='countryname', values='sp_urb_totl_in_zs')\n",
    "urban.head(5)"
   ]
  },
  {
   "cell_type": "code",
   "execution_count": null,
   "metadata": {},
   "outputs": [],
   "source": [
    "# La moyenne du taux d'urbanisation sur toutes les périodes\n",
    "mean_urban = urban.mean(axis=0)"
   ]
  },
  {
   "cell_type": "code",
   "execution_count": null,
   "metadata": {},
   "outputs": [],
   "source": [
    "# Base de données du ratio de pauvreté\n",
    "poverty = gmd.pivot(index='year', columns='countryname', values='si_pov_lmic')\n",
    "poverty.head(5)"
   ]
  },
  {
   "cell_type": "code",
   "execution_count": null,
   "metadata": {},
   "outputs": [],
   "source": [
    "# La moyenne du ratio de pauvreté sur toutes les périodes\n",
    "mean_poverty = poverty.mean(axis=0)"
   ]
  },
  {
   "cell_type": "code",
   "execution_count": null,
   "metadata": {},
   "outputs": [],
   "source": [
    "# Dans pandas, une Df à une colonne correspond à une série. On donne un nom à chaque série pour une éventuelle jointure\n",
    "mean_poverty.name = 'Ratio de pauvreté'\n",
    "mean_urban.name = \"Taux urbanisation\"\n",
    "mean_theil.name = 'Theil'"
   ]
  },
  {
   "cell_type": "markdown",
   "metadata": {},
   "source": [
    "## 2.2. Jointure "
   ]
  },
  {
   "cell_type": "code",
   "execution_count": null,
   "metadata": {},
   "outputs": [],
   "source": [
    "# Jointure entre df1 et df2 sur la colonne \"countryname\"\n",
    "merged1 = pd.merge(mean_poverty, mean_urban, on='countryname', how='inner')\n",
    "# Jointure entre le résultat précédent (merged_df) et df3 sur la colonne \"countryname\"\n",
    "final_merged1 = pd.merge(merged1, mean_theil, on='countryname', how='inner')"
   ]
  },
  {
   "cell_type": "code",
   "execution_count": null,
   "metadata": {},
   "outputs": [],
   "source": [
    "# Dans pandas, une Df à une colonne correspond à une série. On donne un nom à chaque série pour une éventuelle jointure\n",
    "mean_LE.name = 'Espérance de vie'\n",
    "mean_PGR.name = \"Croissance démo\""
   ]
  },
  {
   "cell_type": "code",
   "execution_count": null,
   "metadata": {},
   "outputs": [],
   "source": [
    "final_merged1.index.name = 'Country Name'  ####################################################################################\n",
    "mean_LE.index.name = 'Country Name'\n",
    "mean_PGR.index.name = 'Country Name'\n",
    "merged_mean.index.name = 'Country Name'"
   ]
  },
  {
   "cell_type": "code",
   "execution_count": null,
   "metadata": {},
   "outputs": [],
   "source": [
    "# Jointure entre df1 et df2 sur la colonne \"countryname\"\n",
    "merged2 = pd.merge(final_merged1, mean_PGR, on='Country Name', how='inner')\n",
    "# Jointure entre le résultat précédent (merged_df) et df3 sur la colonne \"countryname\"\n",
    "merged3 = pd.merge(merged2, mean_LE, on='Country Name', how='inner')"
   ]
  },
  {
   "cell_type": "markdown",
   "metadata": {},
   "source": [
    "# Transposé de merged3"
   ]
  },
  {
   "cell_type": "code",
   "execution_count": null,
   "metadata": {},
   "outputs": [],
   "source": [
    "merged3_transpose = merged3.transpose()\n",
    "col_names = merged3_transpose.columns\n",
    "merged3_transpose.head(5)"
   ]
  },
  {
   "cell_type": "markdown",
   "metadata": {},
   "source": [
    "# Code ISO des pays"
   ]
  },
  {
   "cell_type": "code",
   "execution_count": null,
   "metadata": {},
   "outputs": [],
   "source": [
    "# Pour faciliter la lecture de la DF, on remplace les noms des pays par leurs codes ISO  correspondant\n",
    "\n",
    "# Dictionnaire de correspondance entre noms complets des pays et leurs codes\n",
    "corresp = {country.name: country.alpha_3 for country in pycountry.countries}\n",
    "\n",
    "# Liste initiale des noms complets des colonnes\n",
    "country = col_names\n",
    "# Transformation des noms complets des colonnes en abréviations\n",
    "country_codes = [corresp.get(pays, pays) for pays in country]\n",
    "\n",
    "# Remplacement des noms des pays par leurs codes dans la merged\n",
    "merged3_transpose.columns = country_codes\n",
    "merged3_transpose.columns\n",
    "merged3_transpose.head(5)\n",
    "\n",
    "#Ordre alphabétique des colonnes \n",
    "merged3_transpose_sort = merged3_transpose.sort_index(axis=1)\n",
    "merged3_transpose_sort.head(5)"
   ]
  },
  {
   "cell_type": "code",
   "execution_count": null,
   "metadata": {},
   "outputs": [],
   "source": [
    "merged4 = merged3_transpose.transpose()\n",
    "merged4.index.name = 'Country Name'\n",
    "merged4.head(5)"
   ]
  },
  {
   "cell_type": "code",
   "execution_count": null,
   "metadata": {},
   "outputs": [],
   "source": [
    "final_merged = pd.merge(merged4, merged_mean, on='Country Name', how='inner')"
   ]
  }
 ],
 "metadata": {
  "kernelspec": {
   "display_name": "Python 3",
   "language": "python",
   "name": "python3"
  },
  "language_info": {
   "codemirror_mode": {
    "name": "ipython",
    "version": 3
   },
   "file_extension": ".py",
   "mimetype": "text/x-python",
   "name": "python",
   "nbconvert_exporter": "python",
   "pygments_lexer": "ipython3",
   "version": "3.11.7"
  }
 },
 "nbformat": 4,
 "nbformat_minor": 2
}
